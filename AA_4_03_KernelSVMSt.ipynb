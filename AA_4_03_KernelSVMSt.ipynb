{
  "cells": [
    {
      "cell_type": "markdown",
      "metadata": {
        "id": "view-in-github",
        "colab_type": "text"
      },
      "source": [
        "<a href=\"https://colab.research.google.com/github/ArifAygun/Magnimind-ML/blob/main/AA_4_03_KernelSVMSt.ipynb\" target=\"_parent\"><img src=\"https://colab.research.google.com/assets/colab-badge.svg\" alt=\"Open In Colab\"/></a>"
      ]
    },
    {
      "cell_type": "markdown",
      "metadata": {
        "id": "qhkOwP8H2oS-"
      },
      "source": [
        "# Kernel SVMS"
      ]
    },
    {
      "cell_type": "markdown",
      "source": [
        "\n",
        "\n"
      ],
      "metadata": {
        "id": "uUxcFdyC2xNe"
      }
    },
    {
      "cell_type": "code",
      "source": [
        "# LınearSVC\n",
        "\n",
        "# x1  x2\n",
        "\n",
        "# w1*x1 + w1*x1\n",
        "\n",
        "#polynomial features (degree 2)\n",
        "\n",
        "# w1*x1 + w2*x2 + w3*x1^2 + w4*x2^2 w5*x1*x2 "
      ],
      "metadata": {
        "id": "M7_9nWv787l9"
      },
      "execution_count": 1,
      "outputs": []
    },
    {
      "cell_type": "code",
      "source": [
        "# my number of coefficients are as many as my features\n",
        "# let us say I have 3 features and 6 data points\n",
        "\n",
        "#w = [w1 w2 w3]\n",
        "\n",
        "#w1 = a1*d1 + a2*d2 +... + a6*d6\n",
        "\n",
        "# I will find all a1, a2,a3,...and a6\n",
        "\n",
        "# It turns out that most of the a's are coming zero \n",
        "# the non-zero a's are the ones that correspond to \"support vectors\"\n"
      ],
      "metadata": {
        "id": "McAAeb3v_Uh-"
      },
      "execution_count": 2,
      "outputs": []
    },
    {
      "cell_type": "code",
      "source": [
        "# x:Age1\n",
        "# phi(x1) = Age1^0, sqrt(2)*Age1, Age1^2"
      ],
      "metadata": {
        "id": "sI5cII6NFvja"
      },
      "execution_count": 3,
      "outputs": []
    },
    {
      "cell_type": "code",
      "source": [
        "# x:Age2\n",
        "# phi(2) = Age2^0, sqrt(2)*Age2, Age2^2"
      ],
      "metadata": {
        "id": "PhzID7uNGXLz"
      },
      "execution_count": 4,
      "outputs": []
    },
    {
      "cell_type": "code",
      "source": [
        "# x1.dot(x2) = Age1^0*Age2^0 + 2*Age1*Age2 + Age1^2*Age2^2"
      ],
      "metadata": {
        "id": "uBY6x9zhGuNG"
      },
      "execution_count": 5,
      "outputs": []
    },
    {
      "cell_type": "code",
      "source": [
        "# x1.dot(x2) = 1*1 + 2*Age1*Age2 + Age1^2*Age2^2"
      ],
      "metadata": {
        "id": "zcXu0Cf6IeMI"
      },
      "execution_count": 6,
      "outputs": []
    },
    {
      "cell_type": "code",
      "source": [
        "# x1.dot(x2) = (1+Age1*Age2)^2. ---> just found a kernel function"
      ],
      "metadata": {
        "id": "XRztfKBNIldZ"
      },
      "execution_count": 7,
      "outputs": []
    },
    {
      "cell_type": "code",
      "source": [
        "# (x+y)^2 = x^2 + 2*x*y +y^2"
      ],
      "metadata": {
        "id": "USt5cZHqI9vw"
      },
      "execution_count": 8,
      "outputs": []
    },
    {
      "cell_type": "code",
      "source": [],
      "metadata": {
        "id": "tWRk2-g2I9tS"
      },
      "execution_count": 8,
      "outputs": []
    },
    {
      "cell_type": "code",
      "source": [],
      "metadata": {
        "id": "211GnsmOI9qJ"
      },
      "execution_count": 8,
      "outputs": []
    },
    {
      "cell_type": "code",
      "execution_count": 9,
      "metadata": {
        "id": "OS0N2FL72oTF"
      },
      "outputs": [],
      "source": [
        "import numpy as np\n",
        "import matplotlib.pyplot as plt\n",
        "%matplotlib inline\n",
        "plt.rcParams[\"savefig.dpi\"] = 300\n",
        "plt.rcParams['savefig.bbox'] = 'tight'"
      ]
    },
    {
      "cell_type": "code",
      "execution_count": 10,
      "metadata": {
        "id": "VD_v6Cec2oTG"
      },
      "outputs": [],
      "source": [
        "from sklearn.svm import SVC\n",
        "from sklearn.preprocessing import PolynomialFeatures\n",
        "from sklearn.datasets import make_blobs"
      ]
    },
    {
      "cell_type": "markdown",
      "metadata": {
        "id": "M2HWL7x12oTG"
      },
      "source": [
        "## Example 1"
      ]
    },
    {
      "cell_type": "markdown",
      "metadata": {
        "id": "2d7f5drw2oTG"
      },
      "source": [
        "Let us create blobs using `make_blobs` function from Scikitlearn. We will plot the scatter plot for the blobs using the two features of the dataset."
      ]
    },
    {
      "cell_type": "code",
      "execution_count": 11,
      "metadata": {
        "id": "7_Izhne12oTH"
      },
      "outputs": [],
      "source": [
        "from sklearn.datasets import make_blobs\n",
        "import matplotlib.pyplot as plt\n"
      ]
    },
    {
      "cell_type": "code",
      "source": [
        "import numpy as np\n",
        "\n",
        "X,y=make_blobs(random_state=3)\n",
        "y = (y==0).astype(np.int)"
      ],
      "metadata": {
        "colab": {
          "base_uri": "https://localhost:8080/"
        },
        "id": "zI1w7N1AKMTw",
        "outputId": "306612b5-832f-4c89-c622-ef0d9ffb199d"
      },
      "execution_count": 12,
      "outputs": [
        {
          "output_type": "stream",
          "name": "stderr",
          "text": [
            "<ipython-input-12-2768c760d5f1>:4: DeprecationWarning: `np.int` is a deprecated alias for the builtin `int`. To silence this warning, use `int` by itself. Doing this will not modify any behavior and is safe. When replacing `np.int`, you may wish to use e.g. `np.int64` or `np.int32` to specify the precision. If you wish to review your current use, check the release note link for additional information.\n",
            "Deprecated in NumPy 1.20; for more details and guidance: https://numpy.org/devdocs/release/1.20.0-notes.html#deprecations\n",
            "  y = (y==0).astype(np.int)\n"
          ]
        }
      ]
    },
    {
      "cell_type": "code",
      "source": [
        "y\n"
      ],
      "metadata": {
        "colab": {
          "base_uri": "https://localhost:8080/"
        },
        "id": "Crz9Bot3Kdpb",
        "outputId": "f8c936d1-9a64-4d39-e9cd-c7332461070c"
      },
      "execution_count": 13,
      "outputs": [
        {
          "output_type": "execute_result",
          "data": {
            "text/plain": [
              "array([0, 0, 0, 0, 0, 0, 0, 0, 0, 1, 0, 0, 0, 0, 1, 0, 0, 0, 0, 0, 1, 1,\n",
              "       0, 1, 0, 0, 0, 1, 0, 0, 1, 1, 0, 0, 0, 0, 1, 1, 1, 0, 0, 0, 1, 1,\n",
              "       0, 0, 1, 0, 0, 0, 1, 0, 0, 0, 0, 0, 0, 0, 1, 1, 1, 0, 1, 1, 0, 1,\n",
              "       0, 0, 1, 0, 0, 0, 1, 0, 1, 1, 0, 1, 0, 0, 1, 1, 1, 1, 0, 1, 0, 0,\n",
              "       1, 0, 1, 0, 0, 0, 0, 0, 0, 1, 0, 0])"
            ]
          },
          "metadata": {},
          "execution_count": 13
        }
      ]
    },
    {
      "cell_type": "code",
      "source": [
        "y==0"
      ],
      "metadata": {
        "colab": {
          "base_uri": "https://localhost:8080/"
        },
        "id": "VA9wBiXTMOO4",
        "outputId": "39cdd88a-ae1c-46ac-afda-1b36174d54db"
      },
      "execution_count": 14,
      "outputs": [
        {
          "output_type": "execute_result",
          "data": {
            "text/plain": [
              "array([ True,  True,  True,  True,  True,  True,  True,  True,  True,\n",
              "       False,  True,  True,  True,  True, False,  True,  True,  True,\n",
              "        True,  True, False, False,  True, False,  True,  True,  True,\n",
              "       False,  True,  True, False, False,  True,  True,  True,  True,\n",
              "       False, False, False,  True,  True,  True, False, False,  True,\n",
              "        True, False,  True,  True,  True, False,  True,  True,  True,\n",
              "        True,  True,  True,  True, False, False, False,  True, False,\n",
              "       False,  True, False,  True,  True, False,  True,  True,  True,\n",
              "       False,  True, False, False,  True, False,  True,  True, False,\n",
              "       False, False, False,  True, False,  True,  True, False,  True,\n",
              "       False,  True,  True,  True,  True,  True,  True, False,  True,\n",
              "        True])"
            ]
          },
          "metadata": {},
          "execution_count": 14
        }
      ]
    },
    {
      "cell_type": "code",
      "source": [
        "(y==0).astype(np.int32)"
      ],
      "metadata": {
        "colab": {
          "base_uri": "https://localhost:8080/"
        },
        "id": "hUOX_uzoMWSB",
        "outputId": "638a8f2f-5ada-4c89-b27f-371a837f5981"
      },
      "execution_count": 15,
      "outputs": [
        {
          "output_type": "execute_result",
          "data": {
            "text/plain": [
              "array([1, 1, 1, 1, 1, 1, 1, 1, 1, 0, 1, 1, 1, 1, 0, 1, 1, 1, 1, 1, 0, 0,\n",
              "       1, 0, 1, 1, 1, 0, 1, 1, 0, 0, 1, 1, 1, 1, 0, 0, 0, 1, 1, 1, 0, 0,\n",
              "       1, 1, 0, 1, 1, 1, 0, 1, 1, 1, 1, 1, 1, 1, 0, 0, 0, 1, 0, 0, 1, 0,\n",
              "       1, 1, 0, 1, 1, 1, 0, 1, 0, 0, 1, 0, 1, 1, 0, 0, 0, 0, 1, 0, 1, 1,\n",
              "       0, 1, 0, 1, 1, 1, 1, 1, 1, 0, 1, 1], dtype=int32)"
            ]
          },
          "metadata": {},
          "execution_count": 15
        }
      ]
    },
    {
      "cell_type": "code",
      "source": [
        "plt.scatter(X[:,0], X[:,1], c=plt.cm.tab10(y))"
      ],
      "metadata": {
        "colab": {
          "base_uri": "https://localhost:8080/",
          "height": 447
        },
        "id": "phIPiUgLKmiI",
        "outputId": "ef83531c-e669-4494-e6d7-cab663428a15"
      },
      "execution_count": 16,
      "outputs": [
        {
          "output_type": "execute_result",
          "data": {
            "text/plain": [
              "<matplotlib.collections.PathCollection at 0x7fc50f723910>"
            ]
          },
          "metadata": {},
          "execution_count": 16
        },
        {
          "output_type": "display_data",
          "data": {
            "text/plain": [
              "<Figure size 640x480 with 1 Axes>"
            ],
            "image/png": "[encoded data removed]"
          },
          "metadata": {}
        }
      ]
    },
    {
      "cell_type": "markdown",
      "metadata": {
        "id": "6iee20zs2oTH"
      },
      "source": [
        "Now let us fit the data to `Polynomialfeatures` to create additional polinomial features. Check the shape of the data before and after the transformation."
      ]
    },
    {
      "cell_type": "code",
      "execution_count": 17,
      "metadata": {
        "id": "hKg7P1VV2oTH"
      },
      "outputs": [],
      "source": [
        "from sklearn.preprocessing import PolynomialFeatures"
      ]
    },
    {
      "cell_type": "code",
      "source": [
        "poly = PolynomialFeatures (include_bias=False)"
      ],
      "metadata": {
        "id": "xsYSL6CVNNON"
      },
      "execution_count": 18,
      "outputs": []
    },
    {
      "cell_type": "code",
      "source": [
        "X_poly = poly.fit_transform(X)"
      ],
      "metadata": {
        "id": "aaAUp6u-NXMq"
      },
      "execution_count": 19,
      "outputs": []
    },
    {
      "cell_type": "code",
      "source": [
        "X.shape"
      ],
      "metadata": {
        "colab": {
          "base_uri": "https://localhost:8080/"
        },
        "id": "brHWedoxNjPv",
        "outputId": "39d76c7f-9334-4c16-c66e-843af61352e8"
      },
      "execution_count": 20,
      "outputs": [
        {
          "output_type": "execute_result",
          "data": {
            "text/plain": [
              "(100, 2)"
            ]
          },
          "metadata": {},
          "execution_count": 20
        }
      ]
    },
    {
      "cell_type": "code",
      "source": [
        "X_poly.shape"
      ],
      "metadata": {
        "colab": {
          "base_uri": "https://localhost:8080/"
        },
        "id": "0_aEOoeQNlQk",
        "outputId": "8e5129b5-dfa6-47d0-e50f-6941e3f3956b"
      },
      "execution_count": 21,
      "outputs": [
        {
          "output_type": "execute_result",
          "data": {
            "text/plain": [
              "(100, 5)"
            ]
          },
          "metadata": {},
          "execution_count": 21
        }
      ]
    },
    {
      "cell_type": "code",
      "execution_count": 21,
      "metadata": {
        "id": "NsTse2vr2oTH"
      },
      "outputs": [],
      "source": [
        "#x1 and x2 PolynomialFeatures\n",
        "\n",
        "#x1 x2 x1^2 x2^2 x1*x2\n",
        "\n",
        "#(x1x2)^2 = x1^2 + 2*x1*x2 + x2^2\n",
        "\n",
        "#support vector machine\n",
        "\n",
        "#we consider each data points as a vector\n",
        "#all data points in my training dataset are vectors\n",
        "#but only some of them will be relevant \n",
        "#in terms of seperating data into two regions"
      ]
    },
    {
      "cell_type": "code",
      "source": [
        "#X_new = (x11, x21)\n",
        "         \n",
        "#Linear SVM, I will do the following:\n",
        "\n",
        "# x11, x12, x11^2, x21^2, x11*x21 \n",
        "\n",
        "# sign(0.13850605*x11 +  0.05989699*x12 + -0.20119627,  0.0484241 ,  0.01907115)\n"
      ],
      "metadata": {
        "id": "z3bXElZRCQ0v"
      },
      "execution_count": null,
      "outputs": []
    },
    {
      "cell_type": "code",
      "source": [
        "#X_new = (x11, x21)\n",
        "#sign(-0.02957404*(X_1*X_new) + (-0.00341814)*(X26*X_new) +  0.00254448,  0.03044769)"
      ],
      "metadata": {
        "id": "Oog3HAx1Dtks"
      },
      "execution_count": null,
      "outputs": []
    },
    {
      "cell_type": "markdown",
      "metadata": {
        "id": "DX8wD9Ab2oTH"
      },
      "source": [
        "Fit `svc` with a linear kernel on the transformed dataset. Later, fit `svc` with a polynomial kernel on the original dataset. Check the coefficients, dual coefficients, and support for both linear and kernel svm models."
      ]
    },
    {
      "cell_type": "code",
      "source": [
        "from sklearn.svm import SVC"
      ],
      "metadata": {
        "id": "JsonRV6M_nUM"
      },
      "execution_count": 24,
      "outputs": []
    },
    {
      "cell_type": "code",
      "source": [
        "linear_svm = SVC(kernel='linear').fit(X_poly,y)\n",
        "ploy_svm = SVC(kernel='poly', degree=2, coef0=1).fit(X,y)"
      ],
      "metadata": {
        "id": "CyCdK1Bv_3Jh"
      },
      "execution_count": 25,
      "outputs": []
    },
    {
      "cell_type": "code",
      "source": [
        "linear_svm.coef_"
      ],
      "metadata": {
        "colab": {
          "base_uri": "https://localhost:8080/"
        },
        "id": "uxBO5CidBNno",
        "outputId": "f02e1976-2274-4580-bd61-b9f0f257ac48"
      },
      "execution_count": 26,
      "outputs": [
        {
          "output_type": "execute_result",
          "data": {
            "text/plain": [
              "array([[ 0.13850605,  0.05989699, -0.20119627,  0.0484241 ,  0.01907115]])"
            ]
          },
          "metadata": {},
          "execution_count": 26
        }
      ]
    },
    {
      "cell_type": "code",
      "source": [
        "linear_svm.dual_coef_"
      ],
      "metadata": {
        "colab": {
          "base_uri": "https://localhost:8080/"
        },
        "id": "n6s3UbShBqId",
        "outputId": "1fe711c4-8af7-4330-b0b5-7753ff9d3609"
      },
      "execution_count": 29,
      "outputs": [
        {
          "output_type": "execute_result",
          "data": {
            "text/plain": [
              "array([[-0.02957404, -0.00341814,  0.00254448,  0.03044769]])"
            ]
          },
          "metadata": {},
          "execution_count": 29
        }
      ]
    },
    {
      "cell_type": "code",
      "source": [
        "linear_svm.support_"
      ],
      "metadata": {
        "colab": {
          "base_uri": "https://localhost:8080/"
        },
        "id": "nBeMOx0RB94r",
        "outputId": "a1fb0af4-4265-426b-f1af-71ef4d1e892d"
      },
      "execution_count": 28,
      "outputs": [
        {
          "output_type": "execute_result",
          "data": {
            "text/plain": [
              "array([ 1, 26, 42, 62], dtype=int32)"
            ]
          },
          "metadata": {},
          "execution_count": 28
        }
      ]
    },
    {
      "cell_type": "markdown",
      "metadata": {
        "id": "w3oo5LgC2oTH"
      },
      "source": [
        "## Example 2"
      ]
    },
    {
      "cell_type": "code",
      "execution_count": 22,
      "metadata": {
        "id": "ZNAFHrSv2oTI"
      },
      "outputs": [],
      "source": [
        "from sklearn.model_selection import GridSearchCV, cross_val_score,train_test_split\n",
        "from sklearn.preprocessing import StandardScaler\n",
        "from sklearn.datasets import load_digits"
      ]
    },
    {
      "cell_type": "markdown",
      "metadata": {
        "id": "J-qM9Hvw2oTI"
      },
      "source": [
        "Load digits dataset from scikitlearn using `load_digits()` function, create train and test datasets. Print the fitst eight digits on the screen."
      ]
    },
    {
      "cell_type": "code",
      "execution_count": 22,
      "metadata": {
        "id": "h6l_Oph22oTI"
      },
      "outputs": [],
      "source": []
    },
    {
      "cell_type": "markdown",
      "metadata": {
        "id": "r4Nooggw2oTI"
      },
      "source": [
        "Create a pipeline using `StandardScaler` and `SVC`. Find the cross validation score for both nont-scaled and scaled datasets for SVC."
      ]
    },
    {
      "cell_type": "code",
      "execution_count": 23,
      "metadata": {
        "id": "lUARYEt_2oTI"
      },
      "outputs": [],
      "source": [
        "from sklearn.pipeline import make_pipeline"
      ]
    },
    {
      "cell_type": "code",
      "execution_count": 23,
      "metadata": {
        "id": "TEG8pU_u2oTJ"
      },
      "outputs": [],
      "source": []
    },
    {
      "cell_type": "markdown",
      "metadata": {
        "id": "bFvHV5-e2oTJ"
      },
      "source": [
        "Create a grid search for `C` and `gamma` parameters of `SVC`. turn the grid search results in to a dataframe and check the results."
      ]
    },
    {
      "cell_type": "code",
      "execution_count": 23,
      "metadata": {
        "id": "N5YIaMz02oTJ"
      },
      "outputs": [],
      "source": []
    }
  ],
  "metadata": {
    "kernelspec": {
      "display_name": "Python 3 (ipykernel)",
      "language": "python",
      "name": "python3"
    },
    "language_info": {
      "codemirror_mode": {
        "name": "ipython",
        "version": 3
      },
      "file_extension": ".py",
      "mimetype": "text/x-python",
      "name": "python",
      "nbconvert_exporter": "python",
      "pygments_lexer": "ipython3",
      "version": "3.8.5"
    },
    "colab": {
      "provenance": [],
      "include_colab_link": true
    }
  },
  "nbformat": 4,
  "nbformat_minor": 0
}