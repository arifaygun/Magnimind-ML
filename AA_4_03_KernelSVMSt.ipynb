{
  "cells": [
    {
      "cell_type": "markdown",
      "metadata": {
        "id": "view-in-github",
        "colab_type": "text"
      },
      "source": [
        "<a href=\"https://colab.research.google.com/github/ArifAygun/Magnimind-ML/blob/main/AA_4_03_KernelSVMSt.ipynb\" target=\"_parent\"><img src=\"https://colab.research.google.com/assets/colab-badge.svg\" alt=\"Open In Colab\"/></a>"
      ]
    },
    {
      "cell_type": "markdown",
      "metadata": {
        "id": "qhkOwP8H2oS-"
      },
      "source": [
        "# Kernel SVMS"
      ]
    },
    {
      "cell_type": "markdown",
      "source": [
        "\n",
        "\n"
      ],
      "metadata": {
        "id": "uUxcFdyC2xNe"
      }
    },
    {
      "cell_type": "code",
      "source": [
        "# LınearSVC\n",
        "\n",
        "# x1  x2\n",
        "\n",
        "# w1*x1 + w1*x1\n",
        "\n",
        "#polynomial features (degree 2)\n",
        "\n",
        "# w1*x1 + w2*x2 + w3*x1^2 + w4*x2^2 w5*x1*x2 "
      ],
      "metadata": {
        "id": "M7_9nWv787l9"
      },
      "execution_count": 1,
      "outputs": []
    },
    {
      "cell_type": "code",
      "source": [
        "# my number of coefficients are as many as my features\n",
        "# let us say I have 3 features and 6 data points\n",
        "\n",
        "#w = [w1 w2 w3]\n",
        "\n",
        "#w1 = a1*d1 + a2*d2 +... + a6*d6\n",
        "\n",
        "# I will find all a1, a2,a3,...and a6\n",
        "\n",
        "# It turns out that most of the a's are coming zero \n",
        "# the non-zero a's are the ones that correspond to \"support vectors\"\n"
      ],
      "metadata": {
        "id": "McAAeb3v_Uh-"
      },
      "execution_count": 2,
      "outputs": []
    },
    {
      "cell_type": "code",
      "source": [
        "# x:Age1\n",
        "# phi(x1) = Age1^0, sqrt(2)*Age1, Age1^2"
      ],
      "metadata": {
        "id": "sI5cII6NFvja"
      },
      "execution_count": 3,
      "outputs": []
    },
    {
      "cell_type": "code",
      "source": [
        "# x:Age2\n",
        "# phi(2) = Age2^0, sqrt(2)*Age2, Age2^2"
      ],
      "metadata": {
        "id": "PhzID7uNGXLz"
      },
      "execution_count": 4,
      "outputs": []
    },
    {
      "cell_type": "code",
      "source": [
        "# x1.dot(x2) = Age1^0*Age2^0 + 2*Age1*Age2 + Age1^2*Age2^2"
      ],
      "metadata": {
        "id": "uBY6x9zhGuNG"
      },
      "execution_count": 5,
      "outputs": []
    },
    {
      "cell_type": "code",
      "source": [
        "# x1.dot(x2) = 1*1 + 2*Age1*Age2 + Age1^2*Age2^2"
      ],
      "metadata": {
        "id": "zcXu0Cf6IeMI"
      },
      "execution_count": 6,
      "outputs": []
    },
    {
      "cell_type": "code",
      "source": [
        "# x1.dot(x2) = (1+Age1*Age2)^2. ---> just found a kernel function"
      ],
      "metadata": {
        "id": "XRztfKBNIldZ"
      },
      "execution_count": 7,
      "outputs": []
    },
    {
      "cell_type": "code",
      "source": [
        "# (x+y)^2 = x^2 + 2*x*y +y^2"
      ],
      "metadata": {
        "id": "USt5cZHqI9vw"
      },
      "execution_count": 8,
      "outputs": []
    },
    {
      "cell_type": "code",
      "source": [],
      "metadata": {
        "id": "tWRk2-g2I9tS"
      },
      "execution_count": 8,
      "outputs": []
    },
    {
      "cell_type": "code",
      "source": [],
      "metadata": {
        "id": "211GnsmOI9qJ"
      },
      "execution_count": 8,
      "outputs": []
    },
    {
      "cell_type": "code",
      "execution_count": 9,
      "metadata": {
        "id": "OS0N2FL72oTF"
      },
      "outputs": [],
      "source": [
        "import numpy as np\n",
        "import matplotlib.pyplot as plt\n",
        "%matplotlib inline\n",
        "plt.rcParams[\"savefig.dpi\"] = 300\n",
        "plt.rcParams['savefig.bbox'] = 'tight'"
      ]
    },
    {
      "cell_type": "code",
      "execution_count": 10,
      "metadata": {
        "id": "VD_v6Cec2oTG"
      },
      "outputs": [],
      "source": [
        "from sklearn.svm import SVC\n",
        "from sklearn.preprocessing import PolynomialFeatures\n",
        "from sklearn.datasets import make_blobs"
      ]
    },
    {
      "cell_type": "markdown",
      "metadata": {
        "id": "M2HWL7x12oTG"
      },
      "source": [
        "## Example 1"
      ]
    },
    {
      "cell_type": "markdown",
      "metadata": {
        "id": "2d7f5drw2oTG"
      },
      "source": [
        "Let us create blobs using `make_blobs` function from Scikitlearn. We will plot the scatter plot for the blobs using the two features of the dataset."
      ]
    },
    {
      "cell_type": "code",
      "execution_count": 11,
      "metadata": {
        "id": "7_Izhne12oTH"
      },
      "outputs": [],
      "source": [
        "from sklearn.datasets import make_blobs\n",
        "import matplotlib.pyplot as plt\n"
      ]
    },
    {
      "cell_type": "code",
      "source": [
        "import numpy as np\n",
        "\n",
        "X,y=make_blobs(random_state=3)\n",
        "y = (y==0).astype(np.int)"
      ],
      "metadata": {
        "colab": {
          "base_uri": "https://localhost:8080/"
        },
        "id": "zI1w7N1AKMTw",
        "outputId": "306612b5-832f-4c89-c622-ef0d9ffb199d"
      },
      "execution_count": 12,
      "outputs": [
        {
          "output_type": "stream",
          "name": "stderr",
          "text": [
            "<ipython-input-12-2768c760d5f1>:4: DeprecationWarning: `np.int` is a deprecated alias for the builtin `int`. To silence this warning, use `int` by itself. Doing this will not modify any behavior and is safe. When replacing `np.int`, you may wish to use e.g. `np.int64` or `np.int32` to specify the precision. If you wish to review your current use, check the release note link for additional information.\n",
            "Deprecated in NumPy 1.20; for more details and guidance: https://numpy.org/devdocs/release/1.20.0-notes.html#deprecations\n",
            "  y = (y==0).astype(np.int)\n"
          ]
        }
      ]
    },
    {
      "cell_type": "code",
      "source": [
        "y\n"
      ],
      "metadata": {
        "colab": {
          "base_uri": "https://localhost:8080/"
        },
        "id": "Crz9Bot3Kdpb",
        "outputId": "f8c936d1-9a64-4d39-e9cd-c7332461070c"
      },
      "execution_count": 13,
      "outputs": [
        {
          "output_type": "execute_result",
          "data": {
            "text/plain": [
              "array([0, 0, 0, 0, 0, 0, 0, 0, 0, 1, 0, 0, 0, 0, 1, 0, 0, 0, 0, 0, 1, 1,\n",
              "       0, 1, 0, 0, 0, 1, 0, 0, 1, 1, 0, 0, 0, 0, 1, 1, 1, 0, 0, 0, 1, 1,\n",
              "       0, 0, 1, 0, 0, 0, 1, 0, 0, 0, 0, 0, 0, 0, 1, 1, 1, 0, 1, 1, 0, 1,\n",
              "       0, 0, 1, 0, 0, 0, 1, 0, 1, 1, 0, 1, 0, 0, 1, 1, 1, 1, 0, 1, 0, 0,\n",
              "       1, 0, 1, 0, 0, 0, 0, 0, 0, 1, 0, 0])"
            ]
          },
          "metadata": {},
          "execution_count": 13
        }
      ]
    },
    {
      "cell_type": "code",
      "source": [
        "y==0"
      ],
      "metadata": {
        "colab": {
          "base_uri": "https://localhost:8080/"
        },
        "id": "VA9wBiXTMOO4",
        "outputId": "39cdd88a-ae1c-46ac-afda-1b36174d54db"
      },
      "execution_count": 14,
      "outputs": [
        {
          "output_type": "execute_result",
          "data": {
            "text/plain": [
              "array([ True,  True,  True,  True,  True,  True,  True,  True,  True,\n",
              "       False,  True,  True,  True,  True, False,  True,  True,  True,\n",
              "        True,  True, False, False,  True, False,  True,  True,  True,\n",
              "       False,  True,  True, False, False,  True,  True,  True,  True,\n",
              "       False, False, False,  True,  True,  True, False, False,  True,\n",
              "        True, False,  True,  True,  True, False,  True,  True,  True,\n",
              "        True,  True,  True,  True, False, False, False,  True, False,\n",
              "       False,  True, False,  True,  True, False,  True,  True,  True,\n",
              "       False,  True, False, False,  True, False,  True,  True, False,\n",
              "       False, False, False,  True, False,  True,  True, False,  True,\n",
              "       False,  True,  True,  True,  True,  True,  True, False,  True,\n",
              "        True])"
            ]
          },
          "metadata": {},
          "execution_count": 14
        }
      ]
    },
    {
      "cell_type": "code",
      "source": [
        "(y==0).astype(np.int32)"
      ],
      "metadata": {
        "colab": {
          "base_uri": "https://localhost:8080/"
        },
        "id": "hUOX_uzoMWSB",
        "outputId": "638a8f2f-5ada-4c89-b27f-371a837f5981"
      },
      "execution_count": 15,
      "outputs": [
        {
          "output_type": "execute_result",
          "data": {
            "text/plain": [
              "array([1, 1, 1, 1, 1, 1, 1, 1, 1, 0, 1, 1, 1, 1, 0, 1, 1, 1, 1, 1, 0, 0,\n",
              "       1, 0, 1, 1, 1, 0, 1, 1, 0, 0, 1, 1, 1, 1, 0, 0, 0, 1, 1, 1, 0, 0,\n",
              "       1, 1, 0, 1, 1, 1, 0, 1, 1, 1, 1, 1, 1, 1, 0, 0, 0, 1, 0, 0, 1, 0,\n",
              "       1, 1, 0, 1, 1, 1, 0, 1, 0, 0, 1, 0, 1, 1, 0, 0, 0, 0, 1, 0, 1, 1,\n",
              "       0, 1, 0, 1, 1, 1, 1, 1, 1, 0, 1, 1], dtype=int32)"
            ]
          },
          "metadata": {},
          "execution_count": 15
        }
      ]
    },
    {
      "cell_type": "code",
      "source": [
        "plt.scatter(X[:,0], X[:,1], c=plt.cm.tab10(y))"
      ],
      "metadata": {
        "colab": {
          "base_uri": "https://localhost:8080/",
          "height": 447
        },
        "id": "phIPiUgLKmiI",
        "outputId": "ef83531c-e669-4494-e6d7-cab663428a15"
      },
      "execution_count": 16,
      "outputs": [
        {
          "output_type": "execute_result",
          "data": {
            "text/plain": [
              "<matplotlib.collections.PathCollection at 0x7fc50f723910>"
            ]
          },
          "metadata": {},
          "execution_count": 16
        },
        {
          "output_type": "display_data",
          "data": {
            "text/plain": [
              "<Figure size 640x480 with 1 Axes>"
            ],
            "image/png": "[encoded data removed]"
          },
          "metadata": {}
        }
      ]
    },
    {
      "cell_type": "markdown",
      "metadata": {
        "id": "6iee20zs2oTH"
      },
      "source": [
        "Now let us fit the data to `Polynomialfeatures` to create additional polinomial features. Check the shape of the data before and after the transformation."
      ]
    },
    {
      "cell_type": "code",
      "execution_count": 17,
      "metadata": {
        "id": "hKg7P1VV2oTH"
      },
      "outputs": [],
      "source": [
        "from sklearn.preprocessing import PolynomialFeatures"
      ]
    },
    {
      "cell_type": "code",
      "source": [
        "poly = PolynomialFeatures (include_bias=False)"
      ],
      "metadata": {
        "id": "xsYSL6CVNNON"
      },
      "execution_count": 18,
      "outputs": []
    },
    {
      "cell_type": "code",
      "source": [
        "X_poly = poly.fit_transform(X)"
      ],
      "metadata": {
        "id": "aaAUp6u-NXMq"
      },
      "execution_count": 19,
      "outputs": []
    },
    {
      "cell_type": "code",
      "source": [
        "X.shape"
      ],
      "metadata": {
        "colab": {
          "base_uri": "https://localhost:8080/"
        },
        "id": "brHWedoxNjPv",
        "outputId": "39d76c7f-9334-4c16-c66e-843af61352e8"
      },
      "execution_count": 20,
      "outputs": [
        {
          "output_type": "execute_result",
          "data": {
            "text/plain": [
              "(100, 2)"
            ]
          },
          "metadata": {},
          "execution_count": 20
        }
      ]
    },
    {
      "cell_type": "code",
      "source": [
        "X_poly.shape"
      ],
      "metadata": {
        "colab": {
          "base_uri": "https://localhost:8080/"
        },
        "id": "0_aEOoeQNlQk",
        "outputId": "8e5129b5-dfa6-47d0-e50f-6941e3f3956b"
      },
      "execution_count": 21,
      "outputs": [
        {
          "output_type": "execute_result",
          "data": {
            "text/plain": [
              "(100, 5)"
            ]
          },
          "metadata": {},
          "execution_count": 21
        }
      ]
    },
    {
      "cell_type": "code",
      "execution_count": 21,
      "metadata": {
        "id": "NsTse2vr2oTH"
      },
      "outputs": [],
      "source": [
        "#x1 and x2 PolynomialFeatures\n",
        "\n",
        "#x1 x2 x1^2 x2^2 x1*x2\n",
        "\n",
        "#(x1x2)^2 = x1^2 + 2*x1*x2 + x2^2\n",
        "\n",
        "#support vector machine\n",
        "\n",
        "#we consider each data points as a vector\n",
        "#all data points in my training dataset are vectors\n",
        "#but only some of them will be relevant \n",
        "#in terms of seperating data into two regions"
      ]
    },
    {
      "cell_type": "code",
      "source": [
        "#X_new = (x11, x21)\n",
        "         \n",
        "#Linear SVM, I will do the following:\n",
        "\n",
        "# x11, x12, x11^2, x21^2, x11*x21 \n",
        "\n",
        "# sign(0.13850605*x11 +  0.05989699*x12 + -0.20119627,  0.0484241 ,  0.01907115)\n"
      ],
      "metadata": {
        "id": "z3bXElZRCQ0v"
      },
      "execution_count": null,
      "outputs": []
    },
    {
      "cell_type": "code",
      "source": [
        "#X_new = (x11, x21)\n",
        "#sign(-0.02957404*(X_1*X_new) + (-0.00341814)*(X26*X_new) +  0.00254448,  0.03044769)"
      ],
      "metadata": {
        "id": "Oog3HAx1Dtks"
      },
      "execution_count": null,
      "outputs": []
    },
    {
      "cell_type": "markdown",
      "metadata": {
        "id": "DX8wD9Ab2oTH"
      },
      "source": [
        "Fit `svc` with a linear kernel on the transformed dataset. Later, fit `svc` with a polynomial kernel on the original dataset. Check the coefficients, dual coefficients, and support for both linear and kernel svm models."
      ]
    },
    {
      "cell_type": "code",
      "source": [
        "from sklearn.svm import SVC"
      ],
      "metadata": {
        "id": "JsonRV6M_nUM"
      },
      "execution_count": 24,
      "outputs": []
    },
    {
      "cell_type": "code",
      "source": [
        "linear_svm = SVC(kernel='linear').fit(X_poly,y)\n",
        "ploy_svm = SVC(kernel='poly', degree=2, coef0=1).fit(X,y)"
      ],
      "metadata": {
        "id": "CyCdK1Bv_3Jh"
      },
      "execution_count": 25,
      "outputs": []
    },
    {
      "cell_type": "code",
      "source": [
        "linear_svm.coef_"
      ],
      "metadata": {
        "colab": {
          "base_uri": "https://localhost:8080/"
        },
        "id": "uxBO5CidBNno",
        "outputId": "f02e1976-2274-4580-bd61-b9f0f257ac48"
      },
      "execution_count": 26,
      "outputs": [
        {
          "output_type": "execute_result",
          "data": {
            "text/plain": [
              "array([[ 0.13850605,  0.05989699, -0.20119627,  0.0484241 ,  0.01907115]])"
            ]
          },
          "metadata": {},
          "execution_count": 26
        }
      ]
    },
    {
      "cell_type": "code",
      "source": [
        "linear_svm.dual_coef_"
      ],
      "metadata": {
        "colab": {
          "base_uri": "https://localhost:8080/"
        },
        "id": "n6s3UbShBqId",
        "outputId": "1fe711c4-8af7-4330-b0b5-7753ff9d3609"
      },
      "execution_count": 29,
      "outputs": [
        {
          "output_type": "execute_result",
          "data": {
            "text/plain": [
              "array([[-0.02957404, -0.00341814,  0.00254448,  0.03044769]])"
            ]
          },
          "metadata": {},
          "execution_count": 29
        }
      ]
    },
    {
      "cell_type": "code",
      "source": [
        "linear_svm.support_"
      ],
      "metadata": {
        "colab": {
          "base_uri": "https://localhost:8080/"
        },
        "id": "nBeMOx0RB94r",
        "outputId": "a1fb0af4-4265-426b-f1af-71ef4d1e892d"
      },
      "execution_count": 28,
      "outputs": [
        {
          "output_type": "execute_result",
          "data": {
            "text/plain": [
              "array([ 1, 26, 42, 62], dtype=int32)"
            ]
          },
          "metadata": {},
          "execution_count": 28
        }
      ]
    },
    {
      "cell_type": "markdown",
      "metadata": {
        "id": "w3oo5LgC2oTH"
      },
      "source": [
        "## Example 2"
      ]
    },
    {
      "cell_type": "code",
      "execution_count": 58,
      "metadata": {
        "id": "ZNAFHrSv2oTI"
      },
      "outputs": [],
      "source": [
        "from sklearn.model_selection import GridSearchCV, cross_val_score,train_test_split\n",
        "from sklearn.preprocessing import StandardScaler\n",
        "from sklearn.datasets import load_digits"
      ]
    },
    {
      "cell_type": "markdown",
      "metadata": {
        "id": "J-qM9Hvw2oTI"
      },
      "source": [
        "Load digits dataset from scikitlearn using `load_digits()` function, create train and test datasets. Print the fitst eight digits on the screen."
      ]
    },
    {
      "cell_type": "markdown",
      "source": [
        "**regularization coefficient alpha and C**\n",
        "\n",
        "to reduce overfitting, we deliberately introduce a penalty to our optimization problem\n",
        "\n",
        "Linera regression: (y-yhat)^2\n",
        "\n",
        "Ridge Regression: min [ (y-yhat)^2 +  alpha * |w|^2 ]\n",
        "\n",
        "Logistic Regression: min [ C * (y-yhat)^2 +  |w|^2 ]\n",
        "\n",
        "SVM: [ C * (y-yhat)^2 +  |w|^2 ]"
      ],
      "metadata": {
        "id": "I03JdJavFCwx"
      }
    },
    {
      "cell_type": "code",
      "execution_count": 22,
      "metadata": {
        "id": "h6l_Oph22oTI"
      },
      "outputs": [],
      "source": []
    },
    {
      "cell_type": "markdown",
      "metadata": {
        "id": "r4Nooggw2oTI"
      },
      "source": [
        "Create a pipeline using `StandardScaler` and `SVC`. Find the cross validation score for both nont-scaled and scaled datasets for SVC."
      ]
    },
    {
      "cell_type": "code",
      "execution_count": 59,
      "metadata": {
        "id": "lUARYEt_2oTI"
      },
      "outputs": [],
      "source": [
        "from sklearn.pipeline import make_pipeline"
      ]
    },
    {
      "cell_type": "code",
      "execution_count": 60,
      "metadata": {
        "id": "TEG8pU_u2oTJ"
      },
      "outputs": [],
      "source": [
        "digits = load_digits()"
      ]
    },
    {
      "cell_type": "code",
      "source": [
        "X,y= digits.data, digits.target"
      ],
      "metadata": {
        "id": "RAc96OZnHUVf"
      },
      "execution_count": 61,
      "outputs": []
    },
    {
      "cell_type": "code",
      "source": [
        "X_train,X_test,y_train,y_test = train_test_split(X,y, stratify=y, random_state=0)"
      ],
      "metadata": {
        "id": "YadCTZtEHbG-"
      },
      "execution_count": 62,
      "outputs": []
    },
    {
      "cell_type": "code",
      "source": [
        "X.shape"
      ],
      "metadata": {
        "colab": {
          "base_uri": "https://localhost:8080/"
        },
        "id": "HzwIT7jNHuw2",
        "outputId": "ff1fd54a-6fab-4994-e343-cff9b876b55e"
      },
      "execution_count": 63,
      "outputs": [
        {
          "output_type": "execute_result",
          "data": {
            "text/plain": [
              "(1797, 64)"
            ]
          },
          "metadata": {},
          "execution_count": 63
        }
      ]
    },
    {
      "cell_type": "code",
      "source": [
        "X_train.shape"
      ],
      "metadata": {
        "colab": {
          "base_uri": "https://localhost:8080/"
        },
        "id": "rXWhYLRGHutq",
        "outputId": "6b8a9d47-a6ee-492e-9d0e-919eb02f003b"
      },
      "execution_count": 64,
      "outputs": [
        {
          "output_type": "execute_result",
          "data": {
            "text/plain": [
              "(1347, 64)"
            ]
          },
          "metadata": {},
          "execution_count": 64
        }
      ]
    },
    {
      "cell_type": "code",
      "source": [
        "scaled_svc = make_pipeline(StandardScaler(), SVC())"
      ],
      "metadata": {
        "id": "2y4vZUhEH_At"
      },
      "execution_count": 65,
      "outputs": []
    },
    {
      "cell_type": "code",
      "source": [
        "scaled_svc\n"
      ],
      "metadata": {
        "colab": {
          "base_uri": "https://localhost:8080/",
          "height": 125
        },
        "id": "K_Wj5J9uH-gj",
        "outputId": "dc436250-c0a6-4cea-e6f6-4c3f4fb58055"
      },
      "execution_count": 66,
      "outputs": [
        {
          "output_type": "execute_result",
          "data": {
            "text/plain": [
              "Pipeline(steps=[('standardscaler', StandardScaler()), ('svc', SVC())])"
            ],
            "text/html": [
              "<style>#sk-container-id-4 {color: black;background-color: white;}#sk-container-id-4 pre{padding: 0;}#sk-container-id-4 div.sk-toggleable {background-color: white;}#sk-container-id-4 label.sk-toggleable__label {cursor: pointer;display: block;width: 100%;margin-bottom: 0;padding: 0.3em;box-sizing: border-box;text-align: center;}#sk-container-id-4 label.sk-toggleable__label-arrow:before {content: \"▸\";float: left;margin-right: 0.25em;color: #696969;}#sk-container-id-4 label.sk-toggleable__label-arrow:hover:before {color: black;}#sk-container-id-4 div.sk-estimator:hover label.sk-toggleable__label-arrow:before {color: black;}#sk-container-id-4 div.sk-toggleable__content {max-height: 0;max-width: 0;overflow: hidden;text-align: left;background-color: #f0f8ff;}#sk-container-id-4 div.sk-toggleable__content pre {margin: 0.2em;color: black;border-radius: 0.25em;background-color: #f0f8ff;}#sk-container-id-4 input.sk-toggleable__control:checked~div.sk-toggleable__content {max-height: 200px;max-width: 100%;overflow: auto;}#sk-container-id-4 input.sk-toggleable__control:checked~label.sk-toggleable__label-arrow:before {content: \"▾\";}#sk-container-id-4 div.sk-estimator input.sk-toggleable__control:checked~label.sk-toggleable__label {background-color: #d4ebff;}#sk-container-id-4 div.sk-label input.sk-toggleable__control:checked~label.sk-toggleable__label {background-color: #d4ebff;}#sk-container-id-4 input.sk-hidden--visually {border: 0;clip: rect(1px 1px 1px 1px);clip: rect(1px, 1px, 1px, 1px);height: 1px;margin: -1px;overflow: hidden;padding: 0;position: absolute;width: 1px;}#sk-container-id-4 div.sk-estimator {font-family: monospace;background-color: #f0f8ff;border: 1px dotted black;border-radius: 0.25em;box-sizing: border-box;margin-bottom: 0.5em;}#sk-container-id-4 div.sk-estimator:hover {background-color: #d4ebff;}#sk-container-id-4 div.sk-parallel-item::after {content: \"\";width: 100%;border-bottom: 1px solid gray;flex-grow: 1;}#sk-container-id-4 div.sk-label:hover label.sk-toggleable__label {background-color: #d4ebff;}#sk-container-id-4 div.sk-serial::before {content: \"\";position: absolute;border-left: 1px solid gray;box-sizing: border-box;top: 0;bottom: 0;left: 50%;z-index: 0;}#sk-container-id-4 div.sk-serial {display: flex;flex-direction: column;align-items: center;background-color: white;padding-right: 0.2em;padding-left: 0.2em;position: relative;}#sk-container-id-4 div.sk-item {position: relative;z-index: 1;}#sk-container-id-4 div.sk-parallel {display: flex;align-items: stretch;justify-content: center;background-color: white;position: relative;}#sk-container-id-4 div.sk-item::before, #sk-container-id-4 div.sk-parallel-item::before {content: \"\";position: absolute;border-left: 1px solid gray;box-sizing: border-box;top: 0;bottom: 0;left: 50%;z-index: -1;}#sk-container-id-4 div.sk-parallel-item {display: flex;flex-direction: column;z-index: 1;position: relative;background-color: white;}#sk-container-id-4 div.sk-parallel-item:first-child::after {align-self: flex-end;width: 50%;}#sk-container-id-4 div.sk-parallel-item:last-child::after {align-self: flex-start;width: 50%;}#sk-container-id-4 div.sk-parallel-item:only-child::after {width: 0;}#sk-container-id-4 div.sk-dashed-wrapped {border: 1px dashed gray;margin: 0 0.4em 0.5em 0.4em;box-sizing: border-box;padding-bottom: 0.4em;background-color: white;}#sk-container-id-4 div.sk-label label {font-family: monospace;font-weight: bold;display: inline-block;line-height: 1.2em;}#sk-container-id-4 div.sk-label-container {text-align: center;}#sk-container-id-4 div.sk-container {/* jupyter's `normalize.less` sets `[hidden] { display: none; }` but bootstrap.min.css set `[hidden] { display: none !important; }` so we also need the `!important` here to be able to override the default hidden behavior on the sphinx rendered scikit-learn.org. See: https://github.com/scikit-learn/scikit-learn/issues/21755 */display: inline-block !important;position: relative;}#sk-container-id-4 div.sk-text-repr-fallback {display: none;}</style><div id=\"sk-container-id-4\" class=\"sk-top-container\"><div class=\"sk-text-repr-fallback\"><pre>Pipeline(steps=[(&#x27;standardscaler&#x27;, StandardScaler()), (&#x27;svc&#x27;, SVC())])</pre><b>In a Jupyter environment, please rerun this cell to show the HTML representation or trust the notebook. <br />On GitHub, the HTML representation is unable to render, please try loading this page with nbviewer.org.</b></div><div class=\"sk-container\" hidden><div class=\"sk-item sk-dashed-wrapped\"><div class=\"sk-label-container\"><div class=\"sk-label sk-toggleable\"><input class=\"sk-toggleable__control sk-hidden--visually\" id=\"sk-estimator-id-12\" type=\"checkbox\" ><label for=\"sk-estimator-id-12\" class=\"sk-toggleable__label sk-toggleable__label-arrow\">Pipeline</label><div class=\"sk-toggleable__content\"><pre>Pipeline(steps=[(&#x27;standardscaler&#x27;, StandardScaler()), (&#x27;svc&#x27;, SVC())])</pre></div></div></div><div class=\"sk-serial\"><div class=\"sk-item\"><div class=\"sk-estimator sk-toggleable\"><input class=\"sk-toggleable__control sk-hidden--visually\" id=\"sk-estimator-id-13\" type=\"checkbox\" ><label for=\"sk-estimator-id-13\" class=\"sk-toggleable__label sk-toggleable__label-arrow\">StandardScaler</label><div class=\"sk-toggleable__content\"><pre>StandardScaler()</pre></div></div></div><div class=\"sk-item\"><div class=\"sk-estimator sk-toggleable\"><input class=\"sk-toggleable__control sk-hidden--visually\" id=\"sk-estimator-id-14\" type=\"checkbox\" ><label for=\"sk-estimator-id-14\" class=\"sk-toggleable__label sk-toggleable__label-arrow\">SVC</label><div class=\"sk-toggleable__content\"><pre>SVC()</pre></div></div></div></div></div></div></div>"
            ]
          },
          "metadata": {},
          "execution_count": 66
        }
      ]
    },
    {
      "cell_type": "code",
      "source": [
        "scores_1 = cross_val_score(SVC(), X_train, y_train, cv=10)"
      ],
      "metadata": {
        "id": "rE99GPg7K0Fp"
      },
      "execution_count": 67,
      "outputs": []
    },
    {
      "cell_type": "code",
      "source": [
        "np.mean(scores_1), np.std(scores_1)"
      ],
      "metadata": {
        "colab": {
          "base_uri": "https://localhost:8080/"
        },
        "id": "ZhEySVTpLQvY",
        "outputId": "9bb42c85-f66f-4a1a-f0eb-c41ece39e462"
      },
      "execution_count": 68,
      "outputs": [
        {
          "output_type": "execute_result",
          "data": {
            "text/plain": [
              "(0.9873742399115534, 0.009415655646660361)"
            ]
          },
          "metadata": {},
          "execution_count": 68
        }
      ]
    },
    {
      "cell_type": "code",
      "source": [
        "scores_1"
      ],
      "metadata": {
        "colab": {
          "base_uri": "https://localhost:8080/"
        },
        "id": "95nSJYzTLkRu",
        "outputId": "82a054ed-aa0d-4024-a9bd-45bcc22fda55"
      },
      "execution_count": 69,
      "outputs": [
        {
          "output_type": "execute_result",
          "data": {
            "text/plain": [
              "array([0.99259259, 1.        , 1.        , 0.97037037, 0.99259259,\n",
              "       0.98518519, 0.97777778, 0.98507463, 0.99253731, 0.97761194])"
            ]
          },
          "metadata": {},
          "execution_count": 69
        }
      ]
    },
    {
      "cell_type": "code",
      "source": [
        "scores_2 = cross_val_score(scaled_svc, X_train, y_train, cv=10)"
      ],
      "metadata": {
        "id": "C-ze7Kk-L6r-"
      },
      "execution_count": 70,
      "outputs": []
    },
    {
      "cell_type": "code",
      "source": [
        "scores_2"
      ],
      "metadata": {
        "colab": {
          "base_uri": "https://localhost:8080/"
        },
        "id": "OY0JdEcaMKjb",
        "outputId": "2588a9fe-fc74-456a-965e-e3b2f0e1868c"
      },
      "execution_count": 71,
      "outputs": [
        {
          "output_type": "execute_result",
          "data": {
            "text/plain": [
              "array([0.97037037, 0.99259259, 0.97777778, 0.96296296, 0.97777778,\n",
              "       0.99259259, 0.96296296, 0.98507463, 0.98507463, 0.96268657])"
            ]
          },
          "metadata": {},
          "execution_count": 71
        }
      ]
    },
    {
      "cell_type": "code",
      "source": [
        "np.mean(scores_2), np.std(scores_2)"
      ],
      "metadata": {
        "colab": {
          "base_uri": "https://localhost:8080/"
        },
        "id": "1Wtq5LnPMR-K",
        "outputId": "1fcfa872-cdbf-42cd-a9bf-20f10181d4ce"
      },
      "execution_count": 72,
      "outputs": [
        {
          "output_type": "execute_result",
          "data": {
            "text/plain": [
              "(0.9769872857932558, 0.0112283948617752)"
            ]
          },
          "metadata": {},
          "execution_count": 72
        }
      ]
    },
    {
      "cell_type": "markdown",
      "metadata": {
        "id": "bFvHV5-e2oTJ"
      },
      "source": [
        "Create a grid search for `C` and `gamma` parameters of `SVC`. turn the grid search results in to a dataframe and check the results."
      ]
    },
    {
      "cell_type": "code",
      "source": [
        "np.logspace(-3,2,6)"
      ],
      "metadata": {
        "colab": {
          "base_uri": "https://localhost:8080/"
        },
        "id": "uG3Uvr3LNI3X",
        "outputId": "2cb77359-13c3-4bd4-f360-708b1d75c1ea"
      },
      "execution_count": 73,
      "outputs": [
        {
          "output_type": "execute_result",
          "data": {
            "text/plain": [
              "array([1.e-03, 1.e-02, 1.e-01, 1.e+00, 1.e+01, 1.e+02])"
            ]
          },
          "metadata": {},
          "execution_count": 73
        }
      ]
    },
    {
      "cell_type": "code",
      "source": [
        "X_train.shape[0]"
      ],
      "metadata": {
        "colab": {
          "base_uri": "https://localhost:8080/"
        },
        "id": "NwAMembJNsEZ",
        "outputId": "23bd3b0c-af16-497d-fbd2-2c5a0be915ed"
      },
      "execution_count": 74,
      "outputs": [
        {
          "output_type": "execute_result",
          "data": {
            "text/plain": [
              "1347"
            ]
          },
          "metadata": {},
          "execution_count": 74
        }
      ]
    },
    {
      "cell_type": "code",
      "execution_count": 75,
      "metadata": {
        "id": "N5YIaMz02oTJ"
      },
      "outputs": [],
      "source": [
        "myparam_grid = {'svc__C': np.logspace(-3,2,6),\n",
        "              'svc__gamma':np.logspace(-3,2,6)/X_train.shape[0]}"
      ]
    },
    {
      "cell_type": "code",
      "source": [
        "grid = GridSearchCV(scaled_svc, param_grid=myparam_grid, cv=10,\n",
        "             return_train_score=True)"
      ],
      "metadata": {
        "id": "irEd4TPlUxTk"
      },
      "execution_count": 76,
      "outputs": []
    },
    {
      "cell_type": "code",
      "source": [
        "grid"
      ],
      "metadata": {
        "colab": {
          "base_uri": "https://localhost:8080/",
          "height": 151
        },
        "id": "Mo-ngVK0VVWu",
        "outputId": "3344aec9-d3ca-4d2a-a7cb-f793f846a5f7"
      },
      "execution_count": 77,
      "outputs": [
        {
          "output_type": "execute_result",
          "data": {
            "text/plain": [
              "GridSearchCV(cv=10,\n",
              "             estimator=Pipeline(steps=[('standardscaler', StandardScaler()),\n",
              "                                       ('svc', SVC())]),\n",
              "             param_grid={'svc__C': array([1.e-03, 1.e-02, 1.e-01, 1.e+00, 1.e+01, 1.e+02]),\n",
              "                         'svc__gamma': array([7.42390497e-07, 7.42390497e-06, 7.42390497e-05, 7.42390497e-04,\n",
              "       7.42390497e-03, 7.42390497e-02])},\n",
              "             return_train_score=True)"
            ],
            "text/html": [
              "<style>#sk-container-id-5 {color: black;background-color: white;}#sk-container-id-5 pre{padding: 0;}#sk-container-id-5 div.sk-toggleable {background-color: white;}#sk-container-id-5 label.sk-toggleable__label {cursor: pointer;display: block;width: 100%;margin-bottom: 0;padding: 0.3em;box-sizing: border-box;text-align: center;}#sk-container-id-5 label.sk-toggleable__label-arrow:before {content: \"▸\";float: left;margin-right: 0.25em;color: #696969;}#sk-container-id-5 label.sk-toggleable__label-arrow:hover:before {color: black;}#sk-container-id-5 div.sk-estimator:hover label.sk-toggleable__label-arrow:before {color: black;}#sk-container-id-5 div.sk-toggleable__content {max-height: 0;max-width: 0;overflow: hidden;text-align: left;background-color: #f0f8ff;}#sk-container-id-5 div.sk-toggleable__content pre {margin: 0.2em;color: black;border-radius: 0.25em;background-color: #f0f8ff;}#sk-container-id-5 input.sk-toggleable__control:checked~div.sk-toggleable__content {max-height: 200px;max-width: 100%;overflow: auto;}#sk-container-id-5 input.sk-toggleable__control:checked~label.sk-toggleable__label-arrow:before {content: \"▾\";}#sk-container-id-5 div.sk-estimator input.sk-toggleable__control:checked~label.sk-toggleable__label {background-color: #d4ebff;}#sk-container-id-5 div.sk-label input.sk-toggleable__control:checked~label.sk-toggleable__label {background-color: #d4ebff;}#sk-container-id-5 input.sk-hidden--visually {border: 0;clip: rect(1px 1px 1px 1px);clip: rect(1px, 1px, 1px, 1px);height: 1px;margin: -1px;overflow: hidden;padding: 0;position: absolute;width: 1px;}#sk-container-id-5 div.sk-estimator {font-family: monospace;background-color: #f0f8ff;border: 1px dotted black;border-radius: 0.25em;box-sizing: border-box;margin-bottom: 0.5em;}#sk-container-id-5 div.sk-estimator:hover {background-color: #d4ebff;}#sk-container-id-5 div.sk-parallel-item::after {content: \"\";width: 100%;border-bottom: 1px solid gray;flex-grow: 1;}#sk-container-id-5 div.sk-label:hover label.sk-toggleable__label {background-color: #d4ebff;}#sk-container-id-5 div.sk-serial::before {content: \"\";position: absolute;border-left: 1px solid gray;box-sizing: border-box;top: 0;bottom: 0;left: 50%;z-index: 0;}#sk-container-id-5 div.sk-serial {display: flex;flex-direction: column;align-items: center;background-color: white;padding-right: 0.2em;padding-left: 0.2em;position: relative;}#sk-container-id-5 div.sk-item {position: relative;z-index: 1;}#sk-container-id-5 div.sk-parallel {display: flex;align-items: stretch;justify-content: center;background-color: white;position: relative;}#sk-container-id-5 div.sk-item::before, #sk-container-id-5 div.sk-parallel-item::before {content: \"\";position: absolute;border-left: 1px solid gray;box-sizing: border-box;top: 0;bottom: 0;left: 50%;z-index: -1;}#sk-container-id-5 div.sk-parallel-item {display: flex;flex-direction: column;z-index: 1;position: relative;background-color: white;}#sk-container-id-5 div.sk-parallel-item:first-child::after {align-self: flex-end;width: 50%;}#sk-container-id-5 div.sk-parallel-item:last-child::after {align-self: flex-start;width: 50%;}#sk-container-id-5 div.sk-parallel-item:only-child::after {width: 0;}#sk-container-id-5 div.sk-dashed-wrapped {border: 1px dashed gray;margin: 0 0.4em 0.5em 0.4em;box-sizing: border-box;padding-bottom: 0.4em;background-color: white;}#sk-container-id-5 div.sk-label label {font-family: monospace;font-weight: bold;display: inline-block;line-height: 1.2em;}#sk-container-id-5 div.sk-label-container {text-align: center;}#sk-container-id-5 div.sk-container {/* jupyter's `normalize.less` sets `[hidden] { display: none; }` but bootstrap.min.css set `[hidden] { display: none !important; }` so we also need the `!important` here to be able to override the default hidden behavior on the sphinx rendered scikit-learn.org. See: https://github.com/scikit-learn/scikit-learn/issues/21755 */display: inline-block !important;position: relative;}#sk-container-id-5 div.sk-text-repr-fallback {display: none;}</style><div id=\"sk-container-id-5\" class=\"sk-top-container\"><div class=\"sk-text-repr-fallback\"><pre>GridSearchCV(cv=10,\n",
              "             estimator=Pipeline(steps=[(&#x27;standardscaler&#x27;, StandardScaler()),\n",
              "                                       (&#x27;svc&#x27;, SVC())]),\n",
              "             param_grid={&#x27;svc__C&#x27;: array([1.e-03, 1.e-02, 1.e-01, 1.e+00, 1.e+01, 1.e+02]),\n",
              "                         &#x27;svc__gamma&#x27;: array([7.42390497e-07, 7.42390497e-06, 7.42390497e-05, 7.42390497e-04,\n",
              "       7.42390497e-03, 7.42390497e-02])},\n",
              "             return_train_score=True)</pre><b>In a Jupyter environment, please rerun this cell to show the HTML representation or trust the notebook. <br />On GitHub, the HTML representation is unable to render, please try loading this page with nbviewer.org.</b></div><div class=\"sk-container\" hidden><div class=\"sk-item sk-dashed-wrapped\"><div class=\"sk-label-container\"><div class=\"sk-label sk-toggleable\"><input class=\"sk-toggleable__control sk-hidden--visually\" id=\"sk-estimator-id-15\" type=\"checkbox\" ><label for=\"sk-estimator-id-15\" class=\"sk-toggleable__label sk-toggleable__label-arrow\">GridSearchCV</label><div class=\"sk-toggleable__content\"><pre>GridSearchCV(cv=10,\n",
              "             estimator=Pipeline(steps=[(&#x27;standardscaler&#x27;, StandardScaler()),\n",
              "                                       (&#x27;svc&#x27;, SVC())]),\n",
              "             param_grid={&#x27;svc__C&#x27;: array([1.e-03, 1.e-02, 1.e-01, 1.e+00, 1.e+01, 1.e+02]),\n",
              "                         &#x27;svc__gamma&#x27;: array([7.42390497e-07, 7.42390497e-06, 7.42390497e-05, 7.42390497e-04,\n",
              "       7.42390497e-03, 7.42390497e-02])},\n",
              "             return_train_score=True)</pre></div></div></div><div class=\"sk-parallel\"><div class=\"sk-parallel-item\"><div class=\"sk-item\"><div class=\"sk-label-container\"><div class=\"sk-label sk-toggleable\"><input class=\"sk-toggleable__control sk-hidden--visually\" id=\"sk-estimator-id-16\" type=\"checkbox\" ><label for=\"sk-estimator-id-16\" class=\"sk-toggleable__label sk-toggleable__label-arrow\">estimator: Pipeline</label><div class=\"sk-toggleable__content\"><pre>Pipeline(steps=[(&#x27;standardscaler&#x27;, StandardScaler()), (&#x27;svc&#x27;, SVC())])</pre></div></div></div><div class=\"sk-serial\"><div class=\"sk-item\"><div class=\"sk-serial\"><div class=\"sk-item\"><div class=\"sk-estimator sk-toggleable\"><input class=\"sk-toggleable__control sk-hidden--visually\" id=\"sk-estimator-id-17\" type=\"checkbox\" ><label for=\"sk-estimator-id-17\" class=\"sk-toggleable__label sk-toggleable__label-arrow\">StandardScaler</label><div class=\"sk-toggleable__content\"><pre>StandardScaler()</pre></div></div></div><div class=\"sk-item\"><div class=\"sk-estimator sk-toggleable\"><input class=\"sk-toggleable__control sk-hidden--visually\" id=\"sk-estimator-id-18\" type=\"checkbox\" ><label for=\"sk-estimator-id-18\" class=\"sk-toggleable__label sk-toggleable__label-arrow\">SVC</label><div class=\"sk-toggleable__content\"><pre>SVC()</pre></div></div></div></div></div></div></div></div></div></div></div></div>"
            ]
          },
          "metadata": {},
          "execution_count": 77
        }
      ]
    },
    {
      "cell_type": "code",
      "source": [
        "grid.fit(X_train, y_train)"
      ],
      "metadata": {
        "colab": {
          "base_uri": "https://localhost:8080/",
          "height": 197
        },
        "id": "Bg_VIA_JVWu8",
        "outputId": "92fdd902-63d6-48c9-e69d-55160c341b45"
      },
      "execution_count": 78,
      "outputs": [
        {
          "output_type": "execute_result",
          "data": {
            "text/plain": [
              "GridSearchCV(cv=10,\n",
              "             estimator=Pipeline(steps=[('standardscaler', StandardScaler()),\n",
              "                                       ('svc', SVC())]),\n",
              "             param_grid={'svc__C': array([1.e-03, 1.e-02, 1.e-01, 1.e+00, 1.e+01, 1.e+02]),\n",
              "                         'svc__gamma': array([7.42390497e-07, 7.42390497e-06, 7.42390497e-05, 7.42390497e-04,\n",
              "       7.42390497e-03, 7.42390497e-02])},\n",
              "             return_train_score=True)"
            ],
            "text/html": [
              "<style>#sk-container-id-6 {color: black;background-color: white;}#sk-container-id-6 pre{padding: 0;}#sk-container-id-6 div.sk-toggleable {background-color: white;}#sk-container-id-6 label.sk-toggleable__label {cursor: pointer;display: block;width: 100%;margin-bottom: 0;padding: 0.3em;box-sizing: border-box;text-align: center;}#sk-container-id-6 label.sk-toggleable__label-arrow:before {content: \"▸\";float: left;margin-right: 0.25em;color: #696969;}#sk-container-id-6 label.sk-toggleable__label-arrow:hover:before {color: black;}#sk-container-id-6 div.sk-estimator:hover label.sk-toggleable__label-arrow:before {color: black;}#sk-container-id-6 div.sk-toggleable__content {max-height: 0;max-width: 0;overflow: hidden;text-align: left;background-color: #f0f8ff;}#sk-container-id-6 div.sk-toggleable__content pre {margin: 0.2em;color: black;border-radius: 0.25em;background-color: #f0f8ff;}#sk-container-id-6 input.sk-toggleable__control:checked~div.sk-toggleable__content {max-height: 200px;max-width: 100%;overflow: auto;}#sk-container-id-6 input.sk-toggleable__control:checked~label.sk-toggleable__label-arrow:before {content: \"▾\";}#sk-container-id-6 div.sk-estimator input.sk-toggleable__control:checked~label.sk-toggleable__label {background-color: #d4ebff;}#sk-container-id-6 div.sk-label input.sk-toggleable__control:checked~label.sk-toggleable__label {background-color: #d4ebff;}#sk-container-id-6 input.sk-hidden--visually {border: 0;clip: rect(1px 1px 1px 1px);clip: rect(1px, 1px, 1px, 1px);height: 1px;margin: -1px;overflow: hidden;padding: 0;position: absolute;width: 1px;}#sk-container-id-6 div.sk-estimator {font-family: monospace;background-color: #f0f8ff;border: 1px dotted black;border-radius: 0.25em;box-sizing: border-box;margin-bottom: 0.5em;}#sk-container-id-6 div.sk-estimator:hover {background-color: #d4ebff;}#sk-container-id-6 div.sk-parallel-item::after {content: \"\";width: 100%;border-bottom: 1px solid gray;flex-grow: 1;}#sk-container-id-6 div.sk-label:hover label.sk-toggleable__label {background-color: #d4ebff;}#sk-container-id-6 div.sk-serial::before {content: \"\";position: absolute;border-left: 1px solid gray;box-sizing: border-box;top: 0;bottom: 0;left: 50%;z-index: 0;}#sk-container-id-6 div.sk-serial {display: flex;flex-direction: column;align-items: center;background-color: white;padding-right: 0.2em;padding-left: 0.2em;position: relative;}#sk-container-id-6 div.sk-item {position: relative;z-index: 1;}#sk-container-id-6 div.sk-parallel {display: flex;align-items: stretch;justify-content: center;background-color: white;position: relative;}#sk-container-id-6 div.sk-item::before, #sk-container-id-6 div.sk-parallel-item::before {content: \"\";position: absolute;border-left: 1px solid gray;box-sizing: border-box;top: 0;bottom: 0;left: 50%;z-index: -1;}#sk-container-id-6 div.sk-parallel-item {display: flex;flex-direction: column;z-index: 1;position: relative;background-color: white;}#sk-container-id-6 div.sk-parallel-item:first-child::after {align-self: flex-end;width: 50%;}#sk-container-id-6 div.sk-parallel-item:last-child::after {align-self: flex-start;width: 50%;}#sk-container-id-6 div.sk-parallel-item:only-child::after {width: 0;}#sk-container-id-6 div.sk-dashed-wrapped {border: 1px dashed gray;margin: 0 0.4em 0.5em 0.4em;box-sizing: border-box;padding-bottom: 0.4em;background-color: white;}#sk-container-id-6 div.sk-label label {font-family: monospace;font-weight: bold;display: inline-block;line-height: 1.2em;}#sk-container-id-6 div.sk-label-container {text-align: center;}#sk-container-id-6 div.sk-container {/* jupyter's `normalize.less` sets `[hidden] { display: none; }` but bootstrap.min.css set `[hidden] { display: none !important; }` so we also need the `!important` here to be able to override the default hidden behavior on the sphinx rendered scikit-learn.org. See: https://github.com/scikit-learn/scikit-learn/issues/21755 */display: inline-block !important;position: relative;}#sk-container-id-6 div.sk-text-repr-fallback {display: none;}</style><div id=\"sk-container-id-6\" class=\"sk-top-container\"><div class=\"sk-text-repr-fallback\"><pre>GridSearchCV(cv=10,\n",
              "             estimator=Pipeline(steps=[(&#x27;standardscaler&#x27;, StandardScaler()),\n",
              "                                       (&#x27;svc&#x27;, SVC())]),\n",
              "             param_grid={&#x27;svc__C&#x27;: array([1.e-03, 1.e-02, 1.e-01, 1.e+00, 1.e+01, 1.e+02]),\n",
              "                         &#x27;svc__gamma&#x27;: array([7.42390497e-07, 7.42390497e-06, 7.42390497e-05, 7.42390497e-04,\n",
              "       7.42390497e-03, 7.42390497e-02])},\n",
              "             return_train_score=True)</pre><b>In a Jupyter environment, please rerun this cell to show the HTML representation or trust the notebook. <br />On GitHub, the HTML representation is unable to render, please try loading this page with nbviewer.org.</b></div><div class=\"sk-container\" hidden><div class=\"sk-item sk-dashed-wrapped\"><div class=\"sk-label-container\"><div class=\"sk-label sk-toggleable\"><input class=\"sk-toggleable__control sk-hidden--visually\" id=\"sk-estimator-id-19\" type=\"checkbox\" ><label for=\"sk-estimator-id-19\" class=\"sk-toggleable__label sk-toggleable__label-arrow\">GridSearchCV</label><div class=\"sk-toggleable__content\"><pre>GridSearchCV(cv=10,\n",
              "             estimator=Pipeline(steps=[(&#x27;standardscaler&#x27;, StandardScaler()),\n",
              "                                       (&#x27;svc&#x27;, SVC())]),\n",
              "             param_grid={&#x27;svc__C&#x27;: array([1.e-03, 1.e-02, 1.e-01, 1.e+00, 1.e+01, 1.e+02]),\n",
              "                         &#x27;svc__gamma&#x27;: array([7.42390497e-07, 7.42390497e-06, 7.42390497e-05, 7.42390497e-04,\n",
              "       7.42390497e-03, 7.42390497e-02])},\n",
              "             return_train_score=True)</pre></div></div></div><div class=\"sk-parallel\"><div class=\"sk-parallel-item\"><div class=\"sk-item\"><div class=\"sk-label-container\"><div class=\"sk-label sk-toggleable\"><input class=\"sk-toggleable__control sk-hidden--visually\" id=\"sk-estimator-id-20\" type=\"checkbox\" ><label for=\"sk-estimator-id-20\" class=\"sk-toggleable__label sk-toggleable__label-arrow\">estimator: Pipeline</label><div class=\"sk-toggleable__content\"><pre>Pipeline(steps=[(&#x27;standardscaler&#x27;, StandardScaler()), (&#x27;svc&#x27;, SVC())])</pre></div></div></div><div class=\"sk-serial\"><div class=\"sk-item\"><div class=\"sk-serial\"><div class=\"sk-item\"><div class=\"sk-estimator sk-toggleable\"><input class=\"sk-toggleable__control sk-hidden--visually\" id=\"sk-estimator-id-21\" type=\"checkbox\" ><label for=\"sk-estimator-id-21\" class=\"sk-toggleable__label sk-toggleable__label-arrow\">StandardScaler</label><div class=\"sk-toggleable__content\"><pre>StandardScaler()</pre></div></div></div><div class=\"sk-item\"><div class=\"sk-estimator sk-toggleable\"><input class=\"sk-toggleable__control sk-hidden--visually\" id=\"sk-estimator-id-22\" type=\"checkbox\" ><label for=\"sk-estimator-id-22\" class=\"sk-toggleable__label sk-toggleable__label-arrow\">SVC</label><div class=\"sk-toggleable__content\"><pre>SVC()</pre></div></div></div></div></div></div></div></div></div></div></div></div>"
            ]
          },
          "metadata": {},
          "execution_count": 78
        }
      ]
    },
    {
      "cell_type": "code",
      "source": [
        "#X_train\n",
        "\n",
        "#X_train_1, X_train_2, ... ,X_train_10\n",
        "\n",
        "#1. C= 0.001, gamma = 7.42e-7,\n",
        "   \n",
        "#   1.1 X_train_1 ---> validation, X_train_2, ... X_train_10 ---> train data set\n",
        "#   1.2 X_train_2 ---> validation, X_train_3, ... X_train_10 ---> train data set\n",
        "#   .\n",
        "#   .\n",
        "#   .\n",
        "#  1.10 X_train_10 ---> validation, X_train_10, ... X_train_10 ---> train data set    "
      ],
      "metadata": {
        "id": "mVwnu_UPXCGL"
      },
      "execution_count": null,
      "outputs": []
    },
    {
      "cell_type": "code",
      "source": [
        "import pandas as pd\n",
        "results = pd.DataFrame(grid.cv_results_)"
      ],
      "metadata": {
        "id": "JVl3Ezn_VwjK"
      },
      "execution_count": 81,
      "outputs": []
    },
    {
      "cell_type": "code",
      "source": [
        "results.T"
      ],
      "metadata": {
        "colab": {
          "base_uri": "https://localhost:8080/",
          "height": 1000
        },
        "id": "NFHNWmXgZZam",
        "outputId": "3237e275-43a2-40cb-f29e-8902e1c50ed0"
      },
      "execution_count": 83,
      "outputs": [
        {
          "output_type": "execute_result",
          "data": {
            "text/plain": [
              "                                                                   0   \\\n",
              "mean_fit_time                                                0.156774   \n",
              "std_fit_time                                                 0.007767   \n",
              "mean_score_time                                              0.017685   \n",
              "std_score_time                                               0.002158   \n",
              "param_svc__C                                                    0.001   \n",
              "param_svc__gamma                                             0.000001   \n",
              "params              {'svc__C': 0.001, 'svc__gamma': 7.423904974016...   \n",
              "split0_test_score                                            0.377778   \n",
              "split1_test_score                                            0.096296   \n",
              "split2_test_score                                            0.096296   \n",
              "split3_test_score                                            0.096296   \n",
              "split4_test_score                                            0.177778   \n",
              "split5_test_score                                            0.185185   \n",
              "split6_test_score                                            0.162963   \n",
              "split7_test_score                                            0.380597   \n",
              "split8_test_score                                            0.291045   \n",
              "split9_test_score                                            0.283582   \n",
              "mean_test_score                                              0.214782   \n",
              "std_test_score                                               0.105669   \n",
              "rank_test_score                                                    26   \n",
              "split0_train_score                                           0.393564   \n",
              "split1_train_score                                            0.10231   \n",
              "split2_train_score                                            0.10231   \n",
              "split3_train_score                                            0.10231   \n",
              "split4_train_score                                           0.181518   \n",
              "split5_train_score                                           0.183168   \n",
              "split6_train_score                                           0.180693   \n",
              "split7_train_score                                           0.376752   \n",
              "split8_train_score                                           0.294312   \n",
              "split9_train_score                                           0.295136   \n",
              "mean_train_score                                             0.221207   \n",
              "std_train_score                                              0.105728   \n",
              "\n",
              "                                                                   1   \\\n",
              "mean_fit_time                                                0.153201   \n",
              "std_fit_time                                                 0.004603   \n",
              "mean_score_time                                              0.016615   \n",
              "std_score_time                                               0.000535   \n",
              "param_svc__C                                                    0.001   \n",
              "param_svc__gamma                                             0.000007   \n",
              "params              {'svc__C': 0.001, 'svc__gamma': 7.423904974016...   \n",
              "split0_test_score                                            0.377778   \n",
              "split1_test_score                                            0.096296   \n",
              "split2_test_score                                            0.096296   \n",
              "split3_test_score                                            0.096296   \n",
              "split4_test_score                                            0.177778   \n",
              "split5_test_score                                            0.185185   \n",
              "split6_test_score                                            0.162963   \n",
              "split7_test_score                                            0.380597   \n",
              "split8_test_score                                            0.291045   \n",
              "split9_test_score                                            0.283582   \n",
              "mean_test_score                                              0.214782   \n",
              "std_test_score                                               0.105669   \n",
              "rank_test_score                                                    26   \n",
              "split0_train_score                                           0.393564   \n",
              "split1_train_score                                            0.10231   \n",
              "split2_train_score                                            0.10231   \n",
              "split3_train_score                                            0.10231   \n",
              "split4_train_score                                           0.182343   \n",
              "split5_train_score                                           0.183993   \n",
              "split6_train_score                                           0.180693   \n",
              "split7_train_score                                           0.376752   \n",
              "split8_train_score                                           0.294312   \n",
              "split9_train_score                                           0.295136   \n",
              "mean_train_score                                             0.221372   \n",
              "std_train_score                                              0.105668   \n",
              "\n",
              "                                                                   2   \\\n",
              "mean_fit_time                                                0.189242   \n",
              "std_fit_time                                                 0.041673   \n",
              "mean_score_time                                              0.022333   \n",
              "std_score_time                                               0.005917   \n",
              "param_svc__C                                                    0.001   \n",
              "param_svc__gamma                                             0.000074   \n",
              "params              {'svc__C': 0.001, 'svc__gamma': 7.423904974016...   \n",
              "split0_test_score                                            0.377778   \n",
              "split1_test_score                                            0.096296   \n",
              "split2_test_score                                            0.096296   \n",
              "split3_test_score                                            0.096296   \n",
              "split4_test_score                                            0.185185   \n",
              "split5_test_score                                            0.185185   \n",
              "split6_test_score                                             0.17037   \n",
              "split7_test_score                                            0.380597   \n",
              "split8_test_score                                            0.291045   \n",
              "split9_test_score                                            0.283582   \n",
              "mean_test_score                                              0.216263   \n",
              "std_test_score                                               0.105086   \n",
              "rank_test_score                                                    23   \n",
              "split0_train_score                                           0.394389   \n",
              "split1_train_score                                            0.10231   \n",
              "split2_train_score                                            0.10231   \n",
              "split3_train_score                                            0.10231   \n",
              "split4_train_score                                           0.183168   \n",
              "split5_train_score                                           0.183993   \n",
              "split6_train_score                                           0.181518   \n",
              "split7_train_score                                           0.375103   \n",
              "split8_train_score                                           0.294312   \n",
              "split9_train_score                                           0.295136   \n",
              "mean_train_score                                             0.221455   \n",
              "std_train_score                                                0.1055   \n",
              "\n",
              "                                                                   3   \\\n",
              "mean_fit_time                                                0.167562   \n",
              "std_fit_time                                                  0.02968   \n",
              "mean_score_time                                              0.017684   \n",
              "std_score_time                                               0.003411   \n",
              "param_svc__C                                                    0.001   \n",
              "param_svc__gamma                                             0.000742   \n",
              "params              {'svc__C': 0.001, 'svc__gamma': 0.000742390497...   \n",
              "split0_test_score                                            0.377778   \n",
              "split1_test_score                                            0.096296   \n",
              "split2_test_score                                            0.096296   \n",
              "split3_test_score                                            0.096296   \n",
              "split4_test_score                                            0.192593   \n",
              "split5_test_score                                            0.185185   \n",
              "split6_test_score                                             0.17037   \n",
              "split7_test_score                                            0.380597   \n",
              "split8_test_score                                            0.291045   \n",
              "split9_test_score                                            0.283582   \n",
              "mean_test_score                                              0.217004   \n",
              "std_test_score                                                0.10489   \n",
              "rank_test_score                                                    21   \n",
              "split0_train_score                                           0.395215   \n",
              "split1_train_score                                            0.10231   \n",
              "split2_train_score                                            0.10231   \n",
              "split3_train_score                                            0.10231   \n",
              "split4_train_score                                           0.186469   \n",
              "split5_train_score                                           0.188119   \n",
              "split6_train_score                                           0.185644   \n",
              "split7_train_score                                           0.379225   \n",
              "split8_train_score                                           0.293487   \n",
              "split9_train_score                                           0.294312   \n",
              "mean_train_score                                              0.22294   \n",
              "std_train_score                                              0.105718   \n",
              "\n",
              "                                                                   4   \\\n",
              "mean_fit_time                                                0.153872   \n",
              "std_fit_time                                                   0.0052   \n",
              "mean_score_time                                              0.016715   \n",
              "std_score_time                                               0.000486   \n",
              "param_svc__C                                                    0.001   \n",
              "param_svc__gamma                                             0.007424   \n",
              "params              {'svc__C': 0.001, 'svc__gamma': 0.007423904974...   \n",
              "split0_test_score                                            0.385185   \n",
              "split1_test_score                                            0.096296   \n",
              "split2_test_score                                            0.096296   \n",
              "split3_test_score                                            0.096296   \n",
              "split4_test_score                                                 0.2   \n",
              "split5_test_score                                                 0.2   \n",
              "split6_test_score                                            0.185185   \n",
              "split7_test_score                                            0.380597   \n",
              "split8_test_score                                            0.291045   \n",
              "split9_test_score                                            0.291045   \n",
              "mean_test_score                                              0.222195   \n",
              "std_test_score                                               0.105377   \n",
              "rank_test_score                                                    19   \n",
              "split0_train_score                                           0.392739   \n",
              "split1_train_score                                            0.10231   \n",
              "split2_train_score                                            0.10231   \n",
              "split3_train_score                                            0.10231   \n",
              "split4_train_score                                           0.197195   \n",
              "split5_train_score                                            0.19637   \n",
              "split6_train_score                                            0.19637   \n",
              "split7_train_score                                           0.394889   \n",
              "split8_train_score                                           0.299258   \n",
              "split9_train_score                                           0.299258   \n",
              "mean_train_score                                             0.228301   \n",
              "std_train_score                                              0.107466   \n",
              "\n",
              "                                                                   5   \\\n",
              "mean_fit_time                                                0.154252   \n",
              "std_fit_time                                                 0.003167   \n",
              "mean_score_time                                              0.016384   \n",
              "std_score_time                                                0.00031   \n",
              "param_svc__C                                                    0.001   \n",
              "param_svc__gamma                                             0.074239   \n",
              "params              {'svc__C': 0.001, 'svc__gamma': 0.074239049740...   \n",
              "split0_test_score                                            0.296296   \n",
              "split1_test_score                                            0.096296   \n",
              "split2_test_score                                            0.096296   \n",
              "split3_test_score                                            0.096296   \n",
              "split4_test_score                                            0.177778   \n",
              "split5_test_score                                             0.17037   \n",
              "split6_test_score                                             0.17037   \n",
              "split7_test_score                                            0.298507   \n",
              "split8_test_score                                            0.246269   \n",
              "split9_test_score                                            0.253731   \n",
              "mean_test_score                                              0.190221   \n",
              "std_test_score                                               0.075869   \n",
              "rank_test_score                                                    35   \n",
              "split0_train_score                                           0.344884   \n",
              "split1_train_score                                            0.10231   \n",
              "split2_train_score                                            0.10231   \n",
              "split3_train_score                                            0.10231   \n",
              "split4_train_score                                           0.190594   \n",
              "split5_train_score                                           0.188119   \n",
              "split6_train_score                                           0.193069   \n",
              "split7_train_score                                           0.323166   \n",
              "split8_train_score                                           0.261336   \n",
              "split9_train_score                                           0.265458   \n",
              "mean_train_score                                             0.207356   \n",
              "std_train_score                                              0.085191   \n",
              "\n",
              "                                                                   6   \\\n",
              "mean_fit_time                                                 0.20061   \n",
              "std_fit_time                                                  0.03833   \n",
              "mean_score_time                                              0.023413   \n",
              "std_score_time                                               0.005481   \n",
              "param_svc__C                                                     0.01   \n",
              "param_svc__gamma                                             0.000001   \n",
              "params              {'svc__C': 0.01, 'svc__gamma': 7.4239049740163...   \n",
              "split0_test_score                                            0.377778   \n",
              "split1_test_score                                            0.096296   \n",
              "split2_test_score                                            0.096296   \n",
              "split3_test_score                                            0.096296   \n",
              "split4_test_score                                            0.177778   \n",
              "split5_test_score                                            0.185185   \n",
              "split6_test_score                                            0.162963   \n",
              "split7_test_score                                            0.380597   \n",
              "split8_test_score                                            0.291045   \n",
              "split9_test_score                                            0.283582   \n",
              "mean_test_score                                              0.214782   \n",
              "std_test_score                                               0.105669   \n",
              "rank_test_score                                                    26   \n",
              "split0_train_score                                           0.393564   \n",
              "split1_train_score                                            0.10231   \n",
              "split2_train_score                                            0.10231   \n",
              "split3_train_score                                            0.10231   \n",
              "split4_train_score                                           0.181518   \n",
              "split5_train_score                                           0.183168   \n",
              "split6_train_score                                           0.180693   \n",
              "split7_train_score                                           0.376752   \n",
              "split8_train_score                                           0.294312   \n",
              "split9_train_score                                           0.295136   \n",
              "mean_train_score                                             0.221207   \n",
              "std_train_score                                              0.105728   \n",
              "\n",
              "                                                                   7   \\\n",
              "mean_fit_time                                                0.153621   \n",
              "std_fit_time                                                  0.00246   \n",
              "mean_score_time                                              0.016583   \n",
              "std_score_time                                               0.000754   \n",
              "param_svc__C                                                     0.01   \n",
              "param_svc__gamma                                             0.000007   \n",
              "params              {'svc__C': 0.01, 'svc__gamma': 7.4239049740163...   \n",
              "split0_test_score                                            0.377778   \n",
              "split1_test_score                                            0.096296   \n",
              "split2_test_score                                            0.096296   \n",
              "split3_test_score                                            0.096296   \n",
              "split4_test_score                                            0.177778   \n",
              "split5_test_score                                            0.185185   \n",
              "split6_test_score                                            0.162963   \n",
              "split7_test_score                                            0.380597   \n",
              "split8_test_score                                            0.291045   \n",
              "split9_test_score                                            0.283582   \n",
              "mean_test_score                                              0.214782   \n",
              "std_test_score                                               0.105669   \n",
              "rank_test_score                                                    26   \n",
              "split0_train_score                                           0.393564   \n",
              "split1_train_score                                            0.10231   \n",
              "split2_train_score                                            0.10231   \n",
              "split3_train_score                                            0.10231   \n",
              "split4_train_score                                           0.182343   \n",
              "split5_train_score                                           0.183993   \n",
              "split6_train_score                                           0.180693   \n",
              "split7_train_score                                           0.376752   \n",
              "split8_train_score                                           0.294312   \n",
              "split9_train_score                                           0.295136   \n",
              "mean_train_score                                             0.221372   \n",
              "std_train_score                                              0.105668   \n",
              "\n",
              "                                                                   8   \\\n",
              "mean_fit_time                                                0.152317   \n",
              "std_fit_time                                                 0.002047   \n",
              "mean_score_time                                              0.016824   \n",
              "std_score_time                                               0.001669   \n",
              "param_svc__C                                                     0.01   \n",
              "param_svc__gamma                                             0.000074   \n",
              "params              {'svc__C': 0.01, 'svc__gamma': 7.4239049740163...   \n",
              "split0_test_score                                            0.377778   \n",
              "split1_test_score                                            0.096296   \n",
              "split2_test_score                                            0.096296   \n",
              "split3_test_score                                            0.096296   \n",
              "split4_test_score                                            0.185185   \n",
              "split5_test_score                                            0.185185   \n",
              "split6_test_score                                             0.17037   \n",
              "split7_test_score                                            0.380597   \n",
              "split8_test_score                                            0.291045   \n",
              "split9_test_score                                            0.283582   \n",
              "mean_test_score                                              0.216263   \n",
              "std_test_score                                               0.105086   \n",
              "rank_test_score                                                    23   \n",
              "split0_train_score                                           0.394389   \n",
              "split1_train_score                                            0.10231   \n",
              "split2_train_score                                            0.10231   \n",
              "split3_train_score                                            0.10231   \n",
              "split4_train_score                                           0.183168   \n",
              "split5_train_score                                           0.183993   \n",
              "split6_train_score                                           0.181518   \n",
              "split7_train_score                                           0.375103   \n",
              "split8_train_score                                           0.294312   \n",
              "split9_train_score                                           0.295136   \n",
              "mean_train_score                                             0.221455   \n",
              "std_train_score                                                0.1055   \n",
              "\n",
              "                                                                   9   ...  \\\n",
              "mean_fit_time                                                0.157224  ...   \n",
              "std_fit_time                                                 0.006839  ...   \n",
              "mean_score_time                                              0.016805  ...   \n",
              "std_score_time                                               0.000879  ...   \n",
              "param_svc__C                                                     0.01  ...   \n",
              "param_svc__gamma                                             0.000742  ...   \n",
              "params              {'svc__C': 0.01, 'svc__gamma': 0.0007423904974...  ...   \n",
              "split0_test_score                                            0.377778  ...   \n",
              "split1_test_score                                            0.096296  ...   \n",
              "split2_test_score                                            0.096296  ...   \n",
              "split3_test_score                                            0.096296  ...   \n",
              "split4_test_score                                            0.192593  ...   \n",
              "split5_test_score                                            0.185185  ...   \n",
              "split6_test_score                                             0.17037  ...   \n",
              "split7_test_score                                            0.380597  ...   \n",
              "split8_test_score                                            0.291045  ...   \n",
              "split9_test_score                                            0.283582  ...   \n",
              "mean_test_score                                              0.217004  ...   \n",
              "std_test_score                                                0.10489  ...   \n",
              "rank_test_score                                                    21  ...   \n",
              "split0_train_score                                           0.395215  ...   \n",
              "split1_train_score                                            0.10231  ...   \n",
              "split2_train_score                                            0.10231  ...   \n",
              "split3_train_score                                            0.10231  ...   \n",
              "split4_train_score                                           0.186469  ...   \n",
              "split5_train_score                                           0.188119  ...   \n",
              "split6_train_score                                           0.185644  ...   \n",
              "split7_train_score                                           0.379225  ...   \n",
              "split8_train_score                                           0.293487  ...   \n",
              "split9_train_score                                           0.294312  ...   \n",
              "mean_train_score                                              0.22294  ...   \n",
              "std_train_score                                              0.105718  ...   \n",
              "\n",
              "                                                                   26  \\\n",
              "mean_fit_time                                                0.106423   \n",
              "std_fit_time                                                 0.031399   \n",
              "mean_score_time                                              0.018108   \n",
              "std_score_time                                                0.00432   \n",
              "param_svc__C                                                     10.0   \n",
              "param_svc__gamma                                             0.000074   \n",
              "params              {'svc__C': 10.0, 'svc__gamma': 7.4239049740163...   \n",
              "split0_test_score                                            0.925926   \n",
              "split1_test_score                                            0.962963   \n",
              "split2_test_score                                            0.948148   \n",
              "split3_test_score                                            0.911111   \n",
              "split4_test_score                                            0.925926   \n",
              "split5_test_score                                            0.955556   \n",
              "split6_test_score                                            0.933333   \n",
              "split7_test_score                                            0.947761   \n",
              "split8_test_score                                            0.932836   \n",
              "split9_test_score                                             0.91791   \n",
              "mean_test_score                                              0.936147   \n",
              "std_test_score                                               0.016006   \n",
              "rank_test_score                                                    10   \n",
              "split0_train_score                                           0.943069   \n",
              "split1_train_score                                           0.943069   \n",
              "split2_train_score                                           0.944719   \n",
              "split3_train_score                                           0.942244   \n",
              "split4_train_score                                           0.942244   \n",
              "split5_train_score                                           0.942244   \n",
              "split6_train_score                                           0.941419   \n",
              "split7_train_score                                           0.943116   \n",
              "split8_train_score                                           0.943941   \n",
              "split9_train_score                                           0.945589   \n",
              "mean_train_score                                             0.943166   \n",
              "std_train_score                                              0.001204   \n",
              "\n",
              "                                                                   27  \\\n",
              "mean_fit_time                                                0.035531   \n",
              "std_fit_time                                                 0.000997   \n",
              "mean_score_time                                               0.00841   \n",
              "std_score_time                                               0.000243   \n",
              "param_svc__C                                                     10.0   \n",
              "param_svc__gamma                                             0.000742   \n",
              "params              {'svc__C': 10.0, 'svc__gamma': 0.0007423904974...   \n",
              "split0_test_score                                            0.977778   \n",
              "split1_test_score                                            0.985185   \n",
              "split2_test_score                                            0.985185   \n",
              "split3_test_score                                             0.97037   \n",
              "split4_test_score                                            0.977778   \n",
              "split5_test_score                                            0.962963   \n",
              "split6_test_score                                             0.97037   \n",
              "split7_test_score                                            0.985075   \n",
              "split8_test_score                                            0.985075   \n",
              "split9_test_score                                            0.977612   \n",
              "mean_test_score                                              0.977739   \n",
              "std_test_score                                               0.007386   \n",
              "rank_test_score                                                     6   \n",
              "split0_train_score                                           0.990099   \n",
              "split1_train_score                                           0.987624   \n",
              "split2_train_score                                           0.989274   \n",
              "split3_train_score                                           0.989274   \n",
              "split4_train_score                                           0.990099   \n",
              "split5_train_score                                           0.989274   \n",
              "split6_train_score                                           0.990099   \n",
              "split7_train_score                                           0.988458   \n",
              "split8_train_score                                           0.988458   \n",
              "split9_train_score                                           0.989283   \n",
              "mean_train_score                                             0.989194   \n",
              "std_train_score                                              0.000777   \n",
              "\n",
              "                                                                   28  \\\n",
              "mean_fit_time                                                0.039562   \n",
              "std_fit_time                                                 0.002621   \n",
              "mean_score_time                                              0.008469   \n",
              "std_score_time                                               0.000734   \n",
              "param_svc__C                                                     10.0   \n",
              "param_svc__gamma                                             0.007424   \n",
              "params              {'svc__C': 10.0, 'svc__gamma': 0.0074239049740...   \n",
              "split0_test_score                                             0.97037   \n",
              "split1_test_score                                            0.985185   \n",
              "split2_test_score                                            0.985185   \n",
              "split3_test_score                                            0.977778   \n",
              "split4_test_score                                            0.977778   \n",
              "split5_test_score                                            0.992593   \n",
              "split6_test_score                                            0.992593   \n",
              "split7_test_score                                            0.985075   \n",
              "split8_test_score                                            0.977612   \n",
              "split9_test_score                                            0.977612   \n",
              "mean_test_score                                              0.982178   \n",
              "std_test_score                                               0.006806   \n",
              "rank_test_score                                                     1   \n",
              "split0_train_score                                                1.0   \n",
              "split1_train_score                                                1.0   \n",
              "split2_train_score                                                1.0   \n",
              "split3_train_score                                                1.0   \n",
              "split4_train_score                                                1.0   \n",
              "split5_train_score                                                1.0   \n",
              "split6_train_score                                                1.0   \n",
              "split7_train_score                                                1.0   \n",
              "split8_train_score                                                1.0   \n",
              "split9_train_score                                                1.0   \n",
              "mean_train_score                                                  1.0   \n",
              "std_train_score                                                   0.0   \n",
              "\n",
              "                                                                   29  \\\n",
              "mean_fit_time                                                0.253828   \n",
              "std_fit_time                                                 0.127126   \n",
              "mean_score_time                                              0.020273   \n",
              "std_score_time                                               0.010528   \n",
              "param_svc__C                                                     10.0   \n",
              "param_svc__gamma                                             0.074239   \n",
              "params              {'svc__C': 10.0, 'svc__gamma': 0.0742390497401...   \n",
              "split0_test_score                                            0.955556   \n",
              "split1_test_score                                            0.992593   \n",
              "split2_test_score                                            0.955556   \n",
              "split3_test_score                                            0.962963   \n",
              "split4_test_score                                            0.955556   \n",
              "split5_test_score                                            0.977778   \n",
              "split6_test_score                                            0.948148   \n",
              "split7_test_score                                            0.955224   \n",
              "split8_test_score                                            0.955224   \n",
              "split9_test_score                                            0.947761   \n",
              "mean_test_score                                              0.960636   \n",
              "std_test_score                                               0.013335   \n",
              "rank_test_score                                                     8   \n",
              "split0_train_score                                                1.0   \n",
              "split1_train_score                                                1.0   \n",
              "split2_train_score                                                1.0   \n",
              "split3_train_score                                                1.0   \n",
              "split4_train_score                                                1.0   \n",
              "split5_train_score                                                1.0   \n",
              "split6_train_score                                                1.0   \n",
              "split7_train_score                                                1.0   \n",
              "split8_train_score                                                1.0   \n",
              "split9_train_score                                                1.0   \n",
              "mean_train_score                                                  1.0   \n",
              "std_train_score                                                   0.0   \n",
              "\n",
              "                                                                   30  \\\n",
              "mean_fit_time                                                0.226252   \n",
              "std_fit_time                                                 0.046167   \n",
              "mean_score_time                                              0.027743   \n",
              "std_score_time                                               0.009107   \n",
              "param_svc__C                                                    100.0   \n",
              "param_svc__gamma                                             0.000001   \n",
              "params              {'svc__C': 100.0, 'svc__gamma': 7.423904974016...   \n",
              "split0_test_score                                            0.414815   \n",
              "split1_test_score                                             0.37037   \n",
              "split2_test_score                                            0.311111   \n",
              "split3_test_score                                            0.377778   \n",
              "split4_test_score                                            0.474074   \n",
              "split5_test_score                                            0.437037   \n",
              "split6_test_score                                            0.474074   \n",
              "split7_test_score                                            0.470149   \n",
              "split8_test_score                                            0.410448   \n",
              "split9_test_score                                            0.402985   \n",
              "mean_test_score                                              0.414284   \n",
              "std_test_score                                               0.049836   \n",
              "rank_test_score                                                    15   \n",
              "split0_train_score                                           0.430693   \n",
              "split1_train_score                                           0.356436   \n",
              "split2_train_score                                           0.364686   \n",
              "split3_train_score                                           0.357261   \n",
              "split4_train_score                                           0.485149   \n",
              "split5_train_score                                           0.459571   \n",
              "split6_train_score                                           0.479373   \n",
              "split7_train_score                                           0.464138   \n",
              "split8_train_score                                           0.408904   \n",
              "split9_train_score                                           0.404782   \n",
              "mean_train_score                                             0.421099   \n",
              "std_train_score                                              0.047725   \n",
              "\n",
              "                                                                   31  \\\n",
              "mean_fit_time                                                0.113401   \n",
              "std_fit_time                                                 0.020594   \n",
              "mean_score_time                                              0.021539   \n",
              "std_score_time                                               0.008222   \n",
              "param_svc__C                                                    100.0   \n",
              "param_svc__gamma                                             0.000007   \n",
              "params              {'svc__C': 100.0, 'svc__gamma': 7.423904974016...   \n",
              "split0_test_score                                            0.925926   \n",
              "split1_test_score                                            0.962963   \n",
              "split2_test_score                                            0.940741   \n",
              "split3_test_score                                            0.911111   \n",
              "split4_test_score                                            0.925926   \n",
              "split5_test_score                                            0.955556   \n",
              "split6_test_score                                            0.933333   \n",
              "split7_test_score                                            0.947761   \n",
              "split8_test_score                                            0.932836   \n",
              "split9_test_score                                             0.91791   \n",
              "mean_test_score                                              0.935406   \n",
              "std_test_score                                                 0.0156   \n",
              "rank_test_score                                                    11   \n",
              "split0_train_score                                           0.943894   \n",
              "split1_train_score                                           0.943069   \n",
              "split2_train_score                                           0.944719   \n",
              "split3_train_score                                           0.943894   \n",
              "split4_train_score                                           0.942244   \n",
              "split5_train_score                                           0.942244   \n",
              "split6_train_score                                           0.940594   \n",
              "split7_train_score                                           0.943116   \n",
              "split8_train_score                                           0.943941   \n",
              "split9_train_score                                           0.946414   \n",
              "mean_train_score                                             0.943413   \n",
              "std_train_score                                              0.001495   \n",
              "\n",
              "                                                                   32  \\\n",
              "mean_fit_time                                                0.047042   \n",
              "std_fit_time                                                 0.009748   \n",
              "mean_score_time                                              0.011621   \n",
              "std_score_time                                               0.002799   \n",
              "param_svc__C                                                    100.0   \n",
              "param_svc__gamma                                             0.000074   \n",
              "params              {'svc__C': 100.0, 'svc__gamma': 7.423904974016...   \n",
              "split0_test_score                                            0.985185   \n",
              "split1_test_score                                            0.985185   \n",
              "split2_test_score                                            0.992593   \n",
              "split3_test_score                                             0.97037   \n",
              "split4_test_score                                            0.977778   \n",
              "split5_test_score                                            0.962963   \n",
              "split6_test_score                                             0.97037   \n",
              "split7_test_score                                            0.985075   \n",
              "split8_test_score                                            0.985075   \n",
              "split9_test_score                                            0.970149   \n",
              "mean_test_score                                              0.978474   \n",
              "std_test_score                                               0.009046   \n",
              "rank_test_score                                                     5   \n",
              "split0_train_score                                           0.990099   \n",
              "split1_train_score                                           0.987624   \n",
              "split2_train_score                                           0.987624   \n",
              "split3_train_score                                           0.989274   \n",
              "split4_train_score                                           0.989274   \n",
              "split5_train_score                                           0.989274   \n",
              "split6_train_score                                           0.990099   \n",
              "split7_train_score                                           0.989283   \n",
              "split8_train_score                                           0.987634   \n",
              "split9_train_score                                           0.988458   \n",
              "mean_train_score                                             0.988864   \n",
              "std_train_score                                              0.000921   \n",
              "\n",
              "                                                                   33  \\\n",
              "mean_fit_time                                                0.045435   \n",
              "std_fit_time                                                 0.009971   \n",
              "mean_score_time                                              0.011095   \n",
              "std_score_time                                               0.005376   \n",
              "param_svc__C                                                    100.0   \n",
              "param_svc__gamma                                             0.000742   \n",
              "params              {'svc__C': 100.0, 'svc__gamma': 0.000742390497...   \n",
              "split0_test_score                                             0.97037   \n",
              "split1_test_score                                            0.992593   \n",
              "split2_test_score                                            0.985185   \n",
              "split3_test_score                                            0.977778   \n",
              "split4_test_score                                            0.985185   \n",
              "split5_test_score                                            0.955556   \n",
              "split6_test_score                                            0.985185   \n",
              "split7_test_score                                            0.985075   \n",
              "split8_test_score                                            0.985075   \n",
              "split9_test_score                                            0.985075   \n",
              "mean_test_score                                              0.980708   \n",
              "std_test_score                                               0.010033   \n",
              "rank_test_score                                                     3   \n",
              "split0_train_score                                            0.99835   \n",
              "split1_train_score                                           0.999175   \n",
              "split2_train_score                                           0.999175   \n",
              "split3_train_score                                            0.99835   \n",
              "split4_train_score                                           0.999175   \n",
              "split5_train_score                                           0.999175   \n",
              "split6_train_score                                           0.999175   \n",
              "split7_train_score                                           0.999176   \n",
              "split8_train_score                                                1.0   \n",
              "split9_train_score                                           0.999176   \n",
              "mean_train_score                                             0.999093   \n",
              "std_train_score                                              0.000444   \n",
              "\n",
              "                                                                   34  \\\n",
              "mean_fit_time                                                0.068021   \n",
              "std_fit_time                                                 0.020041   \n",
              "mean_score_time                                              0.016027   \n",
              "std_score_time                                               0.006721   \n",
              "param_svc__C                                                    100.0   \n",
              "param_svc__gamma                                             0.007424   \n",
              "params              {'svc__C': 100.0, 'svc__gamma': 0.007423904974...   \n",
              "split0_test_score                                             0.97037   \n",
              "split1_test_score                                            0.985185   \n",
              "split2_test_score                                            0.977778   \n",
              "split3_test_score                                            0.977778   \n",
              "split4_test_score                                            0.977778   \n",
              "split5_test_score                                            0.992593   \n",
              "split6_test_score                                            0.992593   \n",
              "split7_test_score                                            0.985075   \n",
              "split8_test_score                                            0.977612   \n",
              "split9_test_score                                            0.977612   \n",
              "mean_test_score                                              0.981437   \n",
              "std_test_score                                               0.006842   \n",
              "rank_test_score                                                     2   \n",
              "split0_train_score                                                1.0   \n",
              "split1_train_score                                                1.0   \n",
              "split2_train_score                                                1.0   \n",
              "split3_train_score                                                1.0   \n",
              "split4_train_score                                                1.0   \n",
              "split5_train_score                                                1.0   \n",
              "split6_train_score                                                1.0   \n",
              "split7_train_score                                                1.0   \n",
              "split8_train_score                                                1.0   \n",
              "split9_train_score                                                1.0   \n",
              "mean_train_score                                                  1.0   \n",
              "std_train_score                                                   0.0   \n",
              "\n",
              "                                                                   35  \n",
              "mean_fit_time                                                 0.27262  \n",
              "std_fit_time                                                 0.064533  \n",
              "mean_score_time                                              0.022121  \n",
              "std_score_time                                               0.007339  \n",
              "param_svc__C                                                    100.0  \n",
              "param_svc__gamma                                             0.074239  \n",
              "params              {'svc__C': 100.0, 'svc__gamma': 0.074239049740...  \n",
              "split0_test_score                                            0.955556  \n",
              "split1_test_score                                            0.992593  \n",
              "split2_test_score                                            0.955556  \n",
              "split3_test_score                                            0.962963  \n",
              "split4_test_score                                            0.955556  \n",
              "split5_test_score                                            0.977778  \n",
              "split6_test_score                                            0.948148  \n",
              "split7_test_score                                            0.955224  \n",
              "split8_test_score                                            0.955224  \n",
              "split9_test_score                                            0.947761  \n",
              "mean_test_score                                              0.960636  \n",
              "std_test_score                                               0.013335  \n",
              "rank_test_score                                                     8  \n",
              "split0_train_score                                                1.0  \n",
              "split1_train_score                                                1.0  \n",
              "split2_train_score                                                1.0  \n",
              "split3_train_score                                                1.0  \n",
              "split4_train_score                                                1.0  \n",
              "split5_train_score                                                1.0  \n",
              "split6_train_score                                                1.0  \n",
              "split7_train_score                                                1.0  \n",
              "split8_train_score                                                1.0  \n",
              "split9_train_score                                                1.0  \n",
              "mean_train_score                                                  1.0  \n",
              "std_train_score                                                   0.0  \n",
              "\n",
              "[32 rows x 36 columns]"
            ],
            "text/html": [
              "\n",
              "  <div id=\"df-5e0f2c34-f5a7-473b-b6c3-1fd300ab214a\">\n",
              "    <div class=\"colab-df-container\">\n",
              "      <div>\n",
              "<style scoped>\n",
              "    .dataframe tbody tr th:only-of-type {\n",
              "        vertical-align: middle;\n",
              "    }\n",
              "\n",
              "    .dataframe tbody tr th {\n",
              "        vertical-align: top;\n",
              "    }\n",
              "\n",
              "    .dataframe thead th {\n",
              "        text-align: right;\n",
              "    }\n",
              "</style>\n",
              "<table border=\"1\" class=\"dataframe\">\n",
              "  <thead>\n",
              "    <tr style=\"text-align: right;\">\n",
              "      <th></th>\n",
              "      <th>0</th>\n",
              "      <th>1</th>\n",
              "      <th>2</th>\n",
              "      <th>3</th>\n",
              "      <th>4</th>\n",
              "      <th>5</th>\n",
              "      <th>6</th>\n",
              "      <th>7</th>\n",
              "      <th>8</th>\n",
              "      <th>9</th>\n",
              "      <th>...</th>\n",
              "      <th>26</th>\n",
              "      <th>27</th>\n",
              "      <th>28</th>\n",
              "      <th>29</th>\n",
              "      <th>30</th>\n",
              "      <th>31</th>\n",
              "      <th>32</th>\n",
              "      <th>33</th>\n",
              "      <th>34</th>\n",
              "      <th>35</th>\n",
              "    </tr>\n",
              "  </thead>\n",
              "  <tbody>\n",
              "    <tr>\n",
              "      <th>mean_fit_time</th>\n",
              "      <td>0.156774</td>\n",
              "      <td>0.153201</td>\n",
              "      <td>0.189242</td>\n",
              "      <td>0.167562</td>\n",
              "      <td>0.153872</td>\n",
              "      <td>0.154252</td>\n",
              "      <td>0.20061</td>\n",
              "      <td>0.153621</td>\n",
              "      <td>0.152317</td>\n",
              "      <td>0.157224</td>\n",
              "      <td>...</td>\n",
              "      <td>0.106423</td>\n",
              "      <td>0.035531</td>\n",
              "      <td>0.039562</td>\n",
              "      <td>0.253828</td>\n",
              "      <td>0.226252</td>\n",
              "      <td>0.113401</td>\n",
              "      <td>0.047042</td>\n",
              "      <td>0.045435</td>\n",
              "      <td>0.068021</td>\n",
              "      <td>0.27262</td>\n",
              "    </tr>\n",
              "    <tr>\n",
              "      <th>std_fit_time</th>\n",
              "      <td>0.007767</td>\n",
              "      <td>0.004603</td>\n",
              "      <td>0.041673</td>\n",
              "      <td>0.02968</td>\n",
              "      <td>0.0052</td>\n",
              "      <td>0.003167</td>\n",
              "      <td>0.03833</td>\n",
              "      <td>0.00246</td>\n",
              "      <td>0.002047</td>\n",
              "      <td>0.006839</td>\n",
              "      <td>...</td>\n",
              "      <td>0.031399</td>\n",
              "      <td>0.000997</td>\n",
              "      <td>0.002621</td>\n",
              "      <td>0.127126</td>\n",
              "      <td>0.046167</td>\n",
              "      <td>0.020594</td>\n",
              "      <td>0.009748</td>\n",
              "      <td>0.009971</td>\n",
              "      <td>0.020041</td>\n",
              "      <td>0.064533</td>\n",
              "    </tr>\n",
              "    <tr>\n",
              "      <th>mean_score_time</th>\n",
              "      <td>0.017685</td>\n",
              "      <td>0.016615</td>\n",
              "      <td>0.022333</td>\n",
              "      <td>0.017684</td>\n",
              "      <td>0.016715</td>\n",
              "      <td>0.016384</td>\n",
              "      <td>0.023413</td>\n",
              "      <td>0.016583</td>\n",
              "      <td>0.016824</td>\n",
              "      <td>0.016805</td>\n",
              "      <td>...</td>\n",
              "      <td>0.018108</td>\n",
              "      <td>0.00841</td>\n",
              "      <td>0.008469</td>\n",
              "      <td>0.020273</td>\n",
              "      <td>0.027743</td>\n",
              "      <td>0.021539</td>\n",
              "      <td>0.011621</td>\n",
              "      <td>0.011095</td>\n",
              "      <td>0.016027</td>\n",
              "      <td>0.022121</td>\n",
              "    </tr>\n",
              "    <tr>\n",
              "      <th>std_score_time</th>\n",
              "      <td>0.002158</td>\n",
              "      <td>0.000535</td>\n",
              "      <td>0.005917</td>\n",
              "      <td>0.003411</td>\n",
              "      <td>0.000486</td>\n",
              "      <td>0.00031</td>\n",
              "      <td>0.005481</td>\n",
              "      <td>0.000754</td>\n",
              "      <td>0.001669</td>\n",
              "      <td>0.000879</td>\n",
              "      <td>...</td>\n",
              "      <td>0.00432</td>\n",
              "      <td>0.000243</td>\n",
              "      <td>0.000734</td>\n",
              "      <td>0.010528</td>\n",
              "      <td>0.009107</td>\n",
              "      <td>0.008222</td>\n",
              "      <td>0.002799</td>\n",
              "      <td>0.005376</td>\n",
              "      <td>0.006721</td>\n",
              "      <td>0.007339</td>\n",
              "    </tr>\n",
              "    <tr>\n",
              "      <th>param_svc__C</th>\n",
              "      <td>0.001</td>\n",
              "      <td>0.001</td>\n",
              "      <td>0.001</td>\n",
              "      <td>0.001</td>\n",
              "      <td>0.001</td>\n",
              "      <td>0.001</td>\n",
              "      <td>0.01</td>\n",
              "      <td>0.01</td>\n",
              "      <td>0.01</td>\n",
              "      <td>0.01</td>\n",
              "      <td>...</td>\n",
              "      <td>10.0</td>\n",
              "      <td>10.0</td>\n",
              "      <td>10.0</td>\n",
              "      <td>10.0</td>\n",
              "      <td>100.0</td>\n",
              "      <td>100.0</td>\n",
              "      <td>100.0</td>\n",
              "      <td>100.0</td>\n",
              "      <td>100.0</td>\n",
              "      <td>100.0</td>\n",
              "    </tr>\n",
              "    <tr>\n",
              "      <th>param_svc__gamma</th>\n",
              "      <td>0.000001</td>\n",
              "      <td>0.000007</td>\n",
              "      <td>0.000074</td>\n",
              "      <td>0.000742</td>\n",
              "      <td>0.007424</td>\n",
              "      <td>0.074239</td>\n",
              "      <td>0.000001</td>\n",
              "      <td>0.000007</td>\n",
              "      <td>0.000074</td>\n",
              "      <td>0.000742</td>\n",
              "      <td>...</td>\n",
              "      <td>0.000074</td>\n",
              "      <td>0.000742</td>\n",
              "      <td>0.007424</td>\n",
              "      <td>0.074239</td>\n",
              "      <td>0.000001</td>\n",
              "      <td>0.000007</td>\n",
              "      <td>0.000074</td>\n",
              "      <td>0.000742</td>\n",
              "      <td>0.007424</td>\n",
              "      <td>0.074239</td>\n",
              "    </tr>\n",
              "    <tr>\n",
              "      <th>params</th>\n",
              "      <td>{'svc__C': 0.001, 'svc__gamma': 7.423904974016...</td>\n",
              "      <td>{'svc__C': 0.001, 'svc__gamma': 7.423904974016...</td>\n",
              "      <td>{'svc__C': 0.001, 'svc__gamma': 7.423904974016...</td>\n",
              "      <td>{'svc__C': 0.001, 'svc__gamma': 0.000742390497...</td>\n",
              "      <td>{'svc__C': 0.001, 'svc__gamma': 0.007423904974...</td>\n",
              "      <td>{'svc__C': 0.001, 'svc__gamma': 0.074239049740...</td>\n",
              "      <td>{'svc__C': 0.01, 'svc__gamma': 7.4239049740163...</td>\n",
              "      <td>{'svc__C': 0.01, 'svc__gamma': 7.4239049740163...</td>\n",
              "      <td>{'svc__C': 0.01, 'svc__gamma': 7.4239049740163...</td>\n",
              "      <td>{'svc__C': 0.01, 'svc__gamma': 0.0007423904974...</td>\n",
              "      <td>...</td>\n",
              "      <td>{'svc__C': 10.0, 'svc__gamma': 7.4239049740163...</td>\n",
              "      <td>{'svc__C': 10.0, 'svc__gamma': 0.0007423904974...</td>\n",
              "      <td>{'svc__C': 10.0, 'svc__gamma': 0.0074239049740...</td>\n",
              "      <td>{'svc__C': 10.0, 'svc__gamma': 0.0742390497401...</td>\n",
              "      <td>{'svc__C': 100.0, 'svc__gamma': 7.423904974016...</td>\n",
              "      <td>{'svc__C': 100.0, 'svc__gamma': 7.423904974016...</td>\n",
              "      <td>{'svc__C': 100.0, 'svc__gamma': 7.423904974016...</td>\n",
              "      <td>{'svc__C': 100.0, 'svc__gamma': 0.000742390497...</td>\n",
              "      <td>{'svc__C': 100.0, 'svc__gamma': 0.007423904974...</td>\n",
              "      <td>{'svc__C': 100.0, 'svc__gamma': 0.074239049740...</td>\n",
              "    </tr>\n",
              "    <tr>\n",
              "      <th>split0_test_score</th>\n",
              "      <td>0.377778</td>\n",
              "      <td>0.377778</td>\n",
              "      <td>0.377778</td>\n",
              "      <td>0.377778</td>\n",
              "      <td>0.385185</td>\n",
              "      <td>0.296296</td>\n",
              "      <td>0.377778</td>\n",
              "      <td>0.377778</td>\n",
              "      <td>0.377778</td>\n",
              "      <td>0.377778</td>\n",
              "      <td>...</td>\n",
              "      <td>0.925926</td>\n",
              "      <td>0.977778</td>\n",
              "      <td>0.97037</td>\n",
              "      <td>0.955556</td>\n",
              "      <td>0.414815</td>\n",
              "      <td>0.925926</td>\n",
              "      <td>0.985185</td>\n",
              "      <td>0.97037</td>\n",
              "      <td>0.97037</td>\n",
              "      <td>0.955556</td>\n",
              "    </tr>\n",
              "    <tr>\n",
              "      <th>split1_test_score</th>\n",
              "      <td>0.096296</td>\n",
              "      <td>0.096296</td>\n",
              "      <td>0.096296</td>\n",
              "      <td>0.096296</td>\n",
              "      <td>0.096296</td>\n",
              "      <td>0.096296</td>\n",
              "      <td>0.096296</td>\n",
              "      <td>0.096296</td>\n",
              "      <td>0.096296</td>\n",
              "      <td>0.096296</td>\n",
              "      <td>...</td>\n",
              "      <td>0.962963</td>\n",
              "      <td>0.985185</td>\n",
              "      <td>0.985185</td>\n",
              "      <td>0.992593</td>\n",
              "      <td>0.37037</td>\n",
              "      <td>0.962963</td>\n",
              "      <td>0.985185</td>\n",
              "      <td>0.992593</td>\n",
              "      <td>0.985185</td>\n",
              "      <td>0.992593</td>\n",
              "    </tr>\n",
              "    <tr>\n",
              "      <th>split2_test_score</th>\n",
              "      <td>0.096296</td>\n",
              "      <td>0.096296</td>\n",
              "      <td>0.096296</td>\n",
              "      <td>0.096296</td>\n",
              "      <td>0.096296</td>\n",
              "      <td>0.096296</td>\n",
              "      <td>0.096296</td>\n",
              "      <td>0.096296</td>\n",
              "      <td>0.096296</td>\n",
              "      <td>0.096296</td>\n",
              "      <td>...</td>\n",
              "      <td>0.948148</td>\n",
              "      <td>0.985185</td>\n",
              "      <td>0.985185</td>\n",
              "      <td>0.955556</td>\n",
              "      <td>0.311111</td>\n",
              "      <td>0.940741</td>\n",
              "      <td>0.992593</td>\n",
              "      <td>0.985185</td>\n",
              "      <td>0.977778</td>\n",
              "      <td>0.955556</td>\n",
              "    </tr>\n",
              "    <tr>\n",
              "      <th>split3_test_score</th>\n",
              "      <td>0.096296</td>\n",
              "      <td>0.096296</td>\n",
              "      <td>0.096296</td>\n",
              "      <td>0.096296</td>\n",
              "      <td>0.096296</td>\n",
              "      <td>0.096296</td>\n",
              "      <td>0.096296</td>\n",
              "      <td>0.096296</td>\n",
              "      <td>0.096296</td>\n",
              "      <td>0.096296</td>\n",
              "      <td>...</td>\n",
              "      <td>0.911111</td>\n",
              "      <td>0.97037</td>\n",
              "      <td>0.977778</td>\n",
              "      <td>0.962963</td>\n",
              "      <td>0.377778</td>\n",
              "      <td>0.911111</td>\n",
              "      <td>0.97037</td>\n",
              "      <td>0.977778</td>\n",
              "      <td>0.977778</td>\n",
              "      <td>0.962963</td>\n",
              "    </tr>\n",
              "    <tr>\n",
              "      <th>split4_test_score</th>\n",
              "      <td>0.177778</td>\n",
              "      <td>0.177778</td>\n",
              "      <td>0.185185</td>\n",
              "      <td>0.192593</td>\n",
              "      <td>0.2</td>\n",
              "      <td>0.177778</td>\n",
              "      <td>0.177778</td>\n",
              "      <td>0.177778</td>\n",
              "      <td>0.185185</td>\n",
              "      <td>0.192593</td>\n",
              "      <td>...</td>\n",
              "      <td>0.925926</td>\n",
              "      <td>0.977778</td>\n",
              "      <td>0.977778</td>\n",
              "      <td>0.955556</td>\n",
              "      <td>0.474074</td>\n",
              "      <td>0.925926</td>\n",
              "      <td>0.977778</td>\n",
              "      <td>0.985185</td>\n",
              "      <td>0.977778</td>\n",
              "      <td>0.955556</td>\n",
              "    </tr>\n",
              "    <tr>\n",
              "      <th>split5_test_score</th>\n",
              "      <td>0.185185</td>\n",
              "      <td>0.185185</td>\n",
              "      <td>0.185185</td>\n",
              "      <td>0.185185</td>\n",
              "      <td>0.2</td>\n",
              "      <td>0.17037</td>\n",
              "      <td>0.185185</td>\n",
              "      <td>0.185185</td>\n",
              "      <td>0.185185</td>\n",
              "      <td>0.185185</td>\n",
              "      <td>...</td>\n",
              "      <td>0.955556</td>\n",
              "      <td>0.962963</td>\n",
              "      <td>0.992593</td>\n",
              "      <td>0.977778</td>\n",
              "      <td>0.437037</td>\n",
              "      <td>0.955556</td>\n",
              "      <td>0.962963</td>\n",
              "      <td>0.955556</td>\n",
              "      <td>0.992593</td>\n",
              "      <td>0.977778</td>\n",
              "    </tr>\n",
              "    <tr>\n",
              "      <th>split6_test_score</th>\n",
              "      <td>0.162963</td>\n",
              "      <td>0.162963</td>\n",
              "      <td>0.17037</td>\n",
              "      <td>0.17037</td>\n",
              "      <td>0.185185</td>\n",
              "      <td>0.17037</td>\n",
              "      <td>0.162963</td>\n",
              "      <td>0.162963</td>\n",
              "      <td>0.17037</td>\n",
              "      <td>0.17037</td>\n",
              "      <td>...</td>\n",
              "      <td>0.933333</td>\n",
              "      <td>0.97037</td>\n",
              "      <td>0.992593</td>\n",
              "      <td>0.948148</td>\n",
              "      <td>0.474074</td>\n",
              "      <td>0.933333</td>\n",
              "      <td>0.97037</td>\n",
              "      <td>0.985185</td>\n",
              "      <td>0.992593</td>\n",
              "      <td>0.948148</td>\n",
              "    </tr>\n",
              "    <tr>\n",
              "      <th>split7_test_score</th>\n",
              "      <td>0.380597</td>\n",
              "      <td>0.380597</td>\n",
              "      <td>0.380597</td>\n",
              "      <td>0.380597</td>\n",
              "      <td>0.380597</td>\n",
              "      <td>0.298507</td>\n",
              "      <td>0.380597</td>\n",
              "      <td>0.380597</td>\n",
              "      <td>0.380597</td>\n",
              "      <td>0.380597</td>\n",
              "      <td>...</td>\n",
              "      <td>0.947761</td>\n",
              "      <td>0.985075</td>\n",
              "      <td>0.985075</td>\n",
              "      <td>0.955224</td>\n",
              "      <td>0.470149</td>\n",
              "      <td>0.947761</td>\n",
              "      <td>0.985075</td>\n",
              "      <td>0.985075</td>\n",
              "      <td>0.985075</td>\n",
              "      <td>0.955224</td>\n",
              "    </tr>\n",
              "    <tr>\n",
              "      <th>split8_test_score</th>\n",
              "      <td>0.291045</td>\n",
              "      <td>0.291045</td>\n",
              "      <td>0.291045</td>\n",
              "      <td>0.291045</td>\n",
              "      <td>0.291045</td>\n",
              "      <td>0.246269</td>\n",
              "      <td>0.291045</td>\n",
              "      <td>0.291045</td>\n",
              "      <td>0.291045</td>\n",
              "      <td>0.291045</td>\n",
              "      <td>...</td>\n",
              "      <td>0.932836</td>\n",
              "      <td>0.985075</td>\n",
              "      <td>0.977612</td>\n",
              "      <td>0.955224</td>\n",
              "      <td>0.410448</td>\n",
              "      <td>0.932836</td>\n",
              "      <td>0.985075</td>\n",
              "      <td>0.985075</td>\n",
              "      <td>0.977612</td>\n",
              "      <td>0.955224</td>\n",
              "    </tr>\n",
              "    <tr>\n",
              "      <th>split9_test_score</th>\n",
              "      <td>0.283582</td>\n",
              "      <td>0.283582</td>\n",
              "      <td>0.283582</td>\n",
              "      <td>0.283582</td>\n",
              "      <td>0.291045</td>\n",
              "      <td>0.253731</td>\n",
              "      <td>0.283582</td>\n",
              "      <td>0.283582</td>\n",
              "      <td>0.283582</td>\n",
              "      <td>0.283582</td>\n",
              "      <td>...</td>\n",
              "      <td>0.91791</td>\n",
              "      <td>0.977612</td>\n",
              "      <td>0.977612</td>\n",
              "      <td>0.947761</td>\n",
              "      <td>0.402985</td>\n",
              "      <td>0.91791</td>\n",
              "      <td>0.970149</td>\n",
              "      <td>0.985075</td>\n",
              "      <td>0.977612</td>\n",
              "      <td>0.947761</td>\n",
              "    </tr>\n",
              "    <tr>\n",
              "      <th>mean_test_score</th>\n",
              "      <td>0.214782</td>\n",
              "      <td>0.214782</td>\n",
              "      <td>0.216263</td>\n",
              "      <td>0.217004</td>\n",
              "      <td>0.222195</td>\n",
              "      <td>0.190221</td>\n",
              "      <td>0.214782</td>\n",
              "      <td>0.214782</td>\n",
              "      <td>0.216263</td>\n",
              "      <td>0.217004</td>\n",
              "      <td>...</td>\n",
              "      <td>0.936147</td>\n",
              "      <td>0.977739</td>\n",
              "      <td>0.982178</td>\n",
              "      <td>0.960636</td>\n",
              "      <td>0.414284</td>\n",
              "      <td>0.935406</td>\n",
              "      <td>0.978474</td>\n",
              "      <td>0.980708</td>\n",
              "      <td>0.981437</td>\n",
              "      <td>0.960636</td>\n",
              "    </tr>\n",
              "    <tr>\n",
              "      <th>std_test_score</th>\n",
              "      <td>0.105669</td>\n",
              "      <td>0.105669</td>\n",
              "      <td>0.105086</td>\n",
              "      <td>0.10489</td>\n",
              "      <td>0.105377</td>\n",
              "      <td>0.075869</td>\n",
              "      <td>0.105669</td>\n",
              "      <td>0.105669</td>\n",
              "      <td>0.105086</td>\n",
              "      <td>0.10489</td>\n",
              "      <td>...</td>\n",
              "      <td>0.016006</td>\n",
              "      <td>0.007386</td>\n",
              "      <td>0.006806</td>\n",
              "      <td>0.013335</td>\n",
              "      <td>0.049836</td>\n",
              "      <td>0.0156</td>\n",
              "      <td>0.009046</td>\n",
              "      <td>0.010033</td>\n",
              "      <td>0.006842</td>\n",
              "      <td>0.013335</td>\n",
              "    </tr>\n",
              "    <tr>\n",
              "      <th>rank_test_score</th>\n",
              "      <td>26</td>\n",
              "      <td>26</td>\n",
              "      <td>23</td>\n",
              "      <td>21</td>\n",
              "      <td>19</td>\n",
              "      <td>35</td>\n",
              "      <td>26</td>\n",
              "      <td>26</td>\n",
              "      <td>23</td>\n",
              "      <td>21</td>\n",
              "      <td>...</td>\n",
              "      <td>10</td>\n",
              "      <td>6</td>\n",
              "      <td>1</td>\n",
              "      <td>8</td>\n",
              "      <td>15</td>\n",
              "      <td>11</td>\n",
              "      <td>5</td>\n",
              "      <td>3</td>\n",
              "      <td>2</td>\n",
              "      <td>8</td>\n",
              "    </tr>\n",
              "    <tr>\n",
              "      <th>split0_train_score</th>\n",
              "      <td>0.393564</td>\n",
              "      <td>0.393564</td>\n",
              "      <td>0.394389</td>\n",
              "      <td>0.395215</td>\n",
              "      <td>0.392739</td>\n",
              "      <td>0.344884</td>\n",
              "      <td>0.393564</td>\n",
              "      <td>0.393564</td>\n",
              "      <td>0.394389</td>\n",
              "      <td>0.395215</td>\n",
              "      <td>...</td>\n",
              "      <td>0.943069</td>\n",
              "      <td>0.990099</td>\n",
              "      <td>1.0</td>\n",
              "      <td>1.0</td>\n",
              "      <td>0.430693</td>\n",
              "      <td>0.943894</td>\n",
              "      <td>0.990099</td>\n",
              "      <td>0.99835</td>\n",
              "      <td>1.0</td>\n",
              "      <td>1.0</td>\n",
              "    </tr>\n",
              "    <tr>\n",
              "      <th>split1_train_score</th>\n",
              "      <td>0.10231</td>\n",
              "      <td>0.10231</td>\n",
              "      <td>0.10231</td>\n",
              "      <td>0.10231</td>\n",
              "      <td>0.10231</td>\n",
              "      <td>0.10231</td>\n",
              "      <td>0.10231</td>\n",
              "      <td>0.10231</td>\n",
              "      <td>0.10231</td>\n",
              "      <td>0.10231</td>\n",
              "      <td>...</td>\n",
              "      <td>0.943069</td>\n",
              "      <td>0.987624</td>\n",
              "      <td>1.0</td>\n",
              "      <td>1.0</td>\n",
              "      <td>0.356436</td>\n",
              "      <td>0.943069</td>\n",
              "      <td>0.987624</td>\n",
              "      <td>0.999175</td>\n",
              "      <td>1.0</td>\n",
              "      <td>1.0</td>\n",
              "    </tr>\n",
              "    <tr>\n",
              "      <th>split2_train_score</th>\n",
              "      <td>0.10231</td>\n",
              "      <td>0.10231</td>\n",
              "      <td>0.10231</td>\n",
              "      <td>0.10231</td>\n",
              "      <td>0.10231</td>\n",
              "      <td>0.10231</td>\n",
              "      <td>0.10231</td>\n",
              "      <td>0.10231</td>\n",
              "      <td>0.10231</td>\n",
              "      <td>0.10231</td>\n",
              "      <td>...</td>\n",
              "      <td>0.944719</td>\n",
              "      <td>0.989274</td>\n",
              "      <td>1.0</td>\n",
              "      <td>1.0</td>\n",
              "      <td>0.364686</td>\n",
              "      <td>0.944719</td>\n",
              "      <td>0.987624</td>\n",
              "      <td>0.999175</td>\n",
              "      <td>1.0</td>\n",
              "      <td>1.0</td>\n",
              "    </tr>\n",
              "    <tr>\n",
              "      <th>split3_train_score</th>\n",
              "      <td>0.10231</td>\n",
              "      <td>0.10231</td>\n",
              "      <td>0.10231</td>\n",
              "      <td>0.10231</td>\n",
              "      <td>0.10231</td>\n",
              "      <td>0.10231</td>\n",
              "      <td>0.10231</td>\n",
              "      <td>0.10231</td>\n",
              "      <td>0.10231</td>\n",
              "      <td>0.10231</td>\n",
              "      <td>...</td>\n",
              "      <td>0.942244</td>\n",
              "      <td>0.989274</td>\n",
              "      <td>1.0</td>\n",
              "      <td>1.0</td>\n",
              "      <td>0.357261</td>\n",
              "      <td>0.943894</td>\n",
              "      <td>0.989274</td>\n",
              "      <td>0.99835</td>\n",
              "      <td>1.0</td>\n",
              "      <td>1.0</td>\n",
              "    </tr>\n",
              "    <tr>\n",
              "      <th>split4_train_score</th>\n",
              "      <td>0.181518</td>\n",
              "      <td>0.182343</td>\n",
              "      <td>0.183168</td>\n",
              "      <td>0.186469</td>\n",
              "      <td>0.197195</td>\n",
              "      <td>0.190594</td>\n",
              "      <td>0.181518</td>\n",
              "      <td>0.182343</td>\n",
              "      <td>0.183168</td>\n",
              "      <td>0.186469</td>\n",
              "      <td>...</td>\n",
              "      <td>0.942244</td>\n",
              "      <td>0.990099</td>\n",
              "      <td>1.0</td>\n",
              "      <td>1.0</td>\n",
              "      <td>0.485149</td>\n",
              "      <td>0.942244</td>\n",
              "      <td>0.989274</td>\n",
              "      <td>0.999175</td>\n",
              "      <td>1.0</td>\n",
              "      <td>1.0</td>\n",
              "    </tr>\n",
              "    <tr>\n",
              "      <th>split5_train_score</th>\n",
              "      <td>0.183168</td>\n",
              "      <td>0.183993</td>\n",
              "      <td>0.183993</td>\n",
              "      <td>0.188119</td>\n",
              "      <td>0.19637</td>\n",
              "      <td>0.188119</td>\n",
              "      <td>0.183168</td>\n",
              "      <td>0.183993</td>\n",
              "      <td>0.183993</td>\n",
              "      <td>0.188119</td>\n",
              "      <td>...</td>\n",
              "      <td>0.942244</td>\n",
              "      <td>0.989274</td>\n",
              "      <td>1.0</td>\n",
              "      <td>1.0</td>\n",
              "      <td>0.459571</td>\n",
              "      <td>0.942244</td>\n",
              "      <td>0.989274</td>\n",
              "      <td>0.999175</td>\n",
              "      <td>1.0</td>\n",
              "      <td>1.0</td>\n",
              "    </tr>\n",
              "    <tr>\n",
              "      <th>split6_train_score</th>\n",
              "      <td>0.180693</td>\n",
              "      <td>0.180693</td>\n",
              "      <td>0.181518</td>\n",
              "      <td>0.185644</td>\n",
              "      <td>0.19637</td>\n",
              "      <td>0.193069</td>\n",
              "      <td>0.180693</td>\n",
              "      <td>0.180693</td>\n",
              "      <td>0.181518</td>\n",
              "      <td>0.185644</td>\n",
              "      <td>...</td>\n",
              "      <td>0.941419</td>\n",
              "      <td>0.990099</td>\n",
              "      <td>1.0</td>\n",
              "      <td>1.0</td>\n",
              "      <td>0.479373</td>\n",
              "      <td>0.940594</td>\n",
              "      <td>0.990099</td>\n",
              "      <td>0.999175</td>\n",
              "      <td>1.0</td>\n",
              "      <td>1.0</td>\n",
              "    </tr>\n",
              "    <tr>\n",
              "      <th>split7_train_score</th>\n",
              "      <td>0.376752</td>\n",
              "      <td>0.376752</td>\n",
              "      <td>0.375103</td>\n",
              "      <td>0.379225</td>\n",
              "      <td>0.394889</td>\n",
              "      <td>0.323166</td>\n",
              "      <td>0.376752</td>\n",
              "      <td>0.376752</td>\n",
              "      <td>0.375103</td>\n",
              "      <td>0.379225</td>\n",
              "      <td>...</td>\n",
              "      <td>0.943116</td>\n",
              "      <td>0.988458</td>\n",
              "      <td>1.0</td>\n",
              "      <td>1.0</td>\n",
              "      <td>0.464138</td>\n",
              "      <td>0.943116</td>\n",
              "      <td>0.989283</td>\n",
              "      <td>0.999176</td>\n",
              "      <td>1.0</td>\n",
              "      <td>1.0</td>\n",
              "    </tr>\n",
              "    <tr>\n",
              "      <th>split8_train_score</th>\n",
              "      <td>0.294312</td>\n",
              "      <td>0.294312</td>\n",
              "      <td>0.294312</td>\n",
              "      <td>0.293487</td>\n",
              "      <td>0.299258</td>\n",
              "      <td>0.261336</td>\n",
              "      <td>0.294312</td>\n",
              "      <td>0.294312</td>\n",
              "      <td>0.294312</td>\n",
              "      <td>0.293487</td>\n",
              "      <td>...</td>\n",
              "      <td>0.943941</td>\n",
              "      <td>0.988458</td>\n",
              "      <td>1.0</td>\n",
              "      <td>1.0</td>\n",
              "      <td>0.408904</td>\n",
              "      <td>0.943941</td>\n",
              "      <td>0.987634</td>\n",
              "      <td>1.0</td>\n",
              "      <td>1.0</td>\n",
              "      <td>1.0</td>\n",
              "    </tr>\n",
              "    <tr>\n",
              "      <th>split9_train_score</th>\n",
              "      <td>0.295136</td>\n",
              "      <td>0.295136</td>\n",
              "      <td>0.295136</td>\n",
              "      <td>0.294312</td>\n",
              "      <td>0.299258</td>\n",
              "      <td>0.265458</td>\n",
              "      <td>0.295136</td>\n",
              "      <td>0.295136</td>\n",
              "      <td>0.295136</td>\n",
              "      <td>0.294312</td>\n",
              "      <td>...</td>\n",
              "      <td>0.945589</td>\n",
              "      <td>0.989283</td>\n",
              "      <td>1.0</td>\n",
              "      <td>1.0</td>\n",
              "      <td>0.404782</td>\n",
              "      <td>0.946414</td>\n",
              "      <td>0.988458</td>\n",
              "      <td>0.999176</td>\n",
              "      <td>1.0</td>\n",
              "      <td>1.0</td>\n",
              "    </tr>\n",
              "    <tr>\n",
              "      <th>mean_train_score</th>\n",
              "      <td>0.221207</td>\n",
              "      <td>0.221372</td>\n",
              "      <td>0.221455</td>\n",
              "      <td>0.22294</td>\n",
              "      <td>0.228301</td>\n",
              "      <td>0.207356</td>\n",
              "      <td>0.221207</td>\n",
              "      <td>0.221372</td>\n",
              "      <td>0.221455</td>\n",
              "      <td>0.22294</td>\n",
              "      <td>...</td>\n",
              "      <td>0.943166</td>\n",
              "      <td>0.989194</td>\n",
              "      <td>1.0</td>\n",
              "      <td>1.0</td>\n",
              "      <td>0.421099</td>\n",
              "      <td>0.943413</td>\n",
              "      <td>0.988864</td>\n",
              "      <td>0.999093</td>\n",
              "      <td>1.0</td>\n",
              "      <td>1.0</td>\n",
              "    </tr>\n",
              "    <tr>\n",
              "      <th>std_train_score</th>\n",
              "      <td>0.105728</td>\n",
              "      <td>0.105668</td>\n",
              "      <td>0.1055</td>\n",
              "      <td>0.105718</td>\n",
              "      <td>0.107466</td>\n",
              "      <td>0.085191</td>\n",
              "      <td>0.105728</td>\n",
              "      <td>0.105668</td>\n",
              "      <td>0.1055</td>\n",
              "      <td>0.105718</td>\n",
              "      <td>...</td>\n",
              "      <td>0.001204</td>\n",
              "      <td>0.000777</td>\n",
              "      <td>0.0</td>\n",
              "      <td>0.0</td>\n",
              "      <td>0.047725</td>\n",
              "      <td>0.001495</td>\n",
              "      <td>0.000921</td>\n",
              "      <td>0.000444</td>\n",
              "      <td>0.0</td>\n",
              "      <td>0.0</td>\n",
              "    </tr>\n",
              "  </tbody>\n",
              "</table>\n",
              "<p>32 rows × 36 columns</p>\n",
              "</div>\n",
              "      <button class=\"colab-df-convert\" onclick=\"convertToInteractive('df-5e0f2c34-f5a7-473b-b6c3-1fd300ab214a')\"\n",
              "              title=\"Convert this dataframe to an interactive table.\"\n",
              "              style=\"display:none;\">\n",
              "        \n",
              "  <svg xmlns=\"http://www.w3.org/2000/svg\" height=\"24px\"viewBox=\"0 0 24 24\"\n",
              "       width=\"24px\">\n",
              "    <path d=\"M0 0h24v24H0V0z\" fill=\"none\"/>\n",
              "    <path d=\"M18.56 5.44l.94 2.06.94-2.06 2.06-.94-2.06-.94-.94-2.06-.94 2.06-2.06.94zm-11 1L8.5 8.5l.94-2.06 2.06-.94-2.06-.94L8.5 2.5l-.94 2.06-2.06.94zm10 10l.94 2.06.94-2.06 2.06-.94-2.06-.94-.94-2.06-.94 2.06-2.06.94z\"/><path d=\"M17.41 7.96l-1.37-1.37c-.4-.4-.92-.59-1.43-.59-.52 0-1.04.2-1.43.59L10.3 9.45l-7.72 7.72c-.78.78-.78 2.05 0 2.83L4 21.41c.39.39.9.59 1.41.59.51 0 1.02-.2 1.41-.59l7.78-7.78 2.81-2.81c.8-.78.8-2.07 0-2.86zM5.41 20L4 18.59l7.72-7.72 1.47 1.35L5.41 20z\"/>\n",
              "  </svg>\n",
              "      </button>\n",
              "      \n",
              "  <style>\n",
              "    .colab-df-container {\n",
              "      display:flex;\n",
              "      flex-wrap:wrap;\n",
              "      gap: 12px;\n",
              "    }\n",
              "\n",
              "    .colab-df-convert {\n",
              "      background-color: #E8F0FE;\n",
              "      border: none;\n",
              "      border-radius: 50%;\n",
              "      cursor: pointer;\n",
              "      display: none;\n",
              "      fill: #1967D2;\n",
              "      height: 32px;\n",
              "      padding: 0 0 0 0;\n",
              "      width: 32px;\n",
              "    }\n",
              "\n",
              "    .colab-df-convert:hover {\n",
              "      background-color: #E2EBFA;\n",
              "      box-shadow: 0px 1px 2px rgba(60, 64, 67, 0.3), 0px 1px 3px 1px rgba(60, 64, 67, 0.15);\n",
              "      fill: #174EA6;\n",
              "    }\n",
              "\n",
              "    [theme=dark] .colab-df-convert {\n",
              "      background-color: #3B4455;\n",
              "      fill: #D2E3FC;\n",
              "    }\n",
              "\n",
              "    [theme=dark] .colab-df-convert:hover {\n",
              "      background-color: #434B5C;\n",
              "      box-shadow: 0px 1px 3px 1px rgba(0, 0, 0, 0.15);\n",
              "      filter: drop-shadow(0px 1px 2px rgba(0, 0, 0, 0.3));\n",
              "      fill: #FFFFFF;\n",
              "    }\n",
              "  </style>\n",
              "\n",
              "      <script>\n",
              "        const buttonEl =\n",
              "          document.querySelector('#df-5e0f2c34-f5a7-473b-b6c3-1fd300ab214a button.colab-df-convert');\n",
              "        buttonEl.style.display =\n",
              "          google.colab.kernel.accessAllowed ? 'block' : 'none';\n",
              "\n",
              "        async function convertToInteractive(key) {\n",
              "          const element = document.querySelector('#df-5e0f2c34-f5a7-473b-b6c3-1fd300ab214a');\n",
              "          const dataTable =\n",
              "            await google.colab.kernel.invokeFunction('convertToInteractive',\n",
              "                                                     [key], {});\n",
              "          if (!dataTable) return;\n",
              "\n",
              "          const docLinkHtml = 'Like what you see? Visit the ' +\n",
              "            '<a target=\"_blank\" href=https://colab.research.google.com/notebooks/data_table.ipynb>data table notebook</a>'\n",
              "            + ' to learn more about interactive tables.';\n",
              "          element.innerHTML = '';\n",
              "          dataTable['output_type'] = 'display_data';\n",
              "          await google.colab.output.renderOutput(dataTable, element);\n",
              "          const docLink = document.createElement('div');\n",
              "          docLink.innerHTML = docLinkHtml;\n",
              "          element.appendChild(docLink);\n",
              "        }\n",
              "      </script>\n",
              "    </div>\n",
              "  </div>\n",
              "  "
            ]
          },
          "metadata": {},
          "execution_count": 83
        }
      ]
    },
    {
      "cell_type": "code",
      "source": [
        "col = pd.DataFrame(results.columns)\n",
        "col.head()"
      ],
      "metadata": {
        "colab": {
          "base_uri": "https://localhost:8080/",
          "height": 206
        },
        "id": "xfQPNWEVZ3Zn",
        "outputId": "2750eb66-26a0-49ce-e157-9a35de3f59f4"
      },
      "execution_count": 89,
      "outputs": [
        {
          "output_type": "execute_result",
          "data": {
            "text/plain": [
              "                 0\n",
              "0    mean_fit_time\n",
              "1     std_fit_time\n",
              "2  mean_score_time\n",
              "3   std_score_time\n",
              "4     param_svc__C"
            ],
            "text/html": [
              "\n",
              "  <div id=\"df-465382a5-eeb9-4899-87ee-1bae2f94c0d3\">\n",
              "    <div class=\"colab-df-container\">\n",
              "      <div>\n",
              "<style scoped>\n",
              "    .dataframe tbody tr th:only-of-type {\n",
              "        vertical-align: middle;\n",
              "    }\n",
              "\n",
              "    .dataframe tbody tr th {\n",
              "        vertical-align: top;\n",
              "    }\n",
              "\n",
              "    .dataframe thead th {\n",
              "        text-align: right;\n",
              "    }\n",
              "</style>\n",
              "<table border=\"1\" class=\"dataframe\">\n",
              "  <thead>\n",
              "    <tr style=\"text-align: right;\">\n",
              "      <th></th>\n",
              "      <th>0</th>\n",
              "    </tr>\n",
              "  </thead>\n",
              "  <tbody>\n",
              "    <tr>\n",
              "      <th>0</th>\n",
              "      <td>mean_fit_time</td>\n",
              "    </tr>\n",
              "    <tr>\n",
              "      <th>1</th>\n",
              "      <td>std_fit_time</td>\n",
              "    </tr>\n",
              "    <tr>\n",
              "      <th>2</th>\n",
              "      <td>mean_score_time</td>\n",
              "    </tr>\n",
              "    <tr>\n",
              "      <th>3</th>\n",
              "      <td>std_score_time</td>\n",
              "    </tr>\n",
              "    <tr>\n",
              "      <th>4</th>\n",
              "      <td>param_svc__C</td>\n",
              "    </tr>\n",
              "  </tbody>\n",
              "</table>\n",
              "</div>\n",
              "      <button class=\"colab-df-convert\" onclick=\"convertToInteractive('df-465382a5-eeb9-4899-87ee-1bae2f94c0d3')\"\n",
              "              title=\"Convert this dataframe to an interactive table.\"\n",
              "              style=\"display:none;\">\n",
              "        \n",
              "  <svg xmlns=\"http://www.w3.org/2000/svg\" height=\"24px\"viewBox=\"0 0 24 24\"\n",
              "       width=\"24px\">\n",
              "    <path d=\"M0 0h24v24H0V0z\" fill=\"none\"/>\n",
              "    <path d=\"M18.56 5.44l.94 2.06.94-2.06 2.06-.94-2.06-.94-.94-2.06-.94 2.06-2.06.94zm-11 1L8.5 8.5l.94-2.06 2.06-.94-2.06-.94L8.5 2.5l-.94 2.06-2.06.94zm10 10l.94 2.06.94-2.06 2.06-.94-2.06-.94-.94-2.06-.94 2.06-2.06.94z\"/><path d=\"M17.41 7.96l-1.37-1.37c-.4-.4-.92-.59-1.43-.59-.52 0-1.04.2-1.43.59L10.3 9.45l-7.72 7.72c-.78.78-.78 2.05 0 2.83L4 21.41c.39.39.9.59 1.41.59.51 0 1.02-.2 1.41-.59l7.78-7.78 2.81-2.81c.8-.78.8-2.07 0-2.86zM5.41 20L4 18.59l7.72-7.72 1.47 1.35L5.41 20z\"/>\n",
              "  </svg>\n",
              "      </button>\n",
              "      \n",
              "  <style>\n",
              "    .colab-df-container {\n",
              "      display:flex;\n",
              "      flex-wrap:wrap;\n",
              "      gap: 12px;\n",
              "    }\n",
              "\n",
              "    .colab-df-convert {\n",
              "      background-color: #E8F0FE;\n",
              "      border: none;\n",
              "      border-radius: 50%;\n",
              "      cursor: pointer;\n",
              "      display: none;\n",
              "      fill: #1967D2;\n",
              "      height: 32px;\n",
              "      padding: 0 0 0 0;\n",
              "      width: 32px;\n",
              "    }\n",
              "\n",
              "    .colab-df-convert:hover {\n",
              "      background-color: #E2EBFA;\n",
              "      box-shadow: 0px 1px 2px rgba(60, 64, 67, 0.3), 0px 1px 3px 1px rgba(60, 64, 67, 0.15);\n",
              "      fill: #174EA6;\n",
              "    }\n",
              "\n",
              "    [theme=dark] .colab-df-convert {\n",
              "      background-color: #3B4455;\n",
              "      fill: #D2E3FC;\n",
              "    }\n",
              "\n",
              "    [theme=dark] .colab-df-convert:hover {\n",
              "      background-color: #434B5C;\n",
              "      box-shadow: 0px 1px 3px 1px rgba(0, 0, 0, 0.15);\n",
              "      filter: drop-shadow(0px 1px 2px rgba(0, 0, 0, 0.3));\n",
              "      fill: #FFFFFF;\n",
              "    }\n",
              "  </style>\n",
              "\n",
              "      <script>\n",
              "        const buttonEl =\n",
              "          document.querySelector('#df-465382a5-eeb9-4899-87ee-1bae2f94c0d3 button.colab-df-convert');\n",
              "        buttonEl.style.display =\n",
              "          google.colab.kernel.accessAllowed ? 'block' : 'none';\n",
              "\n",
              "        async function convertToInteractive(key) {\n",
              "          const element = document.querySelector('#df-465382a5-eeb9-4899-87ee-1bae2f94c0d3');\n",
              "          const dataTable =\n",
              "            await google.colab.kernel.invokeFunction('convertToInteractive',\n",
              "                                                     [key], {});\n",
              "          if (!dataTable) return;\n",
              "\n",
              "          const docLinkHtml = 'Like what you see? Visit the ' +\n",
              "            '<a target=\"_blank\" href=https://colab.research.google.com/notebooks/data_table.ipynb>data table notebook</a>'\n",
              "            + ' to learn more about interactive tables.';\n",
              "          element.innerHTML = '';\n",
              "          dataTable['output_type'] = 'display_data';\n",
              "          await google.colab.output.renderOutput(dataTable, element);\n",
              "          const docLink = document.createElement('div');\n",
              "          docLink.innerHTML = docLinkHtml;\n",
              "          element.appendChild(docLink);\n",
              "        }\n",
              "      </script>\n",
              "    </div>\n",
              "  </div>\n",
              "  "
            ]
          },
          "metadata": {},
          "execution_count": 89
        }
      ]
    },
    {
      "cell_type": "code",
      "source": [
        "results.columns"
      ],
      "metadata": {
        "colab": {
          "base_uri": "https://localhost:8080/"
        },
        "id": "dAPRj4ctaPNH",
        "outputId": "be542450-8916-4b64-839b-d17d18d77e97"
      },
      "execution_count": 90,
      "outputs": [
        {
          "output_type": "execute_result",
          "data": {
            "text/plain": [
              "Index(['mean_fit_time', 'std_fit_time', 'mean_score_time', 'std_score_time',\n",
              "       'param_svc__C', 'param_svc__gamma', 'params', 'split0_test_score',\n",
              "       'split1_test_score', 'split2_test_score', 'split3_test_score',\n",
              "       'split4_test_score', 'split5_test_score', 'split6_test_score',\n",
              "       'split7_test_score', 'split8_test_score', 'split9_test_score',\n",
              "       'mean_test_score', 'std_test_score', 'rank_test_score',\n",
              "       'split0_train_score', 'split1_train_score', 'split2_train_score',\n",
              "       'split3_train_score', 'split4_train_score', 'split5_train_score',\n",
              "       'split6_train_score', 'split7_train_score', 'split8_train_score',\n",
              "       'split9_train_score', 'mean_train_score', 'std_train_score'],\n",
              "      dtype='object')"
            ]
          },
          "metadata": {},
          "execution_count": 90
        }
      ]
    },
    {
      "cell_type": "code",
      "source": [
        "results.mean_test_score"
      ],
      "metadata": {
        "colab": {
          "base_uri": "https://localhost:8080/"
        },
        "id": "BW3FWQI7a_Oo",
        "outputId": "100071db-75f1-4eb1-dc49-b1cd91df357d"
      },
      "execution_count": 96,
      "outputs": [
        {
          "output_type": "execute_result",
          "data": {
            "text/plain": [
              "0     0.214782\n",
              "1     0.214782\n",
              "2     0.216263\n",
              "3     0.217004\n",
              "4     0.222195\n",
              "5     0.190221\n",
              "6     0.214782\n",
              "7     0.214782\n",
              "8     0.216263\n",
              "9     0.217004\n",
              "10    0.222195\n",
              "11    0.190221\n",
              "12    0.214782\n",
              "13    0.214782\n",
              "14    0.216263\n",
              "15    0.323709\n",
              "16    0.930967\n",
              "17    0.723062\n",
              "18    0.214782\n",
              "19    0.214782\n",
              "20    0.402399\n",
              "21    0.934671\n",
              "22    0.979215\n",
              "23    0.962117\n",
              "24    0.214782\n",
              "25    0.414284\n",
              "26    0.936147\n",
              "27    0.977739\n",
              "28    0.982178\n",
              "29    0.960636\n",
              "30    0.414284\n",
              "31    0.935406\n",
              "32    0.978474\n",
              "33    0.980708\n",
              "34    0.981437\n",
              "35    0.960636\n",
              "Name: mean_test_score, dtype: float64"
            ]
          },
          "metadata": {},
          "execution_count": 96
        }
      ]
    },
    {
      "cell_type": "code",
      "source": [
        "results.mean_test_score.values"
      ],
      "metadata": {
        "colab": {
          "base_uri": "https://localhost:8080/"
        },
        "id": "fMqtCQX1aa5l",
        "outputId": "6e3edc33-5656-47df-fa7e-fd99f0d1a1a5"
      },
      "execution_count": 95,
      "outputs": [
        {
          "output_type": "execute_result",
          "data": {
            "text/plain": [
              "array([0.21478165, 0.21478165, 0.21626313, 0.21700387, 0.22219458,\n",
              "       0.19022112, 0.21478165, 0.21478165, 0.21626313, 0.21700387,\n",
              "       0.22219458, 0.19022112, 0.21478165, 0.21478165, 0.21626313,\n",
              "       0.32370923, 0.93096739, 0.72306247, 0.21478165, 0.21478165,\n",
              "       0.40239912, 0.93467109, 0.97921504, 0.96211719, 0.21478165,\n",
              "       0.41428413, 0.93614704, 0.97773908, 0.982178  , 0.96063571,\n",
              "       0.41428413, 0.9354063 , 0.9784743 , 0.98070757, 0.98143726,\n",
              "       0.96063571])"
            ]
          },
          "metadata": {},
          "execution_count": 95
        }
      ]
    },
    {
      "cell_type": "code",
      "source": [
        "results.mean_test_score.values.reshape(6,6)"
      ],
      "metadata": {
        "colab": {
          "base_uri": "https://localhost:8080/"
        },
        "id": "SeqOHFLrbLyT",
        "outputId": "1d0daa53-2520-44ee-b3ab-1432cb5a969a"
      },
      "execution_count": 98,
      "outputs": [
        {
          "output_type": "execute_result",
          "data": {
            "text/plain": [
              "array([[0.21478165, 0.21478165, 0.21626313, 0.21700387, 0.22219458,\n",
              "        0.19022112],\n",
              "       [0.21478165, 0.21478165, 0.21626313, 0.21700387, 0.22219458,\n",
              "        0.19022112],\n",
              "       [0.21478165, 0.21478165, 0.21626313, 0.32370923, 0.93096739,\n",
              "        0.72306247],\n",
              "       [0.21478165, 0.21478165, 0.40239912, 0.93467109, 0.97921504,\n",
              "        0.96211719],\n",
              "       [0.21478165, 0.41428413, 0.93614704, 0.97773908, 0.982178  ,\n",
              "        0.96063571],\n",
              "       [0.41428413, 0.9354063 , 0.9784743 , 0.98070757, 0.98143726,\n",
              "        0.96063571]])"
            ]
          },
          "metadata": {},
          "execution_count": 98
        }
      ]
    },
    {
      "cell_type": "code",
      "source": [
        "results.param_svc__C"
      ],
      "metadata": {
        "colab": {
          "base_uri": "https://localhost:8080/"
        },
        "id": "w9Zqq7dwcTdh",
        "outputId": "49d0b103-8989-446f-e9a2-fe3f5e3b0596"
      },
      "execution_count": 109,
      "outputs": [
        {
          "output_type": "execute_result",
          "data": {
            "text/plain": [
              "0     0.001\n",
              "1     0.001\n",
              "2     0.001\n",
              "3     0.001\n",
              "4     0.001\n",
              "5     0.001\n",
              "6      0.01\n",
              "7      0.01\n",
              "8      0.01\n",
              "9      0.01\n",
              "10     0.01\n",
              "11     0.01\n",
              "12      0.1\n",
              "13      0.1\n",
              "14      0.1\n",
              "15      0.1\n",
              "16      0.1\n",
              "17      0.1\n",
              "18      1.0\n",
              "19      1.0\n",
              "20      1.0\n",
              "21      1.0\n",
              "22      1.0\n",
              "23      1.0\n",
              "24     10.0\n",
              "25     10.0\n",
              "26     10.0\n",
              "27     10.0\n",
              "28     10.0\n",
              "29     10.0\n",
              "30    100.0\n",
              "31    100.0\n",
              "32    100.0\n",
              "33    100.0\n",
              "34    100.0\n",
              "35    100.0\n",
              "Name: param_svc__C, dtype: object"
            ]
          },
          "metadata": {},
          "execution_count": 109
        }
      ]
    },
    {
      "cell_type": "code",
      "source": [
        "np.unique(results.param_svc__C)"
      ],
      "metadata": {
        "colab": {
          "base_uri": "https://localhost:8080/"
        },
        "id": "ztnLuKnRciHC",
        "outputId": "dbf167e4-c5a1-40bc-a439-805c955fa975"
      },
      "execution_count": 108,
      "outputs": [
        {
          "output_type": "execute_result",
          "data": {
            "text/plain": [
              "array([0.001, 0.01, 0.1, 1.0, 10.0, 100.0], dtype=object)"
            ]
          },
          "metadata": {},
          "execution_count": 108
        }
      ]
    },
    {
      "cell_type": "code",
      "source": [
        "len(results.mean_test_score)"
      ],
      "metadata": {
        "colab": {
          "base_uri": "https://localhost:8080/"
        },
        "id": "pT226o2_apLm",
        "outputId": "a6a84c27-9696-45b6-8050-1b30bc7556e6"
      },
      "execution_count": 94,
      "outputs": [
        {
          "output_type": "execute_result",
          "data": {
            "text/plain": [
              "36"
            ]
          },
          "metadata": {},
          "execution_count": 94
        }
      ]
    },
    {
      "cell_type": "code",
      "source": [
        "plt.imshow(results.mean_test_score.values.reshape(6,6))\n",
        "plt.yticks(range(len(myparam_grid['svc__C'])), myparam_grid['svc__C'])\n",
        "plt.ylabel('C')\n",
        "plt.xticks(range(len(myparam_grid['svc__gamma'])),\n",
        "           ['{:.8f}'.format(g) for g in myparam_grid['svc__gamma']],\n",
        "           rotation=45)\n",
        "           \n",
        "plt.xlabel('gamma')\n",
        "plt.colorbar()"
      ],
      "metadata": {
        "colab": {
          "base_uri": "https://localhost:8080/",
          "height": 521
        },
        "id": "PUoYHnWuZzdA",
        "outputId": "ec623586-e350-4880-8941-eb97788f111e"
      },
      "execution_count": 128,
      "outputs": [
        {
          "output_type": "execute_result",
          "data": {
            "text/plain": [
              "<matplotlib.colorbar.Colorbar at 0x7fc5026184f0>"
            ]
          },
          "metadata": {},
          "execution_count": 128
        },
        {
          "output_type": "display_data",
          "data": {
            "text/plain": [
              "<Figure size 640x480 with 2 Axes>"
            ],
            "image/png": "[encoded data removed]"
          },
          "metadata": {}
        }
      ]
    },
    {
      "cell_type": "code",
      "source": [],
      "metadata": {
        "id": "LQsFx-I-gzin"
      },
      "execution_count": null,
      "outputs": []
    }
  ],
  "metadata": {
    "kernelspec": {
      "display_name": "Python 3 (ipykernel)",
      "language": "python",
      "name": "python3"
    },
    "language_info": {
      "codemirror_mode": {
        "name": "ipython",
        "version": 3
      },
      "file_extension": ".py",
      "mimetype": "text/x-python",
      "name": "python",
      "nbconvert_exporter": "python",
      "pygments_lexer": "ipython3",
      "version": "3.8.5"
    },
    "colab": {
      "provenance": [],
      "include_colab_link": true
    }
  },
  "nbformat": 4,
  "nbformat_minor": 0
}