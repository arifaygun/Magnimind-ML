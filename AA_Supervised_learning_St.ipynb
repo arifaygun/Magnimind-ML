{
  "cells": [
    {
      "cell_type": "markdown",
      "metadata": {
        "id": "view-in-github",
        "colab_type": "text"
      },
      "source": [
        "<a href=\"https://colab.research.google.com/github/ArifAygun/Magnimind-ML/blob/main/AA_Supervised_learning_St.ipynb\" target=\"_parent\"><img src=\"https://colab.research.google.com/assets/colab-badge.svg\" alt=\"Open In Colab\"/></a>"
      ]
    },
    {
      "cell_type": "markdown",
      "metadata": {
        "id": "f7B8ZiupZcS9"
      },
      "source": [
        "### Check Version of the Relevant Libraries"
      ]
    },
    {
      "cell_type": "code",
      "execution_count": 36,
      "metadata": {
        "id": "wFfMrn69ZcTC"
      },
      "outputs": [],
      "source": [
        "from sklearn.datasets import load_breast_cancer\n",
        "from sklearn.model_selection import train_test_split\n",
        "from sklearn.neighbors import KNeighborsClassifier\n",
        "from sklearn.preprocessing import scale"
      ]
    },
    {
      "cell_type": "code",
      "source": [
        "cancer = load_breast_cancer()"
      ],
      "metadata": {
        "id": "qd4aKd3aRChe"
      },
      "execution_count": 37,
      "outputs": []
    },
    {
      "cell_type": "code",
      "source": [
        "cancer.keys()"
      ],
      "metadata": {
        "colab": {
          "base_uri": "https://localhost:8080/"
        },
        "id": "xdYEDLnWRLpE",
        "outputId": "1158a38b-7a15-40f8-9b95-c72d264a8584"
      },
      "execution_count": 38,
      "outputs": [
        {
          "output_type": "execute_result",
          "data": {
            "text/plain": [
              "dict_keys(['data', 'target', 'frame', 'target_names', 'DESCR', 'feature_names', 'filename', 'data_module'])"
            ]
          },
          "metadata": {},
          "execution_count": 38
        }
      ]
    },
    {
      "cell_type": "code",
      "source": [
        "import numpy as np\n",
        "np.unique(y, return_counts=True)"
      ],
      "metadata": {
        "colab": {
          "base_uri": "https://localhost:8080/"
        },
        "id": "tiTeQigBSPRq",
        "outputId": "564fec02-ac86-4d10-8c64-cbbe318d9e66"
      },
      "execution_count": 39,
      "outputs": [
        {
          "output_type": "execute_result",
          "data": {
            "text/plain": [
              "(array([0, 1]), array([212, 357]))"
            ]
          },
          "metadata": {},
          "execution_count": 39
        }
      ]
    },
    {
      "cell_type": "code",
      "source": [
        "X = cancer.data\n",
        "y = cancer.target\n",
        "X = scale (X)"
      ],
      "metadata": {
        "id": "aXFWqwZZRLCr"
      },
      "execution_count": 40,
      "outputs": []
    },
    {
      "cell_type": "code",
      "source": [
        "X_trainval, X_test, y_trainval, y_test = train_test_split(X, y)"
      ],
      "metadata": {
        "id": "UHHg-nz3Z25Z"
      },
      "execution_count": 41,
      "outputs": []
    },
    {
      "cell_type": "code",
      "source": [
        "sum(y_trainval)/len(y_trainval), sum(y_test)/len(y_test)"
      ],
      "metadata": {
        "colab": {
          "base_uri": "https://localhost:8080/"
        },
        "id": "g7NBAVoTaBtS",
        "outputId": "3bf0287b-7145-4bc0-ae1c-82a1b8506913"
      },
      "execution_count": 42,
      "outputs": [
        {
          "output_type": "execute_result",
          "data": {
            "text/plain": [
              "(0.6173708920187794, 0.6573426573426573)"
            ]
          },
          "metadata": {},
          "execution_count": 42
        }
      ]
    },
    {
      "cell_type": "code",
      "source": [
        "X_trainval, X_test, y_trainval, y_test = train_test_split(X, y, stratify=y)"
      ],
      "metadata": {
        "id": "U5LBMD-iRi5O"
      },
      "execution_count": 43,
      "outputs": []
    },
    {
      "cell_type": "code",
      "source": [
        "sum(y_trainval)/len(y_trainval), sum(y_test)/len(y_test)"
      ],
      "metadata": {
        "colab": {
          "base_uri": "https://localhost:8080/"
        },
        "id": "ptqRIX4wYWsd",
        "outputId": "ed019e3e-0a4a-47fd-c2e8-9dfe14662389"
      },
      "execution_count": 44,
      "outputs": [
        {
          "output_type": "execute_result",
          "data": {
            "text/plain": [
              "(0.6267605633802817, 0.6293706293706294)"
            ]
          },
          "metadata": {},
          "execution_count": 44
        }
      ]
    },
    {
      "cell_type": "code",
      "source": [
        "X_train, X_val, y_train, y_val = train_test_split(X,y, stratify=y)"
      ],
      "metadata": {
        "id": "m6eOa3pBap9l"
      },
      "execution_count": 45,
      "outputs": []
    },
    {
      "cell_type": "code",
      "source": [
        "X_train, X_val, y_train, y_val = train_test_split(X_trainval,y_trainval, stratify=y_trainval)"
      ],
      "metadata": {
        "id": "qx9gE7iYbEc2"
      },
      "execution_count": 46,
      "outputs": []
    },
    {
      "cell_type": "code",
      "source": [
        "sum(y_trainval)/len(y_trainval), sum(y_test)/len(y_test),\\\n",
        "sum(y_train)/len(y_train), sum(y_val)/len(y_val)"
      ],
      "metadata": {
        "colab": {
          "base_uri": "https://localhost:8080/"
        },
        "id": "kBwhxSqAbgq4",
        "outputId": "a2ac8dda-7703-4d1d-d9be-fb1ba43e10c4"
      },
      "execution_count": 47,
      "outputs": [
        {
          "output_type": "execute_result",
          "data": {
            "text/plain": [
              "(0.6267605633802817,\n",
              " 0.6293706293706294,\n",
              " 0.6269592476489029,\n",
              " 0.6261682242990654)"
            ]
          },
          "metadata": {},
          "execution_count": 47
        }
      ]
    },
    {
      "cell_type": "code",
      "source": [
        "knn1 = KNeighborsClassifier() # default number of neighbors is 5"
      ],
      "metadata": {
        "id": "RfjNtvVob6-J"
      },
      "execution_count": 48,
      "outputs": []
    },
    {
      "cell_type": "code",
      "source": [
        "knn1 = KNeighborsClassifier(n_jobs=5)\n",
        "knn2 = KNeighborsClassifier(n_jobs=5)"
      ],
      "metadata": {
        "id": "yWM-BkufeW_g"
      },
      "execution_count": 50,
      "outputs": []
    },
    {
      "cell_type": "markdown",
      "metadata": {
        "id": "DehU4QEPZcTD"
      },
      "source": [
        "# Overfitting the test set"
      ]
    },
    {
      "cell_type": "markdown",
      "metadata": {
        "id": "Nc0lJu4DZcTD"
      },
      "source": [
        "- Import `breast_cancer` dataset from Scikitlearn\n",
        "- Scale the feature set\n",
        "- Split data into first trainval and test, then split trainval into validation and train datasets\n",
        "- Fit train dataset for `k=5` neighbors\n",
        "- print the score on validation and test datasets"
      ]
    },
    {
      "cell_type": "code",
      "execution_count": null,
      "metadata": {
        "id": "B4Pryz9zZcTD"
      },
      "outputs": [],
      "source": []
    },
    {
      "cell_type": "markdown",
      "metadata": {
        "id": "5V5iVP9PZcTD"
      },
      "source": [
        "- Create a loop and fit your train dataset and test your validation dataset for `k=1,15,2`.\n",
        "- Print the best validation score out of three neighbors and determine the `k` value with the highest score, $best_n$\n",
        "- Retrain your model with trainvalidation dataset for $k=best_n$\n",
        "- Print the score for test dataset for the latest trained model"
      ]
    },
    {
      "cell_type": "code",
      "execution_count": null,
      "metadata": {
        "id": "sp7MvbiiZcTE"
      },
      "outputs": [],
      "source": []
    },
    {
      "cell_type": "markdown",
      "metadata": {
        "id": "BFn06PvgZcTE"
      },
      "source": [
        "# Cross validation"
      ]
    },
    {
      "cell_type": "markdown",
      "metadata": {
        "id": "TxfftAmPZcTE"
      },
      "source": [
        "- Import `cross_val_score` from `sklearn.model_selection`\n",
        "- Split your data into train and test datasets\n",
        "- For `neighbors=1, 15, 2`, compute cross validation scores for trainvalidation dataset with kfold=10.\n",
        "- Print the best validation score out of three neighbors and determine the `k` value with the highest score, $best_n$\n",
        "- Retrain your model with trainvalidation dataset for $k=best_n$\n",
        "- Print the score for test dataset for the latest trained model"
      ]
    },
    {
      "cell_type": "code",
      "execution_count": null,
      "metadata": {
        "id": "Ye1qTN5ZZcTF"
      },
      "outputs": [],
      "source": []
    },
    {
      "cell_type": "markdown",
      "metadata": {
        "id": "1ReB1PL1ZcTF"
      },
      "source": [
        "- Compute cross validation score for `KNeighborsClassifier()` when `cv=KFold(n_splits=5)` and `cv=StratifiedKFold(n_splits=5, shuffle=True)`"
      ]
    },
    {
      "cell_type": "code",
      "execution_count": null,
      "metadata": {
        "id": "m9V1jDcPZcTF"
      },
      "outputs": [],
      "source": [
        "np.set_printoptions(precision=2)"
      ]
    },
    {
      "cell_type": "code",
      "execution_count": null,
      "metadata": {
        "id": "Nhj4Kj77ZcTG"
      },
      "outputs": [],
      "source": []
    },
    {
      "cell_type": "markdown",
      "metadata": {
        "id": "9iUa-9WXZcTG"
      },
      "source": [
        "# GridSearchCV"
      ]
    },
    {
      "cell_type": "markdown",
      "metadata": {
        "id": "g9o9dsU9ZcTG"
      },
      "source": [
        "- Import `GridSearchCV` from `sklearn.model_selection`\n",
        "- Split your data into train and test datasets\n",
        "- For `neighbors=1 to 30`, compute `GridSearchCV` for train dataset with kfold=10.\n",
        "- Print the best cross validation score \n",
        "- Priont the best parameter\n",
        "- Print the test score"
      ]
    },
    {
      "cell_type": "code",
      "execution_count": null,
      "metadata": {
        "id": "ioNYeGeJZcTH"
      },
      "outputs": [],
      "source": []
    }
  ],
  "metadata": {
    "anaconda-cloud": {},
    "kernelspec": {
      "display_name": "Python 3",
      "language": "python",
      "name": "python3"
    },
    "language_info": {
      "codemirror_mode": {
        "name": "ipython",
        "version": 3
      },
      "file_extension": ".py",
      "mimetype": "text/x-python",
      "name": "python",
      "nbconvert_exporter": "python",
      "pygments_lexer": "ipython3",
      "version": "3.8.3"
    },
    "colab": {
      "provenance": [],
      "include_colab_link": true
    }
  },
  "nbformat": 4,
  "nbformat_minor": 0
}