{
  "cells": [
    {
      "cell_type": "markdown",
      "metadata": {
        "id": "view-in-github",
        "colab_type": "text"
      },
      "source": [
        "<a href=\"https://colab.research.google.com/github/ArifAygun/Magnimind-ML/blob/main/Office_Hour_Capstone_Project(1).ipynb\" target=\"_parent\"><img src=\"https://colab.research.google.com/assets/colab-badge.svg\" alt=\"Open In Colab\"/></a>"
      ]
    },
    {
      "cell_type": "markdown",
      "id": "c05f7147",
      "metadata": {
        "id": "c05f7147"
      },
      "source": [
        "# Data Experimentation Capstone"
      ]
    },
    {
      "cell_type": "markdown",
      "id": "b23216a8",
      "metadata": {
        "id": "b23216a8"
      },
      "source": [
        "## Introduction"
      ]
    },
    {
      "cell_type": "markdown",
      "id": "5d1d4d7b",
      "metadata": {
        "id": "5d1d4d7b"
      },
      "source": [
        "The objective of this project is to examine the effects of user engagement after seeing Ad A or Ad B"
      ]
    },
    {
      "cell_type": "markdown",
      "id": "434226a9",
      "metadata": {
        "id": "434226a9"
      },
      "source": [
        "## Problem"
      ]
    },
    {
      "cell_type": "markdown",
      "id": "948ebb44",
      "metadata": {
        "id": "948ebb44"
      },
      "source": [
        "An advertising company has developed a new ad to have users engage with their questionnaire. The company has shown the new ad to some users and a dummy ad to others and wants their data analyst team to interpret the results. Does the new ad generate more responses to their questionnaire? Is it statistically significant? Is the company justified in using the new ad? \n",
        "\n",
        "A/B testing is common in the business world and is a way to compare two versions of something to figure out which performs better. Figuring out which ad users prefer is a real life business problem that would be expected to know how to solve as a business data analyst. "
      ]
    },
    {
      "cell_type": "markdown",
      "id": "1a90fc2c",
      "metadata": {
        "id": "1a90fc2c"
      },
      "source": [
        "## Data"
      ]
    },
    {
      "cell_type": "markdown",
      "id": "f89fc45d",
      "metadata": {
        "id": "f89fc45d"
      },
      "source": [
        "Dataset is found on kaggle from an advertising company. https://www.kaggle.com/osuolaleemmanuel/ad-ab-testing"
      ]
    },
    {
      "cell_type": "code",
      "execution_count": null,
      "id": "73396db9",
      "metadata": {
        "id": "73396db9"
      },
      "outputs": [],
      "source": [
        "#packages import\n",
        "import numpy as np\n",
        "import pandas as pd\n",
        "from scipy.stats import norm\n",
        "import matplotlib.pyplot as plt"
      ]
    },
    {
      "cell_type": "markdown",
      "id": "2c08725c",
      "metadata": {
        "id": "2c08725c"
      },
      "source": [
        "## Data Preperation"
      ]
    },
    {
      "cell_type": "code",
      "execution_count": null,
      "id": "fd2adcda",
      "metadata": {
        "id": "fd2adcda",
        "outputId": "20e9c924-dae4-4792-9e56-d27f65df4c5c"
      },
      "outputs": [
        {
          "data": {
            "text/html": [
              "<div>\n",
              "<style scoped>\n",
              "    .dataframe tbody tr th:only-of-type {\n",
              "        vertical-align: middle;\n",
              "    }\n",
              "\n",
              "    .dataframe tbody tr th {\n",
              "        vertical-align: top;\n",
              "    }\n",
              "\n",
              "    .dataframe thead th {\n",
              "        text-align: right;\n",
              "    }\n",
              "</style>\n",
              "<table border=\"1\" class=\"dataframe\">\n",
              "  <thead>\n",
              "    <tr style=\"text-align: right;\">\n",
              "      <th></th>\n",
              "      <th>auction_id</th>\n",
              "      <th>experiment</th>\n",
              "      <th>date</th>\n",
              "      <th>hour</th>\n",
              "      <th>device_make</th>\n",
              "      <th>platform_os</th>\n",
              "      <th>browser</th>\n",
              "      <th>yes</th>\n",
              "      <th>no</th>\n",
              "    </tr>\n",
              "  </thead>\n",
              "  <tbody>\n",
              "    <tr>\n",
              "      <th>0</th>\n",
              "      <td>0008ef63-77a7-448b-bd1e-075f42c55e39</td>\n",
              "      <td>exposed</td>\n",
              "      <td>2020-07-10</td>\n",
              "      <td>8</td>\n",
              "      <td>Generic Smartphone</td>\n",
              "      <td>6</td>\n",
              "      <td>Chrome Mobile</td>\n",
              "      <td>0</td>\n",
              "      <td>0</td>\n",
              "    </tr>\n",
              "    <tr>\n",
              "      <th>1</th>\n",
              "      <td>000eabc5-17ce-4137-8efe-44734d914446</td>\n",
              "      <td>exposed</td>\n",
              "      <td>2020-07-07</td>\n",
              "      <td>10</td>\n",
              "      <td>Generic Smartphone</td>\n",
              "      <td>6</td>\n",
              "      <td>Chrome Mobile</td>\n",
              "      <td>0</td>\n",
              "      <td>0</td>\n",
              "    </tr>\n",
              "    <tr>\n",
              "      <th>2</th>\n",
              "      <td>0016d14a-ae18-4a02-a204-6ba53b52f2ed</td>\n",
              "      <td>exposed</td>\n",
              "      <td>2020-07-05</td>\n",
              "      <td>2</td>\n",
              "      <td>E5823</td>\n",
              "      <td>6</td>\n",
              "      <td>Chrome Mobile WebView</td>\n",
              "      <td>0</td>\n",
              "      <td>1</td>\n",
              "    </tr>\n",
              "    <tr>\n",
              "      <th>3</th>\n",
              "      <td>00187412-2932-4542-a8ef-3633901c98d9</td>\n",
              "      <td>control</td>\n",
              "      <td>2020-07-03</td>\n",
              "      <td>15</td>\n",
              "      <td>Samsung SM-A705FN</td>\n",
              "      <td>6</td>\n",
              "      <td>Facebook</td>\n",
              "      <td>0</td>\n",
              "      <td>0</td>\n",
              "    </tr>\n",
              "    <tr>\n",
              "      <th>4</th>\n",
              "      <td>001a7785-d3fe-4e11-a344-c8735acacc2c</td>\n",
              "      <td>control</td>\n",
              "      <td>2020-07-03</td>\n",
              "      <td>15</td>\n",
              "      <td>Generic Smartphone</td>\n",
              "      <td>6</td>\n",
              "      <td>Chrome Mobile</td>\n",
              "      <td>0</td>\n",
              "      <td>0</td>\n",
              "    </tr>\n",
              "  </tbody>\n",
              "</table>\n",
              "</div>"
            ],
            "text/plain": [
              "                             auction_id experiment        date  hour  \\\n",
              "0  0008ef63-77a7-448b-bd1e-075f42c55e39    exposed  2020-07-10     8   \n",
              "1  000eabc5-17ce-4137-8efe-44734d914446    exposed  2020-07-07    10   \n",
              "2  0016d14a-ae18-4a02-a204-6ba53b52f2ed    exposed  2020-07-05     2   \n",
              "3  00187412-2932-4542-a8ef-3633901c98d9    control  2020-07-03    15   \n",
              "4  001a7785-d3fe-4e11-a344-c8735acacc2c    control  2020-07-03    15   \n",
              "\n",
              "          device_make  platform_os                browser  yes  no  \n",
              "0  Generic Smartphone            6          Chrome Mobile    0   0  \n",
              "1  Generic Smartphone            6          Chrome Mobile    0   0  \n",
              "2               E5823            6  Chrome Mobile WebView    0   1  \n",
              "3   Samsung SM-A705FN            6               Facebook    0   0  \n",
              "4  Generic Smartphone            6          Chrome Mobile    0   0  "
            ]
          },
          "execution_count": 2,
          "metadata": {},
          "output_type": "execute_result"
        }
      ],
      "source": [
        "#data import\n",
        "df=pd.read_csv(\"AdSmartABdata.csv\")\n",
        "df.head()"
      ]
    },
    {
      "cell_type": "code",
      "execution_count": null,
      "id": "8b29d83a",
      "metadata": {
        "id": "8b29d83a",
        "outputId": "be262f57-abc6-4f2c-ac57-10567739e3b1"
      },
      "outputs": [
        {
          "data": {
            "text/plain": [
              "(8077, 9)"
            ]
          },
          "execution_count": 3,
          "metadata": {},
          "output_type": "execute_result"
        }
      ],
      "source": [
        "df.shape"
      ]
    },
    {
      "cell_type": "code",
      "execution_count": null,
      "id": "138b7db2",
      "metadata": {
        "id": "138b7db2",
        "outputId": "9f866b6c-11b7-4165-eb99-f2f2e7ef63f2"
      },
      "outputs": [
        {
          "name": "stdout",
          "output_type": "stream",
          "text": [
            "<class 'pandas.core.frame.DataFrame'>\n",
            "RangeIndex: 8077 entries, 0 to 8076\n",
            "Data columns (total 9 columns):\n",
            " #   Column       Non-Null Count  Dtype \n",
            "---  ------       --------------  ----- \n",
            " 0   auction_id   8077 non-null   object\n",
            " 1   experiment   8077 non-null   object\n",
            " 2   date         8077 non-null   object\n",
            " 3   hour         8077 non-null   int64 \n",
            " 4   device_make  8077 non-null   object\n",
            " 5   platform_os  8077 non-null   int64 \n",
            " 6   browser      8077 non-null   object\n",
            " 7   yes          8077 non-null   int64 \n",
            " 8   no           8077 non-null   int64 \n",
            "dtypes: int64(4), object(5)\n",
            "memory usage: 568.0+ KB\n"
          ]
        }
      ],
      "source": [
        "df.info()"
      ]
    },
    {
      "cell_type": "code",
      "execution_count": null,
      "id": "28bb2ddf",
      "metadata": {
        "scrolled": true,
        "id": "28bb2ddf",
        "outputId": "b3c4513f-eeaf-4a51-c552-3eb7cb0086dd"
      },
      "outputs": [
        {
          "data": {
            "text/plain": [
              "auction_id     0\n",
              "experiment     0\n",
              "date           0\n",
              "hour           0\n",
              "device_make    0\n",
              "platform_os    0\n",
              "browser        0\n",
              "yes            0\n",
              "no             0\n",
              "dtype: int64"
            ]
          },
          "execution_count": 5,
          "metadata": {},
          "output_type": "execute_result"
        }
      ],
      "source": [
        "# Checking for nulls\n",
        "total_nulls=df.isnull().sum()\n",
        "total_nulls"
      ]
    },
    {
      "cell_type": "code",
      "execution_count": null,
      "id": "61411ab9",
      "metadata": {
        "id": "61411ab9",
        "outputId": "998a37e0-94bf-43ab-d15f-25e94084cb79"
      },
      "outputs": [
        {
          "data": {
            "text/html": [
              "<div>\n",
              "<style scoped>\n",
              "    .dataframe tbody tr th:only-of-type {\n",
              "        vertical-align: middle;\n",
              "    }\n",
              "\n",
              "    .dataframe tbody tr th {\n",
              "        vertical-align: top;\n",
              "    }\n",
              "\n",
              "    .dataframe thead th {\n",
              "        text-align: right;\n",
              "    }\n",
              "</style>\n",
              "<table border=\"1\" class=\"dataframe\">\n",
              "  <thead>\n",
              "    <tr style=\"text-align: right;\">\n",
              "      <th></th>\n",
              "      <th>auction_id</th>\n",
              "      <th>experiment</th>\n",
              "      <th>date</th>\n",
              "      <th>hour</th>\n",
              "      <th>device_make</th>\n",
              "      <th>platform_os</th>\n",
              "      <th>browser</th>\n",
              "      <th>yes</th>\n",
              "      <th>no</th>\n",
              "    </tr>\n",
              "  </thead>\n",
              "  <tbody>\n",
              "    <tr>\n",
              "      <th>0</th>\n",
              "      <td>0008ef63-77a7-448b-bd1e-075f42c55e39</td>\n",
              "      <td>exposed</td>\n",
              "      <td>2020-07-10</td>\n",
              "      <td>8</td>\n",
              "      <td>Generic Smartphone</td>\n",
              "      <td>6</td>\n",
              "      <td>Chrome Mobile</td>\n",
              "      <td>0</td>\n",
              "      <td>0</td>\n",
              "    </tr>\n",
              "    <tr>\n",
              "      <th>1</th>\n",
              "      <td>000eabc5-17ce-4137-8efe-44734d914446</td>\n",
              "      <td>exposed</td>\n",
              "      <td>2020-07-07</td>\n",
              "      <td>10</td>\n",
              "      <td>Generic Smartphone</td>\n",
              "      <td>6</td>\n",
              "      <td>Chrome Mobile</td>\n",
              "      <td>0</td>\n",
              "      <td>0</td>\n",
              "    </tr>\n",
              "    <tr>\n",
              "      <th>3</th>\n",
              "      <td>00187412-2932-4542-a8ef-3633901c98d9</td>\n",
              "      <td>control</td>\n",
              "      <td>2020-07-03</td>\n",
              "      <td>15</td>\n",
              "      <td>Samsung SM-A705FN</td>\n",
              "      <td>6</td>\n",
              "      <td>Facebook</td>\n",
              "      <td>0</td>\n",
              "      <td>0</td>\n",
              "    </tr>\n",
              "    <tr>\n",
              "      <th>4</th>\n",
              "      <td>001a7785-d3fe-4e11-a344-c8735acacc2c</td>\n",
              "      <td>control</td>\n",
              "      <td>2020-07-03</td>\n",
              "      <td>15</td>\n",
              "      <td>Generic Smartphone</td>\n",
              "      <td>6</td>\n",
              "      <td>Chrome Mobile</td>\n",
              "      <td>0</td>\n",
              "      <td>0</td>\n",
              "    </tr>\n",
              "    <tr>\n",
              "      <th>5</th>\n",
              "      <td>0027ce48-d3c6-4935-bb12-dfb5d5627857</td>\n",
              "      <td>control</td>\n",
              "      <td>2020-07-03</td>\n",
              "      <td>15</td>\n",
              "      <td>Samsung SM-G960F</td>\n",
              "      <td>6</td>\n",
              "      <td>Facebook</td>\n",
              "      <td>0</td>\n",
              "      <td>0</td>\n",
              "    </tr>\n",
              "  </tbody>\n",
              "</table>\n",
              "</div>"
            ],
            "text/plain": [
              "                             auction_id experiment        date  hour  \\\n",
              "0  0008ef63-77a7-448b-bd1e-075f42c55e39    exposed  2020-07-10     8   \n",
              "1  000eabc5-17ce-4137-8efe-44734d914446    exposed  2020-07-07    10   \n",
              "3  00187412-2932-4542-a8ef-3633901c98d9    control  2020-07-03    15   \n",
              "4  001a7785-d3fe-4e11-a344-c8735acacc2c    control  2020-07-03    15   \n",
              "5  0027ce48-d3c6-4935-bb12-dfb5d5627857    control  2020-07-03    15   \n",
              "\n",
              "          device_make  platform_os        browser  yes  no  \n",
              "0  Generic Smartphone            6  Chrome Mobile    0   0  \n",
              "1  Generic Smartphone            6  Chrome Mobile    0   0  \n",
              "3   Samsung SM-A705FN            6       Facebook    0   0  \n",
              "4  Generic Smartphone            6  Chrome Mobile    0   0  \n",
              "5    Samsung SM-G960F            6       Facebook    0   0  "
            ]
          },
          "execution_count": 6,
          "metadata": {},
          "output_type": "execute_result"
        }
      ],
      "source": [
        "# non-answer observations (both 'yes' and 'no' columns are equal to 0)\n",
        "df_00=df[(df['yes']==0)&(df['no']==0)]\n",
        "df_00.head()"
      ]
    },
    {
      "cell_type": "code",
      "execution_count": null,
      "id": "c8d60c4d",
      "metadata": {
        "id": "c8d60c4d",
        "outputId": "41f0ba7c-38ce-456e-f520-8dd6704c8ce0"
      },
      "outputs": [
        {
          "name": "stdout",
          "output_type": "stream",
          "text": [
            "# Observations: 1243\n"
          ]
        },
        {
          "data": {
            "text/html": [
              "<div>\n",
              "<style scoped>\n",
              "    .dataframe tbody tr th:only-of-type {\n",
              "        vertical-align: middle;\n",
              "    }\n",
              "\n",
              "    .dataframe tbody tr th {\n",
              "        vertical-align: top;\n",
              "    }\n",
              "\n",
              "    .dataframe thead th {\n",
              "        text-align: right;\n",
              "    }\n",
              "</style>\n",
              "<table border=\"1\" class=\"dataframe\">\n",
              "  <thead>\n",
              "    <tr style=\"text-align: right;\">\n",
              "      <th></th>\n",
              "      <th>auction_id</th>\n",
              "      <th>experiment</th>\n",
              "      <th>date</th>\n",
              "      <th>hour</th>\n",
              "      <th>device_make</th>\n",
              "      <th>platform_os</th>\n",
              "      <th>browser</th>\n",
              "      <th>yes</th>\n",
              "      <th>no</th>\n",
              "    </tr>\n",
              "  </thead>\n",
              "  <tbody>\n",
              "    <tr>\n",
              "      <th>2</th>\n",
              "      <td>0016d14a-ae18-4a02-a204-6ba53b52f2ed</td>\n",
              "      <td>exposed</td>\n",
              "      <td>2020-07-05</td>\n",
              "      <td>2</td>\n",
              "      <td>E5823</td>\n",
              "      <td>6</td>\n",
              "      <td>Chrome Mobile WebView</td>\n",
              "      <td>0</td>\n",
              "      <td>1</td>\n",
              "    </tr>\n",
              "    <tr>\n",
              "      <th>16</th>\n",
              "      <td>008aafdf-deef-4482-8fec-d98e3da054da</td>\n",
              "      <td>exposed</td>\n",
              "      <td>2020-07-04</td>\n",
              "      <td>16</td>\n",
              "      <td>Generic Smartphone</td>\n",
              "      <td>6</td>\n",
              "      <td>Chrome Mobile</td>\n",
              "      <td>1</td>\n",
              "      <td>0</td>\n",
              "    </tr>\n",
              "    <tr>\n",
              "      <th>20</th>\n",
              "      <td>00a1384a-5118-4d1b-925b-6cdada50318d</td>\n",
              "      <td>exposed</td>\n",
              "      <td>2020-07-06</td>\n",
              "      <td>8</td>\n",
              "      <td>Generic Smartphone</td>\n",
              "      <td>6</td>\n",
              "      <td>Chrome Mobile</td>\n",
              "      <td>0</td>\n",
              "      <td>1</td>\n",
              "    </tr>\n",
              "    <tr>\n",
              "      <th>23</th>\n",
              "      <td>00b6fadb-10bd-49e3-a778-290da82f7a8d</td>\n",
              "      <td>control</td>\n",
              "      <td>2020-07-08</td>\n",
              "      <td>4</td>\n",
              "      <td>Samsung SM-A202F</td>\n",
              "      <td>6</td>\n",
              "      <td>Facebook</td>\n",
              "      <td>1</td>\n",
              "      <td>0</td>\n",
              "    </tr>\n",
              "    <tr>\n",
              "      <th>27</th>\n",
              "      <td>00ebf4a8-060f-4b99-93ac-c62724399483</td>\n",
              "      <td>control</td>\n",
              "      <td>2020-07-03</td>\n",
              "      <td>15</td>\n",
              "      <td>Generic Smartphone</td>\n",
              "      <td>6</td>\n",
              "      <td>Chrome Mobile</td>\n",
              "      <td>0</td>\n",
              "      <td>1</td>\n",
              "    </tr>\n",
              "  </tbody>\n",
              "</table>\n",
              "</div>"
            ],
            "text/plain": [
              "                              auction_id experiment        date  hour  \\\n",
              "2   0016d14a-ae18-4a02-a204-6ba53b52f2ed    exposed  2020-07-05     2   \n",
              "16  008aafdf-deef-4482-8fec-d98e3da054da    exposed  2020-07-04    16   \n",
              "20  00a1384a-5118-4d1b-925b-6cdada50318d    exposed  2020-07-06     8   \n",
              "23  00b6fadb-10bd-49e3-a778-290da82f7a8d    control  2020-07-08     4   \n",
              "27  00ebf4a8-060f-4b99-93ac-c62724399483    control  2020-07-03    15   \n",
              "\n",
              "           device_make  platform_os                browser  yes  no  \n",
              "2                E5823            6  Chrome Mobile WebView    0   1  \n",
              "16  Generic Smartphone            6          Chrome Mobile    1   0  \n",
              "20  Generic Smartphone            6          Chrome Mobile    0   1  \n",
              "23    Samsung SM-A202F            6               Facebook    1   0  \n",
              "27  Generic Smartphone            6          Chrome Mobile    0   1  "
            ]
          },
          "execution_count": 7,
          "metadata": {},
          "output_type": "execute_result"
        }
      ],
      "source": [
        "# dropped non-answer observations\n",
        "df_A00=df.drop(df_00.index)\n",
        "print('# Observations: {}'.format(df_A00.shape[0]))\n",
        "df_A00.head()"
      ]
    },
    {
      "cell_type": "code",
      "execution_count": null,
      "id": "5ad75ed2",
      "metadata": {
        "id": "5ad75ed2",
        "outputId": "2f9213bd-fa80-4c3c-93ac-53960daf7687"
      },
      "outputs": [
        {
          "data": {
            "text/plain": [
              "auction_id     0\n",
              "experiment     0\n",
              "date           0\n",
              "hour           0\n",
              "device_make    0\n",
              "platform_os    0\n",
              "browser        0\n",
              "yes            0\n",
              "no             0\n",
              "dtype: int64"
            ]
          },
          "execution_count": 8,
          "metadata": {},
          "output_type": "execute_result"
        }
      ],
      "source": [
        "# Checking for nulls again\n",
        "df_A00.isnull().sum()"
      ]
    },
    {
      "cell_type": "markdown",
      "id": "5d098e06",
      "metadata": {
        "id": "5d098e06"
      },
      "source": [
        "## Exploratory Data Analysis"
      ]
    },
    {
      "cell_type": "code",
      "execution_count": null,
      "id": "957025cc",
      "metadata": {
        "id": "957025cc",
        "outputId": "818f6367-5af5-4808-ed2c-1001ffbd1ab1"
      },
      "outputs": [
        {
          "data": {
            "text/plain": [
              "exposed    657\n",
              "control    586\n",
              "Name: experiment, dtype: int64"
            ]
          },
          "execution_count": 9,
          "metadata": {},
          "output_type": "execute_result"
        }
      ],
      "source": [
        "#exploring 'experiment' values\n",
        "df_A00['experiment'].value_counts()"
      ]
    },
    {
      "cell_type": "code",
      "execution_count": null,
      "id": "98e982fd",
      "metadata": {
        "id": "98e982fd",
        "outputId": "bf0f2729-a49b-463e-fdbe-66695cf068a5"
      },
      "outputs": [
        {
          "data": {
            "text/plain": [
              "(586, 586)"
            ]
          },
          "execution_count": 10,
          "metadata": {},
          "output_type": "execute_result"
        }
      ],
      "source": [
        "number_control=df_A00['experiment'].value_counts().control\n",
        "number_exposed=df_A00['experiment'].value_counts().exposed\n",
        "number_control, number_control"
      ]
    },
    {
      "cell_type": "code",
      "execution_count": null,
      "id": "9ff1ad5c",
      "metadata": {
        "scrolled": true,
        "id": "9ff1ad5c",
        "outputId": "3d7907d9-80b4-445b-a7d1-b96b924ee59b"
      },
      "outputs": [
        {
          "name": "stderr",
          "output_type": "stream",
          "text": [
            "/var/folders/c1/y0qhw1q54ys1fs7mkjx0j_8m0000gn/T/ipykernel_3862/715875088.py:1: FutureWarning: Indexing with multiple keys (implicitly converted to a tuple of keys) will be deprecated, use a list instead.\n",
            "  experiments=df_A00.groupby('experiment')['yes','no'].sum()\n"
          ]
        },
        {
          "data": {
            "text/html": [
              "<div>\n",
              "<style scoped>\n",
              "    .dataframe tbody tr th:only-of-type {\n",
              "        vertical-align: middle;\n",
              "    }\n",
              "\n",
              "    .dataframe tbody tr th {\n",
              "        vertical-align: top;\n",
              "    }\n",
              "\n",
              "    .dataframe thead th {\n",
              "        text-align: right;\n",
              "    }\n",
              "</style>\n",
              "<table border=\"1\" class=\"dataframe\">\n",
              "  <thead>\n",
              "    <tr style=\"text-align: right;\">\n",
              "      <th></th>\n",
              "      <th>yes</th>\n",
              "      <th>no</th>\n",
              "    </tr>\n",
              "    <tr>\n",
              "      <th>experiment</th>\n",
              "      <th></th>\n",
              "      <th></th>\n",
              "    </tr>\n",
              "  </thead>\n",
              "  <tbody>\n",
              "    <tr>\n",
              "      <th>control</th>\n",
              "      <td>264</td>\n",
              "      <td>322</td>\n",
              "    </tr>\n",
              "    <tr>\n",
              "      <th>exposed</th>\n",
              "      <td>308</td>\n",
              "      <td>349</td>\n",
              "    </tr>\n",
              "  </tbody>\n",
              "</table>\n",
              "</div>"
            ],
            "text/plain": [
              "            yes   no\n",
              "experiment          \n",
              "control     264  322\n",
              "exposed     308  349"
            ]
          },
          "execution_count": 11,
          "metadata": {},
          "output_type": "execute_result"
        }
      ],
      "source": [
        "experiments=df_A00.groupby('experiment')['yes','no'].sum()\n",
        "experiments"
      ]
    },
    {
      "cell_type": "code",
      "execution_count": null,
      "id": "5a1e8e73",
      "metadata": {
        "id": "5a1e8e73",
        "outputId": "9e02a7fd-babf-41b5-abd2-033a8ba83fba"
      },
      "outputs": [
        {
          "data": {
            "text/plain": [
              "experiment\n",
              "control    264\n",
              "exposed    308\n",
              "Name: yes, dtype: int64"
            ]
          },
          "execution_count": 12,
          "metadata": {},
          "output_type": "execute_result"
        }
      ],
      "source": [
        "experiments_yes= df_A00.groupby('experiment')['yes'].sum()\n",
        "experiments_yes"
      ]
    },
    {
      "cell_type": "code",
      "execution_count": null,
      "id": "7f57ece9",
      "metadata": {
        "id": "7f57ece9",
        "outputId": "ba66aed9-9af6-4292-b4f2-5c2ee0467a93"
      },
      "outputs": [
        {
          "data": {
            "text/plain": [
              "(264, 308)"
            ]
          },
          "execution_count": 13,
          "metadata": {},
          "output_type": "execute_result"
        }
      ],
      "source": [
        "control_yes=experiments_yes.iloc[0]\n",
        "exposed_yes=experiments_yes.iloc[1]\n",
        "control_yes, exposed_yes"
      ]
    },
    {
      "cell_type": "markdown",
      "id": "12c24896",
      "metadata": {
        "id": "12c24896"
      },
      "source": [
        "## Statistical Analysis"
      ]
    },
    {
      "cell_type": "markdown",
      "id": "1d7be991",
      "metadata": {
        "id": "1d7be991"
      },
      "source": [
        "#### Experiment Approach\n",
        "\n",
        "- Null Hyphothesis 𝐻0: There is no significant difference between the ad success rate of both groups\n",
        "\n",
        "\n",
        "- Alternative Hyphothesis 𝐻1: There is significant difference between the ad success rate of both groups\n",
        "\n",
        "\n",
        "- We will perform a two-tailed test\n",
        "\n",
        "\n",
        "- Confidence Level: 95% (α=0.05)"
      ]
    },
    {
      "cell_type": "code",
      "execution_count": null,
      "id": "e06dbbff",
      "metadata": {
        "id": "e06dbbff",
        "outputId": "e90d196a-79a3-4fdc-e703-67d8eaf12ac7"
      },
      "outputs": [
        {
          "name": "stdout",
          "output_type": "stream",
          "text": [
            "0.45051194539249145 0.4687975646879756\n",
            "The conversion rate : 0.018285619295484168\n"
          ]
        }
      ],
      "source": [
        "# The conversion rate\n",
        "rate_control= control_yes/number_control\n",
        "rate_exposed= exposed_yes/number_exposed\n",
        "print(rate_control, rate_exposed)\n",
        "print('The conversion rate :', rate_exposed-rate_control)"
      ]
    },
    {
      "cell_type": "code",
      "execution_count": null,
      "id": "c01479a6",
      "metadata": {
        "id": "c01479a6"
      },
      "outputs": [],
      "source": [
        "# Significance Level\n",
        "alpha = 0.05"
      ]
    },
    {
      "cell_type": "code",
      "execution_count": null,
      "id": "891fea94",
      "metadata": {
        "id": "891fea94",
        "outputId": "4e41d79f-bc39-4ec5-920d-bbf79eb003be"
      },
      "outputs": [
        {
          "data": {
            "text/plain": [
              "0.46017699115044247"
            ]
          },
          "execution_count": 16,
          "metadata": {},
          "output_type": "execute_result"
        }
      ],
      "source": [
        "p_pooled_hat=(control_yes+exposed_yes)/(number_control+number_exposed)\n",
        "p_pooled_hat"
      ]
    },
    {
      "cell_type": "code",
      "execution_count": null,
      "id": "cb9b39ee",
      "metadata": {
        "id": "cb9b39ee",
        "outputId": "6a308cf7-fb03-47be-a5b0-648642cd9905"
      },
      "outputs": [
        {
          "data": {
            "text/plain": [
              "0.0008020185896747209"
            ]
          },
          "execution_count": 17,
          "metadata": {},
          "output_type": "execute_result"
        }
      ],
      "source": [
        "pooled_variance=p_pooled_hat*(1-p_pooled_hat)*(1/number_control+1/number_exposed)\n",
        "pooled_variance"
      ]
    },
    {
      "cell_type": "code",
      "execution_count": null,
      "id": "de7a65a2",
      "metadata": {
        "id": "de7a65a2",
        "outputId": "d32febe0-c8c2-4ea5-d0fd-fed1847117f7"
      },
      "outputs": [
        {
          "data": {
            "text/plain": [
              "0.028319932727228023"
            ]
          },
          "execution_count": 18,
          "metadata": {},
          "output_type": "execute_result"
        }
      ],
      "source": [
        "# Standard Error\n",
        "SE=np.sqrt(pooled_variance)\n",
        "SE"
      ]
    },
    {
      "cell_type": "code",
      "execution_count": null,
      "id": "0eb104f3",
      "metadata": {
        "id": "0eb104f3",
        "outputId": "42bec361-8ae8-4737-960d-adc52cf3ac9f"
      },
      "outputs": [
        {
          "data": {
            "text/plain": [
              "-0.645680181221037"
            ]
          },
          "execution_count": 19,
          "metadata": {},
          "output_type": "execute_result"
        }
      ],
      "source": [
        "# test statsitics\n",
        "Test_stat=(rate_control - rate_exposed)/SE\n",
        "Test_stat"
      ]
    },
    {
      "cell_type": "code",
      "execution_count": null,
      "id": "c6e7e826",
      "metadata": {
        "id": "c6e7e826",
        "outputId": "3c383069-bef2-48e2-fdeb-8cfed86a21f4"
      },
      "outputs": [
        {
          "data": {
            "text/plain": [
              "1.959963984540054"
            ]
          },
          "execution_count": 20,
          "metadata": {},
          "output_type": "execute_result"
        }
      ],
      "source": [
        "# critical value usig the standard normal distribution\n",
        "Z_crit=norm.ppf(1-alpha/2)\n",
        "Z_crit"
      ]
    },
    {
      "cell_type": "code",
      "execution_count": null,
      "id": "929727cf",
      "metadata": {
        "id": "929727cf",
        "outputId": "b445dcef-e534-4af5-e8b2-8745c0b3b928"
      },
      "outputs": [
        {
          "data": {
            "text/plain": [
              "0.055506048189964116"
            ]
          },
          "execution_count": 21,
          "metadata": {},
          "output_type": "execute_result"
        }
      ],
      "source": [
        "# Margin of error\n",
        "m=SE*Z_crit\n",
        "m"
      ]
    },
    {
      "cell_type": "code",
      "execution_count": null,
      "id": "3ab662c3",
      "metadata": {
        "id": "3ab662c3",
        "outputId": "6dc1fcdc-4c9a-4b95-d78f-aa7990c750f1"
      },
      "outputs": [
        {
          "data": {
            "text/plain": [
              "1.4815135017801033"
            ]
          },
          "execution_count": 22,
          "metadata": {},
          "output_type": "execute_result"
        }
      ],
      "source": [
        "# two sided test and using symmetry property of Normal distibution so we multiple with 2\n",
        "p_value=norm.sf(Test_stat)*2\n",
        "p_value"
      ]
    },
    {
      "cell_type": "code",
      "execution_count": null,
      "id": "e97b7ba2",
      "metadata": {
        "id": "e97b7ba2",
        "outputId": "2ebc38f0-db91-4dad-b8ba-ecdd803c26d7"
      },
      "outputs": [
        {
          "data": {
            "text/plain": [
              "[-0.07379166748544828, 0.03722042889447995]"
            ]
          },
          "execution_count": 23,
          "metadata": {},
          "output_type": "execute_result"
        }
      ],
      "source": [
        "# Confidence Interval\n",
        "CI=[(rate_control-rate_exposed)-SE*Z_crit, (rate_control-rate_exposed)+SE*Z_crit]\n",
        "CI"
      ]
    },
    {
      "cell_type": "code",
      "execution_count": null,
      "id": "3ba28237",
      "metadata": {
        "id": "3ba28237",
        "outputId": "9ad36386-7978-4355-aefb-05c94395c8fa"
      },
      "outputs": [
        {
          "name": "stdout",
          "output_type": "stream",
          "text": [
            "Test Statistics stat: -0.6457\n",
            "Z-critical: 1.96\n",
            "P_value: 1.4815\n",
            "Confidence Interval of 2 sample Z-test for proportions:  [-0.0738  0.0372]\n"
          ]
        }
      ],
      "source": [
        "print('Test Statistics stat:', np.round(Test_stat,4))\n",
        "print('Z-critical:',  np.round(Z_crit,4))\n",
        "print('P_value:',  np.round(p_value,4))\n",
        "print('Confidence Interval of 2 sample Z-test for proportions: ', np.round(CI,4))"
      ]
    },
    {
      "cell_type": "code",
      "execution_count": null,
      "id": "40ee850a",
      "metadata": {
        "id": "40ee850a",
        "outputId": "13c01a10-0882-488d-8f24-8bd9ccbb490f"
      },
      "outputs": [
        {
          "data": {
            "image/png": "[encoded data removed]",
            "text/plain": [
              "<Figure size 640x480 with 1 Axes>"
            ]
          },
          "metadata": {},
          "output_type": "display_data"
        }
      ],
      "source": [
        "z=np.arange(-3, 3, 0.01)\n",
        "plt.plot(z, norm.pdf(z), label='Standard Normal Distribution', linewidth=1)\n",
        "plt.fill_between(z[z>Z_crit], norm.pdf(z[z>Z_crit]), label='Right Rejection Region',color ='red' )\n",
        "plt.fill_between(z[z<(-1)*Z_crit], norm.pdf(z[z<(-1)*Z_crit]), label='Left Rejection Region',color='red' )\n",
        "plt.title('Two Sample Z-test rejection region')\n",
        "plt.legend()\n",
        "plt.show()"
      ]
    },
    {
      "cell_type": "code",
      "execution_count": null,
      "id": "e10d53fa",
      "metadata": {
        "scrolled": true,
        "id": "e10d53fa",
        "outputId": "cd89b1c7-019d-4ba4-f95c-f086aa03b3e3"
      },
      "outputs": [
        {
          "name": "stdout",
          "output_type": "stream",
          "text": [
            "Test statistics:0.6457 < Z-critical:1.96, can not be rejected the null hypothesis\n"
          ]
        }
      ],
      "source": [
        "if np.abs(Test_stat)>=Z_crit:\n",
        "    print(f'Test statistics:{round(np.abs(Test_stat),4)} >= Z-critical:{round(Z_crit,4)}, rejected the null hypothesis')\n",
        "else:\n",
        "    print(f'Test statistics:{round(np.abs(Test_stat),4)} < Z-critical:{round(Z_crit,4)}, can not be rejected the null hypothesis')"
      ]
    },
    {
      "cell_type": "markdown",
      "id": "c99bac2e",
      "metadata": {
        "id": "c99bac2e"
      },
      "source": [
        "## Conclusion"
      ]
    },
    {
      "cell_type": "markdown",
      "id": "94faa2c4",
      "metadata": {
        "id": "94faa2c4"
      },
      "source": [
        "- Null hypothesis 𝐻0 can not be rejected, which means that the new advertisement design did not performed better than the old one.\n",
        "\n",
        "- There were enough data points to make a reasonable judgement.\n",
        "\n",
        "- Based on the A/B Testing Analysis the new advertisement design does not give an increase in brand awareness."
      ]
    },
    {
      "cell_type": "markdown",
      "id": "de9f4f7f",
      "metadata": {
        "id": "de9f4f7f"
      },
      "source": [
        "## References"
      ]
    },
    {
      "cell_type": "markdown",
      "id": "eb55e4da",
      "metadata": {
        "id": "eb55e4da"
      },
      "source": [
        "- https://www.visual-design.net/post/an-interactive-guide-to-hypothesis-testing-in-python\n",
        "\n",
        "- https://www.yourdatateacher.com/2022/10/17/a-beginners-guide-to-statistical-hypothesis-tests/\n",
        "\n",
        "- https://pythonguides.com/python-scipy-stats-norm/\n",
        "\n",
        "- https://towardsdatascience.com/hypothesis-testing-in-machine-learning-using-python-a0dc89e169ce\n",
        "\n",
        "- https://towardsdatascience.com/analyzing-a-b-test-results-with-python-code-b55fdcd8a78e"
      ]
    },
    {
      "cell_type": "markdown",
      "source": [
        "#**OFFICE HOUR**"
      ],
      "metadata": {
        "id": "rkzsUcX6wbsz"
      },
      "id": "rkzsUcX6wbsz"
    },
    {
      "cell_type": "code",
      "source": [],
      "metadata": {
        "id": "hqS0Cd2twgrW"
      },
      "id": "hqS0Cd2twgrW",
      "execution_count": null,
      "outputs": []
    },
    {
      "cell_type": "code",
      "source": [],
      "metadata": {
        "id": "_Id-R-h9wgqh"
      },
      "id": "_Id-R-h9wgqh",
      "execution_count": null,
      "outputs": []
    },
    {
      "cell_type": "code",
      "source": [],
      "metadata": {
        "id": "-2qvo9Qwwgps"
      },
      "id": "-2qvo9Qwwgps",
      "execution_count": null,
      "outputs": []
    },
    {
      "cell_type": "code",
      "source": [],
      "metadata": {
        "id": "_iygVkqhwgoC"
      },
      "id": "_iygVkqhwgoC",
      "execution_count": null,
      "outputs": []
    }
  ],
  "metadata": {
    "kernelspec": {
      "display_name": "Python 3 (ipykernel)",
      "language": "python",
      "name": "python3"
    },
    "language_info": {
      "codemirror_mode": {
        "name": "ipython",
        "version": 3
      },
      "file_extension": ".py",
      "mimetype": "text/x-python",
      "name": "python",
      "nbconvert_exporter": "python",
      "pygments_lexer": "ipython3",
      "version": "3.9.13"
    },
    "colab": {
      "provenance": [],
      "include_colab_link": true
    }
  },
  "nbformat": 4,
  "nbformat_minor": 5
}