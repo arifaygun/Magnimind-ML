{
  "cells": [
    {
      "cell_type": "markdown",
      "metadata": {
        "id": "view-in-github",
        "colab_type": "text"
      },
      "source": [
        "<a href=\"https://colab.research.google.com/github/ArifAygun/Magnimind-ML/blob/main/AA_3_02_LinearRegRessionSt.ipynb\" target=\"_parent\"><img src=\"https://colab.research.google.com/assets/colab-badge.svg\" alt=\"Open In Colab\"/></a>"
      ]
    },
    {
      "cell_type": "markdown",
      "metadata": {
        "id": "7uNBena4JFyz"
      },
      "source": [
        "## Linear Regression Models"
      ]
    },
    {
      "cell_type": "code",
      "execution_count": null,
      "metadata": {
        "jupyter": {
          "outputs_hidden": false
        },
        "id": "Xq0SJ9zMJFy3"
      },
      "outputs": [],
      "source": [
        "import matplotlib.pyplot as plt\n",
        "#% matplotlib inline\n",
        "import numpy as np\n",
        "np.random.seed(42)\n",
        "plt.rcParams['savefig.dpi'] = 300\n",
        "plt.rcParams['savefig.bbox'] = 'tight'"
      ]
    },
    {
      "cell_type": "code",
      "execution_count": null,
      "metadata": {
        "jupyter": {
          "outputs_hidden": false
        },
        "id": "JIeIqmtlJFy5"
      },
      "outputs": [],
      "source": [
        "from sklearn.linear_model import Ridge, LinearRegression, Lasso, RidgeCV, LassoCV"
      ]
    },
    {
      "cell_type": "code",
      "execution_count": null,
      "metadata": {
        "jupyter": {
          "outputs_hidden": false
        },
        "id": "jmMbymG8JFy5"
      },
      "outputs": [],
      "source": [
        "from sklearn.model_selection import cross_val_score"
      ]
    },
    {
      "cell_type": "markdown",
      "metadata": {
        "id": "pLAPdInUJFy5"
      },
      "source": [
        "## 1. Linear Regression with Randomly Generated Data\n",
        "\n",
        "- Generate random data for X and y and plot it\n",
        "- Concatenate $x0=1$ to X, representing the bias term\n",
        "- Find the best coefficient values using mathematical closed form solution\n",
        "- Predict the y value for new data points of `[0]` and `[2]`\n",
        "- Fit a prediction line to the previously generated random data set\n",
        "- Find the coefficients and the prediction for the same new data points when using `scikitlearn`'s "
      ]
    },
    {
      "cell_type": "code",
      "execution_count": null,
      "metadata": {
        "id": "R0GWQerWJFy6"
      },
      "outputs": [],
      "source": []
    },
    {
      "cell_type": "markdown",
      "metadata": {
        "id": "K4a_P-RmJFy6"
      },
      "source": [
        "## 2. Polynomial Features"
      ]
    },
    {
      "cell_type": "markdown",
      "metadata": {
        "id": "StPH6iebJFy6"
      },
      "source": [
        "- Generate random data for X and y and plot it. this time, y will be a function of a polynomial.\n",
        "- Transform the feature set using `PolynomialFeatures`\n",
        "- Fit LinearRegression model to the transformed data\n",
        "- Fit the data without transformation\n",
        "- Plot the prediction lines for both polynomial regression and linear regression. Observe which one fits better to the dataset\n"
      ]
    },
    {
      "cell_type": "code",
      "execution_count": null,
      "metadata": {
        "id": "owG2OGXyJFy6"
      },
      "outputs": [],
      "source": []
    },
    {
      "cell_type": "markdown",
      "metadata": {
        "id": "elXrjr83JFy7"
      },
      "source": [
        "## 3. Boston Housing Data with Polynomials"
      ]
    },
    {
      "cell_type": "markdown",
      "metadata": {
        "id": "Q26T2B5LJFy7"
      },
      "source": [
        "- Transform the Boston House dataset and split the dataset into test and train datasets\n",
        "- Run cross validation\n",
        "- Plot the coefficients of the model"
      ]
    },
    {
      "cell_type": "code",
      "execution_count": null,
      "metadata": {
        "id": "DLchETsnJFy7"
      },
      "outputs": [],
      "source": [
        "from sklearn.preprocessing import PolynomialFeatures, StandardScaler\n",
        "from sklearn.impute import SimpleImputer\n",
        "from sklearn.datasets import load_boston\n",
        "from sklearn.model_selection import train_test_split\n",
        "from sklearn.pipeline import Pipeline"
      ]
    },
    {
      "cell_type": "code",
      "execution_count": null,
      "metadata": {
        "id": "_ViNH3UxJFy8"
      },
      "outputs": [],
      "source": []
    }
  ],
  "metadata": {
    "kernelspec": {
      "display_name": "Python 3 (ipykernel)",
      "language": "python",
      "name": "python3"
    },
    "language_info": {
      "codemirror_mode": {
        "name": "ipython",
        "version": 3
      },
      "file_extension": ".py",
      "mimetype": "text/x-python",
      "name": "python",
      "nbconvert_exporter": "python",
      "pygments_lexer": "ipython3",
      "version": "3.9.16"
    },
    "colab": {
      "provenance": [],
      "include_colab_link": true
    }
  },
  "nbformat": 4,
  "nbformat_minor": 0
}