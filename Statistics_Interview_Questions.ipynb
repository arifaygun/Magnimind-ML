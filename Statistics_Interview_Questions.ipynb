{
  "nbformat": 4,
  "nbformat_minor": 0,
  "metadata": {
    "colab": {
      "provenance": [],
      "authorship_tag": "ABX9TyMwGiuV7KPKQ4kD9XZp2Q7I",
      "include_colab_link": true
    },
    "kernelspec": {
      "name": "python3",
      "display_name": "Python 3"
    },
    "language_info": {
      "name": "python"
    }
  },
  "cells": [
    {
      "cell_type": "markdown",
      "metadata": {
        "id": "view-in-github",
        "colab_type": "text"
      },
      "source": [
        "<a href=\"https://colab.research.google.com/github/ArifAygun/Magnimind-ML/blob/main/Statistics_Interview_Questions.ipynb\" target=\"_parent\"><img src=\"https://colab.research.google.com/assets/colab-badge.svg\" alt=\"Open In Colab\"/></a>"
      ]
    },
    {
      "cell_type": "markdown",
      "source": [
        "#Q7"
      ],
      "metadata": {
        "id": "23ys8Auunt9P"
      }
    },
    {
      "cell_type": "markdown",
      "source": [
        "x1 x2 x3\n",
        "\n",
        "P(x3>x2>x1)"
      ],
      "metadata": {
        "id": "mldxm-zQn9PX"
      }
    },
    {
      "cell_type": "code",
      "execution_count": 5,
      "metadata": {
        "id": "EzZr_ntZnFIT"
      },
      "outputs": [],
      "source": [
        "import random\n",
        "import numpy as np"
      ]
    },
    {
      "cell_type": "code",
      "source": [
        "cards = np.arange(1,601)"
      ],
      "metadata": {
        "id": "R5gyVK8RoRs2"
      },
      "execution_count": 6,
      "outputs": []
    },
    {
      "cell_type": "code",
      "source": [
        "len(cards)"
      ],
      "metadata": {
        "colab": {
          "base_uri": "https://localhost:8080/"
        },
        "id": "giJw3tMsoXat",
        "outputId": "c21a65cb-4dc7-434a-8a44-372b5e679b3d"
      },
      "execution_count": 7,
      "outputs": [
        {
          "output_type": "execute_result",
          "data": {
            "text/plain": [
              "600"
            ]
          },
          "metadata": {},
          "execution_count": 7
        }
      ]
    },
    {
      "cell_type": "code",
      "source": [
        "cards[:10]"
      ],
      "metadata": {
        "colab": {
          "base_uri": "https://localhost:8080/"
        },
        "id": "_awtkbyFoxtP",
        "outputId": "bc081016-37f6-40f9-af7b-f63a5f51a444"
      },
      "execution_count": 8,
      "outputs": [
        {
          "output_type": "execute_result",
          "data": {
            "text/plain": [
              "array([ 1,  2,  3,  4,  5,  6,  7,  8,  9, 10])"
            ]
          },
          "metadata": {},
          "execution_count": 8
        }
      ]
    },
    {
      "cell_type": "code",
      "source": [
        "np.where(cards==a)"
      ],
      "metadata": {
        "colab": {
          "base_uri": "https://localhost:8080/",
          "height": 168
        },
        "id": "f0nM_zERpQBn",
        "outputId": "bf86a2e4-5084-4f5c-f7c4-dd708056eec7"
      },
      "execution_count": 9,
      "outputs": [
        {
          "output_type": "error",
          "ename": "NameError",
          "evalue": "ignored",
          "traceback": [
            "\u001b[0;31m---------------------------------------------------------------------------\u001b[0m",
            "\u001b[0;31mNameError\u001b[0m                                 Traceback (most recent call last)",
            "\u001b[0;32m<ipython-input-9-767c34dd5da1>\u001b[0m in \u001b[0;36m<module>\u001b[0;34m\u001b[0m\n\u001b[0;32m----> 1\u001b[0;31m \u001b[0mnp\u001b[0m\u001b[0;34m.\u001b[0m\u001b[0mwhere\u001b[0m\u001b[0;34m(\u001b[0m\u001b[0mcards\u001b[0m\u001b[0;34m==\u001b[0m\u001b[0ma\u001b[0m\u001b[0;34m)\u001b[0m\u001b[0;34m\u001b[0m\u001b[0;34m\u001b[0m\u001b[0m\n\u001b[0m",
            "\u001b[0;31mNameError\u001b[0m: name 'a' is not defined"
          ]
        }
      ]
    },
    {
      "cell_type": "code",
      "source": [
        "j=0\n",
        "N=100000\n",
        "for i in range(N):\n",
        "  cards2=cards.copy()\n",
        "  x1=random.choice(cards2)\n",
        "  cards2=np.delete(cards2, np.where(cards2==x1))\n",
        "  x2=random.choice(cards2)\n",
        "  cards2=np.delete(cards2, np.where(cards2==x2))\n",
        "  x3=random.choice(cards2)\n",
        "  if (x3>x2>x1):\n",
        "    j+=1\n",
        "print(j/N)"
      ],
      "metadata": {
        "colab": {
          "base_uri": "https://localhost:8080/"
        },
        "id": "895J5C4Vo1e_",
        "outputId": "2faebd0c-4064-460d-85ba-b3fb066ad52c"
      },
      "execution_count": 11,
      "outputs": [
        {
          "output_type": "stream",
          "name": "stdout",
          "text": [
            "0.16726\n"
          ]
        }
      ]
    },
    {
      "cell_type": "code",
      "source": [
        "j=0\n",
        "N=100000\n",
        "for i in range(N):\n",
        "  cards2=cards.copy()\n",
        "  x1=random.choice(cards2)\n",
        "  x2=random.choice(cards2)\n",
        "  x3=random.choice(cards2)\n",
        "  if (x3>x2>x1):\n",
        "    j+=1\n",
        "print(j/N)"
      ],
      "metadata": {
        "colab": {
          "base_uri": "https://localhost:8080/"
        },
        "id": "Yd2zWdiKql5x",
        "outputId": "9cbb8eae-0d7c-40b7-8190-eb054fabf64a"
      },
      "execution_count": 14,
      "outputs": [
        {
          "output_type": "stream",
          "name": "stdout",
          "text": [
            "0.16731\n"
          ]
        }
      ]
    },
    {
      "cell_type": "markdown",
      "source": [
        "1 2 3 4 5\n",
        "\n",
        "if you pick 3 cards from 5 with replacement, how many different 3 card combinations can you get?\n",
        "\n",
        "\n",
        "1 1 1\n",
        "\n",
        "5 * 5 * 5\n",
        "\n",
        "\n",
        "\n",
        "if you pick 3 cards from 5 without replacement, how many different 3 card combinations can you get?\n",
        "\n",
        "5 * 4 * 3\n",
        "\n",
        "x1<x2<x3\n",
        "\n"
      ],
      "metadata": {
        "id": "4mycmsDerI9U"
      }
    },
    {
      "cell_type": "markdown",
      "source": [
        "1 2 3\n",
        "1 2 4\n",
        "1 2 5\n",
        "1 3 4\n",
        "1 3 5\n",
        "1 4 5"
      ],
      "metadata": {
        "id": "gifgEm_7swQU"
      }
    },
    {
      "cell_type": "markdown",
      "source": [
        "2 3 4\n",
        "\n",
        "2 3 5\n",
        "\n",
        "2 4 5\n",
        "\n",
        "3 4 5"
      ],
      "metadata": {
        "id": "9d8TA0Eus7KE"
      }
    },
    {
      "cell_type": "markdown",
      "source": [
        "N\n",
        "\n",
        "(1,2) --> N-2\n",
        "\n",
        "(1,3) --> N-3\n",
        "\n",
        "(1,4) --> N-4\n",
        "\n",
        "....."
      ],
      "metadata": {
        "id": "psuCDOJmtJQy"
      }
    },
    {
      "cell_type": "code",
      "source": [
        "N=600\n",
        "K=2\n",
        "s=0\n",
        "\n",
        "for i in range(N-K):\n",
        "  for j in range(N-K-i):\n",
        "    s+=(N-i-j)"
      ],
      "metadata": {
        "id": "vJgmhWiEuDjs"
      },
      "execution_count": 15,
      "outputs": []
    },
    {
      "cell_type": "code",
      "source": [
        "s"
      ],
      "metadata": {
        "colab": {
          "base_uri": "https://localhost:8080/"
        },
        "id": "a-3KlT8ZubVo",
        "outputId": "cf1fe69d-023f-48c1-882d-aba135a68c49"
      },
      "execution_count": 16,
      "outputs": [
        {
          "output_type": "execute_result",
          "data": {
            "text/plain": [
              "36178402"
            ]
          },
          "metadata": {},
          "execution_count": 16
        }
      ]
    },
    {
      "cell_type": "code",
      "source": [
        "import math\n",
        "Tot= math.factorial(N)/math.factorial(N-K-1)"
      ],
      "metadata": {
        "id": "cFxTi9ijucuh"
      },
      "execution_count": 19,
      "outputs": []
    },
    {
      "cell_type": "code",
      "source": [
        "Tot1= math.factorial(N)/math.factorial(N-K-1)"
      ],
      "metadata": {
        "id": "q5bUv19vvbEt"
      },
      "execution_count": 21,
      "outputs": []
    },
    {
      "cell_type": "code",
      "source": [
        "Tot2 = N**(K+1)"
      ],
      "metadata": {
        "id": "E0SVbUJwvgdt"
      },
      "execution_count": 22,
      "outputs": []
    },
    {
      "cell_type": "code",
      "source": [
        "s/Tot1, s/Tot2"
      ],
      "metadata": {
        "colab": {
          "base_uri": "https://localhost:8080/"
        },
        "id": "DQQcwo4DvnkF",
        "outputId": "395fe3da-eee8-4cf8-f89f-e6e75108bdda"
      },
      "execution_count": 23,
      "outputs": [
        {
          "output_type": "execute_result",
          "data": {
            "text/plain": [
              "(0.16833333333333333, 0.16749260185185186)"
            ]
          },
          "metadata": {},
          "execution_count": 23
        }
      ]
    },
    {
      "cell_type": "code",
      "source": [
        "print(s/Tot)"
      ],
      "metadata": {
        "colab": {
          "base_uri": "https://localhost:8080/"
        },
        "id": "TTzi-hSKu5ox",
        "outputId": "4297cf99-4f64-4ccb-9e66-815dea99ebb6"
      },
      "execution_count": 20,
      "outputs": [
        {
          "output_type": "stream",
          "name": "stdout",
          "text": [
            "0.16833333333333333\n"
          ]
        }
      ]
    },
    {
      "cell_type": "markdown",
      "source": [
        "x1<x2<x3\n",
        "\n",
        "3 < 4 < "
      ],
      "metadata": {
        "id": "2Mv1mfIpvDPP"
      }
    },
    {
      "cell_type": "markdown",
      "source": [
        "#Question 8"
      ],
      "metadata": {
        "id": "rUb1ArH8vv0Q"
      }
    },
    {
      "cell_type": "markdown",
      "source": [
        "HHHHHHHHHH\n",
        "\n",
        "HHHHHHHHHT\n",
        "\n",
        "HTH"
      ],
      "metadata": {
        "id": "XWqae4B2v5vU"
      }
    },
    {
      "cell_type": "code",
      "source": [
        "from scipy.stats import uniform"
      ],
      "metadata": {
        "id": "1mpOEg9VvBGB"
      },
      "execution_count": 24,
      "outputs": []
    },
    {
      "cell_type": "code",
      "source": [
        "hhtc=0\n",
        "httc=0"
      ],
      "metadata": {
        "id": "bEa5ilS70EVl"
      },
      "execution_count": 27,
      "outputs": []
    },
    {
      "cell_type": "code",
      "source": [
        "\n",
        "\n",
        "st=''\n",
        "\n",
        "for l in range(N):\n",
        "  flip=uniform.rvs()\n",
        "  ch=\"H\" if flip>0.5 else 'T'\n",
        "  st+=ch\n",
        "  g=st[-3:]\n",
        "  if g=='HHT':\n",
        "    hhtc+=1\n",
        "    break\n",
        "  elif g=='HTT':\n",
        "    httc+=1\n",
        "    break\n",
        "  else:\n",
        "    pass\n",
        "\n",
        "print(f'{hhtc/N=}, {httc/N=}')\n"
      ],
      "metadata": {
        "colab": {
          "base_uri": "https://localhost:8080/"
        },
        "id": "02DxYjGNw9SY",
        "outputId": "a695b194-223c-4c65-e077-353946d4e231"
      },
      "execution_count": 28,
      "outputs": [
        {
          "output_type": "stream",
          "name": "stdout",
          "text": [
            "hhtc/N=0.0, httc/N=0.0016666666666666668\n"
          ]
        }
      ]
    },
    {
      "cell_type": "markdown",
      "source": [
        "HHT or HTT\n",
        "\n",
        "H\n",
        "\n",
        "\n",
        "HH-->0.5\n",
        "\n",
        "HHH--> 0.5*0.5\n",
        "\n",
        "HHT--> 0.5*0.5 -->sat\n",
        "\n",
        "..........................\n",
        "\n",
        "HHHH -->0.5*0.5*0.5*0.5\n",
        "\n",
        "HHHT -->0.5*0.5*0.5*0.5-->sat\n",
        "\n",
        "..........................\n",
        "\n",
        "\n",
        "HHHHH-->0.5*0.5*0.5*0.5*0.5-->\n",
        "\n",
        "HHHHT-->0.5*0.5*0.5*0.5*0.5-->sat\n",
        "\n",
        "..........................\n",
        "\n",
        "\n",
        "HT-->0.5\n",
        "\n",
        "..........................\n",
        "\n",
        "\n",
        "\n",
        "1/2 + (1/2)^2 + (1/2)^3+... =1/(1-1/2)=2\n",
        "\n",
        "1/2 (1+(1/2) + (1/2)^2+... =1/(1-1/2)*1/2=2*2 =1\n",
        "\n",
        "\n",
        "..........................\n",
        "\n",
        "\n",
        "1+x+x^2+x^3+... if x<1 --> 1/(1-x)\n",
        "\n",
        "\n"
      ],
      "metadata": {
        "id": "iG7F6FJe0NfP"
      }
    },
    {
      "cell_type": "code",
      "source": [],
      "metadata": {
        "id": "kZrTfSMuz5eZ"
      },
      "execution_count": null,
      "outputs": []
    }
  ]
}