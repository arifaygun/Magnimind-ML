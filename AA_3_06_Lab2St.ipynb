{
  "cells": [
    {
      "cell_type": "markdown",
      "metadata": {
        "id": "view-in-github",
        "colab_type": "text"
      },
      "source": [
        "<a href=\"https://colab.research.google.com/github/ArifAygun/Magnimind-ML/blob/main/AA_3_06_Lab2St.ipynb\" target=\"_parent\"><img src=\"https://colab.research.google.com/assets/colab-badge.svg\" alt=\"Open In Colab\"/></a>"
      ]
    },
    {
      "cell_type": "markdown",
      "source": [
        "#**Assignment 2 (Module 3 Lab 2)**"
      ],
      "metadata": {
        "id": "AefxtmWt7ouu"
      }
    },
    {
      "cell_type": "markdown",
      "source": [
        "1. Load the dataset bike_day_raw.csv, which has the regression target cnt. This dataset is hourly bike rentals in the citybike platform. The cnt column is the number of rentals, which we want to predict from date and weather data.\n",
        "\n",
        "- Split the data into a training and a test set using train_test_split.\n",
        "- Use the LinearRegression class to learn a regression model on this data.\n",
        "- You can evaluate with the score method, which provides the R^2or using the mean_squared_error function from sklearn.metrics (Challenge: You can also write it yourself in numpy).\n",
        "​\n",
        "2. Load the diabetes dataset using sklearn.datasets.load_diabetes.\n",
        "- Scale the dataset (you can be creative and make pipelines)\n",
        "- Apply LinearRegression,\n",
        "- Apply Ridge and do grid search\n",
        "- Apply Lasso and do grid search\n",
        "- Visualize the coefficients."
      ],
      "metadata": {
        "id": "0rX4LIIb7lYE"
      }
    },
    {
      "cell_type": "markdown",
      "metadata": {
        "id": "D4twQLGz6eZk"
      },
      "source": [
        "1. Load the dataset bike_day_raw.csv, which has the regression target cnt. This dataset is hourly bike rentals in the citybike platform. The cnt column is the number of rentals, which we want to predict from date and weather data.\n",
        "\n",
        "- Split the data into a training and a test set using train_test_split. \n",
        "\n",
        "- Use the LinearRegression class to learn a regression model on this data. \n",
        "\n",
        "- You can evaluate with the score method, which provides the R^2or using the mean_squared_error function from sklearn.metrics (Challenge: You can also write it yourself in numpy).\n"
      ]
    },
    {
      "cell_type": "code",
      "execution_count": null,
      "metadata": {
        "id": "NE7U3Q-Z6eZl"
      },
      "outputs": [],
      "source": []
    },
    {
      "cell_type": "code",
      "execution_count": null,
      "metadata": {
        "id": "4dz6EuFx6eZl"
      },
      "outputs": [],
      "source": []
    },
    {
      "cell_type": "code",
      "execution_count": null,
      "metadata": {
        "id": "4fHj9R5u6eZm"
      },
      "outputs": [],
      "source": []
    },
    {
      "cell_type": "code",
      "execution_count": null,
      "metadata": {
        "id": "VIdubn_Q6eZm"
      },
      "outputs": [],
      "source": []
    }
  ],
  "metadata": {
    "kernelspec": {
      "display_name": "Python 3",
      "language": "python",
      "name": "python3"
    },
    "language_info": {
      "codemirror_mode": {
        "name": "ipython",
        "version": 3
      },
      "file_extension": ".py",
      "mimetype": "text/x-python",
      "name": "python",
      "nbconvert_exporter": "python",
      "pygments_lexer": "ipython3",
      "version": "3.8.3"
    },
    "colab": {
      "provenance": [],
      "include_colab_link": true
    }
  },
  "nbformat": 4,
  "nbformat_minor": 0
}