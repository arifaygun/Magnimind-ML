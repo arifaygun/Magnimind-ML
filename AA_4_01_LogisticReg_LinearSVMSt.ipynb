{
  "cells": [
    {
      "cell_type": "markdown",
      "metadata": {
        "id": "view-in-github",
        "colab_type": "text"
      },
      "source": [
        "<a href=\"https://colab.research.google.com/github/ArifAygun/Magnimind-ML/blob/main/AA_4_01_LogisticReg_LinearSVMSt.ipynb\" target=\"_parent\"><img src=\"https://colab.research.google.com/assets/colab-badge.svg\" alt=\"Open In Colab\"/></a>"
      ]
    },
    {
      "cell_type": "code",
      "execution_count": 3,
      "metadata": {
        "id": "03hUP2qHOtqi"
      },
      "outputs": [],
      "source": [
        "import numpy as np\n",
        "import matplotlib.pyplot as plt\n",
        "plt.rcParams[\"savefig.dpi\"] = 300\n",
        "plt.rcParams['savefig.bbox'] = 'tight'"
      ]
    },
    {
      "cell_type": "code",
      "execution_count": 4,
      "metadata": {
        "jupyter": {
          "outputs_hidden": false
        },
        "id": "ViGv14XMOtql"
      },
      "outputs": [],
      "source": [
        "from sklearn.datasets import load_breast_cancer\n",
        "from sklearn.linear_model import LogisticRegression\n",
        "from sklearn.model_selection import train_test_split\n",
        "from sklearn.preprocessing import StandardScaler"
      ]
    },
    {
      "cell_type": "markdown",
      "metadata": {
        "id": "hBCMZjJmOtqm"
      },
      "source": [
        "### 1. Load the cancer data set and check its size"
      ]
    },
    {
      "cell_type": "code",
      "execution_count": null,
      "metadata": {
        "id": "h4qEhOOcOtqn"
      },
      "outputs": [],
      "source": []
    },
    {
      "cell_type": "markdown",
      "metadata": {
        "id": "WpZnpIEJOtqn"
      },
      "source": [
        "### 2. Form train and test dasets and scale the data"
      ]
    },
    {
      "cell_type": "code",
      "execution_count": null,
      "metadata": {
        "id": "ERwrr6X1Otqo"
      },
      "outputs": [],
      "source": []
    },
    {
      "cell_type": "markdown",
      "metadata": {
        "id": "c8I51vZmOtqp"
      },
      "source": [
        "### 3. Fit logistic regression to the first two features of your dataset"
      ]
    },
    {
      "cell_type": "code",
      "execution_count": null,
      "metadata": {
        "id": "ONUp3XHYOtqp"
      },
      "outputs": [],
      "source": []
    },
    {
      "cell_type": "markdown",
      "metadata": {
        "id": "dVk7-TY8Otqq"
      },
      "source": [
        "### 4. Create a scatter plot for the first two features of the train data set and draw the classification line on the graph"
      ]
    },
    {
      "cell_type": "code",
      "execution_count": null,
      "metadata": {
        "id": "OogyCldqOtqq"
      },
      "outputs": [],
      "source": []
    },
    {
      "cell_type": "markdown",
      "metadata": {
        "id": "CUsQMuoVOtqr"
      },
      "source": [
        "Let us pick two points $(x_{00},x_{10})$ and $(x_{01},x_{11})$ on the line $c_0x_0+c_1x_1+b=0$\n",
        "\n",
        "Let us show these two points on the line:\n",
        "\n",
        "\\begin{align*}\n",
        "c_0x_{00}+c_1x_{10}&=-6\\\\\n",
        "c_0x_{01}+c_1x_{11}&=-6\n",
        "\\end{align*}\n",
        "Let us subtract the second euation from the first, then we have $(c_0, c_1)\\cdot (x_{01}-x_{00}, x_{10}-x_{11})=0$. $(x_{01}-x_{00}, x_{10}-x_{11})$ represents a vector on the line."
      ]
    },
    {
      "cell_type": "code",
      "execution_count": null,
      "metadata": {
        "id": "fMTT-dcaOtqr"
      },
      "outputs": [],
      "source": []
    },
    {
      "cell_type": "markdown",
      "metadata": {
        "id": "XXkPqM3nOtqr"
      },
      "source": [
        "### 5. Create a toy dataset using Scikitlearn's make_blobs function.\n",
        "- Use random_state=4\n",
        "- Fit LogisticRegression() for C=0.1, 1, 100\n",
        "- Plot the data on three figures and plot the classification line for each C value."
      ]
    },
    {
      "cell_type": "code",
      "execution_count": null,
      "metadata": {
        "id": "8zowPWMiOtqs"
      },
      "outputs": [],
      "source": []
    },
    {
      "cell_type": "markdown",
      "metadata": {
        "id": "m-YScay5Otqs"
      },
      "source": [
        "# Multiclass\n",
        "- Load Iris dataset with `load_iris`\n",
        "- check the shape and number of unique classes\n",
        "- Fit Logistic regression and Linear SVC on the dataset\n",
        "- Print the coefficients\n",
        "- Print the intercept"
      ]
    },
    {
      "cell_type": "code",
      "execution_count": null,
      "metadata": {
        "id": "xXcgPh3fOtqs"
      },
      "outputs": [],
      "source": []
    },
    {
      "cell_type": "code",
      "execution_count": null,
      "metadata": {
        "id": "IFeqBMCgOtqs"
      },
      "outputs": [],
      "source": []
    }
  ],
  "metadata": {
    "kernelspec": {
      "display_name": "Python 3",
      "language": "python",
      "name": "python3"
    },
    "language_info": {
      "codemirror_mode": {
        "name": "ipython",
        "version": 3
      },
      "file_extension": ".py",
      "mimetype": "text/x-python",
      "name": "python",
      "nbconvert_exporter": "python",
      "pygments_lexer": "ipython3",
      "version": "3.6.10"
    },
    "colab": {
      "provenance": [],
      "include_colab_link": true
    }
  },
  "nbformat": 4,
  "nbformat_minor": 0
}