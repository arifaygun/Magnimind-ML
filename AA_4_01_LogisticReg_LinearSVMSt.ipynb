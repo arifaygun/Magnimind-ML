{
  "cells": [
    {
      "cell_type": "markdown",
      "metadata": {
        "id": "view-in-github",
        "colab_type": "text"
      },
      "source": [
        "<a href=\"https://colab.research.google.com/github/ArifAygun/Magnimind-ML/blob/main/AA_4_01_LogisticReg_LinearSVMSt.ipynb\" target=\"_parent\"><img src=\"https://colab.research.google.com/assets/colab-badge.svg\" alt=\"Open In Colab\"/></a>"
      ]
    },
    {
      "cell_type": "code",
      "execution_count": 24,
      "metadata": {
        "id": "7HmH7KBT58SU"
      },
      "outputs": [],
      "source": [
        "import numpy as np\n",
        "import matplotlib.pyplot as plt\n",
        "plt.rcParams[\"savefig.dpi\"] = 300\n",
        "plt.rcParams['savefig.bbox'] = 'tight'"
      ]
    },
    {
      "cell_type": "code",
      "execution_count": 25,
      "metadata": {
        "jupyter": {
          "outputs_hidden": false
        },
        "id": "vSUEREh858SZ"
      },
      "outputs": [],
      "source": [
        "from sklearn.datasets import load_breast_cancer\n",
        "from sklearn.linear_model import LogisticRegression\n",
        "from sklearn.model_selection import train_test_split\n",
        "from sklearn.preprocessing import StandardScaler"
      ]
    },
    {
      "cell_type": "code",
      "source": [
        "import math\n",
        "math.log(10)"
      ],
      "metadata": {
        "id": "wkHC7JnK-x13",
        "colab": {
          "base_uri": "https://localhost:8080/"
        },
        "outputId": "543f08e1-8f21-4fb2-d934-a5804f2a8483"
      },
      "execution_count": 3,
      "outputs": [
        {
          "output_type": "execute_result",
          "data": {
            "text/plain": [
              "2.302585092994046"
            ]
          },
          "metadata": {},
          "execution_count": 3
        }
      ]
    },
    {
      "cell_type": "code",
      "source": [
        "math.log(math.e)"
      ],
      "metadata": {
        "id": "4Gx4wwem-_TV",
        "colab": {
          "base_uri": "https://localhost:8080/"
        },
        "outputId": "72ce3183-d31d-4dec-b62f-e6cd986c1eff"
      },
      "execution_count": 4,
      "outputs": [
        {
          "output_type": "execute_result",
          "data": {
            "text/plain": [
              "1.0"
            ]
          },
          "metadata": {},
          "execution_count": 4
        }
      ]
    },
    {
      "cell_type": "code",
      "source": [
        "math.log(100000)"
      ],
      "metadata": {
        "id": "cyzzuePq_KgM",
        "colab": {
          "base_uri": "https://localhost:8080/"
        },
        "outputId": "5cdb1391-8c60-4f5d-9ba1-c5a1efd45aad"
      },
      "execution_count": 5,
      "outputs": [
        {
          "output_type": "execute_result",
          "data": {
            "text/plain": [
              "11.512925464970229"
            ]
          },
          "metadata": {},
          "execution_count": 5
        }
      ]
    },
    {
      "cell_type": "code",
      "source": [
        "math.log(0)"
      ],
      "metadata": {
        "id": "aH5pOt0vBIa9",
        "colab": {
          "base_uri": "https://localhost:8080/",
          "height": 166
        },
        "outputId": "c5103275-fa30-422c-b64e-8f233e038ceb"
      },
      "execution_count": 6,
      "outputs": [
        {
          "output_type": "error",
          "ename": "ValueError",
          "evalue": "ignored",
          "traceback": [
            "\u001b[0;31m---------------------------------------------------------------------------\u001b[0m",
            "\u001b[0;31mValueError\u001b[0m                                Traceback (most recent call last)",
            "\u001b[0;32m<ipython-input-6-f7278b7c2ed1>\u001b[0m in \u001b[0;36m<cell line: 1>\u001b[0;34m()\u001b[0m\n\u001b[0;32m----> 1\u001b[0;31m \u001b[0mmath\u001b[0m\u001b[0;34m.\u001b[0m\u001b[0mlog\u001b[0m\u001b[0;34m(\u001b[0m\u001b[0;36m0\u001b[0m\u001b[0;34m)\u001b[0m\u001b[0;34m\u001b[0m\u001b[0;34m\u001b[0m\u001b[0m\n\u001b[0m",
            "\u001b[0;31mValueError\u001b[0m: math domain error"
          ]
        }
      ]
    },
    {
      "cell_type": "code",
      "source": [
        "math.log(-2)"
      ],
      "metadata": {
        "id": "ziWxtNBQBOvg"
      },
      "execution_count": null,
      "outputs": []
    },
    {
      "cell_type": "code",
      "source": [
        "math.log(0.0000002)"
      ],
      "metadata": {
        "id": "VVHfBBs9Bbfh",
        "colab": {
          "base_uri": "https://localhost:8080/"
        },
        "outputId": "4224cd8a-5be0-43b7-ffb9-5f36bd05adff"
      },
      "execution_count": 7,
      "outputs": [
        {
          "output_type": "execute_result",
          "data": {
            "text/plain": [
              "-15.424948470398375"
            ]
          },
          "metadata": {},
          "execution_count": 7
        }
      ]
    },
    {
      "cell_type": "code",
      "source": [
        "math.log(0.100000)"
      ],
      "metadata": {
        "id": "fNejHlEMA-kk",
        "colab": {
          "base_uri": "https://localhost:8080/"
        },
        "outputId": "25c48876-560b-4879-e751-1c40d83178c8"
      },
      "execution_count": 8,
      "outputs": [
        {
          "output_type": "execute_result",
          "data": {
            "text/plain": [
              "-2.3025850929940455"
            ]
          },
          "metadata": {},
          "execution_count": 8
        }
      ]
    },
    {
      "cell_type": "code",
      "source": [
        "1/(1+math.log(10000))"
      ],
      "metadata": {
        "id": "0ApdnTGp_Uvr",
        "colab": {
          "base_uri": "https://localhost:8080/"
        },
        "outputId": "3a8568c5-3ff3-480d-8450-17bef806b24e"
      },
      "execution_count": 9,
      "outputs": [
        {
          "output_type": "execute_result",
          "data": {
            "text/plain": [
              "0.09793992791314289"
            ]
          },
          "metadata": {},
          "execution_count": 9
        }
      ]
    },
    {
      "cell_type": "markdown",
      "source": [
        "a data point y_i=1\n",
        "\n",
        "x1=3, x2=4\n",
        "\n",
        "we trained a model, the model coefficient are: w1=0.5, w2=1, w0=3.2"
      ],
      "metadata": {
        "id": "jSR1NnQABld-"
      }
    },
    {
      "cell_type": "code",
      "source": [
        "#a data point y_i=1\n",
        "x1=3\n",
        "x2=4\n",
        "\n",
        "#we trained a model, the model coefficient are:\n",
        "w1=0.5\n",
        "w2=1\n",
        "w0=3.2\n",
        "\n",
        "dec_func_val=w0 + x1*w1 + x2*w2"
      ],
      "metadata": {
        "id": "SUgAWhZeCJ96"
      },
      "execution_count": 10,
      "outputs": []
    },
    {
      "cell_type": "code",
      "source": [
        "dec_func_val"
      ],
      "metadata": {
        "id": "xpzpRUOGC9Wm",
        "colab": {
          "base_uri": "https://localhost:8080/"
        },
        "outputId": "4cf7c460-1494-44ea-ff01-cfd363a5d48b"
      },
      "execution_count": 11,
      "outputs": [
        {
          "output_type": "execute_result",
          "data": {
            "text/plain": [
              "8.7"
            ]
          },
          "metadata": {},
          "execution_count": 11
        }
      ]
    },
    {
      "cell_type": "code",
      "source": [
        "import numpy as np\n",
        "print(dec_func_val)\n",
        "yhat = np.sign(dec_func_val)\n",
        "print(yhat)"
      ],
      "metadata": {
        "id": "O_epjNygDEKR",
        "colab": {
          "base_uri": "https://localhost:8080/"
        },
        "outputId": "6f63980e-c60f-4ffe-93bf-67a5b758e528"
      },
      "execution_count": 12,
      "outputs": [
        {
          "output_type": "stream",
          "name": "stdout",
          "text": [
            "8.7\n",
            "1.0\n"
          ]
        }
      ]
    },
    {
      "cell_type": "code",
      "source": [
        "#use the sigmoid fuction to compute the probability 0f the decision being right\n",
        "p=1/(1+math.exp(-dec_func_val)) #this is probability that decision is yhat=1\n",
        "print(p)"
      ],
      "metadata": {
        "id": "eZS4czwx042T",
        "colab": {
          "base_uri": "https://localhost:8080/"
        },
        "outputId": "bbbb5684-58bb-4bca-ccf0-df67415bf5f0"
      },
      "execution_count": 13,
      "outputs": [
        {
          "output_type": "stream",
          "name": "stdout",
          "text": [
            "0.9998334419352227\n"
          ]
        }
      ]
    },
    {
      "cell_type": "code",
      "source": [
        "#a data point y_i=1\n",
        "x1=3\n",
        "x2=4\n",
        "\n",
        "#we trained a model, the model coefficient are:\n",
        "w1=-0.5\n",
        "w2=-1\n",
        "w0=3.2\n",
        "\n",
        "dec_func_val= w0 + x1*w1 + x2*w2"
      ],
      "metadata": {
        "id": "kjaYb89kEwPo"
      },
      "execution_count": 18,
      "outputs": []
    },
    {
      "cell_type": "code",
      "source": [
        "dec_func_val"
      ],
      "metadata": {
        "id": "sFL1Jk9WEwPw",
        "colab": {
          "base_uri": "https://localhost:8080/"
        },
        "outputId": "47065927-0a30-4686-f826-fa824a7f27a0"
      },
      "execution_count": 19,
      "outputs": [
        {
          "output_type": "execute_result",
          "data": {
            "text/plain": [
              "-2.3"
            ]
          },
          "metadata": {},
          "execution_count": 19
        }
      ]
    },
    {
      "cell_type": "code",
      "source": [
        "import numpy as np\n",
        "print(dec_func_val)\n",
        "yhat = np.sign(dec_func_val)\n",
        "print(yhat)"
      ],
      "metadata": {
        "id": "1bzcfP0SEwPw",
        "colab": {
          "base_uri": "https://localhost:8080/"
        },
        "outputId": "96a19d78-288a-4ee1-902e-0d01df86bfbd"
      },
      "execution_count": 20,
      "outputs": [
        {
          "output_type": "stream",
          "name": "stdout",
          "text": [
            "-2.3\n",
            "-1.0\n"
          ]
        }
      ]
    },
    {
      "cell_type": "code",
      "source": [
        "#use the sigmoid fuction to compute the probability 0f the decision being right\n",
        "p=1/(1+math.exp(-dec_func_val)) #this is probability that decision is yhat=1\n",
        "print(p)"
      ],
      "metadata": {
        "id": "n9PjFjDwEwPx",
        "colab": {
          "base_uri": "https://localhost:8080/"
        },
        "outputId": "5a884d9e-91d5-4b3b-8346-2ee3a5ebaa3c"
      },
      "execution_count": 21,
      "outputs": [
        {
          "output_type": "stream",
          "name": "stdout",
          "text": [
            "0.09112296101485616\n"
          ]
        }
      ]
    },
    {
      "cell_type": "code",
      "source": [
        "p=1/(1+math.exp(-0.5))\n",
        "print(p)"
      ],
      "metadata": {
        "colab": {
          "base_uri": "https://localhost:8080/"
        },
        "id": "3DvHsHUlGX9z",
        "outputId": "24c44e44-b4f7-499f-a604-e79b1c28bc81"
      },
      "execution_count": 22,
      "outputs": [
        {
          "output_type": "stream",
          "name": "stdout",
          "text": [
            "0.6224593312018546\n"
          ]
        }
      ]
    },
    {
      "cell_type": "code",
      "source": [
        "p=1/(1+math.exp(0))\n",
        "print(p)"
      ],
      "metadata": {
        "colab": {
          "base_uri": "https://localhost:8080/"
        },
        "id": "tDAd_7DWGfyr",
        "outputId": "f14b7a19-1ad3-4089-ca15-fa1d5f081df4"
      },
      "execution_count": 23,
      "outputs": [
        {
          "output_type": "stream",
          "name": "stdout",
          "text": [
            "0.5\n"
          ]
        }
      ]
    },
    {
      "cell_type": "code",
      "source": [
        "\n",
        "#you develop a model to detect cancer \n",
        "\n",
        "#most of the tue labels corresponding to cases where p>0.2 are actually 1, cancer."
      ],
      "metadata": {
        "id": "UwMaQJeOG8z7"
      },
      "execution_count": null,
      "outputs": []
    },
    {
      "cell_type": "markdown",
      "metadata": {
        "id": "oYZowtny58Sa"
      },
      "source": [
        "### 1. Load the cancer data set and check its size"
      ]
    },
    {
      "cell_type": "code",
      "execution_count": 27,
      "metadata": {
        "id": "733wRsbV58Sc"
      },
      "outputs": [],
      "source": [
        "cancer = load_breast_cancer()\n",
        "X, y = cancer.data, cancer.target"
      ]
    },
    {
      "cell_type": "markdown",
      "metadata": {
        "id": "O24EMP6858Sc"
      },
      "source": [
        "### 2. Form train and test dasets and scale the data"
      ]
    },
    {
      "cell_type": "code",
      "execution_count": 28,
      "metadata": {
        "id": "SBPDy8DT58Sd"
      },
      "outputs": [],
      "source": [
        "X_train, X_test, y_train, y_test = train_test_split(X,y, stratify=y)"
      ]
    },
    {
      "cell_type": "code",
      "source": [
        "scaler = StandardScaler()\n",
        "X_train = scaler.fit_transform(X_train)\n",
        "X_test = scaler.transform(X_test)"
      ],
      "metadata": {
        "id": "6RN_Sr7zIV9m"
      },
      "execution_count": 29,
      "outputs": []
    },
    {
      "cell_type": "markdown",
      "metadata": {
        "id": "EO_w2kiy58Se"
      },
      "source": [
        "### 3. Fit logistic regression to the first two features of your dataset"
      ]
    },
    {
      "cell_type": "code",
      "execution_count": 30,
      "metadata": {
        "id": "EuvfcJ-958Se"
      },
      "outputs": [],
      "source": [
        "logreg = LogisticRegression(solver='liblinear')"
      ]
    },
    {
      "cell_type": "code",
      "source": [
        "logreg.fit(X_train[:,:2], y_train)"
      ],
      "metadata": {
        "colab": {
          "base_uri": "https://localhost:8080/",
          "height": 74
        },
        "id": "tqvr5nLWKZ16",
        "outputId": "e1e5c092-70ce-4ee3-c7e5-4ace0726fcca"
      },
      "execution_count": 31,
      "outputs": [
        {
          "output_type": "execute_result",
          "data": {
            "text/plain": [
              "LogisticRegression(solver='liblinear')"
            ],
            "text/html": [
              "<style>#sk-container-id-1 {color: black;background-color: white;}#sk-container-id-1 pre{padding: 0;}#sk-container-id-1 div.sk-toggleable {background-color: white;}#sk-container-id-1 label.sk-toggleable__label {cursor: pointer;display: block;width: 100%;margin-bottom: 0;padding: 0.3em;box-sizing: border-box;text-align: center;}#sk-container-id-1 label.sk-toggleable__label-arrow:before {content: \"▸\";float: left;margin-right: 0.25em;color: #696969;}#sk-container-id-1 label.sk-toggleable__label-arrow:hover:before {color: black;}#sk-container-id-1 div.sk-estimator:hover label.sk-toggleable__label-arrow:before {color: black;}#sk-container-id-1 div.sk-toggleable__content {max-height: 0;max-width: 0;overflow: hidden;text-align: left;background-color: #f0f8ff;}#sk-container-id-1 div.sk-toggleable__content pre {margin: 0.2em;color: black;border-radius: 0.25em;background-color: #f0f8ff;}#sk-container-id-1 input.sk-toggleable__control:checked~div.sk-toggleable__content {max-height: 200px;max-width: 100%;overflow: auto;}#sk-container-id-1 input.sk-toggleable__control:checked~label.sk-toggleable__label-arrow:before {content: \"▾\";}#sk-container-id-1 div.sk-estimator input.sk-toggleable__control:checked~label.sk-toggleable__label {background-color: #d4ebff;}#sk-container-id-1 div.sk-label input.sk-toggleable__control:checked~label.sk-toggleable__label {background-color: #d4ebff;}#sk-container-id-1 input.sk-hidden--visually {border: 0;clip: rect(1px 1px 1px 1px);clip: rect(1px, 1px, 1px, 1px);height: 1px;margin: -1px;overflow: hidden;padding: 0;position: absolute;width: 1px;}#sk-container-id-1 div.sk-estimator {font-family: monospace;background-color: #f0f8ff;border: 1px dotted black;border-radius: 0.25em;box-sizing: border-box;margin-bottom: 0.5em;}#sk-container-id-1 div.sk-estimator:hover {background-color: #d4ebff;}#sk-container-id-1 div.sk-parallel-item::after {content: \"\";width: 100%;border-bottom: 1px solid gray;flex-grow: 1;}#sk-container-id-1 div.sk-label:hover label.sk-toggleable__label {background-color: #d4ebff;}#sk-container-id-1 div.sk-serial::before {content: \"\";position: absolute;border-left: 1px solid gray;box-sizing: border-box;top: 0;bottom: 0;left: 50%;z-index: 0;}#sk-container-id-1 div.sk-serial {display: flex;flex-direction: column;align-items: center;background-color: white;padding-right: 0.2em;padding-left: 0.2em;position: relative;}#sk-container-id-1 div.sk-item {position: relative;z-index: 1;}#sk-container-id-1 div.sk-parallel {display: flex;align-items: stretch;justify-content: center;background-color: white;position: relative;}#sk-container-id-1 div.sk-item::before, #sk-container-id-1 div.sk-parallel-item::before {content: \"\";position: absolute;border-left: 1px solid gray;box-sizing: border-box;top: 0;bottom: 0;left: 50%;z-index: -1;}#sk-container-id-1 div.sk-parallel-item {display: flex;flex-direction: column;z-index: 1;position: relative;background-color: white;}#sk-container-id-1 div.sk-parallel-item:first-child::after {align-self: flex-end;width: 50%;}#sk-container-id-1 div.sk-parallel-item:last-child::after {align-self: flex-start;width: 50%;}#sk-container-id-1 div.sk-parallel-item:only-child::after {width: 0;}#sk-container-id-1 div.sk-dashed-wrapped {border: 1px dashed gray;margin: 0 0.4em 0.5em 0.4em;box-sizing: border-box;padding-bottom: 0.4em;background-color: white;}#sk-container-id-1 div.sk-label label {font-family: monospace;font-weight: bold;display: inline-block;line-height: 1.2em;}#sk-container-id-1 div.sk-label-container {text-align: center;}#sk-container-id-1 div.sk-container {/* jupyter's `normalize.less` sets `[hidden] { display: none; }` but bootstrap.min.css set `[hidden] { display: none !important; }` so we also need the `!important` here to be able to override the default hidden behavior on the sphinx rendered scikit-learn.org. See: https://github.com/scikit-learn/scikit-learn/issues/21755 */display: inline-block !important;position: relative;}#sk-container-id-1 div.sk-text-repr-fallback {display: none;}</style><div id=\"sk-container-id-1\" class=\"sk-top-container\"><div class=\"sk-text-repr-fallback\"><pre>LogisticRegression(solver=&#x27;liblinear&#x27;)</pre><b>In a Jupyter environment, please rerun this cell to show the HTML representation or trust the notebook. <br />On GitHub, the HTML representation is unable to render, please try loading this page with nbviewer.org.</b></div><div class=\"sk-container\" hidden><div class=\"sk-item\"><div class=\"sk-estimator sk-toggleable\"><input class=\"sk-toggleable__control sk-hidden--visually\" id=\"sk-estimator-id-1\" type=\"checkbox\" checked><label for=\"sk-estimator-id-1\" class=\"sk-toggleable__label sk-toggleable__label-arrow\">LogisticRegression</label><div class=\"sk-toggleable__content\"><pre>LogisticRegression(solver=&#x27;liblinear&#x27;)</pre></div></div></div></div></div>"
            ]
          },
          "metadata": {},
          "execution_count": 31
        }
      ]
    },
    {
      "cell_type": "code",
      "source": [
        "print(logreg.score(X_train[:,:2], y_train))\n",
        "print(logreg.score(X_test[:,:2], y_test))"
      ],
      "metadata": {
        "colab": {
          "base_uri": "https://localhost:8080/"
        },
        "id": "aBiRFJg4KqiN",
        "outputId": "3a3de904-30d0-4ad6-8406-973a81b4e36f"
      },
      "execution_count": 35,
      "outputs": [
        {
          "output_type": "stream",
          "name": "stdout",
          "text": [
            "0.8943661971830986\n",
            "0.8741258741258742\n"
          ]
        }
      ]
    },
    {
      "cell_type": "code",
      "source": [
        "logreg.coef_"
      ],
      "metadata": {
        "colab": {
          "base_uri": "https://localhost:8080/"
        },
        "id": "tdQubZZ4NRhk",
        "outputId": "38fc024e-cb7b-413c-89b6-39da5228bfa6"
      },
      "execution_count": 41,
      "outputs": [
        {
          "output_type": "execute_result",
          "data": {
            "text/plain": [
              "array([[-3.19370233, -0.79121372]])"
            ]
          },
          "metadata": {},
          "execution_count": 41
        }
      ]
    },
    {
      "cell_type": "code",
      "source": [
        "logreg.coef_"
      ],
      "metadata": {
        "colab": {
          "base_uri": "https://localhost:8080/"
        },
        "id": "iAWX90GTMouD",
        "outputId": "cc871902-0946-4243-bc1a-6733fd464721"
      },
      "execution_count": 37,
      "outputs": [
        {
          "output_type": "execute_result",
          "data": {
            "text/plain": [
              "array([[-3.19370233, -0.79121372]])"
            ]
          },
          "metadata": {},
          "execution_count": 37
        }
      ]
    },
    {
      "cell_type": "code",
      "source": [
        "w0=logreg.intercept_\n",
        "w0"
      ],
      "metadata": {
        "colab": {
          "base_uri": "https://localhost:8080/"
        },
        "id": "QHvw4lqFM86q",
        "outputId": "64d82b90-0245-4fe5-c96e-5a9eceed814f"
      },
      "execution_count": 43,
      "outputs": [
        {
          "output_type": "execute_result",
          "data": {
            "text/plain": [
              "array([0.65876117])"
            ]
          },
          "metadata": {},
          "execution_count": 43
        }
      ]
    },
    {
      "cell_type": "markdown",
      "metadata": {
        "id": "zko-pfp158Se"
      },
      "source": [
        "### 4. Create a scatter plot for the first two features of the train data set and draw the classification line on the graph"
      ]
    },
    {
      "cell_type": "code",
      "execution_count": null,
      "metadata": {
        "id": "gAQf3EMV58Sf"
      },
      "outputs": [],
      "source": []
    },
    {
      "cell_type": "markdown",
      "metadata": {
        "id": "Bl0MMNkd58Sf"
      },
      "source": [
        "Let us pick two points $(x_{10},x_{11})$ and $(x_{21},x_{22})$ on the line $w_1x_1+w_2x_2+w0=0$\n",
        "\n",
        "Let us show these two points on the line:\n",
        "\n",
        "\\begin{align*}\n",
        "w_1x_{10}+c_2x_{20}&=-6\\\\\n",
        "w_1x_{21}+w_2x_{21}&=-6\n",
        "\\end{align*}\n",
        "Let us subtract the second euation from the first, then we have $(c_0, c_1)\\cdot (x_{01}-x_{00}, x_{10}-x_{11})=0$. $(x_{01}-x_{00}, x_{10}-x_{11})$ represents a vector on the line."
      ]
    },
    {
      "cell_type": "code",
      "execution_count": 46,
      "metadata": {
        "id": "tqPrPe-S58Sg",
        "colab": {
          "base_uri": "https://localhost:8080/"
        },
        "outputId": "97ffc8c9-5a4a-45eb-b2d5-785d3aa810aa"
      },
      "outputs": [
        {
          "output_type": "execute_result",
          "data": {
            "text/plain": [
              "(1, 2)"
            ]
          },
          "metadata": {},
          "execution_count": 46
        }
      ],
      "source": [
        "coef = logreg.coef_\n",
        "coef.shape"
      ]
    },
    {
      "cell_type": "code",
      "source": [
        "coef"
      ],
      "metadata": {
        "colab": {
          "base_uri": "https://localhost:8080/"
        },
        "id": "1RrBSlQTQxqG",
        "outputId": "d8532bc8-3542-49eb-9093-93478cdc5275"
      },
      "execution_count": 47,
      "outputs": [
        {
          "output_type": "execute_result",
          "data": {
            "text/plain": [
              "array([[-3.19370233, -0.79121372]])"
            ]
          },
          "metadata": {},
          "execution_count": 47
        }
      ]
    },
    {
      "cell_type": "code",
      "source": [
        "coef[0][0]"
      ],
      "metadata": {
        "colab": {
          "base_uri": "https://localhost:8080/"
        },
        "id": "HZHnCRRlQ11B",
        "outputId": "0f4ba552-4187-41ef-c8e6-697787d93d6c"
      },
      "execution_count": 51,
      "outputs": [
        {
          "output_type": "execute_result",
          "data": {
            "text/plain": [
              "-3.1937023336490085"
            ]
          },
          "metadata": {},
          "execution_count": 51
        }
      ]
    },
    {
      "cell_type": "code",
      "source": [
        "coef[0][1]"
      ],
      "metadata": {
        "colab": {
          "base_uri": "https://localhost:8080/"
        },
        "id": "EE_GLCPrRD1v",
        "outputId": "e5571b97-6c95-4e6b-f649-81e3441b3f49"
      },
      "execution_count": 52,
      "outputs": [
        {
          "output_type": "execute_result",
          "data": {
            "text/plain": [
              "-0.7912137185796769"
            ]
          },
          "metadata": {},
          "execution_count": 52
        }
      ]
    },
    {
      "cell_type": "code",
      "source": [
        "coef = logreg.coef_.ravel()\n",
        "coef.shape"
      ],
      "metadata": {
        "colab": {
          "base_uri": "https://localhost:8080/"
        },
        "id": "C6x1hNsbRNzt",
        "outputId": "a690555b-a4b6-45b6-d95a-a97b0ca67eba"
      },
      "execution_count": 54,
      "outputs": [
        {
          "output_type": "execute_result",
          "data": {
            "text/plain": [
              "(2,)"
            ]
          },
          "metadata": {},
          "execution_count": 54
        }
      ]
    },
    {
      "cell_type": "code",
      "source": [
        "coef[1]"
      ],
      "metadata": {
        "colab": {
          "base_uri": "https://localhost:8080/"
        },
        "id": "da73WjvDSN6-",
        "outputId": "ad208788-6da5-4f59-d063-a6fd46bba893"
      },
      "execution_count": 55,
      "outputs": [
        {
          "output_type": "execute_result",
          "data": {
            "text/plain": [
              "-0.7912137185796769"
            ]
          },
          "metadata": {},
          "execution_count": 55
        }
      ]
    },
    {
      "cell_type": "code",
      "source": [
        "import numpy as np\n",
        "xmin, xmax = -4,4\n",
        "xx=np.linspace(xmin,xmax,100)\n",
        "xx"
      ],
      "metadata": {
        "colab": {
          "base_uri": "https://localhost:8080/"
        },
        "id": "KSIt4NL0Sf6v",
        "outputId": "5b980267-9670-4498-bedc-0dbddfd3e328"
      },
      "execution_count": 59,
      "outputs": [
        {
          "output_type": "execute_result",
          "data": {
            "text/plain": [
              "array([-4.        , -3.91919192, -3.83838384, -3.75757576, -3.67676768,\n",
              "       -3.5959596 , -3.51515152, -3.43434343, -3.35353535, -3.27272727,\n",
              "       -3.19191919, -3.11111111, -3.03030303, -2.94949495, -2.86868687,\n",
              "       -2.78787879, -2.70707071, -2.62626263, -2.54545455, -2.46464646,\n",
              "       -2.38383838, -2.3030303 , -2.22222222, -2.14141414, -2.06060606,\n",
              "       -1.97979798, -1.8989899 , -1.81818182, -1.73737374, -1.65656566,\n",
              "       -1.57575758, -1.49494949, -1.41414141, -1.33333333, -1.25252525,\n",
              "       -1.17171717, -1.09090909, -1.01010101, -0.92929293, -0.84848485,\n",
              "       -0.76767677, -0.68686869, -0.60606061, -0.52525253, -0.44444444,\n",
              "       -0.36363636, -0.28282828, -0.2020202 , -0.12121212, -0.04040404,\n",
              "        0.04040404,  0.12121212,  0.2020202 ,  0.28282828,  0.36363636,\n",
              "        0.44444444,  0.52525253,  0.60606061,  0.68686869,  0.76767677,\n",
              "        0.84848485,  0.92929293,  1.01010101,  1.09090909,  1.17171717,\n",
              "        1.25252525,  1.33333333,  1.41414141,  1.49494949,  1.57575758,\n",
              "        1.65656566,  1.73737374,  1.81818182,  1.8989899 ,  1.97979798,\n",
              "        2.06060606,  2.14141414,  2.22222222,  2.3030303 ,  2.38383838,\n",
              "        2.46464646,  2.54545455,  2.62626263,  2.70707071,  2.78787879,\n",
              "        2.86868687,  2.94949495,  3.03030303,  3.11111111,  3.19191919,\n",
              "        3.27272727,  3.35353535,  3.43434343,  3.51515152,  3.5959596 ,\n",
              "        3.67676768,  3.75757576,  3.83838384,  3.91919192,  4.        ])"
            ]
          },
          "metadata": {},
          "execution_count": 59
        }
      ]
    },
    {
      "cell_type": "code",
      "source": [
        "#import numpy as np\n",
        "#xmin, xmax = X_train[:,1].min(), X_train[:,1].max()\n",
        "#xx=np.linspace(xmin,xmax)\n",
        "#xx"
      ],
      "metadata": {
        "id": "_uW_5px8TY6r"
      },
      "execution_count": 58,
      "outputs": []
    },
    {
      "cell_type": "code",
      "source": [
        "wx+b=0\n",
        "\n",
        "w1*x1 + w2*x2 + b"
      ],
      "metadata": {
        "id": "mdtIW_l5UHiR"
      },
      "execution_count": null,
      "outputs": []
    },
    {
      "cell_type": "markdown",
      "metadata": {
        "id": "uI3gX5xf58Sh"
      },
      "source": [
        "### 5. Create a toy dataset using Scikitlearn's make_blobs function.\n",
        "- Use random_state=4\n",
        "- Fit LogisticRegression() for C=0.1, 1, 100\n",
        "- Plot the data on three figures and plot the classification line for each C value."
      ]
    },
    {
      "cell_type": "code",
      "execution_count": null,
      "metadata": {
        "id": "bmO4x6vc58Sh"
      },
      "outputs": [],
      "source": []
    },
    {
      "cell_type": "markdown",
      "metadata": {
        "id": "DrLkryYE58Si"
      },
      "source": [
        "# Multiclass\n",
        "- Load Iris dataset with `load_iris`\n",
        "- check the shape and number of unique classes\n",
        "- Fit Logistic regression and Linear SVC on the dataset\n",
        "- Print the coefficients\n",
        "- Print the intercept"
      ]
    },
    {
      "cell_type": "code",
      "execution_count": null,
      "metadata": {
        "id": "89vAbWDd58Si"
      },
      "outputs": [],
      "source": []
    },
    {
      "cell_type": "code",
      "execution_count": null,
      "metadata": {
        "id": "uWY72E6F58Si"
      },
      "outputs": [],
      "source": []
    }
  ],
  "metadata": {
    "kernelspec": {
      "display_name": "Python 3",
      "language": "python",
      "name": "python3"
    },
    "language_info": {
      "codemirror_mode": {
        "name": "ipython",
        "version": 3
      },
      "file_extension": ".py",
      "mimetype": "text/x-python",
      "name": "python",
      "nbconvert_exporter": "python",
      "pygments_lexer": "ipython3",
      "version": "3.6.10"
    },
    "colab": {
      "provenance": [],
      "include_colab_link": true
    },
    "accelerator": "GPU",
    "gpuClass": "standard"
  },
  "nbformat": 4,
  "nbformat_minor": 0
}