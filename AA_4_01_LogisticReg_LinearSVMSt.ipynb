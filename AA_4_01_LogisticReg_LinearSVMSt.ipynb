{
  "cells": [
    {
      "cell_type": "markdown",
      "metadata": {
        "id": "view-in-github",
        "colab_type": "text"
      },
      "source": [
        "<a href=\"https://colab.research.google.com/github/ArifAygun/Magnimind-ML/blob/main/AA_4_01_LogisticReg_LinearSVMSt.ipynb\" target=\"_parent\"><img src=\"https://colab.research.google.com/assets/colab-badge.svg\" alt=\"Open In Colab\"/></a>"
      ]
    },
    {
      "cell_type": "code",
      "execution_count": 4,
      "metadata": {
        "id": "7HmH7KBT58SU"
      },
      "outputs": [],
      "source": [
        "import numpy as np\n",
        "import matplotlib.pyplot as plt\n",
        "plt.rcParams[\"savefig.dpi\"] = 300\n",
        "plt.rcParams['savefig.bbox'] = 'tight'"
      ]
    },
    {
      "cell_type": "code",
      "execution_count": 5,
      "metadata": {
        "jupyter": {
          "outputs_hidden": false
        },
        "id": "vSUEREh858SZ"
      },
      "outputs": [],
      "source": [
        "from sklearn.datasets import load_breast_cancer\n",
        "from sklearn.linear_model import LogisticRegression\n",
        "from sklearn.model_selection import train_test_split\n",
        "from sklearn.preprocessing import StandardScaler"
      ]
    },
    {
      "cell_type": "code",
      "source": [
        "import math\n",
        "math.log(10)"
      ],
      "metadata": {
        "id": "wkHC7JnK-x13",
        "colab": {
          "base_uri": "https://localhost:8080/"
        },
        "outputId": "3348c387-bf15-45ad-ebf9-f52dc6496ab9"
      },
      "execution_count": 6,
      "outputs": [
        {
          "output_type": "execute_result",
          "data": {
            "text/plain": [
              "2.302585092994046"
            ]
          },
          "metadata": {},
          "execution_count": 6
        }
      ]
    },
    {
      "cell_type": "code",
      "source": [
        "math.log(math.e)"
      ],
      "metadata": {
        "id": "4Gx4wwem-_TV",
        "colab": {
          "base_uri": "https://localhost:8080/"
        },
        "outputId": "8716eeb5-f42c-44ca-f637-de0cf5b93564"
      },
      "execution_count": 7,
      "outputs": [
        {
          "output_type": "execute_result",
          "data": {
            "text/plain": [
              "1.0"
            ]
          },
          "metadata": {},
          "execution_count": 7
        }
      ]
    },
    {
      "cell_type": "code",
      "source": [
        "math.log(100000)"
      ],
      "metadata": {
        "id": "cyzzuePq_KgM",
        "colab": {
          "base_uri": "https://localhost:8080/"
        },
        "outputId": "e5ef77e5-ab8a-4a75-8595-dc6c15fca6bf"
      },
      "execution_count": 8,
      "outputs": [
        {
          "output_type": "execute_result",
          "data": {
            "text/plain": [
              "11.512925464970229"
            ]
          },
          "metadata": {},
          "execution_count": 8
        }
      ]
    },
    {
      "cell_type": "code",
      "source": [
        "math.log(0)"
      ],
      "metadata": {
        "id": "aH5pOt0vBIa9",
        "colab": {
          "base_uri": "https://localhost:8080/",
          "height": 166
        },
        "outputId": "12e210c5-af81-4e71-930a-62c0aec6727f"
      },
      "execution_count": 9,
      "outputs": [
        {
          "output_type": "error",
          "ename": "ValueError",
          "evalue": "ignored",
          "traceback": [
            "\u001b[0;31m---------------------------------------------------------------------------\u001b[0m",
            "\u001b[0;31mValueError\u001b[0m                                Traceback (most recent call last)",
            "\u001b[0;32m<ipython-input-9-f7278b7c2ed1>\u001b[0m in \u001b[0;36m<cell line: 1>\u001b[0;34m()\u001b[0m\n\u001b[0;32m----> 1\u001b[0;31m \u001b[0mmath\u001b[0m\u001b[0;34m.\u001b[0m\u001b[0mlog\u001b[0m\u001b[0;34m(\u001b[0m\u001b[0;36m0\u001b[0m\u001b[0;34m)\u001b[0m\u001b[0;34m\u001b[0m\u001b[0;34m\u001b[0m\u001b[0m\n\u001b[0m",
            "\u001b[0;31mValueError\u001b[0m: math domain error"
          ]
        }
      ]
    },
    {
      "cell_type": "code",
      "source": [
        "math.log(-2)"
      ],
      "metadata": {
        "id": "ziWxtNBQBOvg"
      },
      "execution_count": null,
      "outputs": []
    },
    {
      "cell_type": "code",
      "source": [
        "math.log(0.0000002)"
      ],
      "metadata": {
        "id": "VVHfBBs9Bbfh",
        "colab": {
          "base_uri": "https://localhost:8080/"
        },
        "outputId": "c2982f70-d181-47f5-a5f6-c8e56dc8de6f"
      },
      "execution_count": 10,
      "outputs": [
        {
          "output_type": "execute_result",
          "data": {
            "text/plain": [
              "-15.424948470398375"
            ]
          },
          "metadata": {},
          "execution_count": 10
        }
      ]
    },
    {
      "cell_type": "code",
      "source": [
        "math.log(0.100000)"
      ],
      "metadata": {
        "id": "fNejHlEMA-kk",
        "colab": {
          "base_uri": "https://localhost:8080/"
        },
        "outputId": "bc197f29-819a-48f6-d5b6-9708eae2d825"
      },
      "execution_count": 11,
      "outputs": [
        {
          "output_type": "execute_result",
          "data": {
            "text/plain": [
              "-2.3025850929940455"
            ]
          },
          "metadata": {},
          "execution_count": 11
        }
      ]
    },
    {
      "cell_type": "code",
      "source": [
        "1/(1+math.log(10000))"
      ],
      "metadata": {
        "id": "0ApdnTGp_Uvr",
        "colab": {
          "base_uri": "https://localhost:8080/"
        },
        "outputId": "0aab3e02-fdf9-4427-f60b-6b32f95a36b8"
      },
      "execution_count": 12,
      "outputs": [
        {
          "output_type": "execute_result",
          "data": {
            "text/plain": [
              "0.09793992791314289"
            ]
          },
          "metadata": {},
          "execution_count": 12
        }
      ]
    },
    {
      "cell_type": "markdown",
      "source": [
        "a data point y_i=1\n",
        "\n",
        "x1=3, x2=4\n",
        "\n",
        "we trained a model, the model coefficient are: w1=0.5, w2=1, w0=3.2"
      ],
      "metadata": {
        "id": "jSR1NnQABld-"
      }
    },
    {
      "cell_type": "code",
      "source": [
        "#a data point y_i=1\n",
        "x1=3\n",
        "x2=4\n",
        "\n",
        "#we trained a model, the model coefficient are:\n",
        "w1=0.5\n",
        "w2=1\n",
        "w0=3.2\n",
        "\n",
        "dec_func_val=w0 + x1*w1 + x2*w2"
      ],
      "metadata": {
        "id": "SUgAWhZeCJ96"
      },
      "execution_count": 13,
      "outputs": []
    },
    {
      "cell_type": "code",
      "source": [
        "dec_func_val"
      ],
      "metadata": {
        "id": "xpzpRUOGC9Wm",
        "colab": {
          "base_uri": "https://localhost:8080/"
        },
        "outputId": "d88d6219-6286-4fd4-a59d-dce96ed5b51e"
      },
      "execution_count": 14,
      "outputs": [
        {
          "output_type": "execute_result",
          "data": {
            "text/plain": [
              "8.7"
            ]
          },
          "metadata": {},
          "execution_count": 14
        }
      ]
    },
    {
      "cell_type": "code",
      "source": [
        "import numpy as np\n",
        "print(dec_func_val)\n",
        "yhat = np.sign(dec_func_val)\n",
        "print(yhat)"
      ],
      "metadata": {
        "id": "O_epjNygDEKR",
        "colab": {
          "base_uri": "https://localhost:8080/"
        },
        "outputId": "89be8bd0-a325-4cd5-95b6-99e165446ae1"
      },
      "execution_count": 15,
      "outputs": [
        {
          "output_type": "stream",
          "name": "stdout",
          "text": [
            "8.7\n",
            "1.0\n"
          ]
        }
      ]
    },
    {
      "cell_type": "code",
      "source": [
        "#use the sigmoid fuction to compute the probability 0f the decision being right\n",
        "p=1/(1+math.exp(-dec_func_val)) #this is probability that decision is yhat=1\n",
        "print(p)"
      ],
      "metadata": {
        "id": "eZS4czwx042T",
        "colab": {
          "base_uri": "https://localhost:8080/"
        },
        "outputId": "51b3eb4a-9d00-42f7-cc64-0b04c27fd33e"
      },
      "execution_count": 16,
      "outputs": [
        {
          "output_type": "stream",
          "name": "stdout",
          "text": [
            "0.9998334419352227\n"
          ]
        }
      ]
    },
    {
      "cell_type": "code",
      "source": [
        "#a data point y_i=1\n",
        "x1=3\n",
        "x2=4\n",
        "\n",
        "#we trained a model, the model coefficient are:\n",
        "w1=-0.5\n",
        "w2=-1\n",
        "w0=3.2\n",
        "\n",
        "dec_func_val= w0 + x1*w1 + x2*w2"
      ],
      "metadata": {
        "id": "kjaYb89kEwPo"
      },
      "execution_count": 17,
      "outputs": []
    },
    {
      "cell_type": "code",
      "source": [
        "dec_func_val"
      ],
      "metadata": {
        "id": "sFL1Jk9WEwPw",
        "colab": {
          "base_uri": "https://localhost:8080/"
        },
        "outputId": "7ab1b91a-6caa-4099-cc67-a4f8f2b6f8d7"
      },
      "execution_count": 18,
      "outputs": [
        {
          "output_type": "execute_result",
          "data": {
            "text/plain": [
              "-2.3"
            ]
          },
          "metadata": {},
          "execution_count": 18
        }
      ]
    },
    {
      "cell_type": "code",
      "source": [
        "import numpy as np\n",
        "print(dec_func_val)\n",
        "yhat = np.sign(dec_func_val)\n",
        "print(yhat)"
      ],
      "metadata": {
        "id": "1bzcfP0SEwPw",
        "colab": {
          "base_uri": "https://localhost:8080/"
        },
        "outputId": "9b9f2391-21b2-4524-a65e-bfd00c232abf"
      },
      "execution_count": 19,
      "outputs": [
        {
          "output_type": "stream",
          "name": "stdout",
          "text": [
            "-2.3\n",
            "-1.0\n"
          ]
        }
      ]
    },
    {
      "cell_type": "code",
      "source": [
        "#use the sigmoid fuction to compute the probability 0f the decision being right\n",
        "p=1/(1+math.exp(-dec_func_val)) #this is probability that decision is yhat=1\n",
        "print(p)"
      ],
      "metadata": {
        "id": "n9PjFjDwEwPx",
        "colab": {
          "base_uri": "https://localhost:8080/"
        },
        "outputId": "bc8a6a17-ddb1-4781-a654-7cbacccbfeb6"
      },
      "execution_count": 20,
      "outputs": [
        {
          "output_type": "stream",
          "name": "stdout",
          "text": [
            "0.09112296101485616\n"
          ]
        }
      ]
    },
    {
      "cell_type": "code",
      "source": [
        "p=1/(1+math.exp(-0.5))\n",
        "print(p)"
      ],
      "metadata": {
        "colab": {
          "base_uri": "https://localhost:8080/"
        },
        "id": "3DvHsHUlGX9z",
        "outputId": "878db60e-696c-4c3c-cae6-4829e918e10d"
      },
      "execution_count": 21,
      "outputs": [
        {
          "output_type": "stream",
          "name": "stdout",
          "text": [
            "0.6224593312018546\n"
          ]
        }
      ]
    },
    {
      "cell_type": "code",
      "source": [
        "p=1/(1+math.exp(0))\n",
        "print(p)"
      ],
      "metadata": {
        "colab": {
          "base_uri": "https://localhost:8080/"
        },
        "id": "tDAd_7DWGfyr",
        "outputId": "a2ac4510-1ba9-4b3a-e0ea-af81938b990a"
      },
      "execution_count": 22,
      "outputs": [
        {
          "output_type": "stream",
          "name": "stdout",
          "text": [
            "0.5\n"
          ]
        }
      ]
    },
    {
      "cell_type": "code",
      "source": [
        "\n",
        "#you develop a model to detect cancer \n",
        "\n",
        "#most of the tue labels corresponding to cases where p>0.2 are actually 1, cancer."
      ],
      "metadata": {
        "id": "UwMaQJeOG8z7"
      },
      "execution_count": 23,
      "outputs": []
    },
    {
      "cell_type": "markdown",
      "metadata": {
        "id": "oYZowtny58Sa"
      },
      "source": [
        "### 1. Load the cancer data set and check its size"
      ]
    },
    {
      "cell_type": "code",
      "execution_count": 24,
      "metadata": {
        "id": "733wRsbV58Sc"
      },
      "outputs": [],
      "source": [
        "cancer = load_breast_cancer()\n",
        "X, y = cancer.data, cancer.target"
      ]
    },
    {
      "cell_type": "markdown",
      "metadata": {
        "id": "O24EMP6858Sc"
      },
      "source": [
        "### 2. Form train and test dasets and scale the data"
      ]
    },
    {
      "cell_type": "code",
      "execution_count": 25,
      "metadata": {
        "id": "SBPDy8DT58Sd"
      },
      "outputs": [],
      "source": [
        "X_train, X_test, y_train, y_test = train_test_split(X,y, stratify=y)"
      ]
    },
    {
      "cell_type": "code",
      "source": [
        "scaler = StandardScaler()\n",
        "X_train = scaler.fit_transform(X_train)\n",
        "X_test = scaler.transform(X_test)"
      ],
      "metadata": {
        "id": "6RN_Sr7zIV9m"
      },
      "execution_count": 26,
      "outputs": []
    },
    {
      "cell_type": "markdown",
      "metadata": {
        "id": "EO_w2kiy58Se"
      },
      "source": [
        "### 3. Fit logistic regression to the first two features of your dataset"
      ]
    },
    {
      "cell_type": "code",
      "execution_count": 27,
      "metadata": {
        "id": "EuvfcJ-958Se"
      },
      "outputs": [],
      "source": [
        "logreg = LogisticRegression(solver='liblinear')"
      ]
    },
    {
      "cell_type": "code",
      "source": [
        "logreg.fit(X_train[:,:2], y_train)"
      ],
      "metadata": {
        "colab": {
          "base_uri": "https://localhost:8080/",
          "height": 74
        },
        "id": "tqvr5nLWKZ16",
        "outputId": "e429c7f8-f9a8-4a11-bff2-f201e0e72389"
      },
      "execution_count": 28,
      "outputs": [
        {
          "output_type": "execute_result",
          "data": {
            "text/plain": [
              "LogisticRegression(solver='liblinear')"
            ],
            "text/html": [
              "<style>#sk-container-id-1 {color: black;background-color: white;}#sk-container-id-1 pre{padding: 0;}#sk-container-id-1 div.sk-toggleable {background-color: white;}#sk-container-id-1 label.sk-toggleable__label {cursor: pointer;display: block;width: 100%;margin-bottom: 0;padding: 0.3em;box-sizing: border-box;text-align: center;}#sk-container-id-1 label.sk-toggleable__label-arrow:before {content: \"▸\";float: left;margin-right: 0.25em;color: #696969;}#sk-container-id-1 label.sk-toggleable__label-arrow:hover:before {color: black;}#sk-container-id-1 div.sk-estimator:hover label.sk-toggleable__label-arrow:before {color: black;}#sk-container-id-1 div.sk-toggleable__content {max-height: 0;max-width: 0;overflow: hidden;text-align: left;background-color: #f0f8ff;}#sk-container-id-1 div.sk-toggleable__content pre {margin: 0.2em;color: black;border-radius: 0.25em;background-color: #f0f8ff;}#sk-container-id-1 input.sk-toggleable__control:checked~div.sk-toggleable__content {max-height: 200px;max-width: 100%;overflow: auto;}#sk-container-id-1 input.sk-toggleable__control:checked~label.sk-toggleable__label-arrow:before {content: \"▾\";}#sk-container-id-1 div.sk-estimator input.sk-toggleable__control:checked~label.sk-toggleable__label {background-color: #d4ebff;}#sk-container-id-1 div.sk-label input.sk-toggleable__control:checked~label.sk-toggleable__label {background-color: #d4ebff;}#sk-container-id-1 input.sk-hidden--visually {border: 0;clip: rect(1px 1px 1px 1px);clip: rect(1px, 1px, 1px, 1px);height: 1px;margin: -1px;overflow: hidden;padding: 0;position: absolute;width: 1px;}#sk-container-id-1 div.sk-estimator {font-family: monospace;background-color: #f0f8ff;border: 1px dotted black;border-radius: 0.25em;box-sizing: border-box;margin-bottom: 0.5em;}#sk-container-id-1 div.sk-estimator:hover {background-color: #d4ebff;}#sk-container-id-1 div.sk-parallel-item::after {content: \"\";width: 100%;border-bottom: 1px solid gray;flex-grow: 1;}#sk-container-id-1 div.sk-label:hover label.sk-toggleable__label {background-color: #d4ebff;}#sk-container-id-1 div.sk-serial::before {content: \"\";position: absolute;border-left: 1px solid gray;box-sizing: border-box;top: 0;bottom: 0;left: 50%;z-index: 0;}#sk-container-id-1 div.sk-serial {display: flex;flex-direction: column;align-items: center;background-color: white;padding-right: 0.2em;padding-left: 0.2em;position: relative;}#sk-container-id-1 div.sk-item {position: relative;z-index: 1;}#sk-container-id-1 div.sk-parallel {display: flex;align-items: stretch;justify-content: center;background-color: white;position: relative;}#sk-container-id-1 div.sk-item::before, #sk-container-id-1 div.sk-parallel-item::before {content: \"\";position: absolute;border-left: 1px solid gray;box-sizing: border-box;top: 0;bottom: 0;left: 50%;z-index: -1;}#sk-container-id-1 div.sk-parallel-item {display: flex;flex-direction: column;z-index: 1;position: relative;background-color: white;}#sk-container-id-1 div.sk-parallel-item:first-child::after {align-self: flex-end;width: 50%;}#sk-container-id-1 div.sk-parallel-item:last-child::after {align-self: flex-start;width: 50%;}#sk-container-id-1 div.sk-parallel-item:only-child::after {width: 0;}#sk-container-id-1 div.sk-dashed-wrapped {border: 1px dashed gray;margin: 0 0.4em 0.5em 0.4em;box-sizing: border-box;padding-bottom: 0.4em;background-color: white;}#sk-container-id-1 div.sk-label label {font-family: monospace;font-weight: bold;display: inline-block;line-height: 1.2em;}#sk-container-id-1 div.sk-label-container {text-align: center;}#sk-container-id-1 div.sk-container {/* jupyter's `normalize.less` sets `[hidden] { display: none; }` but bootstrap.min.css set `[hidden] { display: none !important; }` so we also need the `!important` here to be able to override the default hidden behavior on the sphinx rendered scikit-learn.org. See: https://github.com/scikit-learn/scikit-learn/issues/21755 */display: inline-block !important;position: relative;}#sk-container-id-1 div.sk-text-repr-fallback {display: none;}</style><div id=\"sk-container-id-1\" class=\"sk-top-container\"><div class=\"sk-text-repr-fallback\"><pre>LogisticRegression(solver=&#x27;liblinear&#x27;)</pre><b>In a Jupyter environment, please rerun this cell to show the HTML representation or trust the notebook. <br />On GitHub, the HTML representation is unable to render, please try loading this page with nbviewer.org.</b></div><div class=\"sk-container\" hidden><div class=\"sk-item\"><div class=\"sk-estimator sk-toggleable\"><input class=\"sk-toggleable__control sk-hidden--visually\" id=\"sk-estimator-id-1\" type=\"checkbox\" checked><label for=\"sk-estimator-id-1\" class=\"sk-toggleable__label sk-toggleable__label-arrow\">LogisticRegression</label><div class=\"sk-toggleable__content\"><pre>LogisticRegression(solver=&#x27;liblinear&#x27;)</pre></div></div></div></div></div>"
            ]
          },
          "metadata": {},
          "execution_count": 28
        }
      ]
    },
    {
      "cell_type": "code",
      "source": [
        "print(logreg.score(X_train[:,:2], y_train))\n",
        "print(logreg.score(X_test[:,:2], y_test))"
      ],
      "metadata": {
        "colab": {
          "base_uri": "https://localhost:8080/"
        },
        "id": "aBiRFJg4KqiN",
        "outputId": "cb116f27-206f-4ab6-d2ac-910c150c1854"
      },
      "execution_count": 29,
      "outputs": [
        {
          "output_type": "stream",
          "name": "stdout",
          "text": [
            "0.9014084507042254\n",
            "0.8461538461538461\n"
          ]
        }
      ]
    },
    {
      "cell_type": "code",
      "source": [
        "logreg.coef_"
      ],
      "metadata": {
        "colab": {
          "base_uri": "https://localhost:8080/"
        },
        "id": "tdQubZZ4NRhk",
        "outputId": "c1601da5-1cf2-404d-d188-335a5fbdb3e4"
      },
      "execution_count": 30,
      "outputs": [
        {
          "output_type": "execute_result",
          "data": {
            "text/plain": [
              "array([[-3.28167483, -0.74711883]])"
            ]
          },
          "metadata": {},
          "execution_count": 30
        }
      ]
    },
    {
      "cell_type": "code",
      "source": [
        "logreg.coef_"
      ],
      "metadata": {
        "colab": {
          "base_uri": "https://localhost:8080/"
        },
        "id": "iAWX90GTMouD",
        "outputId": "83e28945-aaee-4ab5-afb1-aa559581d684"
      },
      "execution_count": 31,
      "outputs": [
        {
          "output_type": "execute_result",
          "data": {
            "text/plain": [
              "array([[-3.28167483, -0.74711883]])"
            ]
          },
          "metadata": {},
          "execution_count": 31
        }
      ]
    },
    {
      "cell_type": "code",
      "source": [
        "w0=logreg.intercept_\n",
        "w0"
      ],
      "metadata": {
        "colab": {
          "base_uri": "https://localhost:8080/"
        },
        "id": "QHvw4lqFM86q",
        "outputId": "0a3d9b70-51aa-417e-a1eb-7a716e5781b0"
      },
      "execution_count": 32,
      "outputs": [
        {
          "output_type": "execute_result",
          "data": {
            "text/plain": [
              "array([0.68617543])"
            ]
          },
          "metadata": {},
          "execution_count": 32
        }
      ]
    },
    {
      "cell_type": "markdown",
      "metadata": {
        "id": "zko-pfp158Se"
      },
      "source": [
        "### 4. Create a scatter plot for the first two features of the train data set and draw the classification line on the graph"
      ]
    },
    {
      "cell_type": "markdown",
      "metadata": {
        "id": "Bl0MMNkd58Sf"
      },
      "source": [
        "Let us pick two points $(x_{10},x_{11})$ and $(x_{21},x_{22})$ on the line $w_1x_1+w_2x_2+w0=0$\n",
        "\n",
        "Let us show these two points on the line:\n",
        "\n",
        "\\begin{align*}\n",
        "w_1x_{10}+c_2x_{20}&=-6\\\\\n",
        "w_1x_{21}+w_2x_{21}&=-6\n",
        "\\end{align*}\n",
        "Let us subtract the second euation from the first, then we have $(c_0, c_1)\\cdot (x_{01}-x_{00}, x_{10}-x_{11})=0$. $(x_{01}-x_{00}, x_{10}-x_{11})$ represents a vector on the line."
      ]
    },
    {
      "cell_type": "code",
      "execution_count": 33,
      "metadata": {
        "id": "tqPrPe-S58Sg",
        "colab": {
          "base_uri": "https://localhost:8080/"
        },
        "outputId": "e8b0a7f3-db82-4df0-b48d-f0034ae830f9"
      },
      "outputs": [
        {
          "output_type": "execute_result",
          "data": {
            "text/plain": [
              "(1, 2)"
            ]
          },
          "metadata": {},
          "execution_count": 33
        }
      ],
      "source": [
        "coef = logreg.coef_\n",
        "coef.shape"
      ]
    },
    {
      "cell_type": "code",
      "source": [
        "coef"
      ],
      "metadata": {
        "colab": {
          "base_uri": "https://localhost:8080/"
        },
        "id": "1RrBSlQTQxqG",
        "outputId": "90ffe8c5-0bfd-4f2c-a7da-cc93714aed6a"
      },
      "execution_count": 34,
      "outputs": [
        {
          "output_type": "execute_result",
          "data": {
            "text/plain": [
              "array([[-3.28167483, -0.74711883]])"
            ]
          },
          "metadata": {},
          "execution_count": 34
        }
      ]
    },
    {
      "cell_type": "code",
      "source": [
        "coef[0][0]"
      ],
      "metadata": {
        "colab": {
          "base_uri": "https://localhost:8080/"
        },
        "id": "HZHnCRRlQ11B",
        "outputId": "60c98071-7eae-42f2-c5ec-9a7968f1bab1"
      },
      "execution_count": 35,
      "outputs": [
        {
          "output_type": "execute_result",
          "data": {
            "text/plain": [
              "-3.2816748276030654"
            ]
          },
          "metadata": {},
          "execution_count": 35
        }
      ]
    },
    {
      "cell_type": "code",
      "source": [
        "coef[0][1]"
      ],
      "metadata": {
        "colab": {
          "base_uri": "https://localhost:8080/"
        },
        "id": "EE_GLCPrRD1v",
        "outputId": "5879791d-e4c9-4552-97ac-cf9d67367313"
      },
      "execution_count": 36,
      "outputs": [
        {
          "output_type": "execute_result",
          "data": {
            "text/plain": [
              "-0.7471188303077909"
            ]
          },
          "metadata": {},
          "execution_count": 36
        }
      ]
    },
    {
      "cell_type": "code",
      "source": [
        "coef = logreg.coef_.ravel()\n",
        "coef.shape"
      ],
      "metadata": {
        "colab": {
          "base_uri": "https://localhost:8080/"
        },
        "id": "C6x1hNsbRNzt",
        "outputId": "e70975ad-5a08-4f38-914d-6b75cfdb6381"
      },
      "execution_count": 37,
      "outputs": [
        {
          "output_type": "execute_result",
          "data": {
            "text/plain": [
              "(2,)"
            ]
          },
          "metadata": {},
          "execution_count": 37
        }
      ]
    },
    {
      "cell_type": "code",
      "source": [
        "coef[1]"
      ],
      "metadata": {
        "colab": {
          "base_uri": "https://localhost:8080/"
        },
        "id": "da73WjvDSN6-",
        "outputId": "abf6bb28-b04b-4198-c817-3e4580db6a45"
      },
      "execution_count": 38,
      "outputs": [
        {
          "output_type": "execute_result",
          "data": {
            "text/plain": [
              "-0.7471188303077909"
            ]
          },
          "metadata": {},
          "execution_count": 38
        }
      ]
    },
    {
      "cell_type": "code",
      "source": [
        "import numpy as np\n",
        "xmin, xmax = -4,4\n",
        "xx=np.linspace(xmin,xmax,100)\n",
        "xx"
      ],
      "metadata": {
        "colab": {
          "base_uri": "https://localhost:8080/"
        },
        "id": "KSIt4NL0Sf6v",
        "outputId": "d00f587b-b6b0-4f4e-c354-0376860e4232"
      },
      "execution_count": 39,
      "outputs": [
        {
          "output_type": "execute_result",
          "data": {
            "text/plain": [
              "array([-4.        , -3.91919192, -3.83838384, -3.75757576, -3.67676768,\n",
              "       -3.5959596 , -3.51515152, -3.43434343, -3.35353535, -3.27272727,\n",
              "       -3.19191919, -3.11111111, -3.03030303, -2.94949495, -2.86868687,\n",
              "       -2.78787879, -2.70707071, -2.62626263, -2.54545455, -2.46464646,\n",
              "       -2.38383838, -2.3030303 , -2.22222222, -2.14141414, -2.06060606,\n",
              "       -1.97979798, -1.8989899 , -1.81818182, -1.73737374, -1.65656566,\n",
              "       -1.57575758, -1.49494949, -1.41414141, -1.33333333, -1.25252525,\n",
              "       -1.17171717, -1.09090909, -1.01010101, -0.92929293, -0.84848485,\n",
              "       -0.76767677, -0.68686869, -0.60606061, -0.52525253, -0.44444444,\n",
              "       -0.36363636, -0.28282828, -0.2020202 , -0.12121212, -0.04040404,\n",
              "        0.04040404,  0.12121212,  0.2020202 ,  0.28282828,  0.36363636,\n",
              "        0.44444444,  0.52525253,  0.60606061,  0.68686869,  0.76767677,\n",
              "        0.84848485,  0.92929293,  1.01010101,  1.09090909,  1.17171717,\n",
              "        1.25252525,  1.33333333,  1.41414141,  1.49494949,  1.57575758,\n",
              "        1.65656566,  1.73737374,  1.81818182,  1.8989899 ,  1.97979798,\n",
              "        2.06060606,  2.14141414,  2.22222222,  2.3030303 ,  2.38383838,\n",
              "        2.46464646,  2.54545455,  2.62626263,  2.70707071,  2.78787879,\n",
              "        2.86868687,  2.94949495,  3.03030303,  3.11111111,  3.19191919,\n",
              "        3.27272727,  3.35353535,  3.43434343,  3.51515152,  3.5959596 ,\n",
              "        3.67676768,  3.75757576,  3.83838384,  3.91919192,  4.        ])"
            ]
          },
          "metadata": {},
          "execution_count": 39
        }
      ]
    },
    {
      "cell_type": "code",
      "source": [
        "logreg.intercept_"
      ],
      "metadata": {
        "colab": {
          "base_uri": "https://localhost:8080/"
        },
        "id": "vXwLJTKGn3W4",
        "outputId": "7eacdca3-d44a-4881-c20c-0b61840d0394"
      },
      "execution_count": 45,
      "outputs": [
        {
          "output_type": "execute_result",
          "data": {
            "text/plain": [
              "array([0.68617543])"
            ]
          },
          "metadata": {},
          "execution_count": 45
        }
      ]
    },
    {
      "cell_type": "code",
      "source": [
        "import numpy as np\n",
        "xmin, xmax = X_train[:,1].min(), X_train[:,1].max()\n",
        "x2=np.linspace(xmin,xmax)\n",
        "x2"
      ],
      "metadata": {
        "colab": {
          "base_uri": "https://localhost:8080/"
        },
        "id": "_uW_5px8TY6r",
        "outputId": "a3de2d63-508d-47cf-85f3-008e7c70ffc6"
      },
      "execution_count": 44,
      "outputs": [
        {
          "output_type": "execute_result",
          "data": {
            "text/plain": [
              "array([-2.27206748e+00, -2.12984137e+00, -1.98761525e+00, -1.84538914e+00,\n",
              "       -1.70316302e+00, -1.56093691e+00, -1.41871080e+00, -1.27648468e+00,\n",
              "       -1.13425857e+00, -9.92032456e-01, -8.49806342e-01, -7.07580228e-01,\n",
              "       -5.65354114e-01, -4.23128001e-01, -2.80901887e-01, -1.38675773e-01,\n",
              "        3.55034060e-03,  1.45776454e-01,  2.88002568e-01,  4.30228682e-01,\n",
              "        5.72454796e-01,  7.14680909e-01,  8.56907023e-01,  9.99133137e-01,\n",
              "        1.14135925e+00,  1.28358536e+00,  1.42581148e+00,  1.56803759e+00,\n",
              "        1.71026371e+00,  1.85248982e+00,  1.99471593e+00,  2.13694205e+00,\n",
              "        2.27916816e+00,  2.42139427e+00,  2.56362039e+00,  2.70584650e+00,\n",
              "        2.84807262e+00,  2.99029873e+00,  3.13252484e+00,  3.27475096e+00,\n",
              "        3.41697707e+00,  3.55920318e+00,  3.70142930e+00,  3.84365541e+00,\n",
              "        3.98588153e+00,  4.12810764e+00,  4.27033375e+00,  4.41255987e+00,\n",
              "        4.55478598e+00,  4.69701209e+00])"
            ]
          },
          "metadata": {},
          "execution_count": 44
        }
      ]
    },
    {
      "cell_type": "code",
      "source": [
        "#wx+b=0\n",
        "\n",
        "#w1*x1 + w2*x2 + b = 0\n",
        "\n",
        "#x1 = (-b-w2*x2)/w1"
      ],
      "metadata": {
        "id": "mdtIW_l5UHiR"
      },
      "execution_count": 42,
      "outputs": []
    },
    {
      "cell_type": "code",
      "source": [
        "coef = logreg.coef_.ravel() # w1,w2\n",
        "x1 = (-logreg.intercept_-coef[1]*x2)/coef[0]"
      ],
      "metadata": {
        "id": "Tgv8uxkOnWWk"
      },
      "execution_count": 46,
      "outputs": []
    },
    {
      "cell_type": "code",
      "source": [
        "plt.scatter(X_train[:,0], X_train[:,1], c=y_train, cmap='bwr')\n",
        "plt.plot(x2,x1, c='k')\n",
        "plt.ylim(-2,3)"
      ],
      "metadata": {
        "colab": {
          "base_uri": "https://localhost:8080/",
          "height": 452
        },
        "id": "7d8WmecNoeT6",
        "outputId": "ca2998a7-116a-4728-fa78-af5679df6945"
      },
      "execution_count": 49,
      "outputs": [
        {
          "output_type": "execute_result",
          "data": {
            "text/plain": [
              "(-2.0, 3.0)"
            ]
          },
          "metadata": {},
          "execution_count": 49
        },
        {
          "output_type": "display_data",
          "data": {
            "text/plain": [
              "<Figure size 640x480 with 1 Axes>"
            ],
            "image/png": "[encoded data removed]"
          },
          "metadata": {}
        }
      ]
    },
    {
      "cell_type": "code",
      "source": [
        "plt.scatter(X_train[:,0], X_train[:,1], c=y_train, cmap='bwr')\n",
        "plt.plot(x1,x2, c='k')\n",
        "plt.ylim(-2,3)"
      ],
      "metadata": {
        "colab": {
          "base_uri": "https://localhost:8080/",
          "height": 452
        },
        "id": "4Z5c0tSEpdKD",
        "outputId": "b96dc61f-10d4-427c-db60-6c822e0046f5"
      },
      "execution_count": 50,
      "outputs": [
        {
          "output_type": "execute_result",
          "data": {
            "text/plain": [
              "(-2.0, 3.0)"
            ]
          },
          "metadata": {},
          "execution_count": 50
        },
        {
          "output_type": "display_data",
          "data": {
            "text/plain": [
              "<Figure size 640x480 with 1 Axes>"
            ],
            "image/png": "[encoded data removed]"
          },
          "metadata": {}
        }
      ]
    },
    {
      "cell_type": "markdown",
      "metadata": {
        "id": "uI3gX5xf58Sh"
      },
      "source": [
        "### 5. Create a toy dataset using Scikitlearn's make_blobs function.\n",
        "- Use random_state=4\n",
        "- Fit LogisticRegression() for C=0.1, 1, 100\n",
        "- Plot the data on three figures and plot the classification line for each C value."
      ]
    },
    {
      "cell_type": "code",
      "execution_count": null,
      "metadata": {
        "id": "bmO4x6vc58Sh"
      },
      "outputs": [],
      "source": []
    },
    {
      "cell_type": "markdown",
      "metadata": {
        "id": "DrLkryYE58Si"
      },
      "source": [
        "# Multiclass\n",
        "- Load Iris dataset with `load_iris`\n",
        "- check the shape and number of unique classes\n",
        "- Fit Logistic regression and Linear SVC on the dataset\n",
        "- Print the coefficients\n",
        "- Print the intercept"
      ]
    },
    {
      "cell_type": "code",
      "execution_count": null,
      "metadata": {
        "id": "89vAbWDd58Si"
      },
      "outputs": [],
      "source": []
    },
    {
      "cell_type": "code",
      "execution_count": null,
      "metadata": {
        "id": "uWY72E6F58Si"
      },
      "outputs": [],
      "source": []
    }
  ],
  "metadata": {
    "kernelspec": {
      "display_name": "Python 3",
      "language": "python",
      "name": "python3"
    },
    "language_info": {
      "codemirror_mode": {
        "name": "ipython",
        "version": 3
      },
      "file_extension": ".py",
      "mimetype": "text/x-python",
      "name": "python",
      "nbconvert_exporter": "python",
      "pygments_lexer": "ipython3",
      "version": "3.6.10"
    },
    "colab": {
      "provenance": [],
      "include_colab_link": true
    },
    "accelerator": "GPU",
    "gpuClass": "standard"
  },
  "nbformat": 4,
  "nbformat_minor": 0
}