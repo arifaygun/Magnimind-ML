{
  "cells": [
    {
      "cell_type": "markdown",
      "metadata": {
        "id": "view-in-github",
        "colab_type": "text"
      },
      "source": [
        "<a href=\"https://colab.research.google.com/github/ArifAygun/Magnimind-ML/blob/main/04_Lab1St.ipynb\" target=\"_parent\"><img src=\"https://colab.research.google.com/assets/colab-badge.svg\" alt=\"Open In Colab\"/></a>"
      ]
    },
    {
      "cell_type": "markdown",
      "source": [
        "#**Assignment 1 & Submit**"
      ],
      "metadata": {
        "id": "VnHOZwDm0qp0"
      }
    },
    {
      "cell_type": "markdown",
      "source": [
        "#A. Loading Dataset from ScikitLearn"
      ],
      "metadata": {
        "id": "FSqrZXFJ0r4a"
      }
    },
    {
      "cell_type": "markdown",
      "source": [
        "###Step 1: Load the iris dataset from ScikitLearn and assign it to X and y variables:"
      ],
      "metadata": {
        "id": "1jVqPwhF0-sc"
      }
    },
    {
      "cell_type": "code",
      "source": [
        "from sklearn.datasets import load_iris\n",
        "\n",
        "iris_dataset = load_iris()\n",
        "\n",
        "X = iris_dataset['data']\n",
        "y = iris_dataset['target']"
      ],
      "metadata": {
        "id": "fQIi9c8b1CU9"
      },
      "execution_count": 2,
      "outputs": []
    },
    {
      "cell_type": "markdown",
      "source": [
        "We import the load_iris function from the sklearn.datasets module to load the Iris dataset. Then, we assign the feature data to X and the target values to y."
      ],
      "metadata": {
        "id": "lDz7gGTwLA5-"
      }
    },
    {
      "cell_type": "markdown",
      "source": [
        "###Step 2: Print the dataset keys using iris_dataset.keys():"
      ],
      "metadata": {
        "id": "0L2oAh_u1EzC"
      }
    },
    {
      "cell_type": "code",
      "source": [
        "print(iris_dataset.keys())"
      ],
      "metadata": {
        "id": "ixnt-EsU1Q5C",
        "outputId": "966fd659-f997-40cb-b86c-3c5043591ecd",
        "colab": {
          "base_uri": "https://localhost:8080/"
        }
      },
      "execution_count": 3,
      "outputs": [
        {
          "output_type": "stream",
          "name": "stdout",
          "text": [
            "dict_keys(['data', 'target', 'frame', 'target_names', 'DESCR', 'feature_names', 'filename', 'data_module'])\n"
          ]
        }
      ]
    },
    {
      "cell_type": "markdown",
      "source": [
        "We print the keys of the iris_dataset dictionary to see what information is stored in it."
      ],
      "metadata": {
        "id": "7CkDX4qJLIlP"
      }
    },
    {
      "cell_type": "markdown",
      "source": [
        "###Step 3: Print the names of the categories in the target file:"
      ],
      "metadata": {
        "id": "NYeQOrxn1V4B"
      }
    },
    {
      "cell_type": "code",
      "source": [
        "print(iris_dataset['target_names'])"
      ],
      "metadata": {
        "id": "xXQStG4k1Xxw",
        "outputId": "4278cde4-d43f-42f8-aa94-858881217e35",
        "colab": {
          "base_uri": "https://localhost:8080/"
        }
      },
      "execution_count": 4,
      "outputs": [
        {
          "output_type": "stream",
          "name": "stdout",
          "text": [
            "['setosa' 'versicolor' 'virginica']\n"
          ]
        }
      ]
    },
    {
      "cell_type": "markdown",
      "source": [
        "We print the target names to see the different classes of the Iris dataset."
      ],
      "metadata": {
        "id": "1SbZREMILWzu"
      }
    },
    {
      "cell_type": "markdown",
      "source": [
        "###Step 4: Print the feature names in the Iris dataset:"
      ],
      "metadata": {
        "id": "d2kT88241fTi"
      }
    },
    {
      "cell_type": "code",
      "source": [
        "print(iris_dataset['feature_names'])"
      ],
      "metadata": {
        "id": "pkZh_CTh1hoW",
        "outputId": "5efd33a9-15a3-4015-afe7-c5b9773730e6",
        "colab": {
          "base_uri": "https://localhost:8080/"
        }
      },
      "execution_count": 5,
      "outputs": [
        {
          "output_type": "stream",
          "name": "stdout",
          "text": [
            "['sepal length (cm)', 'sepal width (cm)', 'petal length (cm)', 'petal width (cm)']\n"
          ]
        }
      ]
    },
    {
      "cell_type": "markdown",
      "source": [
        "We print the feature names to see what are the different features in the Iris dataset."
      ],
      "metadata": {
        "id": "j68DjI2nLb-k"
      }
    },
    {
      "cell_type": "markdown",
      "source": [
        "###Step 5: Print the type of the Iris dataset:"
      ],
      "metadata": {
        "id": "vun2c4jS1nEJ"
      }
    },
    {
      "cell_type": "code",
      "source": [
        "print(type(iris_dataset))"
      ],
      "metadata": {
        "id": "NPq_813H1vVg",
        "outputId": "63c372a8-f805-42b9-cedd-18d8b35523ed",
        "colab": {
          "base_uri": "https://localhost:8080/"
        }
      },
      "execution_count": 6,
      "outputs": [
        {
          "output_type": "stream",
          "name": "stdout",
          "text": [
            "<class 'sklearn.utils._bunch.Bunch'>\n"
          ]
        }
      ]
    },
    {
      "cell_type": "markdown",
      "source": [
        "We print the type of iris_dataset to check if it's a dictionary."
      ],
      "metadata": {
        "id": "ifx7uzbx1zId"
      }
    },
    {
      "cell_type": "markdown",
      "source": [
        "###Step 6: Print the shape of the Iris dataset."
      ],
      "metadata": {
        "id": "GTyQ-geOLrqq"
      }
    },
    {
      "cell_type": "code",
      "source": [
        "print(X.shape)"
      ],
      "metadata": {
        "colab": {
          "base_uri": "https://localhost:8080/"
        },
        "id": "7QU-_YIDLmWy",
        "outputId": "8526ac4a-98cd-4d81-e7c9-007d5f76078a"
      },
      "execution_count": 7,
      "outputs": [
        {
          "output_type": "stream",
          "name": "stdout",
          "text": [
            "(150, 4)\n"
          ]
        }
      ]
    },
    {
      "cell_type": "markdown",
      "source": [
        "We print the shape of the feature data to see how many samples and features are in the Iris dataset."
      ],
      "metadata": {
        "id": "n2D67shYL5zj"
      }
    },
    {
      "cell_type": "markdown",
      "source": [
        "###Step 7: Print the first five rows of the Iris dataset."
      ],
      "metadata": {
        "id": "vhDiP1T2L-FM"
      }
    },
    {
      "cell_type": "code",
      "source": [
        "print(X[:5])"
      ],
      "metadata": {
        "colab": {
          "base_uri": "https://localhost:8080/"
        },
        "id": "o1VDYFkwLzgU",
        "outputId": "c261521e-9c01-4f09-dc21-aef5f926bdea"
      },
      "execution_count": 8,
      "outputs": [
        {
          "output_type": "stream",
          "name": "stdout",
          "text": [
            "[[5.1 3.5 1.4 0.2]\n",
            " [4.9 3.  1.4 0.2]\n",
            " [4.7 3.2 1.3 0.2]\n",
            " [4.6 3.1 1.5 0.2]\n",
            " [5.  3.6 1.4 0.2]]\n"
          ]
        }
      ]
    },
    {
      "cell_type": "markdown",
      "source": [
        "We print the first five rows of the feature data to see what the data looks like.\n",
        "\n"
      ],
      "metadata": {
        "id": "C8npnjFAMFwr"
      }
    },
    {
      "cell_type": "markdown",
      "source": [
        "###Step 8: Print the type of the target variable of Iris dataset."
      ],
      "metadata": {
        "id": "d7RVh79aMK3s"
      }
    },
    {
      "cell_type": "code",
      "source": [
        "print(type(y))"
      ],
      "metadata": {
        "colab": {
          "base_uri": "https://localhost:8080/"
        },
        "id": "o5fMEhyJMC6M",
        "outputId": "9c7ab777-9a6e-4428-86c3-046054ff18c4"
      },
      "execution_count": 9,
      "outputs": [
        {
          "output_type": "stream",
          "name": "stdout",
          "text": [
            "<class 'numpy.ndarray'>\n"
          ]
        }
      ]
    },
    {
      "cell_type": "markdown",
      "source": [
        "We print the type of the target variable to check if it's a NumPy array."
      ],
      "metadata": {
        "id": "_bwan4jLMTIq"
      }
    },
    {
      "cell_type": "markdown",
      "source": [
        "###Step 9: Print the shape of the target variable of Iris dataset."
      ],
      "metadata": {
        "id": "_Oh3-sl-MWYU"
      }
    },
    {
      "cell_type": "code",
      "source": [
        "print(y.shape)"
      ],
      "metadata": {
        "colab": {
          "base_uri": "https://localhost:8080/"
        },
        "id": "kFN5EBgkMQK7",
        "outputId": "9c356720-6447-4b56-9557-76f324a966ce"
      },
      "execution_count": 10,
      "outputs": [
        {
          "output_type": "stream",
          "name": "stdout",
          "text": [
            "(150,)\n"
          ]
        }
      ]
    },
    {
      "cell_type": "markdown",
      "source": [
        "We print the shape of the target variable to see how many target values are in the Iris dataset."
      ],
      "metadata": {
        "id": "hqq0lIg9MeEA"
      }
    },
    {
      "cell_type": "markdown",
      "source": [
        "###Step 10: Print the entire target variable values of the Iris dataset."
      ],
      "metadata": {
        "id": "630I6YkeMiE1"
      }
    },
    {
      "cell_type": "code",
      "source": [
        "print(y)"
      ],
      "metadata": {
        "colab": {
          "base_uri": "https://localhost:8080/"
        },
        "id": "ERX6l6gaMbFz",
        "outputId": "89fb959b-c95f-42eb-dbef-aa0009a7d624"
      },
      "execution_count": 11,
      "outputs": [
        {
          "output_type": "stream",
          "name": "stdout",
          "text": [
            "[0 0 0 0 0 0 0 0 0 0 0 0 0 0 0 0 0 0 0 0 0 0 0 0 0 0 0 0 0 0 0 0 0 0 0 0 0\n",
            " 0 0 0 0 0 0 0 0 0 0 0 0 0 1 1 1 1 1 1 1 1 1 1 1 1 1 1 1 1 1 1 1 1 1 1 1 1\n",
            " 1 1 1 1 1 1 1 1 1 1 1 1 1 1 1 1 1 1 1 1 1 1 1 1 1 1 2 2 2 2 2 2 2 2 2 2 2\n",
            " 2 2 2 2 2 2 2 2 2 2 2 2 2 2 2 2 2 2 2 2 2 2 2 2 2 2 2 2 2 2 2 2 2 2 2 2 2\n",
            " 2 2]\n"
          ]
        }
      ]
    },
    {
      "cell_type": "markdown",
      "source": [
        "We print the target variable to see what are the target values in the Iris dataset."
      ],
      "metadata": {
        "id": "E1kZH4ccMpo3"
      }
    },
    {
      "cell_type": "markdown",
      "source": [
        "Step 11: Import NumPy with import numpy as np and use the numpy.unique() function to print the unique values of the target variable of Iris dataset"
      ],
      "metadata": {
        "id": "t5vWR1IzMsWi"
      }
    },
    {
      "cell_type": "code",
      "source": [
        "import numpy as np\n",
        "\n",
        "print(np.unique(y))"
      ],
      "metadata": {
        "colab": {
          "base_uri": "https://localhost:8080/"
        },
        "id": "BZNf1RwhMms3",
        "outputId": "e438f3ca-b358-4b82-8b84-81b9f7b2c8f9"
      },
      "execution_count": 12,
      "outputs": [
        {
          "output_type": "stream",
          "name": "stdout",
          "text": [
            "[0 1 2]\n"
          ]
        }
      ]
    },
    {
      "cell_type": "markdown",
      "source": [
        "We import NumPy as np and use its unique() function to see the unique values of the target variable."
      ],
      "metadata": {
        "id": "rIQ3-ozdM5Cj"
      }
    },
    {
      "cell_type": "markdown",
      "source": [
        "###Step 12: Split dataset into train and test datasets using from sklearn.model_selection import train_test_split"
      ],
      "metadata": {
        "id": "5Vac90zfM9FV"
      }
    },
    {
      "cell_type": "code",
      "source": [
        "from sklearn.model_selection import train_test_split\n",
        "\n",
        "X_train, X_test, y_train, y_test = train_test_split(X, y, random_state=0)"
      ],
      "metadata": {
        "id": "MEdVaf_5NC40"
      },
      "execution_count": 13,
      "outputs": []
    },
    {
      "cell_type": "markdown",
      "source": [
        "We import the train_test_split() function from the sklearn.model_selection module to split the Iris dataset into training and testing sets. We use a random_state value of 0"
      ],
      "metadata": {
        "id": "XO3USewcM_Q_"
      }
    },
    {
      "cell_type": "markdown",
      "source": [
        "###Step 13: Print the shape of train/test datasets and the train/test target variables."
      ],
      "metadata": {
        "id": "w30ibBP5NR3e"
      }
    },
    {
      "cell_type": "code",
      "source": [
        "print(\"X_train shape:\", X_train.shape)\n",
        "print(\"y_train shape:\", y_train.shape)\n",
        "print(\"X_test shape:\", X_test.shape)\n",
        "print(\"y_test shape:\", y_test.shape)"
      ],
      "metadata": {
        "colab": {
          "base_uri": "https://localhost:8080/"
        },
        "id": "c-U60l1cM6Hg",
        "outputId": "8f681888-861f-496f-c40a-ac3ad26832fd"
      },
      "execution_count": 14,
      "outputs": [
        {
          "output_type": "stream",
          "name": "stdout",
          "text": [
            "X_train shape: (112, 4)\n",
            "y_train shape: (112,)\n",
            "X_test shape: (38, 4)\n",
            "y_test shape: (38,)\n"
          ]
        }
      ]
    },
    {
      "cell_type": "markdown",
      "source": [
        "###Step 14: Build your K-neighbors classifier for nearest neighbor of 1 using from sklearn.neighbors import KNeighborsClassifier, fit the model to your train dataset and make a prediction for teh data point of [5, 1.9, 1, 0.2]. Print your prediction class value as an integer and also the corresponding string label."
      ],
      "metadata": {
        "id": "tuFO2SCANxJX"
      }
    },
    {
      "cell_type": "code",
      "source": [
        "from sklearn.neighbors import KNeighborsClassifier\n",
        "from sklearn.model_selection import train_test_split\n",
        "from sklearn.datasets import load_iris\n",
        "import numpy as np\n",
        "\n",
        "# Step 1: Load iris dataset from ScikitLearn\n",
        "iris_dataset = load_iris()\n",
        "X = iris_dataset.data\n",
        "y = iris_dataset.target\n",
        "\n",
        "# Step 12: Split dataset into train and test datasets\n",
        "X_train, X_test, y_train, y_test = train_test_split(X, y, random_state=0)\n",
        "\n",
        "# Step 14: Build K-neighbors classifier for nearest neighbor of 1\n",
        "knn = KNeighborsClassifier(n_neighbors=1)\n",
        "knn.fit(X_train, y_train)\n",
        "\n",
        "# Make a prediction for the data point [5, 1.9, 1, 0.2]\n",
        "X_new = np.array([[5, 1.9, 1, 0.2]])\n",
        "prediction = knn.predict(X_new)\n",
        "print(\"Prediction class value: \", prediction[0])\n",
        "print(\"Corresponding string label: \", iris_dataset.target_names[prediction[0]])"
      ],
      "metadata": {
        "colab": {
          "base_uri": "https://localhost:8080/"
        },
        "id": "lyVi9899N4H1",
        "outputId": "f663e397-c9ef-4c49-c626-bb917af38687"
      },
      "execution_count": 15,
      "outputs": [
        {
          "output_type": "stream",
          "name": "stdout",
          "text": [
            "Prediction class value:  0\n",
            "Corresponding string label:  setosa\n"
          ]
        }
      ]
    },
    {
      "cell_type": "markdown",
      "source": [
        "we use the KNeighborsClassifier class from scikit-learn to build a k-nearest neighbors model with a value of n_neighbors set to 1. This means that the model will predict the class of a new data point based on the class of its nearest neighbor in the training set.\n",
        "\n",
        "We then fit the model to our training data using the fit method of the KNeighborsClassifier class.\n",
        "\n",
        "Next, we create a new data point X_new containing the values [5, 1.9, 1, 0.2], which represents a new iris flower that we want to predict the species of.\n",
        "\n",
        "We then use the predict method of the KNeighborsClassifier class to make a prediction for this new data point based on the trained model. The predicted class value is stored in the prediction variable.\n",
        "\n",
        "Finally, we print the predicted class value and the corresponding string label for the predicted iris species using the target_names attribute of the iris_dataset object.\n",
        "\n",
        "In this case, the predicted class value is 0, which corresponds to the 'setosa' species of iris, and this is confirmed by printing the corresponding string label as 'setosa'.\n",
        "\n",
        "\n",
        "\n",
        "\n",
        "\n"
      ],
      "metadata": {
        "id": "bROEnr6zOB78"
      }
    }
  ],
  "metadata": {
    "kernelspec": {
      "display_name": "Python 3 (ipykernel)",
      "language": "python",
      "name": "python3"
    },
    "language_info": {
      "codemirror_mode": {
        "name": "ipython",
        "version": 3
      },
      "file_extension": ".py",
      "mimetype": "text/x-python",
      "name": "python",
      "nbconvert_exporter": "python",
      "pygments_lexer": "ipython3",
      "version": "3.9.16"
    },
    "colab": {
      "provenance": [],
      "include_colab_link": true
    }
  },
  "nbformat": 4,
  "nbformat_minor": 0
}