{
  "cells": [
    {
      "cell_type": "markdown",
      "metadata": {
        "id": "view-in-github",
        "colab_type": "text"
      },
      "source": [
        "<a href=\"https://colab.research.google.com/github/ArifAygun/Magnimind-ML/blob/main/04_Lab1St.ipynb\" target=\"_parent\"><img src=\"https://colab.research.google.com/assets/colab-badge.svg\" alt=\"Open In Colab\"/></a>"
      ]
    },
    {
      "cell_type": "markdown",
      "source": [
        "#**Assignment 1 & Submit**"
      ],
      "metadata": {
        "id": "VnHOZwDm0qp0"
      }
    },
    {
      "cell_type": "markdown",
      "source": [
        "#A. Loading Dataset from ScikitLearn"
      ],
      "metadata": {
        "id": "FSqrZXFJ0r4a"
      }
    },
    {
      "cell_type": "markdown",
      "source": [
        "###Step 1: Load the iris dataset from ScikitLearn and assign it to X and y variables:"
      ],
      "metadata": {
        "id": "1jVqPwhF0-sc"
      }
    },
    {
      "cell_type": "code",
      "source": [
        "from sklearn.datasets import load_iris\n",
        "\n",
        "iris_dataset = load_iris()\n",
        "\n",
        "X = iris_dataset['data']\n",
        "y = iris_dataset['target']"
      ],
      "metadata": {
        "id": "fQIi9c8b1CU9"
      },
      "execution_count": null,
      "outputs": []
    },
    {
      "cell_type": "markdown",
      "source": [
        "###Step 2: Print the dataset keys using iris_dataset.keys():"
      ],
      "metadata": {
        "id": "0L2oAh_u1EzC"
      }
    },
    {
      "cell_type": "code",
      "source": [
        "print(iris_dataset.keys())"
      ],
      "metadata": {
        "id": "ixnt-EsU1Q5C",
        "outputId": "d704e573-6620-4607-e80f-100b0a27afdc",
        "colab": {
          "base_uri": "https://localhost:8080/"
        }
      },
      "execution_count": null,
      "outputs": [
        {
          "output_type": "stream",
          "name": "stdout",
          "text": [
            "dict_keys(['data', 'target', 'frame', 'target_names', 'DESCR', 'feature_names', 'filename', 'data_module'])\n"
          ]
        }
      ]
    },
    {
      "cell_type": "markdown",
      "source": [
        "###Step 3: Print the names of the categories in the target file:"
      ],
      "metadata": {
        "id": "NYeQOrxn1V4B"
      }
    },
    {
      "cell_type": "code",
      "source": [
        "print(iris_dataset['target_names'])"
      ],
      "metadata": {
        "id": "xXQStG4k1Xxw",
        "outputId": "be681bec-89b6-4441-cd30-cea1434c589d",
        "colab": {
          "base_uri": "https://localhost:8080/"
        }
      },
      "execution_count": null,
      "outputs": [
        {
          "output_type": "stream",
          "name": "stdout",
          "text": [
            "['setosa' 'versicolor' 'virginica']\n"
          ]
        }
      ]
    },
    {
      "cell_type": "markdown",
      "source": [
        "###Step 4: Print the feature names in the Iris dataset:"
      ],
      "metadata": {
        "id": "d2kT88241fTi"
      }
    },
    {
      "cell_type": "code",
      "source": [
        "print(iris_dataset['feature_names'])"
      ],
      "metadata": {
        "id": "pkZh_CTh1hoW",
        "outputId": "8150a240-dcfb-4c6f-db14-262787373d22",
        "colab": {
          "base_uri": "https://localhost:8080/"
        }
      },
      "execution_count": null,
      "outputs": [
        {
          "output_type": "stream",
          "name": "stdout",
          "text": [
            "['sepal length (cm)', 'sepal width (cm)', 'petal length (cm)', 'petal width (cm)']\n"
          ]
        }
      ]
    },
    {
      "cell_type": "markdown",
      "source": [
        "###Step 5: Print the type of the Iris dataset:"
      ],
      "metadata": {
        "id": "vun2c4jS1nEJ"
      }
    },
    {
      "cell_type": "code",
      "source": [
        "print(type(iris_dataset))"
      ],
      "metadata": {
        "id": "NPq_813H1vVg",
        "outputId": "24617d61-f523-4923-ec5f-fa13ee002654",
        "colab": {
          "base_uri": "https://localhost:8080/"
        }
      },
      "execution_count": null,
      "outputs": [
        {
          "output_type": "stream",
          "name": "stdout",
          "text": [
            "<class 'sklearn.utils._bunch.Bunch'>\n"
          ]
        }
      ]
    },
    {
      "cell_type": "markdown",
      "source": [],
      "metadata": {
        "id": "ifx7uzbx1zId"
      }
    }
  ],
  "metadata": {
    "kernelspec": {
      "display_name": "Python 3 (ipykernel)",
      "language": "python",
      "name": "python3"
    },
    "language_info": {
      "codemirror_mode": {
        "name": "ipython",
        "version": 3
      },
      "file_extension": ".py",
      "mimetype": "text/x-python",
      "name": "python",
      "nbconvert_exporter": "python",
      "pygments_lexer": "ipython3",
      "version": "3.9.16"
    },
    "colab": {
      "provenance": [],
      "include_colab_link": true
    }
  },
  "nbformat": 4,
  "nbformat_minor": 0
}