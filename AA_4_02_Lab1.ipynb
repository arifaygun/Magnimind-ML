{
  "cells": [
    {
      "cell_type": "markdown",
      "metadata": {
        "id": "view-in-github",
        "colab_type": "text"
      },
      "source": [
        "<a href=\"https://colab.research.google.com/github/ArifAygun/Magnimind-ML/blob/main/AA_4_02_Lab1.ipynb\" target=\"_parent\"><img src=\"https://colab.research.google.com/assets/colab-badge.svg\" alt=\"Open In Colab\"/></a>"
      ]
    },
    {
      "cell_type": "code",
      "execution_count": 17,
      "metadata": {
        "id": "NlZly79CXAs2"
      },
      "outputs": [],
      "source": [
        "from sklearn.linear_model import LogisticRegression\n",
        "from sklearn.model_selection import train_test_split\n",
        "from sklearn.preprocessing import StandardScaler\n",
        "from sklearn.datasets import load_digits\n",
        "from sklearn.neighbors import KNeighborsClassifier\n",
        "import numpy as np\n",
        "import pandas as pd\n"
      ]
    },
    {
      "cell_type": "markdown",
      "metadata": {
        "id": "GvXmUimvXAs6"
      },
      "source": [
        "### Steps:\n",
        "- Import digits data set from Scikitlearn datasets library. Use `load_digits()`. When loaded, the dataset comes with `data` and `target` values.\n",
        "- Assign `data` to X and `target` to y\n",
        "- Check the shape of the data\n",
        "- Use `np.bincount` to print the number of uniqe elements of the target vriable `y`\n",
        "- Split data into train and test datasets. Use stratification when splitting. You can set your `random_state` to `42`\n",
        "- Normalize your dataset. When normalizing, simply divide your dataset by the maximum of the train dataset. To find the maximum, use `max("
      ]
    },
    {
      "cell_type": "markdown",
      "source": [
        "####**Importing digits data set from Scikitlearn datasets library**"
      ],
      "metadata": {
        "id": "KQwcw53FnU1s"
      }
    },
    {
      "cell_type": "code",
      "execution_count": 32,
      "metadata": {
        "id": "NPJ8iqeIXAs7"
      },
      "outputs": [],
      "source": [
        "df = load_digits()"
      ]
    },
    {
      "cell_type": "markdown",
      "source": [
        "####**Assigning data to X and target to y**"
      ],
      "metadata": {
        "id": "GeGGd__0ncDF"
      }
    },
    {
      "cell_type": "code",
      "source": [
        "X = df.data\n",
        "y = df.target"
      ],
      "metadata": {
        "id": "R4cRXo50YvRy"
      },
      "execution_count": 33,
      "outputs": []
    },
    {
      "cell_type": "markdown",
      "source": [
        "####**Check the shape of the data and target**"
      ],
      "metadata": {
        "id": "qh9OnpBVnkM0"
      }
    },
    {
      "cell_type": "code",
      "source": [
        "X.shape"
      ],
      "metadata": {
        "colab": {
          "base_uri": "https://localhost:8080/"
        },
        "id": "44yxu7MEZNqJ",
        "outputId": "fed98777-ebb2-4c61-a506-12ef27e47a1f"
      },
      "execution_count": 34,
      "outputs": [
        {
          "output_type": "execute_result",
          "data": {
            "text/plain": [
              "(1797, 64)"
            ]
          },
          "metadata": {},
          "execution_count": 34
        }
      ]
    },
    {
      "cell_type": "code",
      "source": [
        "y.shape"
      ],
      "metadata": {
        "colab": {
          "base_uri": "https://localhost:8080/"
        },
        "id": "w9-gXsUjZX-I",
        "outputId": "725890d1-bbf5-4b9a-ced4-124fcef6fd9a"
      },
      "execution_count": 35,
      "outputs": [
        {
          "output_type": "execute_result",
          "data": {
            "text/plain": [
              "(1797,)"
            ]
          },
          "metadata": {},
          "execution_count": 35
        }
      ]
    },
    {
      "cell_type": "markdown",
      "source": [
        "####**number of uniqe elements of the target vriable y**"
      ],
      "metadata": {
        "id": "M9ZsYILEnwwZ"
      }
    },
    {
      "cell_type": "code",
      "source": [
        "np.bincount(y)"
      ],
      "metadata": {
        "colab": {
          "base_uri": "https://localhost:8080/"
        },
        "id": "uffTbg8HZ3nX",
        "outputId": "15860f85-bca6-45d2-fa27-ee3d60fd7f66"
      },
      "execution_count": 36,
      "outputs": [
        {
          "output_type": "execute_result",
          "data": {
            "text/plain": [
              "array([178, 182, 177, 183, 181, 182, 181, 179, 174, 180])"
            ]
          },
          "metadata": {},
          "execution_count": 36
        }
      ]
    },
    {
      "cell_type": "markdown",
      "source": [
        "####**Splitting data into train and test datasets with stratification**"
      ],
      "metadata": {
        "id": "NCCYA4Ltn6yT"
      }
    },
    {
      "cell_type": "code",
      "source": [
        "X_train, X_test, y_train,y_test = train_test_split(X, y, stratify=y, random_state=42)"
      ],
      "metadata": {
        "id": "IdUkTNRrZ7If"
      },
      "execution_count": 37,
      "outputs": []
    },
    {
      "cell_type": "markdown",
      "source": [
        "####**Normalizing the dataset**"
      ],
      "metadata": {
        "id": "S5bkNRMOnK8L"
      }
    },
    {
      "cell_type": "code",
      "source": [
        "Xmax = X_train.max()\n",
        "X_train = X_train/Xmax\n",
        "X_test = X_test/Xmax"
      ],
      "metadata": {
        "id": "mnzQA0NzcC8P"
      },
      "execution_count": 38,
      "outputs": []
    },
    {
      "cell_type": "markdown",
      "source": [
        "Fitting KneigborsClassifier and Logistic Regression on the data"
      ],
      "metadata": {
        "id": "0b5tQf9KoTTH"
      }
    },
    {
      "cell_type": "code",
      "source": [
        "knn = KNeighborsClassifier()\n",
        "logistic = LogisticRegression(max_iter=1000)\n",
        "\n"
      ],
      "metadata": {
        "id": "nsU0eBaAl6bT"
      },
      "execution_count": 39,
      "outputs": []
    },
    {
      "cell_type": "markdown",
      "source": [
        "####**checking the score on the test dataset**"
      ],
      "metadata": {
        "id": "i-b0nFW8ocwB"
      }
    },
    {
      "cell_type": "code",
      "source": [
        "print('KNN Score: %f' % knn.fit(X_train, y_train).score(X_test, y_test))\n",
        "print('Logistic Regression Score: %f' % logistic.fit(X_train, y_train).score(X_test, y_test))"
      ],
      "metadata": {
        "colab": {
          "base_uri": "https://localhost:8080/"
        },
        "id": "nuW7W01FodSX",
        "outputId": "b09f25da-d37c-4edb-c723-8099d402a8c4"
      },
      "execution_count": 40,
      "outputs": [
        {
          "output_type": "stream",
          "name": "stdout",
          "text": [
            "KNN Score: 0.984444\n",
            "Logistic Regression Score: 0.962222\n"
          ]
        }
      ]
    }
  ],
  "metadata": {
    "kernelspec": {
      "display_name": "Python 3",
      "language": "python",
      "name": "python3"
    },
    "language_info": {
      "codemirror_mode": {
        "name": "ipython",
        "version": 3
      },
      "file_extension": ".py",
      "mimetype": "text/x-python",
      "name": "python",
      "nbconvert_exporter": "python",
      "pygments_lexer": "ipython3",
      "version": "3.8.3"
    },
    "colab": {
      "provenance": [],
      "include_colab_link": true
    }
  },
  "nbformat": 4,
  "nbformat_minor": 0
}