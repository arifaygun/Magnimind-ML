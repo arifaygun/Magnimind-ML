{
  "cells": [
    {
      "cell_type": "markdown",
      "metadata": {
        "id": "view-in-github",
        "colab_type": "text"
      },
      "source": [
        "<a href=\"https://colab.research.google.com/github/ArifAygun/Magnimind-ML/blob/main/AA_3_04_RidgeRegressionSt.ipynb\" target=\"_parent\"><img src=\"https://colab.research.google.com/assets/colab-badge.svg\" alt=\"Open In Colab\"/></a>"
      ]
    },
    {
      "cell_type": "markdown",
      "metadata": {
        "id": "10Ca71m-iUrS"
      },
      "source": [
        "### Ridge"
      ]
    },
    {
      "cell_type": "markdown",
      "metadata": {
        "id": "XZgEYITZiUrZ"
      },
      "source": [
        "- Transform the Boston House dataset using polynomial transformation and split the dataset into test and train datasets\n",
        "- Run cross validation with Ridge Regression\n",
        "- Plot the coefficients of the model"
      ]
    },
    {
      "cell_type": "code",
      "execution_count": 33,
      "metadata": {
        "id": "fjHVM-FgiUrZ"
      },
      "outputs": [],
      "source": [
        "from sklearn.preprocessing import PolynomialFeatures, StandardScaler\n",
        "from sklearn.impute import SimpleImputer\n",
        "#from sklearn.datasets import load_boston\n",
        "from sklearn.model_selection import train_test_split\n",
        "from sklearn.pipeline import Pipeline\n",
        "from sklearn.linear_model import Ridge, LinearRegression, Lasso, RidgeCV, LassoCV\n",
        "import matplotlib.pyplot as plt\n",
        "import numpy as np"
      ]
    },
    {
      "cell_type": "code",
      "source": [
        "from google.colab import drive\n",
        "drive.mount('/content/drive')"
      ],
      "metadata": {
        "colab": {
          "base_uri": "https://localhost:8080/"
        },
        "id": "0Ub__YTtis7F",
        "outputId": "72d9f8a2-1428-460e-c594-348909fcc705"
      },
      "execution_count": 34,
      "outputs": [
        {
          "output_type": "stream",
          "name": "stdout",
          "text": [
            "Drive already mounted at /content/drive; to attempt to forcibly remount, call drive.mount(\"/content/drive\", force_remount=True).\n"
          ]
        }
      ]
    },
    {
      "cell_type": "code",
      "execution_count": 35,
      "metadata": {
        "colab": {
          "base_uri": "https://localhost:8080/",
          "height": 206
        },
        "id": "gVW6cdkZiUra",
        "outputId": "8a4ff473-9919-4390-f380-8faaeb2d606a"
      },
      "outputs": [
        {
          "output_type": "execute_result",
          "data": {
            "text/plain": [
              "      CRIM    ZN  INDUS  CHAS    NOX     RM   AGE     DIS  RAD  TAX  PTRATIO  \\\n",
              "0  0.00632  18.0   2.31     0  0.538  6.575  65.2  4.0900    1  296     15.3   \n",
              "1  0.02731   0.0   7.07     0  0.469  6.421  78.9  4.9671    2  242     17.8   \n",
              "2  0.02729   0.0   7.07     0  0.469  7.185  61.1  4.9671    2  242     17.8   \n",
              "3  0.03237   0.0   2.18     0  0.458  6.998  45.8  6.0622    3  222     18.7   \n",
              "4  0.06905   0.0   2.18     0  0.458  7.147  54.2  6.0622    3  222     18.7   \n",
              "\n",
              "        B  LSTAT  MEDV  \n",
              "0  396.90   4.98  24.0  \n",
              "1  396.90   9.14  21.6  \n",
              "2  392.83   4.03  34.7  \n",
              "3  394.63   2.94  33.4  \n",
              "4  396.90   5.33  36.2  "
            ],
            "text/html": [
              "\n",
              "  <div id=\"df-063265bb-edbb-45d7-b9f3-b0e41e8f353c\">\n",
              "    <div class=\"colab-df-container\">\n",
              "      <div>\n",
              "<style scoped>\n",
              "    .dataframe tbody tr th:only-of-type {\n",
              "        vertical-align: middle;\n",
              "    }\n",
              "\n",
              "    .dataframe tbody tr th {\n",
              "        vertical-align: top;\n",
              "    }\n",
              "\n",
              "    .dataframe thead th {\n",
              "        text-align: right;\n",
              "    }\n",
              "</style>\n",
              "<table border=\"1\" class=\"dataframe\">\n",
              "  <thead>\n",
              "    <tr style=\"text-align: right;\">\n",
              "      <th></th>\n",
              "      <th>CRIM</th>\n",
              "      <th>ZN</th>\n",
              "      <th>INDUS</th>\n",
              "      <th>CHAS</th>\n",
              "      <th>NOX</th>\n",
              "      <th>RM</th>\n",
              "      <th>AGE</th>\n",
              "      <th>DIS</th>\n",
              "      <th>RAD</th>\n",
              "      <th>TAX</th>\n",
              "      <th>PTRATIO</th>\n",
              "      <th>B</th>\n",
              "      <th>LSTAT</th>\n",
              "      <th>MEDV</th>\n",
              "    </tr>\n",
              "  </thead>\n",
              "  <tbody>\n",
              "    <tr>\n",
              "      <th>0</th>\n",
              "      <td>0.00632</td>\n",
              "      <td>18.0</td>\n",
              "      <td>2.31</td>\n",
              "      <td>0</td>\n",
              "      <td>0.538</td>\n",
              "      <td>6.575</td>\n",
              "      <td>65.2</td>\n",
              "      <td>4.0900</td>\n",
              "      <td>1</td>\n",
              "      <td>296</td>\n",
              "      <td>15.3</td>\n",
              "      <td>396.90</td>\n",
              "      <td>4.98</td>\n",
              "      <td>24.0</td>\n",
              "    </tr>\n",
              "    <tr>\n",
              "      <th>1</th>\n",
              "      <td>0.02731</td>\n",
              "      <td>0.0</td>\n",
              "      <td>7.07</td>\n",
              "      <td>0</td>\n",
              "      <td>0.469</td>\n",
              "      <td>6.421</td>\n",
              "      <td>78.9</td>\n",
              "      <td>4.9671</td>\n",
              "      <td>2</td>\n",
              "      <td>242</td>\n",
              "      <td>17.8</td>\n",
              "      <td>396.90</td>\n",
              "      <td>9.14</td>\n",
              "      <td>21.6</td>\n",
              "    </tr>\n",
              "    <tr>\n",
              "      <th>2</th>\n",
              "      <td>0.02729</td>\n",
              "      <td>0.0</td>\n",
              "      <td>7.07</td>\n",
              "      <td>0</td>\n",
              "      <td>0.469</td>\n",
              "      <td>7.185</td>\n",
              "      <td>61.1</td>\n",
              "      <td>4.9671</td>\n",
              "      <td>2</td>\n",
              "      <td>242</td>\n",
              "      <td>17.8</td>\n",
              "      <td>392.83</td>\n",
              "      <td>4.03</td>\n",
              "      <td>34.7</td>\n",
              "    </tr>\n",
              "    <tr>\n",
              "      <th>3</th>\n",
              "      <td>0.03237</td>\n",
              "      <td>0.0</td>\n",
              "      <td>2.18</td>\n",
              "      <td>0</td>\n",
              "      <td>0.458</td>\n",
              "      <td>6.998</td>\n",
              "      <td>45.8</td>\n",
              "      <td>6.0622</td>\n",
              "      <td>3</td>\n",
              "      <td>222</td>\n",
              "      <td>18.7</td>\n",
              "      <td>394.63</td>\n",
              "      <td>2.94</td>\n",
              "      <td>33.4</td>\n",
              "    </tr>\n",
              "    <tr>\n",
              "      <th>4</th>\n",
              "      <td>0.06905</td>\n",
              "      <td>0.0</td>\n",
              "      <td>2.18</td>\n",
              "      <td>0</td>\n",
              "      <td>0.458</td>\n",
              "      <td>7.147</td>\n",
              "      <td>54.2</td>\n",
              "      <td>6.0622</td>\n",
              "      <td>3</td>\n",
              "      <td>222</td>\n",
              "      <td>18.7</td>\n",
              "      <td>396.90</td>\n",
              "      <td>5.33</td>\n",
              "      <td>36.2</td>\n",
              "    </tr>\n",
              "  </tbody>\n",
              "</table>\n",
              "</div>\n",
              "      <button class=\"colab-df-convert\" onclick=\"convertToInteractive('df-063265bb-edbb-45d7-b9f3-b0e41e8f353c')\"\n",
              "              title=\"Convert this dataframe to an interactive table.\"\n",
              "              style=\"display:none;\">\n",
              "        \n",
              "  <svg xmlns=\"http://www.w3.org/2000/svg\" height=\"24px\"viewBox=\"0 0 24 24\"\n",
              "       width=\"24px\">\n",
              "    <path d=\"M0 0h24v24H0V0z\" fill=\"none\"/>\n",
              "    <path d=\"M18.56 5.44l.94 2.06.94-2.06 2.06-.94-2.06-.94-.94-2.06-.94 2.06-2.06.94zm-11 1L8.5 8.5l.94-2.06 2.06-.94-2.06-.94L8.5 2.5l-.94 2.06-2.06.94zm10 10l.94 2.06.94-2.06 2.06-.94-2.06-.94-.94-2.06-.94 2.06-2.06.94z\"/><path d=\"M17.41 7.96l-1.37-1.37c-.4-.4-.92-.59-1.43-.59-.52 0-1.04.2-1.43.59L10.3 9.45l-7.72 7.72c-.78.78-.78 2.05 0 2.83L4 21.41c.39.39.9.59 1.41.59.51 0 1.02-.2 1.41-.59l7.78-7.78 2.81-2.81c.8-.78.8-2.07 0-2.86zM5.41 20L4 18.59l7.72-7.72 1.47 1.35L5.41 20z\"/>\n",
              "  </svg>\n",
              "      </button>\n",
              "      \n",
              "  <style>\n",
              "    .colab-df-container {\n",
              "      display:flex;\n",
              "      flex-wrap:wrap;\n",
              "      gap: 12px;\n",
              "    }\n",
              "\n",
              "    .colab-df-convert {\n",
              "      background-color: #E8F0FE;\n",
              "      border: none;\n",
              "      border-radius: 50%;\n",
              "      cursor: pointer;\n",
              "      display: none;\n",
              "      fill: #1967D2;\n",
              "      height: 32px;\n",
              "      padding: 0 0 0 0;\n",
              "      width: 32px;\n",
              "    }\n",
              "\n",
              "    .colab-df-convert:hover {\n",
              "      background-color: #E2EBFA;\n",
              "      box-shadow: 0px 1px 2px rgba(60, 64, 67, 0.3), 0px 1px 3px 1px rgba(60, 64, 67, 0.15);\n",
              "      fill: #174EA6;\n",
              "    }\n",
              "\n",
              "    [theme=dark] .colab-df-convert {\n",
              "      background-color: #3B4455;\n",
              "      fill: #D2E3FC;\n",
              "    }\n",
              "\n",
              "    [theme=dark] .colab-df-convert:hover {\n",
              "      background-color: #434B5C;\n",
              "      box-shadow: 0px 1px 3px 1px rgba(0, 0, 0, 0.15);\n",
              "      filter: drop-shadow(0px 1px 2px rgba(0, 0, 0, 0.3));\n",
              "      fill: #FFFFFF;\n",
              "    }\n",
              "  </style>\n",
              "\n",
              "      <script>\n",
              "        const buttonEl =\n",
              "          document.querySelector('#df-063265bb-edbb-45d7-b9f3-b0e41e8f353c button.colab-df-convert');\n",
              "        buttonEl.style.display =\n",
              "          google.colab.kernel.accessAllowed ? 'block' : 'none';\n",
              "\n",
              "        async function convertToInteractive(key) {\n",
              "          const element = document.querySelector('#df-063265bb-edbb-45d7-b9f3-b0e41e8f353c');\n",
              "          const dataTable =\n",
              "            await google.colab.kernel.invokeFunction('convertToInteractive',\n",
              "                                                     [key], {});\n",
              "          if (!dataTable) return;\n",
              "\n",
              "          const docLinkHtml = 'Like what you see? Visit the ' +\n",
              "            '<a target=\"_blank\" href=https://colab.research.google.com/notebooks/data_table.ipynb>data table notebook</a>'\n",
              "            + ' to learn more about interactive tables.';\n",
              "          element.innerHTML = '';\n",
              "          dataTable['output_type'] = 'display_data';\n",
              "          await google.colab.output.renderOutput(dataTable, element);\n",
              "          const docLink = document.createElement('div');\n",
              "          docLink.innerHTML = docLinkHtml;\n",
              "          element.appendChild(docLink);\n",
              "        }\n",
              "      </script>\n",
              "    </div>\n",
              "  </div>\n",
              "  "
            ]
          },
          "metadata": {},
          "execution_count": 35
        }
      ],
      "source": [
        "import pandas as pd\n",
        "import os\n",
        "\n",
        "def file_locator(file_name):\n",
        "  main_dir = os.getcwd()\n",
        "\n",
        "  for dir, folder, files in os.walk(main_dir):\n",
        "    for file in files:\n",
        "      if file == file_name:\n",
        "        file_path = os.path.join(dir,file)\n",
        "  return file_path\n",
        "\n",
        "file_path = file_locator('boston_house_prices.csv')\n",
        "data = pd.read_csv(file_path)\n",
        "data.head()"
      ]
    },
    {
      "cell_type": "code",
      "source": [
        "data.shape"
      ],
      "metadata": {
        "colab": {
          "base_uri": "https://localhost:8080/"
        },
        "id": "fg4HZuMCPsJh",
        "outputId": "1d858503-45df-4e55-d108-b6a2dd42bc6c"
      },
      "execution_count": 36,
      "outputs": [
        {
          "output_type": "execute_result",
          "data": {
            "text/plain": [
              "(506, 14)"
            ]
          },
          "metadata": {},
          "execution_count": 36
        }
      ]
    },
    {
      "cell_type": "code",
      "source": [
        "data.columns"
      ],
      "metadata": {
        "colab": {
          "base_uri": "https://localhost:8080/"
        },
        "id": "3qNl9RZ6Qu_G",
        "outputId": "a58d7924-189c-4f6e-cf13-3045497c4bbe"
      },
      "execution_count": 37,
      "outputs": [
        {
          "output_type": "execute_result",
          "data": {
            "text/plain": [
              "Index(['CRIM', 'ZN', 'INDUS', 'CHAS', 'NOX', 'RM', 'AGE', 'DIS', 'RAD', 'TAX',\n",
              "       'PTRATIO', 'B', 'LSTAT', 'MEDV'],\n",
              "      dtype='object')"
            ]
          },
          "metadata": {},
          "execution_count": 37
        }
      ]
    },
    {
      "cell_type": "code",
      "source": [
        "X = data.drop(['MEDV'], axis=1)"
      ],
      "metadata": {
        "id": "PTHR4Yx_Qw8a"
      },
      "execution_count": 38,
      "outputs": []
    },
    {
      "cell_type": "code",
      "source": [
        "y = data.MEDV"
      ],
      "metadata": {
        "id": "rvyllYOIQ-OQ"
      },
      "execution_count": 39,
      "outputs": []
    },
    {
      "cell_type": "code",
      "source": [
        "X_train, X_test, y_train, y_test = train_test_split(X, y, random_state=2)"
      ],
      "metadata": {
        "id": "9S5WNr8RRHeS"
      },
      "execution_count": 40,
      "outputs": []
    },
    {
      "cell_type": "code",
      "source": [
        "myT = Pipeline([('scaler', StandardScaler()),\n",
        "                ('imputer', SimpleImputer()),\n",
        "                ('poly', PolynomialFeatures(degree=2, include_bias=False)),\n",
        "                ('ridge', Ridge(alpha=10))])"
      ],
      "metadata": {
        "id": "AGrs_zxfT1K7"
      },
      "execution_count": 41,
      "outputs": []
    },
    {
      "cell_type": "code",
      "source": [
        "ridge_model = myT.fit(X_train, y_train)"
      ],
      "metadata": {
        "id": "z5F7GfY6SSmB"
      },
      "execution_count": 42,
      "outputs": []
    },
    {
      "cell_type": "code",
      "source": [
        "coefficients = ridge_model.named_steps['ridge'].coef_"
      ],
      "metadata": {
        "id": "P-S_PO4qmBbj"
      },
      "execution_count": 43,
      "outputs": []
    },
    {
      "cell_type": "code",
      "source": [
        "zz = ridge_model.named_steps['poly'].fit_transform(X_train)"
      ],
      "metadata": {
        "id": "XgBatRFvokCY"
      },
      "execution_count": 44,
      "outputs": []
    },
    {
      "cell_type": "code",
      "source": [
        "zz.shape"
      ],
      "metadata": {
        "colab": {
          "base_uri": "https://localhost:8080/"
        },
        "id": "9o5qOWhRo8FP",
        "outputId": "ad16c03a-ec47-4e95-e20d-90705354ae26"
      },
      "execution_count": 45,
      "outputs": [
        {
          "output_type": "execute_result",
          "data": {
            "text/plain": [
              "(379, 104)"
            ]
          },
          "metadata": {},
          "execution_count": 45
        }
      ]
    },
    {
      "cell_type": "code",
      "source": [
        "X_train.shape"
      ],
      "metadata": {
        "colab": {
          "base_uri": "https://localhost:8080/"
        },
        "id": "fAkCPkzgoILL",
        "outputId": "7f1cc6bb-7490-464b-fc60-77a92127f6c4"
      },
      "execution_count": 46,
      "outputs": [
        {
          "output_type": "execute_result",
          "data": {
            "text/plain": [
              "(379, 13)"
            ]
          },
          "metadata": {},
          "execution_count": 46
        }
      ]
    },
    {
      "cell_type": "code",
      "source": [
        "plt.scatter(range(zz.shape[1]), coefficients, c = np.sign(coefficients))"
      ],
      "metadata": {
        "id": "Td5T-_0aS4Dd",
        "colab": {
          "base_uri": "https://localhost:8080/",
          "height": 448
        },
        "outputId": "16049157-618e-4968-ac36-fe6674991ddb"
      },
      "execution_count": 47,
      "outputs": [
        {
          "output_type": "execute_result",
          "data": {
            "text/plain": [
              "<matplotlib.collections.PathCollection at 0x7f07a2537fd0>"
            ]
          },
          "metadata": {},
          "execution_count": 47
        },
        {
          "output_type": "display_data",
          "data": {
            "text/plain": [
              "<Figure size 640x480 with 1 Axes>"
            ],
            "image/png": "[encoded data removed]"
          },
          "metadata": {}
        }
      ]
    },
    {
      "cell_type": "markdown",
      "metadata": {
        "id": "eaQqRwsYiUrb"
      },
      "source": [
        "- Start a grid search for `alpha` value\n",
        "- Plot the model performance versus the different `alpha` values "
      ]
    },
    {
      "cell_type": "code",
      "execution_count": 48,
      "metadata": {
        "id": "TogNOZBDiUrb"
      },
      "outputs": [],
      "source": [
        "from sklearn.model_selection import GridSearchCV\n",
        "import numpy as np"
      ]
    },
    {
      "cell_type": "code",
      "source": [
        "np.linspace(-3,3,13)"
      ],
      "metadata": {
        "colab": {
          "base_uri": "https://localhost:8080/"
        },
        "id": "EG9G49VUtB5k",
        "outputId": "921e45f1-c474-4133-ad40-eda0ab783d36"
      },
      "execution_count": 49,
      "outputs": [
        {
          "output_type": "execute_result",
          "data": {
            "text/plain": [
              "array([-3. , -2.5, -2. , -1.5, -1. , -0.5,  0. ,  0.5,  1. ,  1.5,  2. ,\n",
              "        2.5,  3. ])"
            ]
          },
          "metadata": {},
          "execution_count": 49
        }
      ]
    },
    {
      "cell_type": "code",
      "source": [
        "np.logspace(-3,3,13)"
      ],
      "metadata": {
        "colab": {
          "base_uri": "https://localhost:8080/"
        },
        "id": "e9T1_HVls3vS",
        "outputId": "8ca5841b-23bb-47ef-badc-c854127c9df5"
      },
      "execution_count": 54,
      "outputs": [
        {
          "output_type": "execute_result",
          "data": {
            "text/plain": [
              "array([1.00000000e-03, 3.16227766e-03, 1.00000000e-02, 3.16227766e-02,\n",
              "       1.00000000e-01, 3.16227766e-01, 1.00000000e+00, 3.16227766e+00,\n",
              "       1.00000000e+01, 3.16227766e+01, 1.00000000e+02, 3.16227766e+02,\n",
              "       1.00000000e+03])"
            ]
          },
          "metadata": {},
          "execution_count": 54
        }
      ]
    },
    {
      "cell_type": "code",
      "execution_count": 55,
      "metadata": {
        "id": "PLQSvUzYiUrc"
      },
      "outputs": [],
      "source": [
        "from numpy.core.function_base import logspace\n",
        "param_grid = {'ridge__alpha':np.logspace(-3,3,13)}"
      ]
    },
    {
      "cell_type": "code",
      "source": [
        "mygrid = GridSearchCV(myT, param_grid, cv=10, return_train_score=True)"
      ],
      "metadata": {
        "id": "7_A2u0lytTuT"
      },
      "execution_count": 56,
      "outputs": []
    },
    {
      "cell_type": "code",
      "source": [
        "mygrid.fit(X_train, y_train)"
      ],
      "metadata": {
        "colab": {
          "base_uri": "https://localhost:8080/",
          "height": 220
        },
        "id": "O3IpX7RVuMrk",
        "outputId": "029f0841-0862-41ae-cd6b-a3ac908906fe"
      },
      "execution_count": 57,
      "outputs": [
        {
          "output_type": "execute_result",
          "data": {
            "text/plain": [
              "GridSearchCV(cv=10,\n",
              "             estimator=Pipeline(steps=[('scaler', StandardScaler()),\n",
              "                                       ('imputer', SimpleImputer()),\n",
              "                                       ('poly',\n",
              "                                        PolynomialFeatures(include_bias=False)),\n",
              "                                       ('ridge', Ridge(alpha=10))]),\n",
              "             param_grid={'ridge__alpha': array([1.00000000e-03, 3.16227766e-03, 1.00000000e-02, 3.16227766e-02,\n",
              "       1.00000000e-01, 3.16227766e-01, 1.00000000e+00, 3.16227766e+00,\n",
              "       1.00000000e+01, 3.16227766e+01, 1.00000000e+02, 3.16227766e+02,\n",
              "       1.00000000e+03])},\n",
              "             return_train_score=True)"
            ],
            "text/html": [
              "<style>#sk-container-id-2 {color: black;background-color: white;}#sk-container-id-2 pre{padding: 0;}#sk-container-id-2 div.sk-toggleable {background-color: white;}#sk-container-id-2 label.sk-toggleable__label {cursor: pointer;display: block;width: 100%;margin-bottom: 0;padding: 0.3em;box-sizing: border-box;text-align: center;}#sk-container-id-2 label.sk-toggleable__label-arrow:before {content: \"▸\";float: left;margin-right: 0.25em;color: #696969;}#sk-container-id-2 label.sk-toggleable__label-arrow:hover:before {color: black;}#sk-container-id-2 div.sk-estimator:hover label.sk-toggleable__label-arrow:before {color: black;}#sk-container-id-2 div.sk-toggleable__content {max-height: 0;max-width: 0;overflow: hidden;text-align: left;background-color: #f0f8ff;}#sk-container-id-2 div.sk-toggleable__content pre {margin: 0.2em;color: black;border-radius: 0.25em;background-color: #f0f8ff;}#sk-container-id-2 input.sk-toggleable__control:checked~div.sk-toggleable__content {max-height: 200px;max-width: 100%;overflow: auto;}#sk-container-id-2 input.sk-toggleable__control:checked~label.sk-toggleable__label-arrow:before {content: \"▾\";}#sk-container-id-2 div.sk-estimator input.sk-toggleable__control:checked~label.sk-toggleable__label {background-color: #d4ebff;}#sk-container-id-2 div.sk-label input.sk-toggleable__control:checked~label.sk-toggleable__label {background-color: #d4ebff;}#sk-container-id-2 input.sk-hidden--visually {border: 0;clip: rect(1px 1px 1px 1px);clip: rect(1px, 1px, 1px, 1px);height: 1px;margin: -1px;overflow: hidden;padding: 0;position: absolute;width: 1px;}#sk-container-id-2 div.sk-estimator {font-family: monospace;background-color: #f0f8ff;border: 1px dotted black;border-radius: 0.25em;box-sizing: border-box;margin-bottom: 0.5em;}#sk-container-id-2 div.sk-estimator:hover {background-color: #d4ebff;}#sk-container-id-2 div.sk-parallel-item::after {content: \"\";width: 100%;border-bottom: 1px solid gray;flex-grow: 1;}#sk-container-id-2 div.sk-label:hover label.sk-toggleable__label {background-color: #d4ebff;}#sk-container-id-2 div.sk-serial::before {content: \"\";position: absolute;border-left: 1px solid gray;box-sizing: border-box;top: 0;bottom: 0;left: 50%;z-index: 0;}#sk-container-id-2 div.sk-serial {display: flex;flex-direction: column;align-items: center;background-color: white;padding-right: 0.2em;padding-left: 0.2em;position: relative;}#sk-container-id-2 div.sk-item {position: relative;z-index: 1;}#sk-container-id-2 div.sk-parallel {display: flex;align-items: stretch;justify-content: center;background-color: white;position: relative;}#sk-container-id-2 div.sk-item::before, #sk-container-id-2 div.sk-parallel-item::before {content: \"\";position: absolute;border-left: 1px solid gray;box-sizing: border-box;top: 0;bottom: 0;left: 50%;z-index: -1;}#sk-container-id-2 div.sk-parallel-item {display: flex;flex-direction: column;z-index: 1;position: relative;background-color: white;}#sk-container-id-2 div.sk-parallel-item:first-child::after {align-self: flex-end;width: 50%;}#sk-container-id-2 div.sk-parallel-item:last-child::after {align-self: flex-start;width: 50%;}#sk-container-id-2 div.sk-parallel-item:only-child::after {width: 0;}#sk-container-id-2 div.sk-dashed-wrapped {border: 1px dashed gray;margin: 0 0.4em 0.5em 0.4em;box-sizing: border-box;padding-bottom: 0.4em;background-color: white;}#sk-container-id-2 div.sk-label label {font-family: monospace;font-weight: bold;display: inline-block;line-height: 1.2em;}#sk-container-id-2 div.sk-label-container {text-align: center;}#sk-container-id-2 div.sk-container {/* jupyter's `normalize.less` sets `[hidden] { display: none; }` but bootstrap.min.css set `[hidden] { display: none !important; }` so we also need the `!important` here to be able to override the default hidden behavior on the sphinx rendered scikit-learn.org. See: https://github.com/scikit-learn/scikit-learn/issues/21755 */display: inline-block !important;position: relative;}#sk-container-id-2 div.sk-text-repr-fallback {display: none;}</style><div id=\"sk-container-id-2\" class=\"sk-top-container\"><div class=\"sk-text-repr-fallback\"><pre>GridSearchCV(cv=10,\n",
              "             estimator=Pipeline(steps=[(&#x27;scaler&#x27;, StandardScaler()),\n",
              "                                       (&#x27;imputer&#x27;, SimpleImputer()),\n",
              "                                       (&#x27;poly&#x27;,\n",
              "                                        PolynomialFeatures(include_bias=False)),\n",
              "                                       (&#x27;ridge&#x27;, Ridge(alpha=10))]),\n",
              "             param_grid={&#x27;ridge__alpha&#x27;: array([1.00000000e-03, 3.16227766e-03, 1.00000000e-02, 3.16227766e-02,\n",
              "       1.00000000e-01, 3.16227766e-01, 1.00000000e+00, 3.16227766e+00,\n",
              "       1.00000000e+01, 3.16227766e+01, 1.00000000e+02, 3.16227766e+02,\n",
              "       1.00000000e+03])},\n",
              "             return_train_score=True)</pre><b>In a Jupyter environment, please rerun this cell to show the HTML representation or trust the notebook. <br />On GitHub, the HTML representation is unable to render, please try loading this page with nbviewer.org.</b></div><div class=\"sk-container\" hidden><div class=\"sk-item sk-dashed-wrapped\"><div class=\"sk-label-container\"><div class=\"sk-label sk-toggleable\"><input class=\"sk-toggleable__control sk-hidden--visually\" id=\"sk-estimator-id-2\" type=\"checkbox\" ><label for=\"sk-estimator-id-2\" class=\"sk-toggleable__label sk-toggleable__label-arrow\">GridSearchCV</label><div class=\"sk-toggleable__content\"><pre>GridSearchCV(cv=10,\n",
              "             estimator=Pipeline(steps=[(&#x27;scaler&#x27;, StandardScaler()),\n",
              "                                       (&#x27;imputer&#x27;, SimpleImputer()),\n",
              "                                       (&#x27;poly&#x27;,\n",
              "                                        PolynomialFeatures(include_bias=False)),\n",
              "                                       (&#x27;ridge&#x27;, Ridge(alpha=10))]),\n",
              "             param_grid={&#x27;ridge__alpha&#x27;: array([1.00000000e-03, 3.16227766e-03, 1.00000000e-02, 3.16227766e-02,\n",
              "       1.00000000e-01, 3.16227766e-01, 1.00000000e+00, 3.16227766e+00,\n",
              "       1.00000000e+01, 3.16227766e+01, 1.00000000e+02, 3.16227766e+02,\n",
              "       1.00000000e+03])},\n",
              "             return_train_score=True)</pre></div></div></div><div class=\"sk-parallel\"><div class=\"sk-parallel-item\"><div class=\"sk-item\"><div class=\"sk-label-container\"><div class=\"sk-label sk-toggleable\"><input class=\"sk-toggleable__control sk-hidden--visually\" id=\"sk-estimator-id-3\" type=\"checkbox\" ><label for=\"sk-estimator-id-3\" class=\"sk-toggleable__label sk-toggleable__label-arrow\">estimator: Pipeline</label><div class=\"sk-toggleable__content\"><pre>Pipeline(steps=[(&#x27;scaler&#x27;, StandardScaler()), (&#x27;imputer&#x27;, SimpleImputer()),\n",
              "                (&#x27;poly&#x27;, PolynomialFeatures(include_bias=False)),\n",
              "                (&#x27;ridge&#x27;, Ridge(alpha=10))])</pre></div></div></div><div class=\"sk-serial\"><div class=\"sk-item\"><div class=\"sk-serial\"><div class=\"sk-item\"><div class=\"sk-estimator sk-toggleable\"><input class=\"sk-toggleable__control sk-hidden--visually\" id=\"sk-estimator-id-4\" type=\"checkbox\" ><label for=\"sk-estimator-id-4\" class=\"sk-toggleable__label sk-toggleable__label-arrow\">StandardScaler</label><div class=\"sk-toggleable__content\"><pre>StandardScaler()</pre></div></div></div><div class=\"sk-item\"><div class=\"sk-estimator sk-toggleable\"><input class=\"sk-toggleable__control sk-hidden--visually\" id=\"sk-estimator-id-5\" type=\"checkbox\" ><label for=\"sk-estimator-id-5\" class=\"sk-toggleable__label sk-toggleable__label-arrow\">SimpleImputer</label><div class=\"sk-toggleable__content\"><pre>SimpleImputer()</pre></div></div></div><div class=\"sk-item\"><div class=\"sk-estimator sk-toggleable\"><input class=\"sk-toggleable__control sk-hidden--visually\" id=\"sk-estimator-id-6\" type=\"checkbox\" ><label for=\"sk-estimator-id-6\" class=\"sk-toggleable__label sk-toggleable__label-arrow\">PolynomialFeatures</label><div class=\"sk-toggleable__content\"><pre>PolynomialFeatures(include_bias=False)</pre></div></div></div><div class=\"sk-item\"><div class=\"sk-estimator sk-toggleable\"><input class=\"sk-toggleable__control sk-hidden--visually\" id=\"sk-estimator-id-7\" type=\"checkbox\" ><label for=\"sk-estimator-id-7\" class=\"sk-toggleable__label sk-toggleable__label-arrow\">Ridge</label><div class=\"sk-toggleable__content\"><pre>Ridge(alpha=10)</pre></div></div></div></div></div></div></div></div></div></div></div></div>"
            ]
          },
          "metadata": {},
          "execution_count": 57
        }
      ]
    },
    {
      "cell_type": "code",
      "source": [
        "mygrid.cv_results_"
      ],
      "metadata": {
        "colab": {
          "base_uri": "https://localhost:8080/"
        },
        "id": "my36xmo50pmi",
        "outputId": "92731c6d-6a76-4bdf-834a-f3b9126fd95b"
      },
      "execution_count": 61,
      "outputs": [
        {
          "output_type": "execute_result",
          "data": {
            "text/plain": [
              "{'mean_fit_time': array([0.02804282, 0.03959033, 0.02946444, 0.03724914, 0.03158295,\n",
              "        0.03179798, 0.03471193, 0.03270819, 0.03210146, 0.01449699,\n",
              "        0.02178359, 0.01600506, 0.01329556]),\n",
              " 'std_fit_time': array([0.00786604, 0.00225376, 0.0049314 , 0.00411766, 0.00806092,\n",
              "        0.00832272, 0.00791019, 0.00773736, 0.00571321, 0.00594853,\n",
              "        0.00274522, 0.00640669, 0.00497813]),\n",
              " 'mean_score_time': array([0.00777166, 0.00763211, 0.00761526, 0.00378578, 0.00423658,\n",
              "        0.00515225, 0.00609744, 0.00693853, 0.00845015, 0.00354843,\n",
              "        0.00380781, 0.00365951, 0.00337334]),\n",
              " 'std_score_time': array([4.46345179e-03, 4.75392157e-03, 6.16906368e-03, 1.12887763e-04,\n",
              "        1.38392705e-03, 2.79456619e-03, 3.07108798e-03, 3.77108716e-03,\n",
              "        5.51337397e-03, 7.41714872e-04, 5.00804232e-04, 9.96415366e-05,\n",
              "        1.91793212e-04]),\n",
              " 'param_ridge__alpha': masked_array(data=[0.001, 0.0031622776601683794, 0.01,\n",
              "                    0.03162277660168379, 0.1, 0.31622776601683794, 1.0,\n",
              "                    3.1622776601683795, 10.0, 31.622776601683793, 100.0,\n",
              "                    316.22776601683796, 1000.0],\n",
              "              mask=[False, False, False, False, False, False, False, False,\n",
              "                    False, False, False, False, False],\n",
              "        fill_value='?',\n",
              "             dtype=object),\n",
              " 'params': [{'ridge__alpha': 0.001},\n",
              "  {'ridge__alpha': 0.0031622776601683794},\n",
              "  {'ridge__alpha': 0.01},\n",
              "  {'ridge__alpha': 0.03162277660168379},\n",
              "  {'ridge__alpha': 0.1},\n",
              "  {'ridge__alpha': 0.31622776601683794},\n",
              "  {'ridge__alpha': 1.0},\n",
              "  {'ridge__alpha': 3.1622776601683795},\n",
              "  {'ridge__alpha': 10.0},\n",
              "  {'ridge__alpha': 31.622776601683793},\n",
              "  {'ridge__alpha': 100.0},\n",
              "  {'ridge__alpha': 316.22776601683796},\n",
              "  {'ridge__alpha': 1000.0}],\n",
              " 'split0_test_score': array([0.54019918, 0.54042624, 0.54844233, 0.56812212, 0.60515098,\n",
              "        0.67758747, 0.78509207, 0.85330402, 0.87134523, 0.90622841,\n",
              "        0.91494701, 0.84574002, 0.71468515]),\n",
              " 'split1_test_score': array([0.89344142, 0.89347513, 0.89304333, 0.89273377, 0.89446125,\n",
              "        0.90027649, 0.912021  , 0.92605313, 0.93228337, 0.92854768,\n",
              "        0.90189184, 0.82276836, 0.6710212 ]),\n",
              " 'split2_test_score': array([0.78574903, 0.78541893, 0.78590812, 0.7878021 , 0.79096632,\n",
              "        0.79409841, 0.79734139, 0.80085587, 0.79812823, 0.7800028 ,\n",
              "        0.73294409, 0.64905692, 0.53052963]),\n",
              " 'split3_test_score': array([0.86931234, 0.86951856, 0.86903648, 0.86834406, 0.86821372,\n",
              "        0.87011812, 0.87597223, 0.88450379, 0.88755392, 0.87715111,\n",
              "        0.84849773, 0.79057195, 0.68094557]),\n",
              " 'split4_test_score': array([0.77831797, 0.78091896, 0.78050616, 0.77809008, 0.7754674 ,\n",
              "        0.77298056, 0.77125262, 0.76999785, 0.77035515, 0.77950345,\n",
              "        0.78285152, 0.7547635 , 0.67768323]),\n",
              " 'split5_test_score': array([0.74938605, 0.74577603, 0.74541123, 0.74952741, 0.75682692,\n",
              "        0.7629848 , 0.75810358, 0.73951473, 0.71345781, 0.66268794,\n",
              "        0.57177461, 0.51846183, 0.55462707]),\n",
              " 'split6_test_score': array([0.67523281, 0.67637254, 0.68258315, 0.69991124, 0.73866691,\n",
              "        0.80093347, 0.8547448 , 0.87244877, 0.87208958, 0.87100195,\n",
              "        0.85034923, 0.78708393, 0.68921383]),\n",
              " 'split7_test_score': array([0.85909459, 0.86065585, 0.86090549, 0.86194061, 0.86577984,\n",
              "        0.873724  , 0.88623325, 0.90031374, 0.9067322 , 0.90588533,\n",
              "        0.89669774, 0.84984118, 0.72128024]),\n",
              " 'split8_test_score': array([0.87341266, 0.87161535, 0.86856242, 0.86491993, 0.86217684,\n",
              "        0.86066734, 0.85951604, 0.85626523, 0.84609654, 0.82581911,\n",
              "        0.78908987, 0.71675652, 0.59396707]),\n",
              " 'split9_test_score': array([0.47944449, 0.47610661, 0.47787056, 0.49022672, 0.52209259,\n",
              "        0.59161294, 0.70233295, 0.81125245, 0.86402072, 0.86673598,\n",
              "        0.84023299, 0.78822513, 0.70476936]),\n",
              " 'mean_test_score': array([0.75035905, 0.75002842, 0.75122693, 0.7561618 , 0.76798028,\n",
              "        0.79049836, 0.82026099, 0.84145096, 0.84620628, 0.84035638,\n",
              "        0.81292766, 0.75232693, 0.65387224]),\n",
              " 'std_test_score': array([0.1366854 , 0.13729271, 0.13507003, 0.12846196, 0.11533609,\n",
              "        0.0915045 , 0.06367152, 0.05643862, 0.06331556, 0.0765002 ,\n",
              "        0.09735305, 0.09684277, 0.06505939]),\n",
              " 'rank_test_score': array([11, 12, 10,  8,  7,  6,  4,  2,  1,  3,  5,  9, 13], dtype=int32),\n",
              " 'split0_train_score': array([0.9456482 , 0.94555876, 0.94533344, 0.94487708, 0.94418375,\n",
              "        0.94289857, 0.94040713, 0.93562468, 0.92645268, 0.91083026,\n",
              "        0.87893569, 0.81231253, 0.69992534]),\n",
              " 'split1_train_score': array([0.94498066, 0.94476274, 0.944399  , 0.94392534, 0.9432094 ,\n",
              "        0.94177394, 0.93900937, 0.93339762, 0.92273701, 0.90548617,\n",
              "        0.87221697, 0.80509001, 0.69471086]),\n",
              " 'split2_train_score': array([0.95313627, 0.9530247 , 0.95274564, 0.95219051, 0.95142617,\n",
              "        0.95027906, 0.94823809, 0.94405486, 0.93549828, 0.92091668,\n",
              "        0.89205421, 0.83098742, 0.72259988]),\n",
              " 'split3_train_score': array([0.94906536, 0.94887618, 0.94858403, 0.94818999, 0.94773124,\n",
              "        0.94693439, 0.94508089, 0.94054667, 0.93101331, 0.91537667,\n",
              "        0.88535898, 0.8212119 , 0.70863883]),\n",
              " 'split4_train_score': array([0.95181626, 0.95150971, 0.95115815, 0.95081591, 0.9504068 ,\n",
              "        0.94959014, 0.94783491, 0.94388347, 0.93561131, 0.92086256,\n",
              "        0.88992038, 0.82447455, 0.71012564]),\n",
              " 'split5_train_score': array([0.94932509, 0.94919601, 0.94893408, 0.94848635, 0.94786204,\n",
              "        0.94671642, 0.94450996, 0.94039313, 0.93220209, 0.91767843,\n",
              "        0.89055956, 0.83582438, 0.72791133]),\n",
              " 'split6_train_score': array([0.9479531 , 0.94779961, 0.94748028, 0.94694243, 0.94626697,\n",
              "        0.94514613, 0.94281543, 0.93828804, 0.92987699, 0.91500991,\n",
              "        0.88423366, 0.81953462, 0.70713932]),\n",
              " 'split7_train_score': array([0.94491638, 0.9446932 , 0.9444279 , 0.94399605, 0.94336077,\n",
              "        0.94229125, 0.94034844, 0.93641273, 0.92813358, 0.91325019,\n",
              "        0.88210459, 0.81559121, 0.70178167]),\n",
              " 'split8_train_score': array([0.94775975, 0.94763956, 0.94745323, 0.94720267, 0.94684617,\n",
              "        0.94604605, 0.94421955, 0.94021558, 0.93191907, 0.91767858,\n",
              "        0.8886662 , 0.82515339, 0.71319892]),\n",
              " 'split9_train_score': array([0.94635865, 0.94627305, 0.94605212, 0.94559979, 0.9449018 ,\n",
              "        0.94366947, 0.94131093, 0.93685495, 0.92848319, 0.91394929,\n",
              "        0.8840435 , 0.82001334, 0.70577194]),\n",
              " 'mean_train_score': array([0.94809597, 0.94793335, 0.94765679, 0.94722261, 0.94661951,\n",
              "        0.94553454, 0.94337747, 0.93896717, 0.93019275, 0.91510387,\n",
              "        0.88480937, 0.82101934, 0.70918037]),\n",
              " 'std_train_score': array([0.00265808, 0.0026504 , 0.00264068, 0.00263859, 0.0026746 ,\n",
              "        0.00278954, 0.00300087, 0.00331333, 0.00376881, 0.00442521,\n",
              "        0.00572848, 0.00842526, 0.00955936])}"
            ]
          },
          "metadata": {},
          "execution_count": 61
        }
      ]
    },
    {
      "cell_type": "code",
      "source": [
        "myresults = pd.DataFrame(mygrid.cv_results_)\n",
        "myresults"
      ],
      "metadata": {
        "colab": {
          "base_uri": "https://localhost:8080/",
          "height": 654
        },
        "id": "K2cjLwWhvu8w",
        "outputId": "3e02e43d-d70f-4d69-dbca-8721375d4980"
      },
      "execution_count": 63,
      "outputs": [
        {
          "output_type": "execute_result",
          "data": {
            "text/plain": [
              "    mean_fit_time  std_fit_time  mean_score_time  std_score_time  \\\n",
              "0        0.028043      0.007866         0.007772        0.004463   \n",
              "1        0.039590      0.002254         0.007632        0.004754   \n",
              "2        0.029464      0.004931         0.007615        0.006169   \n",
              "3        0.037249      0.004118         0.003786        0.000113   \n",
              "4        0.031583      0.008061         0.004237        0.001384   \n",
              "5        0.031798      0.008323         0.005152        0.002795   \n",
              "6        0.034712      0.007910         0.006097        0.003071   \n",
              "7        0.032708      0.007737         0.006939        0.003771   \n",
              "8        0.032101      0.005713         0.008450        0.005513   \n",
              "9        0.014497      0.005949         0.003548        0.000742   \n",
              "10       0.021784      0.002745         0.003808        0.000501   \n",
              "11       0.016005      0.006407         0.003660        0.000100   \n",
              "12       0.013296      0.004978         0.003373        0.000192   \n",
              "\n",
              "   param_ridge__alpha                                   params  \\\n",
              "0               0.001                  {'ridge__alpha': 0.001}   \n",
              "1            0.003162  {'ridge__alpha': 0.0031622776601683794}   \n",
              "2                0.01                   {'ridge__alpha': 0.01}   \n",
              "3            0.031623    {'ridge__alpha': 0.03162277660168379}   \n",
              "4                 0.1                    {'ridge__alpha': 0.1}   \n",
              "5            0.316228    {'ridge__alpha': 0.31622776601683794}   \n",
              "6                 1.0                    {'ridge__alpha': 1.0}   \n",
              "7            3.162278     {'ridge__alpha': 3.1622776601683795}   \n",
              "8                10.0                   {'ridge__alpha': 10.0}   \n",
              "9           31.622777     {'ridge__alpha': 31.622776601683793}   \n",
              "10              100.0                  {'ridge__alpha': 100.0}   \n",
              "11         316.227766     {'ridge__alpha': 316.22776601683796}   \n",
              "12             1000.0                 {'ridge__alpha': 1000.0}   \n",
              "\n",
              "    split0_test_score  split1_test_score  split2_test_score  \\\n",
              "0            0.540199           0.893441           0.785749   \n",
              "1            0.540426           0.893475           0.785419   \n",
              "2            0.548442           0.893043           0.785908   \n",
              "3            0.568122           0.892734           0.787802   \n",
              "4            0.605151           0.894461           0.790966   \n",
              "5            0.677587           0.900276           0.794098   \n",
              "6            0.785092           0.912021           0.797341   \n",
              "7            0.853304           0.926053           0.800856   \n",
              "8            0.871345           0.932283           0.798128   \n",
              "9            0.906228           0.928548           0.780003   \n",
              "10           0.914947           0.901892           0.732944   \n",
              "11           0.845740           0.822768           0.649057   \n",
              "12           0.714685           0.671021           0.530530   \n",
              "\n",
              "    split3_test_score  ...  split2_train_score  split3_train_score  \\\n",
              "0            0.869312  ...            0.953136            0.949065   \n",
              "1            0.869519  ...            0.953025            0.948876   \n",
              "2            0.869036  ...            0.952746            0.948584   \n",
              "3            0.868344  ...            0.952191            0.948190   \n",
              "4            0.868214  ...            0.951426            0.947731   \n",
              "5            0.870118  ...            0.950279            0.946934   \n",
              "6            0.875972  ...            0.948238            0.945081   \n",
              "7            0.884504  ...            0.944055            0.940547   \n",
              "8            0.887554  ...            0.935498            0.931013   \n",
              "9            0.877151  ...            0.920917            0.915377   \n",
              "10           0.848498  ...            0.892054            0.885359   \n",
              "11           0.790572  ...            0.830987            0.821212   \n",
              "12           0.680946  ...            0.722600            0.708639   \n",
              "\n",
              "    split4_train_score  split5_train_score  split6_train_score  \\\n",
              "0             0.951816            0.949325            0.947953   \n",
              "1             0.951510            0.949196            0.947800   \n",
              "2             0.951158            0.948934            0.947480   \n",
              "3             0.950816            0.948486            0.946942   \n",
              "4             0.950407            0.947862            0.946267   \n",
              "5             0.949590            0.946716            0.945146   \n",
              "6             0.947835            0.944510            0.942815   \n",
              "7             0.943883            0.940393            0.938288   \n",
              "8             0.935611            0.932202            0.929877   \n",
              "9             0.920863            0.917678            0.915010   \n",
              "10            0.889920            0.890560            0.884234   \n",
              "11            0.824475            0.835824            0.819535   \n",
              "12            0.710126            0.727911            0.707139   \n",
              "\n",
              "    split7_train_score  split8_train_score  split9_train_score  \\\n",
              "0             0.944916            0.947760            0.946359   \n",
              "1             0.944693            0.947640            0.946273   \n",
              "2             0.944428            0.947453            0.946052   \n",
              "3             0.943996            0.947203            0.945600   \n",
              "4             0.943361            0.946846            0.944902   \n",
              "5             0.942291            0.946046            0.943669   \n",
              "6             0.940348            0.944220            0.941311   \n",
              "7             0.936413            0.940216            0.936855   \n",
              "8             0.928134            0.931919            0.928483   \n",
              "9             0.913250            0.917679            0.913949   \n",
              "10            0.882105            0.888666            0.884043   \n",
              "11            0.815591            0.825153            0.820013   \n",
              "12            0.701782            0.713199            0.705772   \n",
              "\n",
              "    mean_train_score  std_train_score  \n",
              "0           0.948096         0.002658  \n",
              "1           0.947933         0.002650  \n",
              "2           0.947657         0.002641  \n",
              "3           0.947223         0.002639  \n",
              "4           0.946620         0.002675  \n",
              "5           0.945535         0.002790  \n",
              "6           0.943377         0.003001  \n",
              "7           0.938967         0.003313  \n",
              "8           0.930193         0.003769  \n",
              "9           0.915104         0.004425  \n",
              "10          0.884809         0.005728  \n",
              "11          0.821019         0.008425  \n",
              "12          0.709180         0.009559  \n",
              "\n",
              "[13 rows x 31 columns]"
            ],
            "text/html": [
              "\n",
              "  <div id=\"df-a1b28fa2-c46f-4d10-8a97-312e15be1586\">\n",
              "    <div class=\"colab-df-container\">\n",
              "      <div>\n",
              "<style scoped>\n",
              "    .dataframe tbody tr th:only-of-type {\n",
              "        vertical-align: middle;\n",
              "    }\n",
              "\n",
              "    .dataframe tbody tr th {\n",
              "        vertical-align: top;\n",
              "    }\n",
              "\n",
              "    .dataframe thead th {\n",
              "        text-align: right;\n",
              "    }\n",
              "</style>\n",
              "<table border=\"1\" class=\"dataframe\">\n",
              "  <thead>\n",
              "    <tr style=\"text-align: right;\">\n",
              "      <th></th>\n",
              "      <th>mean_fit_time</th>\n",
              "      <th>std_fit_time</th>\n",
              "      <th>mean_score_time</th>\n",
              "      <th>std_score_time</th>\n",
              "      <th>param_ridge__alpha</th>\n",
              "      <th>params</th>\n",
              "      <th>split0_test_score</th>\n",
              "      <th>split1_test_score</th>\n",
              "      <th>split2_test_score</th>\n",
              "      <th>split3_test_score</th>\n",
              "      <th>...</th>\n",
              "      <th>split2_train_score</th>\n",
              "      <th>split3_train_score</th>\n",
              "      <th>split4_train_score</th>\n",
              "      <th>split5_train_score</th>\n",
              "      <th>split6_train_score</th>\n",
              "      <th>split7_train_score</th>\n",
              "      <th>split8_train_score</th>\n",
              "      <th>split9_train_score</th>\n",
              "      <th>mean_train_score</th>\n",
              "      <th>std_train_score</th>\n",
              "    </tr>\n",
              "  </thead>\n",
              "  <tbody>\n",
              "    <tr>\n",
              "      <th>0</th>\n",
              "      <td>0.028043</td>\n",
              "      <td>0.007866</td>\n",
              "      <td>0.007772</td>\n",
              "      <td>0.004463</td>\n",
              "      <td>0.001</td>\n",
              "      <td>{'ridge__alpha': 0.001}</td>\n",
              "      <td>0.540199</td>\n",
              "      <td>0.893441</td>\n",
              "      <td>0.785749</td>\n",
              "      <td>0.869312</td>\n",
              "      <td>...</td>\n",
              "      <td>0.953136</td>\n",
              "      <td>0.949065</td>\n",
              "      <td>0.951816</td>\n",
              "      <td>0.949325</td>\n",
              "      <td>0.947953</td>\n",
              "      <td>0.944916</td>\n",
              "      <td>0.947760</td>\n",
              "      <td>0.946359</td>\n",
              "      <td>0.948096</td>\n",
              "      <td>0.002658</td>\n",
              "    </tr>\n",
              "    <tr>\n",
              "      <th>1</th>\n",
              "      <td>0.039590</td>\n",
              "      <td>0.002254</td>\n",
              "      <td>0.007632</td>\n",
              "      <td>0.004754</td>\n",
              "      <td>0.003162</td>\n",
              "      <td>{'ridge__alpha': 0.0031622776601683794}</td>\n",
              "      <td>0.540426</td>\n",
              "      <td>0.893475</td>\n",
              "      <td>0.785419</td>\n",
              "      <td>0.869519</td>\n",
              "      <td>...</td>\n",
              "      <td>0.953025</td>\n",
              "      <td>0.948876</td>\n",
              "      <td>0.951510</td>\n",
              "      <td>0.949196</td>\n",
              "      <td>0.947800</td>\n",
              "      <td>0.944693</td>\n",
              "      <td>0.947640</td>\n",
              "      <td>0.946273</td>\n",
              "      <td>0.947933</td>\n",
              "      <td>0.002650</td>\n",
              "    </tr>\n",
              "    <tr>\n",
              "      <th>2</th>\n",
              "      <td>0.029464</td>\n",
              "      <td>0.004931</td>\n",
              "      <td>0.007615</td>\n",
              "      <td>0.006169</td>\n",
              "      <td>0.01</td>\n",
              "      <td>{'ridge__alpha': 0.01}</td>\n",
              "      <td>0.548442</td>\n",
              "      <td>0.893043</td>\n",
              "      <td>0.785908</td>\n",
              "      <td>0.869036</td>\n",
              "      <td>...</td>\n",
              "      <td>0.952746</td>\n",
              "      <td>0.948584</td>\n",
              "      <td>0.951158</td>\n",
              "      <td>0.948934</td>\n",
              "      <td>0.947480</td>\n",
              "      <td>0.944428</td>\n",
              "      <td>0.947453</td>\n",
              "      <td>0.946052</td>\n",
              "      <td>0.947657</td>\n",
              "      <td>0.002641</td>\n",
              "    </tr>\n",
              "    <tr>\n",
              "      <th>3</th>\n",
              "      <td>0.037249</td>\n",
              "      <td>0.004118</td>\n",
              "      <td>0.003786</td>\n",
              "      <td>0.000113</td>\n",
              "      <td>0.031623</td>\n",
              "      <td>{'ridge__alpha': 0.03162277660168379}</td>\n",
              "      <td>0.568122</td>\n",
              "      <td>0.892734</td>\n",
              "      <td>0.787802</td>\n",
              "      <td>0.868344</td>\n",
              "      <td>...</td>\n",
              "      <td>0.952191</td>\n",
              "      <td>0.948190</td>\n",
              "      <td>0.950816</td>\n",
              "      <td>0.948486</td>\n",
              "      <td>0.946942</td>\n",
              "      <td>0.943996</td>\n",
              "      <td>0.947203</td>\n",
              "      <td>0.945600</td>\n",
              "      <td>0.947223</td>\n",
              "      <td>0.002639</td>\n",
              "    </tr>\n",
              "    <tr>\n",
              "      <th>4</th>\n",
              "      <td>0.031583</td>\n",
              "      <td>0.008061</td>\n",
              "      <td>0.004237</td>\n",
              "      <td>0.001384</td>\n",
              "      <td>0.1</td>\n",
              "      <td>{'ridge__alpha': 0.1}</td>\n",
              "      <td>0.605151</td>\n",
              "      <td>0.894461</td>\n",
              "      <td>0.790966</td>\n",
              "      <td>0.868214</td>\n",
              "      <td>...</td>\n",
              "      <td>0.951426</td>\n",
              "      <td>0.947731</td>\n",
              "      <td>0.950407</td>\n",
              "      <td>0.947862</td>\n",
              "      <td>0.946267</td>\n",
              "      <td>0.943361</td>\n",
              "      <td>0.946846</td>\n",
              "      <td>0.944902</td>\n",
              "      <td>0.946620</td>\n",
              "      <td>0.002675</td>\n",
              "    </tr>\n",
              "    <tr>\n",
              "      <th>5</th>\n",
              "      <td>0.031798</td>\n",
              "      <td>0.008323</td>\n",
              "      <td>0.005152</td>\n",
              "      <td>0.002795</td>\n",
              "      <td>0.316228</td>\n",
              "      <td>{'ridge__alpha': 0.31622776601683794}</td>\n",
              "      <td>0.677587</td>\n",
              "      <td>0.900276</td>\n",
              "      <td>0.794098</td>\n",
              "      <td>0.870118</td>\n",
              "      <td>...</td>\n",
              "      <td>0.950279</td>\n",
              "      <td>0.946934</td>\n",
              "      <td>0.949590</td>\n",
              "      <td>0.946716</td>\n",
              "      <td>0.945146</td>\n",
              "      <td>0.942291</td>\n",
              "      <td>0.946046</td>\n",
              "      <td>0.943669</td>\n",
              "      <td>0.945535</td>\n",
              "      <td>0.002790</td>\n",
              "    </tr>\n",
              "    <tr>\n",
              "      <th>6</th>\n",
              "      <td>0.034712</td>\n",
              "      <td>0.007910</td>\n",
              "      <td>0.006097</td>\n",
              "      <td>0.003071</td>\n",
              "      <td>1.0</td>\n",
              "      <td>{'ridge__alpha': 1.0}</td>\n",
              "      <td>0.785092</td>\n",
              "      <td>0.912021</td>\n",
              "      <td>0.797341</td>\n",
              "      <td>0.875972</td>\n",
              "      <td>...</td>\n",
              "      <td>0.948238</td>\n",
              "      <td>0.945081</td>\n",
              "      <td>0.947835</td>\n",
              "      <td>0.944510</td>\n",
              "      <td>0.942815</td>\n",
              "      <td>0.940348</td>\n",
              "      <td>0.944220</td>\n",
              "      <td>0.941311</td>\n",
              "      <td>0.943377</td>\n",
              "      <td>0.003001</td>\n",
              "    </tr>\n",
              "    <tr>\n",
              "      <th>7</th>\n",
              "      <td>0.032708</td>\n",
              "      <td>0.007737</td>\n",
              "      <td>0.006939</td>\n",
              "      <td>0.003771</td>\n",
              "      <td>3.162278</td>\n",
              "      <td>{'ridge__alpha': 3.1622776601683795}</td>\n",
              "      <td>0.853304</td>\n",
              "      <td>0.926053</td>\n",
              "      <td>0.800856</td>\n",
              "      <td>0.884504</td>\n",
              "      <td>...</td>\n",
              "      <td>0.944055</td>\n",
              "      <td>0.940547</td>\n",
              "      <td>0.943883</td>\n",
              "      <td>0.940393</td>\n",
              "      <td>0.938288</td>\n",
              "      <td>0.936413</td>\n",
              "      <td>0.940216</td>\n",
              "      <td>0.936855</td>\n",
              "      <td>0.938967</td>\n",
              "      <td>0.003313</td>\n",
              "    </tr>\n",
              "    <tr>\n",
              "      <th>8</th>\n",
              "      <td>0.032101</td>\n",
              "      <td>0.005713</td>\n",
              "      <td>0.008450</td>\n",
              "      <td>0.005513</td>\n",
              "      <td>10.0</td>\n",
              "      <td>{'ridge__alpha': 10.0}</td>\n",
              "      <td>0.871345</td>\n",
              "      <td>0.932283</td>\n",
              "      <td>0.798128</td>\n",
              "      <td>0.887554</td>\n",
              "      <td>...</td>\n",
              "      <td>0.935498</td>\n",
              "      <td>0.931013</td>\n",
              "      <td>0.935611</td>\n",
              "      <td>0.932202</td>\n",
              "      <td>0.929877</td>\n",
              "      <td>0.928134</td>\n",
              "      <td>0.931919</td>\n",
              "      <td>0.928483</td>\n",
              "      <td>0.930193</td>\n",
              "      <td>0.003769</td>\n",
              "    </tr>\n",
              "    <tr>\n",
              "      <th>9</th>\n",
              "      <td>0.014497</td>\n",
              "      <td>0.005949</td>\n",
              "      <td>0.003548</td>\n",
              "      <td>0.000742</td>\n",
              "      <td>31.622777</td>\n",
              "      <td>{'ridge__alpha': 31.622776601683793}</td>\n",
              "      <td>0.906228</td>\n",
              "      <td>0.928548</td>\n",
              "      <td>0.780003</td>\n",
              "      <td>0.877151</td>\n",
              "      <td>...</td>\n",
              "      <td>0.920917</td>\n",
              "      <td>0.915377</td>\n",
              "      <td>0.920863</td>\n",
              "      <td>0.917678</td>\n",
              "      <td>0.915010</td>\n",
              "      <td>0.913250</td>\n",
              "      <td>0.917679</td>\n",
              "      <td>0.913949</td>\n",
              "      <td>0.915104</td>\n",
              "      <td>0.004425</td>\n",
              "    </tr>\n",
              "    <tr>\n",
              "      <th>10</th>\n",
              "      <td>0.021784</td>\n",
              "      <td>0.002745</td>\n",
              "      <td>0.003808</td>\n",
              "      <td>0.000501</td>\n",
              "      <td>100.0</td>\n",
              "      <td>{'ridge__alpha': 100.0}</td>\n",
              "      <td>0.914947</td>\n",
              "      <td>0.901892</td>\n",
              "      <td>0.732944</td>\n",
              "      <td>0.848498</td>\n",
              "      <td>...</td>\n",
              "      <td>0.892054</td>\n",
              "      <td>0.885359</td>\n",
              "      <td>0.889920</td>\n",
              "      <td>0.890560</td>\n",
              "      <td>0.884234</td>\n",
              "      <td>0.882105</td>\n",
              "      <td>0.888666</td>\n",
              "      <td>0.884043</td>\n",
              "      <td>0.884809</td>\n",
              "      <td>0.005728</td>\n",
              "    </tr>\n",
              "    <tr>\n",
              "      <th>11</th>\n",
              "      <td>0.016005</td>\n",
              "      <td>0.006407</td>\n",
              "      <td>0.003660</td>\n",
              "      <td>0.000100</td>\n",
              "      <td>316.227766</td>\n",
              "      <td>{'ridge__alpha': 316.22776601683796}</td>\n",
              "      <td>0.845740</td>\n",
              "      <td>0.822768</td>\n",
              "      <td>0.649057</td>\n",
              "      <td>0.790572</td>\n",
              "      <td>...</td>\n",
              "      <td>0.830987</td>\n",
              "      <td>0.821212</td>\n",
              "      <td>0.824475</td>\n",
              "      <td>0.835824</td>\n",
              "      <td>0.819535</td>\n",
              "      <td>0.815591</td>\n",
              "      <td>0.825153</td>\n",
              "      <td>0.820013</td>\n",
              "      <td>0.821019</td>\n",
              "      <td>0.008425</td>\n",
              "    </tr>\n",
              "    <tr>\n",
              "      <th>12</th>\n",
              "      <td>0.013296</td>\n",
              "      <td>0.004978</td>\n",
              "      <td>0.003373</td>\n",
              "      <td>0.000192</td>\n",
              "      <td>1000.0</td>\n",
              "      <td>{'ridge__alpha': 1000.0}</td>\n",
              "      <td>0.714685</td>\n",
              "      <td>0.671021</td>\n",
              "      <td>0.530530</td>\n",
              "      <td>0.680946</td>\n",
              "      <td>...</td>\n",
              "      <td>0.722600</td>\n",
              "      <td>0.708639</td>\n",
              "      <td>0.710126</td>\n",
              "      <td>0.727911</td>\n",
              "      <td>0.707139</td>\n",
              "      <td>0.701782</td>\n",
              "      <td>0.713199</td>\n",
              "      <td>0.705772</td>\n",
              "      <td>0.709180</td>\n",
              "      <td>0.009559</td>\n",
              "    </tr>\n",
              "  </tbody>\n",
              "</table>\n",
              "<p>13 rows × 31 columns</p>\n",
              "</div>\n",
              "      <button class=\"colab-df-convert\" onclick=\"convertToInteractive('df-a1b28fa2-c46f-4d10-8a97-312e15be1586')\"\n",
              "              title=\"Convert this dataframe to an interactive table.\"\n",
              "              style=\"display:none;\">\n",
              "        \n",
              "  <svg xmlns=\"http://www.w3.org/2000/svg\" height=\"24px\"viewBox=\"0 0 24 24\"\n",
              "       width=\"24px\">\n",
              "    <path d=\"M0 0h24v24H0V0z\" fill=\"none\"/>\n",
              "    <path d=\"M18.56 5.44l.94 2.06.94-2.06 2.06-.94-2.06-.94-.94-2.06-.94 2.06-2.06.94zm-11 1L8.5 8.5l.94-2.06 2.06-.94-2.06-.94L8.5 2.5l-.94 2.06-2.06.94zm10 10l.94 2.06.94-2.06 2.06-.94-2.06-.94-.94-2.06-.94 2.06-2.06.94z\"/><path d=\"M17.41 7.96l-1.37-1.37c-.4-.4-.92-.59-1.43-.59-.52 0-1.04.2-1.43.59L10.3 9.45l-7.72 7.72c-.78.78-.78 2.05 0 2.83L4 21.41c.39.39.9.59 1.41.59.51 0 1.02-.2 1.41-.59l7.78-7.78 2.81-2.81c.8-.78.8-2.07 0-2.86zM5.41 20L4 18.59l7.72-7.72 1.47 1.35L5.41 20z\"/>\n",
              "  </svg>\n",
              "      </button>\n",
              "      \n",
              "  <style>\n",
              "    .colab-df-container {\n",
              "      display:flex;\n",
              "      flex-wrap:wrap;\n",
              "      gap: 12px;\n",
              "    }\n",
              "\n",
              "    .colab-df-convert {\n",
              "      background-color: #E8F0FE;\n",
              "      border: none;\n",
              "      border-radius: 50%;\n",
              "      cursor: pointer;\n",
              "      display: none;\n",
              "      fill: #1967D2;\n",
              "      height: 32px;\n",
              "      padding: 0 0 0 0;\n",
              "      width: 32px;\n",
              "    }\n",
              "\n",
              "    .colab-df-convert:hover {\n",
              "      background-color: #E2EBFA;\n",
              "      box-shadow: 0px 1px 2px rgba(60, 64, 67, 0.3), 0px 1px 3px 1px rgba(60, 64, 67, 0.15);\n",
              "      fill: #174EA6;\n",
              "    }\n",
              "\n",
              "    [theme=dark] .colab-df-convert {\n",
              "      background-color: #3B4455;\n",
              "      fill: #D2E3FC;\n",
              "    }\n",
              "\n",
              "    [theme=dark] .colab-df-convert:hover {\n",
              "      background-color: #434B5C;\n",
              "      box-shadow: 0px 1px 3px 1px rgba(0, 0, 0, 0.15);\n",
              "      filter: drop-shadow(0px 1px 2px rgba(0, 0, 0, 0.3));\n",
              "      fill: #FFFFFF;\n",
              "    }\n",
              "  </style>\n",
              "\n",
              "      <script>\n",
              "        const buttonEl =\n",
              "          document.querySelector('#df-a1b28fa2-c46f-4d10-8a97-312e15be1586 button.colab-df-convert');\n",
              "        buttonEl.style.display =\n",
              "          google.colab.kernel.accessAllowed ? 'block' : 'none';\n",
              "\n",
              "        async function convertToInteractive(key) {\n",
              "          const element = document.querySelector('#df-a1b28fa2-c46f-4d10-8a97-312e15be1586');\n",
              "          const dataTable =\n",
              "            await google.colab.kernel.invokeFunction('convertToInteractive',\n",
              "                                                     [key], {});\n",
              "          if (!dataTable) return;\n",
              "\n",
              "          const docLinkHtml = 'Like what you see? Visit the ' +\n",
              "            '<a target=\"_blank\" href=https://colab.research.google.com/notebooks/data_table.ipynb>data table notebook</a>'\n",
              "            + ' to learn more about interactive tables.';\n",
              "          element.innerHTML = '';\n",
              "          dataTable['output_type'] = 'display_data';\n",
              "          await google.colab.output.renderOutput(dataTable, element);\n",
              "          const docLink = document.createElement('div');\n",
              "          docLink.innerHTML = docLinkHtml;\n",
              "          element.appendChild(docLink);\n",
              "        }\n",
              "      </script>\n",
              "    </div>\n",
              "  </div>\n",
              "  "
            ]
          },
          "metadata": {},
          "execution_count": 63
        }
      ]
    },
    {
      "cell_type": "code",
      "source": [
        "myresults.columns"
      ],
      "metadata": {
        "colab": {
          "base_uri": "https://localhost:8080/"
        },
        "id": "D1-uvXJ51Nr7",
        "outputId": "ad9071c2-45fb-445d-b598-7c17fbadcc19"
      },
      "execution_count": 64,
      "outputs": [
        {
          "output_type": "execute_result",
          "data": {
            "text/plain": [
              "Index(['mean_fit_time', 'std_fit_time', 'mean_score_time', 'std_score_time',\n",
              "       'param_ridge__alpha', 'params', 'split0_test_score',\n",
              "       'split1_test_score', 'split2_test_score', 'split3_test_score',\n",
              "       'split4_test_score', 'split5_test_score', 'split6_test_score',\n",
              "       'split7_test_score', 'split8_test_score', 'split9_test_score',\n",
              "       'mean_test_score', 'std_test_score', 'rank_test_score',\n",
              "       'split0_train_score', 'split1_train_score', 'split2_train_score',\n",
              "       'split3_train_score', 'split4_train_score', 'split5_train_score',\n",
              "       'split6_train_score', 'split7_train_score', 'split8_train_score',\n",
              "       'split9_train_score', 'mean_train_score', 'std_train_score'],\n",
              "      dtype='object')"
            ]
          },
          "metadata": {},
          "execution_count": 64
        }
      ]
    },
    {
      "cell_type": "code",
      "source": [
        "myresults.plot('param_ridge__alpha', 'mean_train_score')"
      ],
      "metadata": {
        "colab": {
          "base_uri": "https://localhost:8080/",
          "height": 468
        },
        "id": "VNjhC4ZZ1Gu8",
        "outputId": "38e3383c-956d-4ea8-edeb-23a5078a7e95"
      },
      "execution_count": 68,
      "outputs": [
        {
          "output_type": "execute_result",
          "data": {
            "text/plain": [
              "<Axes: xlabel='param_ridge__alpha'>"
            ]
          },
          "metadata": {},
          "execution_count": 68
        },
        {
          "output_type": "display_data",
          "data": {
            "text/plain": [
              "<Figure size 640x480 with 1 Axes>"
            ],
            "image/png": "[encoded data removed]"
          },
          "metadata": {}
        }
      ]
    },
    {
      "cell_type": "code",
      "source": [
        "myresults.plot('param_ridge__alpha', 'mean_train_score')\n",
        "plt.xscale('log')"
      ],
      "metadata": {
        "colab": {
          "base_uri": "https://localhost:8080/",
          "height": 454
        },
        "id": "oeYe9uOe2Cg8",
        "outputId": "5ef773cd-41a9-40fa-bc8d-b10ad3a04191"
      },
      "execution_count": 69,
      "outputs": [
        {
          "output_type": "display_data",
          "data": {
            "text/plain": [
              "<Figure size 640x480 with 1 Axes>"
            ],
            "image/png": "[encoded data removed]"
          },
          "metadata": {}
        }
      ]
    },
    {
      "cell_type": "code",
      "source": [
        "myresults.plot('param_ridge__alpha', 'mean_train_score')\n",
        "myresults.plot('param_ridge__alpha', 'mean_test_score', ax=plt.gca())\n",
        "plt.xscale('log')"
      ],
      "metadata": {
        "colab": {
          "base_uri": "https://localhost:8080/",
          "height": 510
        },
        "id": "tdMD6sr32aA1",
        "outputId": "cc23f070-22df-45a3-b779-030697917abc"
      },
      "execution_count": 71,
      "outputs": [
        {
          "output_type": "stream",
          "name": "stderr",
          "text": [
            "/usr/local/lib/python3.9/dist-packages/pandas/core/indexes/base.py:6999: FutureWarning: In a future version, the Index constructor will not infer numeric dtypes when passed object-dtype sequences (matching Series behavior)\n",
            "  return Index(sequences[0], name=names)\n"
          ]
        },
        {
          "output_type": "display_data",
          "data": {
            "text/plain": [
              "<Figure size 640x480 with 1 Axes>"
            ],
            "image/png": "[encoded data removed]"
          },
          "metadata": {}
        }
      ]
    },
    {
      "cell_type": "code",
      "source": [
        "len(coefficients)"
      ],
      "metadata": {
        "colab": {
          "base_uri": "https://localhost:8080/"
        },
        "id": "jPJ9lQak3cjJ",
        "outputId": "cf6ef055-9817-4b8c-8334-886611b42e43"
      },
      "execution_count": 72,
      "outputs": [
        {
          "output_type": "execute_result",
          "data": {
            "text/plain": [
              "104"
            ]
          },
          "metadata": {},
          "execution_count": 72
        }
      ]
    },
    {
      "cell_type": "markdown",
      "metadata": {
        "id": "8PnsOAcViUrc"
      },
      "source": [
        "- Print the best parameter score\n",
        "- Print the best model score"
      ]
    },
    {
      "cell_type": "code",
      "execution_count": 73,
      "metadata": {
        "id": "2bHYYZ5ciUrc",
        "colab": {
          "base_uri": "https://localhost:8080/"
        },
        "outputId": "1e708352-c920-4306-d37c-0e6cd138648b"
      },
      "outputs": [
        {
          "output_type": "execute_result",
          "data": {
            "text/plain": [
              "({'ridge__alpha': 10.0},\n",
              " Pipeline(steps=[('scaler', StandardScaler()), ('imputer', SimpleImputer()),\n",
              "                 ('poly', PolynomialFeatures(include_bias=False)),\n",
              "                 ('ridge', Ridge(alpha=10.0))]))"
            ]
          },
          "metadata": {},
          "execution_count": 73
        }
      ],
      "source": [
        "mygrid.best_params_, mygrid.best_estimator_"
      ]
    },
    {
      "cell_type": "markdown",
      "metadata": {
        "id": "BEQqDSV1iUrd"
      },
      "source": [
        "- Plot the model coefficients"
      ]
    },
    {
      "cell_type": "code",
      "execution_count": null,
      "metadata": {
        "id": "-7XtwOrRiUrd"
      },
      "outputs": [],
      "source": []
    },
    {
      "cell_type": "markdown",
      "metadata": {
        "id": "Vx59fthziUrd"
      },
      "source": [
        "- Plot the model coefficients for alpha=1, 14, and 100"
      ]
    },
    {
      "cell_type": "code",
      "execution_count": null,
      "metadata": {
        "id": "q4awxB4siUrd"
      },
      "outputs": [],
      "source": []
    },
    {
      "cell_type": "markdown",
      "metadata": {
        "id": "nD9iInSEiUrd"
      },
      "source": [
        "- Create a learning curve for different data train sizes"
      ]
    },
    {
      "cell_type": "code",
      "execution_count": null,
      "metadata": {
        "id": "7KVkfT-UiUre"
      },
      "outputs": [],
      "source": []
    },
    {
      "cell_type": "code",
      "execution_count": null,
      "metadata": {
        "id": "4qIX0O9XiUre"
      },
      "outputs": [],
      "source": []
    },
    {
      "cell_type": "markdown",
      "metadata": {
        "id": "i7bW9XaSiUre"
      },
      "source": [
        "- Create the learning curve plot for different train size and alpha= 1, 14, and 100"
      ]
    },
    {
      "cell_type": "markdown",
      "source": [
        "ML Pipeline (Applied ML)-->algorithms (Math, especially Linear Algebra)\n",
        "1. Decide classification or regression ---> (Linear Regression, Ridge), Logistic Regression (C)\n",
        "2. Preprocessing (python mostly, but SQL will be helpful)--> imputation, onehotencoding, scaling, PCA, ..\n",
        "3. hyperparameter tuning --> Crossvalidation, gridsearch, ...\n",
        "4. testing--> evaluation (precision, recall, f1, confusion matrix, ROc, AUc, R2, MSE, ...)\n",
        "5. Deployment\n",
        "\n",
        "numbers\n",
        "text\n",
        "image"
      ],
      "metadata": {
        "id": "AwtRP8mI4Zq0"
      }
    },
    {
      "cell_type": "code",
      "execution_count": null,
      "metadata": {
        "id": "hKnCPJjEiUre"
      },
      "outputs": [],
      "source": []
    },
    {
      "cell_type": "code",
      "execution_count": null,
      "metadata": {
        "id": "zWIAOz4SiUre"
      },
      "outputs": [],
      "source": [
        "\n"
      ]
    }
  ],
  "metadata": {
    "kernelspec": {
      "display_name": "Python 3 (ipykernel)",
      "language": "python",
      "name": "python3"
    },
    "language_info": {
      "codemirror_mode": {
        "name": "ipython",
        "version": 3
      },
      "file_extension": ".py",
      "mimetype": "text/x-python",
      "name": "python",
      "nbconvert_exporter": "python",
      "pygments_lexer": "ipython3",
      "version": "3.9.16"
    },
    "colab": {
      "provenance": [],
      "include_colab_link": true
    }
  },
  "nbformat": 4,
  "nbformat_minor": 0
}