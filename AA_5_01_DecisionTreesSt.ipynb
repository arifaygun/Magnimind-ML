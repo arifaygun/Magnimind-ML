{
  "cells": [
    {
      "cell_type": "markdown",
      "metadata": {
        "id": "view-in-github",
        "colab_type": "text"
      },
      "source": [
        "<a href=\"https://colab.research.google.com/github/ArifAygun/Magnimind-ML/blob/main/AA_5_01_DecisionTreesSt.ipynb\" target=\"_parent\"><img src=\"https://colab.research.google.com/assets/colab-badge.svg\" alt=\"Open In Colab\"/></a>"
      ]
    },
    {
      "cell_type": "code",
      "execution_count": 1,
      "metadata": {
        "id": "me1zkD87lDLr"
      },
      "outputs": [],
      "source": [
        "import numpy as np\n",
        "import matplotlib.pyplot as plt\n",
        "%matplotlib inline\n",
        "plt.rcParams[\"figure.dpi\"] = 100\n",
        "plt.rcParams[\"savefig.bbox\"] = \"tight\"\n",
        "\n",
        "np.set_printoptions(precision=3)\n",
        "import pandas as pd\n",
        "from sklearn.model_selection import train_test_split\n",
        "from sklearn.pipeline import make_pipeline\n",
        "from sklearn.preprocessing import scale, StandardScaler"
      ]
    },
    {
      "cell_type": "markdown",
      "metadata": {
        "id": "GSnx7vuGlDLt"
      },
      "source": [
        "### Step 1: Load the Cancer dataset\n",
        "- Use `from sklearn.datasets import load_breast_cancer`\n",
        "- Split data into train and test sets, utilize `data` and `target` from the downloaded cancer dataset"
      ]
    },
    {
      "cell_type": "code",
      "execution_count": null,
      "metadata": {
        "id": "oSteaXBllDLu"
      },
      "outputs": [],
      "source": []
    },
    {
      "cell_type": "markdown",
      "metadata": {
        "id": "YSSai7z3lDLu"
      },
      "source": [
        "### Step 2: Fitting the Tree Model\n",
        "- Create a tree model with `max_depth=2`. Use `from sklearn.tree import DecisionTreeClassifier`\n",
        "- Plot the tree with feature names. Use `from sklearn.tree import plot_tree`"
      ]
    },
    {
      "cell_type": "code",
      "execution_count": null,
      "metadata": {
        "id": "q2hpKN6MlDLu"
      },
      "outputs": [],
      "source": []
    },
    {
      "cell_type": "markdown",
      "metadata": {
        "id": "DUxs4LTjlDLv"
      },
      "source": [
        "### Step 3: Parameter Tuning\n",
        "- Create a grtid search for `max_depth`. Use integer values from 1 to 6.\n",
        "- Plot the mean train and test scores versus the maximum depth\n"
      ]
    },
    {
      "cell_type": "markdown",
      "metadata": {
        "id": "115nRW3plDLv"
      },
      "source": [
        "### Step 4: Parameter Tuning\n",
        "- Create a grtid search for `max_leaf_nodes`. Use integer values from 2 to 19.\n",
        "- Plot the mean train and test scores versus the maximum depth\n"
      ]
    },
    {
      "cell_type": "code",
      "execution_count": null,
      "metadata": {
        "id": "i90Cb3ohlDLv"
      },
      "outputs": [],
      "source": []
    },
    {
      "cell_type": "markdown",
      "metadata": {
        "id": "X98zeThRlDLv"
      },
      "source": [
        "### Step 5: Extrapolation\n",
        "- Read the dataset `ram_prices.csv`\n",
        "- Plot the price versus year. Use logarithmic scale for the price.\n",
        "- Create train and test datasets by splitting the data as train data being data before year 2000 and test data being data after year 2000\n",
        "- Use price as the target variable. Take logarithm of the price.\n",
        "- Train a tree and linear regression model\n",
        "- Plot the train and test datasets as well as the predictions for the train dataset\n",
        "- Plot the train and test datasets as well as the predictions for the the entire dataset\n"
      ]
    },
    {
      "cell_type": "code",
      "execution_count": null,
      "metadata": {
        "id": "Vd4UrnxFlDLv"
      },
      "outputs": [],
      "source": []
    },
    {
      "cell_type": "markdown",
      "metadata": {
        "id": "ZITvrHMAlDLw"
      },
      "source": [
        "### Step 6: Feature Importance\n",
        "- Load Iris dataset using `from sklearn.datasets import load_iris`\n",
        "- Train a DT with `max_leaf_nodes=6`\n",
        "- Plot the decision tree \n",
        "- Print the feature importance using `tree.feature_importances_`\n",
        "- Create a bar graph for feature importance"
      ]
    },
    {
      "cell_type": "code",
      "execution_count": null,
      "metadata": {
        "id": "2dwLsXk3lDLw"
      },
      "outputs": [],
      "source": []
    }
  ],
  "metadata": {
    "kernelspec": {
      "display_name": "Python 3",
      "language": "python",
      "name": "python3"
    },
    "language_info": {
      "codemirror_mode": {
        "name": "ipython",
        "version": 3
      },
      "file_extension": ".py",
      "mimetype": "text/x-python",
      "name": "python",
      "nbconvert_exporter": "python",
      "pygments_lexer": "ipython3",
      "version": "3.8.5"
    },
    "colab": {
      "provenance": [],
      "include_colab_link": true
    }
  },
  "nbformat": 4,
  "nbformat_minor": 0
}